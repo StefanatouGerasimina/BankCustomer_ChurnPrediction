{
  "nbformat": 4,
  "nbformat_minor": 0,
  "metadata": {
    "colab": {
      "provenance": [],
      "collapsed_sections": [
        "r-fYiV1xGAG3"
      ]
    },
    "kernelspec": {
      "name": "python3",
      "display_name": "Python 3"
    },
    "language_info": {
      "name": "python"
    }
  },
  "cells": [
    {
      "cell_type": "markdown",
      "source": [
        "# BANK CUSTOMER CHURN PREDICTION"
      ],
      "metadata": {
        "id": "UUw---Bp29_R"
      }
    },
    {
      "cell_type": "markdown",
      "source": [
        "It is the dataset of a U.S. bank customer for getting the information that , this particular customer will leave bank or not.\n",
        "\n"
      ],
      "metadata": {
        "id": "0wejpj558Aer"
      }
    },
    {
      "cell_type": "code",
      "source": [
        "!pip install -U kaleido"
      ],
      "metadata": {
        "colab": {
          "base_uri": "https://localhost:8080/"
        },
        "id": "bZUpl2LLR0i0",
        "outputId": "ad4c59de-351d-44c1-dbe9-6716a74fc735"
      },
      "execution_count": null,
      "outputs": [
        {
          "output_type": "stream",
          "name": "stdout",
          "text": [
            "Requirement already satisfied: kaleido in /usr/local/lib/python3.10/dist-packages (0.2.1)\n"
          ]
        }
      ]
    },
    {
      "cell_type": "markdown",
      "source": [
        "## STEP 1: Import data and preprocess"
      ],
      "metadata": {
        "id": "1dGv1r6A3Gz1"
      }
    },
    {
      "cell_type": "code",
      "source": [
        "import seaborn as sns\n",
        "import pandas as pd\n",
        "import numpy as np\n",
        "import matplotlib.pyplot as plt"
      ],
      "metadata": {
        "id": "YblEEMNj1ZoR"
      },
      "execution_count": null,
      "outputs": []
    },
    {
      "cell_type": "code",
      "execution_count": null,
      "metadata": {
        "colab": {
          "base_uri": "https://localhost:8080/"
        },
        "id": "dAR_TaJb2PYW",
        "outputId": "745e2ab5-957d-415d-f48e-30386e07060c"
      },
      "outputs": [
        {
          "output_type": "execute_result",
          "data": {
            "text/plain": [
              "   RowNumber  CustomerId   Surname  CreditScore Geography  Gender  Age  \\\n",
              "0          1    15634602  Hargrave          619    France  Female   42   \n",
              "1          2    15647311      Hill          608     Spain  Female   41   \n",
              "2          3    15619304      Onio          502    France  Female   42   \n",
              "3          4    15701354      Boni          699    France  Female   39   \n",
              "4          5    15737888  Mitchell          850     Spain  Female   43   \n",
              "\n",
              "   Tenure    Balance  NumOfProducts  HasCrCard  IsActiveMember  \\\n",
              "0       2       0.00              1          1               1   \n",
              "1       1   83807.86              1          0               1   \n",
              "2       8  159660.80              3          1               0   \n",
              "3       1       0.00              2          0               0   \n",
              "4       2  125510.82              1          1               1   \n",
              "\n",
              "   EstimatedSalary  Exited  \n",
              "0        101348.88       1  \n",
              "1        112542.58       0  \n",
              "2        113931.57       1  \n",
              "3         93826.63       0  \n",
              "4         79084.10       0  "
            ],
            "text/html": [
              "\n",
              "  <div id=\"df-33df5f28-518a-4ad2-b101-53c672a3cd3a\" class=\"colab-df-container\">\n",
              "    <div>\n",
              "<style scoped>\n",
              "    .dataframe tbody tr th:only-of-type {\n",
              "        vertical-align: middle;\n",
              "    }\n",
              "\n",
              "    .dataframe tbody tr th {\n",
              "        vertical-align: top;\n",
              "    }\n",
              "\n",
              "    .dataframe thead th {\n",
              "        text-align: right;\n",
              "    }\n",
              "</style>\n",
              "<table border=\"1\" class=\"dataframe\">\n",
              "  <thead>\n",
              "    <tr style=\"text-align: right;\">\n",
              "      <th></th>\n",
              "      <th>RowNumber</th>\n",
              "      <th>CustomerId</th>\n",
              "      <th>Surname</th>\n",
              "      <th>CreditScore</th>\n",
              "      <th>Geography</th>\n",
              "      <th>Gender</th>\n",
              "      <th>Age</th>\n",
              "      <th>Tenure</th>\n",
              "      <th>Balance</th>\n",
              "      <th>NumOfProducts</th>\n",
              "      <th>HasCrCard</th>\n",
              "      <th>IsActiveMember</th>\n",
              "      <th>EstimatedSalary</th>\n",
              "      <th>Exited</th>\n",
              "    </tr>\n",
              "  </thead>\n",
              "  <tbody>\n",
              "    <tr>\n",
              "      <th>0</th>\n",
              "      <td>1</td>\n",
              "      <td>15634602</td>\n",
              "      <td>Hargrave</td>\n",
              "      <td>619</td>\n",
              "      <td>France</td>\n",
              "      <td>Female</td>\n",
              "      <td>42</td>\n",
              "      <td>2</td>\n",
              "      <td>0.00</td>\n",
              "      <td>1</td>\n",
              "      <td>1</td>\n",
              "      <td>1</td>\n",
              "      <td>101348.88</td>\n",
              "      <td>1</td>\n",
              "    </tr>\n",
              "    <tr>\n",
              "      <th>1</th>\n",
              "      <td>2</td>\n",
              "      <td>15647311</td>\n",
              "      <td>Hill</td>\n",
              "      <td>608</td>\n",
              "      <td>Spain</td>\n",
              "      <td>Female</td>\n",
              "      <td>41</td>\n",
              "      <td>1</td>\n",
              "      <td>83807.86</td>\n",
              "      <td>1</td>\n",
              "      <td>0</td>\n",
              "      <td>1</td>\n",
              "      <td>112542.58</td>\n",
              "      <td>0</td>\n",
              "    </tr>\n",
              "    <tr>\n",
              "      <th>2</th>\n",
              "      <td>3</td>\n",
              "      <td>15619304</td>\n",
              "      <td>Onio</td>\n",
              "      <td>502</td>\n",
              "      <td>France</td>\n",
              "      <td>Female</td>\n",
              "      <td>42</td>\n",
              "      <td>8</td>\n",
              "      <td>159660.80</td>\n",
              "      <td>3</td>\n",
              "      <td>1</td>\n",
              "      <td>0</td>\n",
              "      <td>113931.57</td>\n",
              "      <td>1</td>\n",
              "    </tr>\n",
              "    <tr>\n",
              "      <th>3</th>\n",
              "      <td>4</td>\n",
              "      <td>15701354</td>\n",
              "      <td>Boni</td>\n",
              "      <td>699</td>\n",
              "      <td>France</td>\n",
              "      <td>Female</td>\n",
              "      <td>39</td>\n",
              "      <td>1</td>\n",
              "      <td>0.00</td>\n",
              "      <td>2</td>\n",
              "      <td>0</td>\n",
              "      <td>0</td>\n",
              "      <td>93826.63</td>\n",
              "      <td>0</td>\n",
              "    </tr>\n",
              "    <tr>\n",
              "      <th>4</th>\n",
              "      <td>5</td>\n",
              "      <td>15737888</td>\n",
              "      <td>Mitchell</td>\n",
              "      <td>850</td>\n",
              "      <td>Spain</td>\n",
              "      <td>Female</td>\n",
              "      <td>43</td>\n",
              "      <td>2</td>\n",
              "      <td>125510.82</td>\n",
              "      <td>1</td>\n",
              "      <td>1</td>\n",
              "      <td>1</td>\n",
              "      <td>79084.10</td>\n",
              "      <td>0</td>\n",
              "    </tr>\n",
              "  </tbody>\n",
              "</table>\n",
              "</div>\n",
              "    <div class=\"colab-df-buttons\">\n",
              "\n",
              "  <div class=\"colab-df-container\">\n",
              "    <button class=\"colab-df-convert\" onclick=\"convertToInteractive('df-33df5f28-518a-4ad2-b101-53c672a3cd3a')\"\n",
              "            title=\"Convert this dataframe to an interactive table.\"\n",
              "            style=\"display:none;\">\n",
              "\n",
              "  <svg xmlns=\"http://www.w3.org/2000/svg\" height=\"24px\" viewBox=\"0 -960 960 960\">\n",
              "    <path d=\"M120-120v-720h720v720H120Zm60-500h600v-160H180v160Zm220 220h160v-160H400v160Zm0 220h160v-160H400v160ZM180-400h160v-160H180v160Zm440 0h160v-160H620v160ZM180-180h160v-160H180v160Zm440 0h160v-160H620v160Z\"/>\n",
              "  </svg>\n",
              "    </button>\n",
              "\n",
              "  <style>\n",
              "    .colab-df-container {\n",
              "      display:flex;\n",
              "      gap: 12px;\n",
              "    }\n",
              "\n",
              "    .colab-df-convert {\n",
              "      background-color: #E8F0FE;\n",
              "      border: none;\n",
              "      border-radius: 50%;\n",
              "      cursor: pointer;\n",
              "      display: none;\n",
              "      fill: #1967D2;\n",
              "      height: 32px;\n",
              "      padding: 0 0 0 0;\n",
              "      width: 32px;\n",
              "    }\n",
              "\n",
              "    .colab-df-convert:hover {\n",
              "      background-color: #E2EBFA;\n",
              "      box-shadow: 0px 1px 2px rgba(60, 64, 67, 0.3), 0px 1px 3px 1px rgba(60, 64, 67, 0.15);\n",
              "      fill: #174EA6;\n",
              "    }\n",
              "\n",
              "    .colab-df-buttons div {\n",
              "      margin-bottom: 4px;\n",
              "    }\n",
              "\n",
              "    [theme=dark] .colab-df-convert {\n",
              "      background-color: #3B4455;\n",
              "      fill: #D2E3FC;\n",
              "    }\n",
              "\n",
              "    [theme=dark] .colab-df-convert:hover {\n",
              "      background-color: #434B5C;\n",
              "      box-shadow: 0px 1px 3px 1px rgba(0, 0, 0, 0.15);\n",
              "      filter: drop-shadow(0px 1px 2px rgba(0, 0, 0, 0.3));\n",
              "      fill: #FFFFFF;\n",
              "    }\n",
              "  </style>\n",
              "\n",
              "    <script>\n",
              "      const buttonEl =\n",
              "        document.querySelector('#df-33df5f28-518a-4ad2-b101-53c672a3cd3a button.colab-df-convert');\n",
              "      buttonEl.style.display =\n",
              "        google.colab.kernel.accessAllowed ? 'block' : 'none';\n",
              "\n",
              "      async function convertToInteractive(key) {\n",
              "        const element = document.querySelector('#df-33df5f28-518a-4ad2-b101-53c672a3cd3a');\n",
              "        const dataTable =\n",
              "          await google.colab.kernel.invokeFunction('convertToInteractive',\n",
              "                                                    [key], {});\n",
              "        if (!dataTable) return;\n",
              "\n",
              "        const docLinkHtml = 'Like what you see? Visit the ' +\n",
              "          '<a target=\"_blank\" href=https://colab.research.google.com/notebooks/data_table.ipynb>data table notebook</a>'\n",
              "          + ' to learn more about interactive tables.';\n",
              "        element.innerHTML = '';\n",
              "        dataTable['output_type'] = 'display_data';\n",
              "        await google.colab.output.renderOutput(dataTable, element);\n",
              "        const docLink = document.createElement('div');\n",
              "        docLink.innerHTML = docLinkHtml;\n",
              "        element.appendChild(docLink);\n",
              "      }\n",
              "    </script>\n",
              "  </div>\n",
              "\n",
              "\n",
              "<div id=\"df-9df7dd1a-9c64-4227-86ca-76f63a3ffbaf\">\n",
              "  <button class=\"colab-df-quickchart\" onclick=\"quickchart('df-9df7dd1a-9c64-4227-86ca-76f63a3ffbaf')\"\n",
              "            title=\"Suggest charts.\"\n",
              "            style=\"display:none;\">\n",
              "\n",
              "<svg xmlns=\"http://www.w3.org/2000/svg\" height=\"24px\"viewBox=\"0 0 24 24\"\n",
              "     width=\"24px\">\n",
              "    <g>\n",
              "        <path d=\"M19 3H5c-1.1 0-2 .9-2 2v14c0 1.1.9 2 2 2h14c1.1 0 2-.9 2-2V5c0-1.1-.9-2-2-2zM9 17H7v-7h2v7zm4 0h-2V7h2v10zm4 0h-2v-4h2v4z\"/>\n",
              "    </g>\n",
              "</svg>\n",
              "  </button>\n",
              "\n",
              "<style>\n",
              "  .colab-df-quickchart {\n",
              "      --bg-color: #E8F0FE;\n",
              "      --fill-color: #1967D2;\n",
              "      --hover-bg-color: #E2EBFA;\n",
              "      --hover-fill-color: #174EA6;\n",
              "      --disabled-fill-color: #AAA;\n",
              "      --disabled-bg-color: #DDD;\n",
              "  }\n",
              "\n",
              "  [theme=dark] .colab-df-quickchart {\n",
              "      --bg-color: #3B4455;\n",
              "      --fill-color: #D2E3FC;\n",
              "      --hover-bg-color: #434B5C;\n",
              "      --hover-fill-color: #FFFFFF;\n",
              "      --disabled-bg-color: #3B4455;\n",
              "      --disabled-fill-color: #666;\n",
              "  }\n",
              "\n",
              "  .colab-df-quickchart {\n",
              "    background-color: var(--bg-color);\n",
              "    border: none;\n",
              "    border-radius: 50%;\n",
              "    cursor: pointer;\n",
              "    display: none;\n",
              "    fill: var(--fill-color);\n",
              "    height: 32px;\n",
              "    padding: 0;\n",
              "    width: 32px;\n",
              "  }\n",
              "\n",
              "  .colab-df-quickchart:hover {\n",
              "    background-color: var(--hover-bg-color);\n",
              "    box-shadow: 0 1px 2px rgba(60, 64, 67, 0.3), 0 1px 3px 1px rgba(60, 64, 67, 0.15);\n",
              "    fill: var(--button-hover-fill-color);\n",
              "  }\n",
              "\n",
              "  .colab-df-quickchart-complete:disabled,\n",
              "  .colab-df-quickchart-complete:disabled:hover {\n",
              "    background-color: var(--disabled-bg-color);\n",
              "    fill: var(--disabled-fill-color);\n",
              "    box-shadow: none;\n",
              "  }\n",
              "\n",
              "  .colab-df-spinner {\n",
              "    border: 2px solid var(--fill-color);\n",
              "    border-color: transparent;\n",
              "    border-bottom-color: var(--fill-color);\n",
              "    animation:\n",
              "      spin 1s steps(1) infinite;\n",
              "  }\n",
              "\n",
              "  @keyframes spin {\n",
              "    0% {\n",
              "      border-color: transparent;\n",
              "      border-bottom-color: var(--fill-color);\n",
              "      border-left-color: var(--fill-color);\n",
              "    }\n",
              "    20% {\n",
              "      border-color: transparent;\n",
              "      border-left-color: var(--fill-color);\n",
              "      border-top-color: var(--fill-color);\n",
              "    }\n",
              "    30% {\n",
              "      border-color: transparent;\n",
              "      border-left-color: var(--fill-color);\n",
              "      border-top-color: var(--fill-color);\n",
              "      border-right-color: var(--fill-color);\n",
              "    }\n",
              "    40% {\n",
              "      border-color: transparent;\n",
              "      border-right-color: var(--fill-color);\n",
              "      border-top-color: var(--fill-color);\n",
              "    }\n",
              "    60% {\n",
              "      border-color: transparent;\n",
              "      border-right-color: var(--fill-color);\n",
              "    }\n",
              "    80% {\n",
              "      border-color: transparent;\n",
              "      border-right-color: var(--fill-color);\n",
              "      border-bottom-color: var(--fill-color);\n",
              "    }\n",
              "    90% {\n",
              "      border-color: transparent;\n",
              "      border-bottom-color: var(--fill-color);\n",
              "    }\n",
              "  }\n",
              "</style>\n",
              "\n",
              "  <script>\n",
              "    async function quickchart(key) {\n",
              "      const quickchartButtonEl =\n",
              "        document.querySelector('#' + key + ' button');\n",
              "      quickchartButtonEl.disabled = true;  // To prevent multiple clicks.\n",
              "      quickchartButtonEl.classList.add('colab-df-spinner');\n",
              "      try {\n",
              "        const charts = await google.colab.kernel.invokeFunction(\n",
              "            'suggestCharts', [key], {});\n",
              "      } catch (error) {\n",
              "        console.error('Error during call to suggestCharts:', error);\n",
              "      }\n",
              "      quickchartButtonEl.classList.remove('colab-df-spinner');\n",
              "      quickchartButtonEl.classList.add('colab-df-quickchart-complete');\n",
              "    }\n",
              "    (() => {\n",
              "      let quickchartButtonEl =\n",
              "        document.querySelector('#df-9df7dd1a-9c64-4227-86ca-76f63a3ffbaf button');\n",
              "      quickchartButtonEl.style.display =\n",
              "        google.colab.kernel.accessAllowed ? 'block' : 'none';\n",
              "    })();\n",
              "  </script>\n",
              "</div>\n",
              "    </div>\n",
              "  </div>\n"
            ]
          },
          "metadata": {},
          "execution_count": 3
        }
      ],
      "source": [
        "input_data = pd.read_csv(\"Churn_Modelling.csv\")\n",
        "input_data.head(5)"
      ]
    },
    {
      "cell_type": "code",
      "source": [
        "input_data.shape"
      ],
      "metadata": {
        "id": "b-TdR6of3GBB",
        "colab": {
          "base_uri": "https://localhost:8080/"
        },
        "outputId": "bceb8a6f-da5f-496d-a493-ca1a9542d0f8"
      },
      "execution_count": null,
      "outputs": [
        {
          "output_type": "execute_result",
          "data": {
            "text/plain": [
              "(10000, 14)"
            ]
          },
          "metadata": {},
          "execution_count": 4
        }
      ]
    },
    {
      "cell_type": "code",
      "source": [
        "input_data.isnull().sum()"
      ],
      "metadata": {
        "colab": {
          "base_uri": "https://localhost:8080/"
        },
        "id": "85WAEYm317R-",
        "outputId": "01308d69-9844-4145-9511-e11db37f496e"
      },
      "execution_count": null,
      "outputs": [
        {
          "output_type": "execute_result",
          "data": {
            "text/plain": [
              "RowNumber          0\n",
              "CustomerId         0\n",
              "Surname            0\n",
              "CreditScore        0\n",
              "Geography          0\n",
              "Gender             0\n",
              "Age                0\n",
              "Tenure             0\n",
              "Balance            0\n",
              "NumOfProducts      0\n",
              "HasCrCard          0\n",
              "IsActiveMember     0\n",
              "EstimatedSalary    0\n",
              "Exited             0\n",
              "dtype: int64"
            ]
          },
          "metadata": {},
          "execution_count": 5
        }
      ]
    },
    {
      "cell_type": "code",
      "source": [
        "input_data.nunique()"
      ],
      "metadata": {
        "colab": {
          "base_uri": "https://localhost:8080/"
        },
        "id": "wsume6RC7zyo",
        "outputId": "2980e713-dde0-4c03-95f4-8815f2d2ed49"
      },
      "execution_count": null,
      "outputs": [
        {
          "output_type": "execute_result",
          "data": {
            "text/plain": [
              "RowNumber          10000\n",
              "CustomerId         10000\n",
              "Surname             2932\n",
              "CreditScore          460\n",
              "Geography              3\n",
              "Gender                 2\n",
              "Age                   70\n",
              "Tenure                11\n",
              "Balance             6382\n",
              "NumOfProducts          4\n",
              "HasCrCard              2\n",
              "IsActiveMember         2\n",
              "EstimatedSalary     9999\n",
              "Exited                 2\n",
              "dtype: int64"
            ]
          },
          "metadata": {},
          "execution_count": 6
        }
      ]
    },
    {
      "cell_type": "markdown",
      "source": [
        "Remove features irrelevant to the predictive outcome."
      ],
      "metadata": {
        "id": "RsUM55dL88GR"
      }
    },
    {
      "cell_type": "code",
      "source": [
        "input_data = input_data.drop([\"RowNumber\", \"CustomerId\", \"Surname\"], axis = 1)"
      ],
      "metadata": {
        "id": "mvNE7Nc483rt"
      },
      "execution_count": null,
      "outputs": []
    },
    {
      "cell_type": "code",
      "source": [
        "input_data.dtypes"
      ],
      "metadata": {
        "colab": {
          "base_uri": "https://localhost:8080/"
        },
        "id": "KzuaDB1z9BtY",
        "outputId": "3020d73e-573e-4d33-d837-e93d484ea36a"
      },
      "execution_count": null,
      "outputs": [
        {
          "output_type": "execute_result",
          "data": {
            "text/plain": [
              "CreditScore          int64\n",
              "Geography           object\n",
              "Gender              object\n",
              "Age                  int64\n",
              "Tenure               int64\n",
              "Balance            float64\n",
              "NumOfProducts        int64\n",
              "HasCrCard            int64\n",
              "IsActiveMember       int64\n",
              "EstimatedSalary    float64\n",
              "Exited               int64\n",
              "dtype: object"
            ]
          },
          "metadata": {},
          "execution_count": 8
        }
      ]
    },
    {
      "cell_type": "markdown",
      "source": [
        "As I can see from the array above, the continuous values are indeed of int or float type. Only the features that describe a category such as the Geography location and the gender, are of type object. Therefore, no data transformation is needed."
      ],
      "metadata": {
        "id": "xjnI9EGI9gni"
      }
    },
    {
      "cell_type": "code",
      "source": [
        "input_data.head()"
      ],
      "metadata": {
        "colab": {
          "base_uri": "https://localhost:8080/"
        },
        "id": "ZIF5oCM998z-",
        "outputId": "01fbfc02-531e-43bf-f8a3-f859120eca39"
      },
      "execution_count": null,
      "outputs": [
        {
          "output_type": "execute_result",
          "data": {
            "text/plain": [
              "   CreditScore Geography  Gender  Age  Tenure    Balance  NumOfProducts  \\\n",
              "0          619    France  Female   42       2       0.00              1   \n",
              "1          608     Spain  Female   41       1   83807.86              1   \n",
              "2          502    France  Female   42       8  159660.80              3   \n",
              "3          699    France  Female   39       1       0.00              2   \n",
              "4          850     Spain  Female   43       2  125510.82              1   \n",
              "\n",
              "   HasCrCard  IsActiveMember  EstimatedSalary  Exited  \n",
              "0          1               1        101348.88       1  \n",
              "1          0               1        112542.58       0  \n",
              "2          1               0        113931.57       1  \n",
              "3          0               0         93826.63       0  \n",
              "4          1               1         79084.10       0  "
            ],
            "text/html": [
              "\n",
              "  <div id=\"df-9a22a3b8-f43f-4b4f-9c0c-c83ef059a5ef\" class=\"colab-df-container\">\n",
              "    <div>\n",
              "<style scoped>\n",
              "    .dataframe tbody tr th:only-of-type {\n",
              "        vertical-align: middle;\n",
              "    }\n",
              "\n",
              "    .dataframe tbody tr th {\n",
              "        vertical-align: top;\n",
              "    }\n",
              "\n",
              "    .dataframe thead th {\n",
              "        text-align: right;\n",
              "    }\n",
              "</style>\n",
              "<table border=\"1\" class=\"dataframe\">\n",
              "  <thead>\n",
              "    <tr style=\"text-align: right;\">\n",
              "      <th></th>\n",
              "      <th>CreditScore</th>\n",
              "      <th>Geography</th>\n",
              "      <th>Gender</th>\n",
              "      <th>Age</th>\n",
              "      <th>Tenure</th>\n",
              "      <th>Balance</th>\n",
              "      <th>NumOfProducts</th>\n",
              "      <th>HasCrCard</th>\n",
              "      <th>IsActiveMember</th>\n",
              "      <th>EstimatedSalary</th>\n",
              "      <th>Exited</th>\n",
              "    </tr>\n",
              "  </thead>\n",
              "  <tbody>\n",
              "    <tr>\n",
              "      <th>0</th>\n",
              "      <td>619</td>\n",
              "      <td>France</td>\n",
              "      <td>Female</td>\n",
              "      <td>42</td>\n",
              "      <td>2</td>\n",
              "      <td>0.00</td>\n",
              "      <td>1</td>\n",
              "      <td>1</td>\n",
              "      <td>1</td>\n",
              "      <td>101348.88</td>\n",
              "      <td>1</td>\n",
              "    </tr>\n",
              "    <tr>\n",
              "      <th>1</th>\n",
              "      <td>608</td>\n",
              "      <td>Spain</td>\n",
              "      <td>Female</td>\n",
              "      <td>41</td>\n",
              "      <td>1</td>\n",
              "      <td>83807.86</td>\n",
              "      <td>1</td>\n",
              "      <td>0</td>\n",
              "      <td>1</td>\n",
              "      <td>112542.58</td>\n",
              "      <td>0</td>\n",
              "    </tr>\n",
              "    <tr>\n",
              "      <th>2</th>\n",
              "      <td>502</td>\n",
              "      <td>France</td>\n",
              "      <td>Female</td>\n",
              "      <td>42</td>\n",
              "      <td>8</td>\n",
              "      <td>159660.80</td>\n",
              "      <td>3</td>\n",
              "      <td>1</td>\n",
              "      <td>0</td>\n",
              "      <td>113931.57</td>\n",
              "      <td>1</td>\n",
              "    </tr>\n",
              "    <tr>\n",
              "      <th>3</th>\n",
              "      <td>699</td>\n",
              "      <td>France</td>\n",
              "      <td>Female</td>\n",
              "      <td>39</td>\n",
              "      <td>1</td>\n",
              "      <td>0.00</td>\n",
              "      <td>2</td>\n",
              "      <td>0</td>\n",
              "      <td>0</td>\n",
              "      <td>93826.63</td>\n",
              "      <td>0</td>\n",
              "    </tr>\n",
              "    <tr>\n",
              "      <th>4</th>\n",
              "      <td>850</td>\n",
              "      <td>Spain</td>\n",
              "      <td>Female</td>\n",
              "      <td>43</td>\n",
              "      <td>2</td>\n",
              "      <td>125510.82</td>\n",
              "      <td>1</td>\n",
              "      <td>1</td>\n",
              "      <td>1</td>\n",
              "      <td>79084.10</td>\n",
              "      <td>0</td>\n",
              "    </tr>\n",
              "  </tbody>\n",
              "</table>\n",
              "</div>\n",
              "    <div class=\"colab-df-buttons\">\n",
              "\n",
              "  <div class=\"colab-df-container\">\n",
              "    <button class=\"colab-df-convert\" onclick=\"convertToInteractive('df-9a22a3b8-f43f-4b4f-9c0c-c83ef059a5ef')\"\n",
              "            title=\"Convert this dataframe to an interactive table.\"\n",
              "            style=\"display:none;\">\n",
              "\n",
              "  <svg xmlns=\"http://www.w3.org/2000/svg\" height=\"24px\" viewBox=\"0 -960 960 960\">\n",
              "    <path d=\"M120-120v-720h720v720H120Zm60-500h600v-160H180v160Zm220 220h160v-160H400v160Zm0 220h160v-160H400v160ZM180-400h160v-160H180v160Zm440 0h160v-160H620v160ZM180-180h160v-160H180v160Zm440 0h160v-160H620v160Z\"/>\n",
              "  </svg>\n",
              "    </button>\n",
              "\n",
              "  <style>\n",
              "    .colab-df-container {\n",
              "      display:flex;\n",
              "      gap: 12px;\n",
              "    }\n",
              "\n",
              "    .colab-df-convert {\n",
              "      background-color: #E8F0FE;\n",
              "      border: none;\n",
              "      border-radius: 50%;\n",
              "      cursor: pointer;\n",
              "      display: none;\n",
              "      fill: #1967D2;\n",
              "      height: 32px;\n",
              "      padding: 0 0 0 0;\n",
              "      width: 32px;\n",
              "    }\n",
              "\n",
              "    .colab-df-convert:hover {\n",
              "      background-color: #E2EBFA;\n",
              "      box-shadow: 0px 1px 2px rgba(60, 64, 67, 0.3), 0px 1px 3px 1px rgba(60, 64, 67, 0.15);\n",
              "      fill: #174EA6;\n",
              "    }\n",
              "\n",
              "    .colab-df-buttons div {\n",
              "      margin-bottom: 4px;\n",
              "    }\n",
              "\n",
              "    [theme=dark] .colab-df-convert {\n",
              "      background-color: #3B4455;\n",
              "      fill: #D2E3FC;\n",
              "    }\n",
              "\n",
              "    [theme=dark] .colab-df-convert:hover {\n",
              "      background-color: #434B5C;\n",
              "      box-shadow: 0px 1px 3px 1px rgba(0, 0, 0, 0.15);\n",
              "      filter: drop-shadow(0px 1px 2px rgba(0, 0, 0, 0.3));\n",
              "      fill: #FFFFFF;\n",
              "    }\n",
              "  </style>\n",
              "\n",
              "    <script>\n",
              "      const buttonEl =\n",
              "        document.querySelector('#df-9a22a3b8-f43f-4b4f-9c0c-c83ef059a5ef button.colab-df-convert');\n",
              "      buttonEl.style.display =\n",
              "        google.colab.kernel.accessAllowed ? 'block' : 'none';\n",
              "\n",
              "      async function convertToInteractive(key) {\n",
              "        const element = document.querySelector('#df-9a22a3b8-f43f-4b4f-9c0c-c83ef059a5ef');\n",
              "        const dataTable =\n",
              "          await google.colab.kernel.invokeFunction('convertToInteractive',\n",
              "                                                    [key], {});\n",
              "        if (!dataTable) return;\n",
              "\n",
              "        const docLinkHtml = 'Like what you see? Visit the ' +\n",
              "          '<a target=\"_blank\" href=https://colab.research.google.com/notebooks/data_table.ipynb>data table notebook</a>'\n",
              "          + ' to learn more about interactive tables.';\n",
              "        element.innerHTML = '';\n",
              "        dataTable['output_type'] = 'display_data';\n",
              "        await google.colab.output.renderOutput(dataTable, element);\n",
              "        const docLink = document.createElement('div');\n",
              "        docLink.innerHTML = docLinkHtml;\n",
              "        element.appendChild(docLink);\n",
              "      }\n",
              "    </script>\n",
              "  </div>\n",
              "\n",
              "\n",
              "<div id=\"df-ad5b6c6a-d27a-42dc-9b68-28f6f149c8ef\">\n",
              "  <button class=\"colab-df-quickchart\" onclick=\"quickchart('df-ad5b6c6a-d27a-42dc-9b68-28f6f149c8ef')\"\n",
              "            title=\"Suggest charts.\"\n",
              "            style=\"display:none;\">\n",
              "\n",
              "<svg xmlns=\"http://www.w3.org/2000/svg\" height=\"24px\"viewBox=\"0 0 24 24\"\n",
              "     width=\"24px\">\n",
              "    <g>\n",
              "        <path d=\"M19 3H5c-1.1 0-2 .9-2 2v14c0 1.1.9 2 2 2h14c1.1 0 2-.9 2-2V5c0-1.1-.9-2-2-2zM9 17H7v-7h2v7zm4 0h-2V7h2v10zm4 0h-2v-4h2v4z\"/>\n",
              "    </g>\n",
              "</svg>\n",
              "  </button>\n",
              "\n",
              "<style>\n",
              "  .colab-df-quickchart {\n",
              "      --bg-color: #E8F0FE;\n",
              "      --fill-color: #1967D2;\n",
              "      --hover-bg-color: #E2EBFA;\n",
              "      --hover-fill-color: #174EA6;\n",
              "      --disabled-fill-color: #AAA;\n",
              "      --disabled-bg-color: #DDD;\n",
              "  }\n",
              "\n",
              "  [theme=dark] .colab-df-quickchart {\n",
              "      --bg-color: #3B4455;\n",
              "      --fill-color: #D2E3FC;\n",
              "      --hover-bg-color: #434B5C;\n",
              "      --hover-fill-color: #FFFFFF;\n",
              "      --disabled-bg-color: #3B4455;\n",
              "      --disabled-fill-color: #666;\n",
              "  }\n",
              "\n",
              "  .colab-df-quickchart {\n",
              "    background-color: var(--bg-color);\n",
              "    border: none;\n",
              "    border-radius: 50%;\n",
              "    cursor: pointer;\n",
              "    display: none;\n",
              "    fill: var(--fill-color);\n",
              "    height: 32px;\n",
              "    padding: 0;\n",
              "    width: 32px;\n",
              "  }\n",
              "\n",
              "  .colab-df-quickchart:hover {\n",
              "    background-color: var(--hover-bg-color);\n",
              "    box-shadow: 0 1px 2px rgba(60, 64, 67, 0.3), 0 1px 3px 1px rgba(60, 64, 67, 0.15);\n",
              "    fill: var(--button-hover-fill-color);\n",
              "  }\n",
              "\n",
              "  .colab-df-quickchart-complete:disabled,\n",
              "  .colab-df-quickchart-complete:disabled:hover {\n",
              "    background-color: var(--disabled-bg-color);\n",
              "    fill: var(--disabled-fill-color);\n",
              "    box-shadow: none;\n",
              "  }\n",
              "\n",
              "  .colab-df-spinner {\n",
              "    border: 2px solid var(--fill-color);\n",
              "    border-color: transparent;\n",
              "    border-bottom-color: var(--fill-color);\n",
              "    animation:\n",
              "      spin 1s steps(1) infinite;\n",
              "  }\n",
              "\n",
              "  @keyframes spin {\n",
              "    0% {\n",
              "      border-color: transparent;\n",
              "      border-bottom-color: var(--fill-color);\n",
              "      border-left-color: var(--fill-color);\n",
              "    }\n",
              "    20% {\n",
              "      border-color: transparent;\n",
              "      border-left-color: var(--fill-color);\n",
              "      border-top-color: var(--fill-color);\n",
              "    }\n",
              "    30% {\n",
              "      border-color: transparent;\n",
              "      border-left-color: var(--fill-color);\n",
              "      border-top-color: var(--fill-color);\n",
              "      border-right-color: var(--fill-color);\n",
              "    }\n",
              "    40% {\n",
              "      border-color: transparent;\n",
              "      border-right-color: var(--fill-color);\n",
              "      border-top-color: var(--fill-color);\n",
              "    }\n",
              "    60% {\n",
              "      border-color: transparent;\n",
              "      border-right-color: var(--fill-color);\n",
              "    }\n",
              "    80% {\n",
              "      border-color: transparent;\n",
              "      border-right-color: var(--fill-color);\n",
              "      border-bottom-color: var(--fill-color);\n",
              "    }\n",
              "    90% {\n",
              "      border-color: transparent;\n",
              "      border-bottom-color: var(--fill-color);\n",
              "    }\n",
              "  }\n",
              "</style>\n",
              "\n",
              "  <script>\n",
              "    async function quickchart(key) {\n",
              "      const quickchartButtonEl =\n",
              "        document.querySelector('#' + key + ' button');\n",
              "      quickchartButtonEl.disabled = true;  // To prevent multiple clicks.\n",
              "      quickchartButtonEl.classList.add('colab-df-spinner');\n",
              "      try {\n",
              "        const charts = await google.colab.kernel.invokeFunction(\n",
              "            'suggestCharts', [key], {});\n",
              "      } catch (error) {\n",
              "        console.error('Error during call to suggestCharts:', error);\n",
              "      }\n",
              "      quickchartButtonEl.classList.remove('colab-df-spinner');\n",
              "      quickchartButtonEl.classList.add('colab-df-quickchart-complete');\n",
              "    }\n",
              "    (() => {\n",
              "      let quickchartButtonEl =\n",
              "        document.querySelector('#df-ad5b6c6a-d27a-42dc-9b68-28f6f149c8ef button');\n",
              "      quickchartButtonEl.style.display =\n",
              "        google.colab.kernel.accessAllowed ? 'block' : 'none';\n",
              "    })();\n",
              "  </script>\n",
              "</div>\n",
              "    </div>\n",
              "  </div>\n"
            ]
          },
          "metadata": {},
          "execution_count": 9
        }
      ]
    },
    {
      "cell_type": "markdown",
      "source": [
        "**Tenure:** From how many years customer is in bank\n",
        "\n",
        "**Balance:** Average balance of customer\n",
        "\n",
        "**Number of Products:** Number of bank product facilities customer is using\n",
        "\n"
      ],
      "metadata": {
        "id": "q8AAOqE4h1Uk"
      }
    },
    {
      "cell_type": "markdown",
      "source": [
        "## Step 2: Exploratory data analysis (EDA)"
      ],
      "metadata": {
        "id": "dZ-VIRub3k18"
      }
    },
    {
      "cell_type": "code",
      "source": [
        "# first lets create a pie chart for the categorical data only\n",
        "countries = list(dict.fromkeys(input_data[\"Geography\"]))\n",
        "print(countries)"
      ],
      "metadata": {
        "colab": {
          "base_uri": "https://localhost:8080/"
        },
        "id": "aRP83P3s97ct",
        "outputId": "867af4b2-63cf-4cbe-ac0c-805b535d6b19"
      },
      "execution_count": null,
      "outputs": [
        {
          "output_type": "stream",
          "name": "stdout",
          "text": [
            "['France', 'Spain', 'Germany']\n"
          ]
        }
      ]
    },
    {
      "cell_type": "code",
      "source": [
        "input_data['Geography'] = input_data['Geography'].astype('str')"
      ],
      "metadata": {
        "id": "FKq2GXTD_0KT"
      },
      "execution_count": null,
      "outputs": []
    },
    {
      "cell_type": "code",
      "source": [
        "def update_layout_plot():\n",
        "    fig.update_layout(\n",
        "    uniformtext_minsize=12, uniformtext_mode='hide',\n",
        "    font=dict(color='white'),\n",
        "    paper_bgcolor='rgba(0,0,0,0)',\n",
        "    plot_bgcolor='rgba(0,0,0,0)',\n",
        "    title_font=dict(color=\"white\"),\n",
        "    legend_title_font=dict(color=\"white\"),\n",
        "    legend_font=dict(color=\"white\"),\n",
        "    showlegend=True,\n",
        "    xaxis_title_font=dict(color=\"white\"),\n",
        "    yaxis_title_font=dict(color=\"white\"),\n",
        "    xaxis_tickfont=dict(color=\"white\"),\n",
        "    yaxis_tickfont=dict(color=\"white\")\n",
        ")"
      ],
      "metadata": {
        "id": "InCi4Jj-bRhH"
      },
      "execution_count": null,
      "outputs": []
    },
    {
      "cell_type": "markdown",
      "source": [
        "**Feature Correllation**"
      ],
      "metadata": {
        "id": "-4T8N0cP1TwN"
      }
    },
    {
      "cell_type": "code",
      "source": [
        "import plotly.express as px\n",
        "correlation_matrix = input_data.corr()\n",
        "fig = px.imshow(correlation_matrix, x=correlation_matrix.columns, y=correlation_matrix.columns, zmin=-1, zmax=1, color_continuous_scale='RdBu_r')\n",
        "# update_layout_plot()\n",
        "fig.show()\n",
        "fig.write_image(\"feature_correlation.png\", format=\"png\")"
      ],
      "metadata": {
        "colab": {
          "base_uri": "https://localhost:8080/",
          "height": 598
        },
        "id": "A9q_lHeNfV0G",
        "outputId": "b4b0d1e1-1ae4-4ae7-d32e-dd85a862c669"
      },
      "execution_count": null,
      "outputs": [
        {
          "output_type": "stream",
          "name": "stderr",
          "text": [
            "<ipython-input-13-b93752bbe0a0>:2: FutureWarning: The default value of numeric_only in DataFrame.corr is deprecated. In a future version, it will default to False. Select only valid columns or specify the value of numeric_only to silence this warning.\n",
            "  correlation_matrix = input_data.corr()\n"
          ]
        },
        {
          "output_type": "display_data",
          "data": {
            "text/html": [
              "<html>\n",
              "<head><meta charset=\"utf-8\" /></head>\n",
              "<body>\n",
              "    <div>            <script src=\"https://cdnjs.cloudflare.com/ajax/libs/mathjax/2.7.5/MathJax.js?config=TeX-AMS-MML_SVG\"></script><script type=\"text/javascript\">if (window.MathJax && window.MathJax.Hub && window.MathJax.Hub.Config) {window.MathJax.Hub.Config({SVG: {font: \"STIX-Web\"}});}</script>                <script type=\"text/javascript\">window.PlotlyConfig = {MathJaxConfig: 'local'};</script>\n",
              "        <script charset=\"utf-8\" src=\"https://cdn.plot.ly/plotly-2.24.1.min.js\"></script>                <div id=\"d6c3986b-0d44-4af0-8790-cd2fdf162565\" class=\"plotly-graph-div\" style=\"height:525px; width:100%;\"></div>            <script type=\"text/javascript\">                                    window.PLOTLYENV=window.PLOTLYENV || {};                                    if (document.getElementById(\"d6c3986b-0d44-4af0-8790-cd2fdf162565\")) {                    Plotly.newPlot(                        \"d6c3986b-0d44-4af0-8790-cd2fdf162565\",                        [{\"coloraxis\":\"coloraxis\",\"name\":\"0\",\"x\":[\"CreditScore\",\"Age\",\"Tenure\",\"Balance\",\"NumOfProducts\",\"HasCrCard\",\"IsActiveMember\",\"EstimatedSalary\",\"Exited\"],\"y\":[\"CreditScore\",\"Age\",\"Tenure\",\"Balance\",\"NumOfProducts\",\"HasCrCard\",\"IsActiveMember\",\"EstimatedSalary\",\"Exited\"],\"z\":[[1.0,-0.003964905525390104,0.0008419418186461318,0.0062683816160088975,0.012237879283267987,-0.005458482094623394,0.0256513232831485,-0.0013842928679844149,-0.02709353975465728],[-0.003964905525390104,1.0,-0.009996825590774179,0.028308368327491767,-0.030680087961508614,-0.011721029001738782,0.08547214540357692,-0.007201042376657382,0.2853230378350698],[0.0008419418186461318,-0.009996825590774179,1.0,-0.012253926175215429,0.013443755460747366,0.022582867284984258,-0.02836207777162841,0.007783825455810554,-0.01400061225344462],[0.0062683816160088975,0.028308368327491767,-0.012253926175215429,1.0,-0.3041797383605498,-0.0148583449445987,-0.010084100438351628,0.012797496340555773,0.11853276877163399],[0.012237879283267987,-0.030680087961508614,0.013443755460747366,-0.3041797383605498,1.0,0.00318314599305221,0.00961187591132792,0.014204195129094608,-0.04781986494944065],[-0.005458482094623394,-0.011721029001738782,0.022582867284984258,-0.0148583449445987,0.00318314599305221,1.0,-0.011865636878457913,-0.009933414652547745,-0.007137765603039006],[0.0256513232831485,0.08547214540357692,-0.02836207777162841,-0.010084100438351628,0.00961187591132792,-0.011865636878457913,1.0,-0.01142143048495656,-0.15612827818890554],[-0.0013842928679844149,-0.007201042376657382,0.007783825455810554,0.012797496340555773,0.014204195129094608,-0.009933414652547745,-0.01142143048495656,1.0,0.012096861026844652],[-0.02709353975465728,0.2853230378350698,-0.01400061225344462,0.11853276877163399,-0.04781986494944065,-0.007137765603039006,-0.15612827818890554,0.012096861026844652,1.0]],\"type\":\"heatmap\",\"xaxis\":\"x\",\"yaxis\":\"y\",\"hovertemplate\":\"x: %{x}\\u003cbr\\u003ey: %{y}\\u003cbr\\u003ecolor: %{z}\\u003cextra\\u003e\\u003c\\u002fextra\\u003e\"}],                        {\"template\":{\"data\":{\"histogram2dcontour\":[{\"type\":\"histogram2dcontour\",\"colorbar\":{\"outlinewidth\":0,\"ticks\":\"\"},\"colorscale\":[[0.0,\"#0d0887\"],[0.1111111111111111,\"#46039f\"],[0.2222222222222222,\"#7201a8\"],[0.3333333333333333,\"#9c179e\"],[0.4444444444444444,\"#bd3786\"],[0.5555555555555556,\"#d8576b\"],[0.6666666666666666,\"#ed7953\"],[0.7777777777777778,\"#fb9f3a\"],[0.8888888888888888,\"#fdca26\"],[1.0,\"#f0f921\"]]}],\"choropleth\":[{\"type\":\"choropleth\",\"colorbar\":{\"outlinewidth\":0,\"ticks\":\"\"}}],\"histogram2d\":[{\"type\":\"histogram2d\",\"colorbar\":{\"outlinewidth\":0,\"ticks\":\"\"},\"colorscale\":[[0.0,\"#0d0887\"],[0.1111111111111111,\"#46039f\"],[0.2222222222222222,\"#7201a8\"],[0.3333333333333333,\"#9c179e\"],[0.4444444444444444,\"#bd3786\"],[0.5555555555555556,\"#d8576b\"],[0.6666666666666666,\"#ed7953\"],[0.7777777777777778,\"#fb9f3a\"],[0.8888888888888888,\"#fdca26\"],[1.0,\"#f0f921\"]]}],\"heatmap\":[{\"type\":\"heatmap\",\"colorbar\":{\"outlinewidth\":0,\"ticks\":\"\"},\"colorscale\":[[0.0,\"#0d0887\"],[0.1111111111111111,\"#46039f\"],[0.2222222222222222,\"#7201a8\"],[0.3333333333333333,\"#9c179e\"],[0.4444444444444444,\"#bd3786\"],[0.5555555555555556,\"#d8576b\"],[0.6666666666666666,\"#ed7953\"],[0.7777777777777778,\"#fb9f3a\"],[0.8888888888888888,\"#fdca26\"],[1.0,\"#f0f921\"]]}],\"heatmapgl\":[{\"type\":\"heatmapgl\",\"colorbar\":{\"outlinewidth\":0,\"ticks\":\"\"},\"colorscale\":[[0.0,\"#0d0887\"],[0.1111111111111111,\"#46039f\"],[0.2222222222222222,\"#7201a8\"],[0.3333333333333333,\"#9c179e\"],[0.4444444444444444,\"#bd3786\"],[0.5555555555555556,\"#d8576b\"],[0.6666666666666666,\"#ed7953\"],[0.7777777777777778,\"#fb9f3a\"],[0.8888888888888888,\"#fdca26\"],[1.0,\"#f0f921\"]]}],\"contourcarpet\":[{\"type\":\"contourcarpet\",\"colorbar\":{\"outlinewidth\":0,\"ticks\":\"\"}}],\"contour\":[{\"type\":\"contour\",\"colorbar\":{\"outlinewidth\":0,\"ticks\":\"\"},\"colorscale\":[[0.0,\"#0d0887\"],[0.1111111111111111,\"#46039f\"],[0.2222222222222222,\"#7201a8\"],[0.3333333333333333,\"#9c179e\"],[0.4444444444444444,\"#bd3786\"],[0.5555555555555556,\"#d8576b\"],[0.6666666666666666,\"#ed7953\"],[0.7777777777777778,\"#fb9f3a\"],[0.8888888888888888,\"#fdca26\"],[1.0,\"#f0f921\"]]}],\"surface\":[{\"type\":\"surface\",\"colorbar\":{\"outlinewidth\":0,\"ticks\":\"\"},\"colorscale\":[[0.0,\"#0d0887\"],[0.1111111111111111,\"#46039f\"],[0.2222222222222222,\"#7201a8\"],[0.3333333333333333,\"#9c179e\"],[0.4444444444444444,\"#bd3786\"],[0.5555555555555556,\"#d8576b\"],[0.6666666666666666,\"#ed7953\"],[0.7777777777777778,\"#fb9f3a\"],[0.8888888888888888,\"#fdca26\"],[1.0,\"#f0f921\"]]}],\"mesh3d\":[{\"type\":\"mesh3d\",\"colorbar\":{\"outlinewidth\":0,\"ticks\":\"\"}}],\"scatter\":[{\"fillpattern\":{\"fillmode\":\"overlay\",\"size\":10,\"solidity\":0.2},\"type\":\"scatter\"}],\"parcoords\":[{\"type\":\"parcoords\",\"line\":{\"colorbar\":{\"outlinewidth\":0,\"ticks\":\"\"}}}],\"scatterpolargl\":[{\"type\":\"scatterpolargl\",\"marker\":{\"colorbar\":{\"outlinewidth\":0,\"ticks\":\"\"}}}],\"bar\":[{\"error_x\":{\"color\":\"#2a3f5f\"},\"error_y\":{\"color\":\"#2a3f5f\"},\"marker\":{\"line\":{\"color\":\"#E5ECF6\",\"width\":0.5},\"pattern\":{\"fillmode\":\"overlay\",\"size\":10,\"solidity\":0.2}},\"type\":\"bar\"}],\"scattergeo\":[{\"type\":\"scattergeo\",\"marker\":{\"colorbar\":{\"outlinewidth\":0,\"ticks\":\"\"}}}],\"scatterpolar\":[{\"type\":\"scatterpolar\",\"marker\":{\"colorbar\":{\"outlinewidth\":0,\"ticks\":\"\"}}}],\"histogram\":[{\"marker\":{\"pattern\":{\"fillmode\":\"overlay\",\"size\":10,\"solidity\":0.2}},\"type\":\"histogram\"}],\"scattergl\":[{\"type\":\"scattergl\",\"marker\":{\"colorbar\":{\"outlinewidth\":0,\"ticks\":\"\"}}}],\"scatter3d\":[{\"type\":\"scatter3d\",\"line\":{\"colorbar\":{\"outlinewidth\":0,\"ticks\":\"\"}},\"marker\":{\"colorbar\":{\"outlinewidth\":0,\"ticks\":\"\"}}}],\"scattermapbox\":[{\"type\":\"scattermapbox\",\"marker\":{\"colorbar\":{\"outlinewidth\":0,\"ticks\":\"\"}}}],\"scatterternary\":[{\"type\":\"scatterternary\",\"marker\":{\"colorbar\":{\"outlinewidth\":0,\"ticks\":\"\"}}}],\"scattercarpet\":[{\"type\":\"scattercarpet\",\"marker\":{\"colorbar\":{\"outlinewidth\":0,\"ticks\":\"\"}}}],\"carpet\":[{\"aaxis\":{\"endlinecolor\":\"#2a3f5f\",\"gridcolor\":\"white\",\"linecolor\":\"white\",\"minorgridcolor\":\"white\",\"startlinecolor\":\"#2a3f5f\"},\"baxis\":{\"endlinecolor\":\"#2a3f5f\",\"gridcolor\":\"white\",\"linecolor\":\"white\",\"minorgridcolor\":\"white\",\"startlinecolor\":\"#2a3f5f\"},\"type\":\"carpet\"}],\"table\":[{\"cells\":{\"fill\":{\"color\":\"#EBF0F8\"},\"line\":{\"color\":\"white\"}},\"header\":{\"fill\":{\"color\":\"#C8D4E3\"},\"line\":{\"color\":\"white\"}},\"type\":\"table\"}],\"barpolar\":[{\"marker\":{\"line\":{\"color\":\"#E5ECF6\",\"width\":0.5},\"pattern\":{\"fillmode\":\"overlay\",\"size\":10,\"solidity\":0.2}},\"type\":\"barpolar\"}],\"pie\":[{\"automargin\":true,\"type\":\"pie\"}]},\"layout\":{\"autotypenumbers\":\"strict\",\"colorway\":[\"#636efa\",\"#EF553B\",\"#00cc96\",\"#ab63fa\",\"#FFA15A\",\"#19d3f3\",\"#FF6692\",\"#B6E880\",\"#FF97FF\",\"#FECB52\"],\"font\":{\"color\":\"#2a3f5f\"},\"hovermode\":\"closest\",\"hoverlabel\":{\"align\":\"left\"},\"paper_bgcolor\":\"white\",\"plot_bgcolor\":\"#E5ECF6\",\"polar\":{\"bgcolor\":\"#E5ECF6\",\"angularaxis\":{\"gridcolor\":\"white\",\"linecolor\":\"white\",\"ticks\":\"\"},\"radialaxis\":{\"gridcolor\":\"white\",\"linecolor\":\"white\",\"ticks\":\"\"}},\"ternary\":{\"bgcolor\":\"#E5ECF6\",\"aaxis\":{\"gridcolor\":\"white\",\"linecolor\":\"white\",\"ticks\":\"\"},\"baxis\":{\"gridcolor\":\"white\",\"linecolor\":\"white\",\"ticks\":\"\"},\"caxis\":{\"gridcolor\":\"white\",\"linecolor\":\"white\",\"ticks\":\"\"}},\"coloraxis\":{\"colorbar\":{\"outlinewidth\":0,\"ticks\":\"\"}},\"colorscale\":{\"sequential\":[[0.0,\"#0d0887\"],[0.1111111111111111,\"#46039f\"],[0.2222222222222222,\"#7201a8\"],[0.3333333333333333,\"#9c179e\"],[0.4444444444444444,\"#bd3786\"],[0.5555555555555556,\"#d8576b\"],[0.6666666666666666,\"#ed7953\"],[0.7777777777777778,\"#fb9f3a\"],[0.8888888888888888,\"#fdca26\"],[1.0,\"#f0f921\"]],\"sequentialminus\":[[0.0,\"#0d0887\"],[0.1111111111111111,\"#46039f\"],[0.2222222222222222,\"#7201a8\"],[0.3333333333333333,\"#9c179e\"],[0.4444444444444444,\"#bd3786\"],[0.5555555555555556,\"#d8576b\"],[0.6666666666666666,\"#ed7953\"],[0.7777777777777778,\"#fb9f3a\"],[0.8888888888888888,\"#fdca26\"],[1.0,\"#f0f921\"]],\"diverging\":[[0,\"#8e0152\"],[0.1,\"#c51b7d\"],[0.2,\"#de77ae\"],[0.3,\"#f1b6da\"],[0.4,\"#fde0ef\"],[0.5,\"#f7f7f7\"],[0.6,\"#e6f5d0\"],[0.7,\"#b8e186\"],[0.8,\"#7fbc41\"],[0.9,\"#4d9221\"],[1,\"#276419\"]]},\"xaxis\":{\"gridcolor\":\"white\",\"linecolor\":\"white\",\"ticks\":\"\",\"title\":{\"standoff\":15},\"zerolinecolor\":\"white\",\"automargin\":true,\"zerolinewidth\":2},\"yaxis\":{\"gridcolor\":\"white\",\"linecolor\":\"white\",\"ticks\":\"\",\"title\":{\"standoff\":15},\"zerolinecolor\":\"white\",\"automargin\":true,\"zerolinewidth\":2},\"scene\":{\"xaxis\":{\"backgroundcolor\":\"#E5ECF6\",\"gridcolor\":\"white\",\"linecolor\":\"white\",\"showbackground\":true,\"ticks\":\"\",\"zerolinecolor\":\"white\",\"gridwidth\":2},\"yaxis\":{\"backgroundcolor\":\"#E5ECF6\",\"gridcolor\":\"white\",\"linecolor\":\"white\",\"showbackground\":true,\"ticks\":\"\",\"zerolinecolor\":\"white\",\"gridwidth\":2},\"zaxis\":{\"backgroundcolor\":\"#E5ECF6\",\"gridcolor\":\"white\",\"linecolor\":\"white\",\"showbackground\":true,\"ticks\":\"\",\"zerolinecolor\":\"white\",\"gridwidth\":2}},\"shapedefaults\":{\"line\":{\"color\":\"#2a3f5f\"}},\"annotationdefaults\":{\"arrowcolor\":\"#2a3f5f\",\"arrowhead\":0,\"arrowwidth\":1},\"geo\":{\"bgcolor\":\"white\",\"landcolor\":\"#E5ECF6\",\"subunitcolor\":\"white\",\"showland\":true,\"showlakes\":true,\"lakecolor\":\"white\"},\"title\":{\"x\":0.05},\"mapbox\":{\"style\":\"light\"}}},\"xaxis\":{\"anchor\":\"y\",\"domain\":[0.0,1.0],\"scaleanchor\":\"y\",\"constrain\":\"domain\"},\"yaxis\":{\"anchor\":\"x\",\"domain\":[0.0,1.0],\"autorange\":\"reversed\",\"constrain\":\"domain\"},\"coloraxis\":{\"colorscale\":[[0.0,\"rgb(5,48,97)\"],[0.1,\"rgb(33,102,172)\"],[0.2,\"rgb(67,147,195)\"],[0.3,\"rgb(146,197,222)\"],[0.4,\"rgb(209,229,240)\"],[0.5,\"rgb(247,247,247)\"],[0.6,\"rgb(253,219,199)\"],[0.7,\"rgb(244,165,130)\"],[0.8,\"rgb(214,96,77)\"],[0.9,\"rgb(178,24,43)\"],[1.0,\"rgb(103,0,31)\"]],\"cmin\":-1,\"cmax\":1},\"margin\":{\"t\":60}},                        {\"responsive\": true}                    ).then(function(){\n",
              "                            \n",
              "var gd = document.getElementById('d6c3986b-0d44-4af0-8790-cd2fdf162565');\n",
              "var x = new MutationObserver(function (mutations, observer) {{\n",
              "        var display = window.getComputedStyle(gd).display;\n",
              "        if (!display || display === 'none') {{\n",
              "            console.log([gd, 'removed!']);\n",
              "            Plotly.purge(gd);\n",
              "            observer.disconnect();\n",
              "        }}\n",
              "}});\n",
              "\n",
              "// Listen for the removal of the full notebook cells\n",
              "var notebookContainer = gd.closest('#notebook-container');\n",
              "if (notebookContainer) {{\n",
              "    x.observe(notebookContainer, {childList: true});\n",
              "}}\n",
              "\n",
              "// Listen for the clearing of the current output cell\n",
              "var outputEl = gd.closest('.output');\n",
              "if (outputEl) {{\n",
              "    x.observe(outputEl, {childList: true});\n",
              "}}\n",
              "\n",
              "                        })                };                            </script>        </div>\n",
              "</body>\n",
              "</html>"
            ]
          },
          "metadata": {}
        }
      ]
    },
    {
      "cell_type": "code",
      "source": [
        "from collections import Counter\n",
        "import plotly.express as px\n",
        "import pandas as pd\n",
        "\n",
        "def pie_chart(input_list: list, chart_title: str):\n",
        "  # Count the frequency of each category\n",
        "  category_counts = Counter(input_list)\n",
        "\n",
        "  # Create a DataFrame\n",
        "  df = pd.DataFrame({'Category': list(category_counts.keys()), 'Count': list(category_counts.values())})\n",
        "\n",
        "  # Create a dynamic pie chart with Plotly Express\n",
        "  fig = px.pie(df, names='Category', values='Count', title=chart_title)\n",
        "\n",
        "  # Make the background transparent\n",
        "  # fig.update_layout(\n",
        "  #     paper_bgcolor='rgba(0,0,0,0)',\n",
        "  #     plot_bgcolor='rgba(0,0,0,0)',\n",
        "  #     title_font=dict(color=\"white\"),  # Set title text color to white\n",
        "  #     legend_title_font=dict(color=\"white\"),  # Set legend title text color to white\n",
        "  #     legend_font=dict(color=\"white\"),  # Set legend text color to white\n",
        "  #     showlegend=True  # Show the legend\n",
        "  # )\n",
        "\n",
        "  # Set the label text color to white\n",
        "  fig.update_traces(textinfo='percent+label')\n",
        "  fig.write_image(\"customers_age_piechart.png\", format=\"png\")  # Show the pie chart\n",
        "  fig.show()"
      ],
      "metadata": {
        "id": "_b3yZ9qNDbt5"
      },
      "execution_count": null,
      "outputs": []
    },
    {
      "cell_type": "code",
      "source": [
        "pie_chart(input_list=input_data[\"Geography\"], chart_title=\"Customers & Region\")\n"
      ],
      "metadata": {
        "colab": {
          "base_uri": "https://localhost:8080/",
          "height": 542
        },
        "id": "V1fNyP6iAoj8",
        "outputId": "5076785a-b3ed-4b5d-e6ae-5e1ba420348a"
      },
      "execution_count": null,
      "outputs": [
        {
          "output_type": "display_data",
          "data": {
            "text/html": [
              "<html>\n",
              "<head><meta charset=\"utf-8\" /></head>\n",
              "<body>\n",
              "    <div>            <script src=\"https://cdnjs.cloudflare.com/ajax/libs/mathjax/2.7.5/MathJax.js?config=TeX-AMS-MML_SVG\"></script><script type=\"text/javascript\">if (window.MathJax && window.MathJax.Hub && window.MathJax.Hub.Config) {window.MathJax.Hub.Config({SVG: {font: \"STIX-Web\"}});}</script>                <script type=\"text/javascript\">window.PlotlyConfig = {MathJaxConfig: 'local'};</script>\n",
              "        <script charset=\"utf-8\" src=\"https://cdn.plot.ly/plotly-2.24.1.min.js\"></script>                <div id=\"d60025e4-1ba3-48d1-9136-0879d1fb134d\" class=\"plotly-graph-div\" style=\"height:525px; width:100%;\"></div>            <script type=\"text/javascript\">                                    window.PLOTLYENV=window.PLOTLYENV || {};                                    if (document.getElementById(\"d60025e4-1ba3-48d1-9136-0879d1fb134d\")) {                    Plotly.newPlot(                        \"d60025e4-1ba3-48d1-9136-0879d1fb134d\",                        [{\"domain\":{\"x\":[0.0,1.0],\"y\":[0.0,1.0]},\"hovertemplate\":\"Category=%{label}\\u003cbr\\u003eCount=%{value}\\u003cextra\\u003e\\u003c\\u002fextra\\u003e\",\"labels\":[\"France\",\"Spain\",\"Germany\"],\"legendgroup\":\"\",\"name\":\"\",\"showlegend\":true,\"values\":[5014,2477,2509],\"type\":\"pie\",\"textinfo\":\"percent+label\"}],                        {\"template\":{\"data\":{\"histogram2dcontour\":[{\"type\":\"histogram2dcontour\",\"colorbar\":{\"outlinewidth\":0,\"ticks\":\"\"},\"colorscale\":[[0.0,\"#0d0887\"],[0.1111111111111111,\"#46039f\"],[0.2222222222222222,\"#7201a8\"],[0.3333333333333333,\"#9c179e\"],[0.4444444444444444,\"#bd3786\"],[0.5555555555555556,\"#d8576b\"],[0.6666666666666666,\"#ed7953\"],[0.7777777777777778,\"#fb9f3a\"],[0.8888888888888888,\"#fdca26\"],[1.0,\"#f0f921\"]]}],\"choropleth\":[{\"type\":\"choropleth\",\"colorbar\":{\"outlinewidth\":0,\"ticks\":\"\"}}],\"histogram2d\":[{\"type\":\"histogram2d\",\"colorbar\":{\"outlinewidth\":0,\"ticks\":\"\"},\"colorscale\":[[0.0,\"#0d0887\"],[0.1111111111111111,\"#46039f\"],[0.2222222222222222,\"#7201a8\"],[0.3333333333333333,\"#9c179e\"],[0.4444444444444444,\"#bd3786\"],[0.5555555555555556,\"#d8576b\"],[0.6666666666666666,\"#ed7953\"],[0.7777777777777778,\"#fb9f3a\"],[0.8888888888888888,\"#fdca26\"],[1.0,\"#f0f921\"]]}],\"heatmap\":[{\"type\":\"heatmap\",\"colorbar\":{\"outlinewidth\":0,\"ticks\":\"\"},\"colorscale\":[[0.0,\"#0d0887\"],[0.1111111111111111,\"#46039f\"],[0.2222222222222222,\"#7201a8\"],[0.3333333333333333,\"#9c179e\"],[0.4444444444444444,\"#bd3786\"],[0.5555555555555556,\"#d8576b\"],[0.6666666666666666,\"#ed7953\"],[0.7777777777777778,\"#fb9f3a\"],[0.8888888888888888,\"#fdca26\"],[1.0,\"#f0f921\"]]}],\"heatmapgl\":[{\"type\":\"heatmapgl\",\"colorbar\":{\"outlinewidth\":0,\"ticks\":\"\"},\"colorscale\":[[0.0,\"#0d0887\"],[0.1111111111111111,\"#46039f\"],[0.2222222222222222,\"#7201a8\"],[0.3333333333333333,\"#9c179e\"],[0.4444444444444444,\"#bd3786\"],[0.5555555555555556,\"#d8576b\"],[0.6666666666666666,\"#ed7953\"],[0.7777777777777778,\"#fb9f3a\"],[0.8888888888888888,\"#fdca26\"],[1.0,\"#f0f921\"]]}],\"contourcarpet\":[{\"type\":\"contourcarpet\",\"colorbar\":{\"outlinewidth\":0,\"ticks\":\"\"}}],\"contour\":[{\"type\":\"contour\",\"colorbar\":{\"outlinewidth\":0,\"ticks\":\"\"},\"colorscale\":[[0.0,\"#0d0887\"],[0.1111111111111111,\"#46039f\"],[0.2222222222222222,\"#7201a8\"],[0.3333333333333333,\"#9c179e\"],[0.4444444444444444,\"#bd3786\"],[0.5555555555555556,\"#d8576b\"],[0.6666666666666666,\"#ed7953\"],[0.7777777777777778,\"#fb9f3a\"],[0.8888888888888888,\"#fdca26\"],[1.0,\"#f0f921\"]]}],\"surface\":[{\"type\":\"surface\",\"colorbar\":{\"outlinewidth\":0,\"ticks\":\"\"},\"colorscale\":[[0.0,\"#0d0887\"],[0.1111111111111111,\"#46039f\"],[0.2222222222222222,\"#7201a8\"],[0.3333333333333333,\"#9c179e\"],[0.4444444444444444,\"#bd3786\"],[0.5555555555555556,\"#d8576b\"],[0.6666666666666666,\"#ed7953\"],[0.7777777777777778,\"#fb9f3a\"],[0.8888888888888888,\"#fdca26\"],[1.0,\"#f0f921\"]]}],\"mesh3d\":[{\"type\":\"mesh3d\",\"colorbar\":{\"outlinewidth\":0,\"ticks\":\"\"}}],\"scatter\":[{\"fillpattern\":{\"fillmode\":\"overlay\",\"size\":10,\"solidity\":0.2},\"type\":\"scatter\"}],\"parcoords\":[{\"type\":\"parcoords\",\"line\":{\"colorbar\":{\"outlinewidth\":0,\"ticks\":\"\"}}}],\"scatterpolargl\":[{\"type\":\"scatterpolargl\",\"marker\":{\"colorbar\":{\"outlinewidth\":0,\"ticks\":\"\"}}}],\"bar\":[{\"error_x\":{\"color\":\"#2a3f5f\"},\"error_y\":{\"color\":\"#2a3f5f\"},\"marker\":{\"line\":{\"color\":\"#E5ECF6\",\"width\":0.5},\"pattern\":{\"fillmode\":\"overlay\",\"size\":10,\"solidity\":0.2}},\"type\":\"bar\"}],\"scattergeo\":[{\"type\":\"scattergeo\",\"marker\":{\"colorbar\":{\"outlinewidth\":0,\"ticks\":\"\"}}}],\"scatterpolar\":[{\"type\":\"scatterpolar\",\"marker\":{\"colorbar\":{\"outlinewidth\":0,\"ticks\":\"\"}}}],\"histogram\":[{\"marker\":{\"pattern\":{\"fillmode\":\"overlay\",\"size\":10,\"solidity\":0.2}},\"type\":\"histogram\"}],\"scattergl\":[{\"type\":\"scattergl\",\"marker\":{\"colorbar\":{\"outlinewidth\":0,\"ticks\":\"\"}}}],\"scatter3d\":[{\"type\":\"scatter3d\",\"line\":{\"colorbar\":{\"outlinewidth\":0,\"ticks\":\"\"}},\"marker\":{\"colorbar\":{\"outlinewidth\":0,\"ticks\":\"\"}}}],\"scattermapbox\":[{\"type\":\"scattermapbox\",\"marker\":{\"colorbar\":{\"outlinewidth\":0,\"ticks\":\"\"}}}],\"scatterternary\":[{\"type\":\"scatterternary\",\"marker\":{\"colorbar\":{\"outlinewidth\":0,\"ticks\":\"\"}}}],\"scattercarpet\":[{\"type\":\"scattercarpet\",\"marker\":{\"colorbar\":{\"outlinewidth\":0,\"ticks\":\"\"}}}],\"carpet\":[{\"aaxis\":{\"endlinecolor\":\"#2a3f5f\",\"gridcolor\":\"white\",\"linecolor\":\"white\",\"minorgridcolor\":\"white\",\"startlinecolor\":\"#2a3f5f\"},\"baxis\":{\"endlinecolor\":\"#2a3f5f\",\"gridcolor\":\"white\",\"linecolor\":\"white\",\"minorgridcolor\":\"white\",\"startlinecolor\":\"#2a3f5f\"},\"type\":\"carpet\"}],\"table\":[{\"cells\":{\"fill\":{\"color\":\"#EBF0F8\"},\"line\":{\"color\":\"white\"}},\"header\":{\"fill\":{\"color\":\"#C8D4E3\"},\"line\":{\"color\":\"white\"}},\"type\":\"table\"}],\"barpolar\":[{\"marker\":{\"line\":{\"color\":\"#E5ECF6\",\"width\":0.5},\"pattern\":{\"fillmode\":\"overlay\",\"size\":10,\"solidity\":0.2}},\"type\":\"barpolar\"}],\"pie\":[{\"automargin\":true,\"type\":\"pie\"}]},\"layout\":{\"autotypenumbers\":\"strict\",\"colorway\":[\"#636efa\",\"#EF553B\",\"#00cc96\",\"#ab63fa\",\"#FFA15A\",\"#19d3f3\",\"#FF6692\",\"#B6E880\",\"#FF97FF\",\"#FECB52\"],\"font\":{\"color\":\"#2a3f5f\"},\"hovermode\":\"closest\",\"hoverlabel\":{\"align\":\"left\"},\"paper_bgcolor\":\"white\",\"plot_bgcolor\":\"#E5ECF6\",\"polar\":{\"bgcolor\":\"#E5ECF6\",\"angularaxis\":{\"gridcolor\":\"white\",\"linecolor\":\"white\",\"ticks\":\"\"},\"radialaxis\":{\"gridcolor\":\"white\",\"linecolor\":\"white\",\"ticks\":\"\"}},\"ternary\":{\"bgcolor\":\"#E5ECF6\",\"aaxis\":{\"gridcolor\":\"white\",\"linecolor\":\"white\",\"ticks\":\"\"},\"baxis\":{\"gridcolor\":\"white\",\"linecolor\":\"white\",\"ticks\":\"\"},\"caxis\":{\"gridcolor\":\"white\",\"linecolor\":\"white\",\"ticks\":\"\"}},\"coloraxis\":{\"colorbar\":{\"outlinewidth\":0,\"ticks\":\"\"}},\"colorscale\":{\"sequential\":[[0.0,\"#0d0887\"],[0.1111111111111111,\"#46039f\"],[0.2222222222222222,\"#7201a8\"],[0.3333333333333333,\"#9c179e\"],[0.4444444444444444,\"#bd3786\"],[0.5555555555555556,\"#d8576b\"],[0.6666666666666666,\"#ed7953\"],[0.7777777777777778,\"#fb9f3a\"],[0.8888888888888888,\"#fdca26\"],[1.0,\"#f0f921\"]],\"sequentialminus\":[[0.0,\"#0d0887\"],[0.1111111111111111,\"#46039f\"],[0.2222222222222222,\"#7201a8\"],[0.3333333333333333,\"#9c179e\"],[0.4444444444444444,\"#bd3786\"],[0.5555555555555556,\"#d8576b\"],[0.6666666666666666,\"#ed7953\"],[0.7777777777777778,\"#fb9f3a\"],[0.8888888888888888,\"#fdca26\"],[1.0,\"#f0f921\"]],\"diverging\":[[0,\"#8e0152\"],[0.1,\"#c51b7d\"],[0.2,\"#de77ae\"],[0.3,\"#f1b6da\"],[0.4,\"#fde0ef\"],[0.5,\"#f7f7f7\"],[0.6,\"#e6f5d0\"],[0.7,\"#b8e186\"],[0.8,\"#7fbc41\"],[0.9,\"#4d9221\"],[1,\"#276419\"]]},\"xaxis\":{\"gridcolor\":\"white\",\"linecolor\":\"white\",\"ticks\":\"\",\"title\":{\"standoff\":15},\"zerolinecolor\":\"white\",\"automargin\":true,\"zerolinewidth\":2},\"yaxis\":{\"gridcolor\":\"white\",\"linecolor\":\"white\",\"ticks\":\"\",\"title\":{\"standoff\":15},\"zerolinecolor\":\"white\",\"automargin\":true,\"zerolinewidth\":2},\"scene\":{\"xaxis\":{\"backgroundcolor\":\"#E5ECF6\",\"gridcolor\":\"white\",\"linecolor\":\"white\",\"showbackground\":true,\"ticks\":\"\",\"zerolinecolor\":\"white\",\"gridwidth\":2},\"yaxis\":{\"backgroundcolor\":\"#E5ECF6\",\"gridcolor\":\"white\",\"linecolor\":\"white\",\"showbackground\":true,\"ticks\":\"\",\"zerolinecolor\":\"white\",\"gridwidth\":2},\"zaxis\":{\"backgroundcolor\":\"#E5ECF6\",\"gridcolor\":\"white\",\"linecolor\":\"white\",\"showbackground\":true,\"ticks\":\"\",\"zerolinecolor\":\"white\",\"gridwidth\":2}},\"shapedefaults\":{\"line\":{\"color\":\"#2a3f5f\"}},\"annotationdefaults\":{\"arrowcolor\":\"#2a3f5f\",\"arrowhead\":0,\"arrowwidth\":1},\"geo\":{\"bgcolor\":\"white\",\"landcolor\":\"#E5ECF6\",\"subunitcolor\":\"white\",\"showland\":true,\"showlakes\":true,\"lakecolor\":\"white\"},\"title\":{\"x\":0.05},\"mapbox\":{\"style\":\"light\"}}},\"legend\":{\"tracegroupgap\":0},\"title\":{\"text\":\"Customers & Region\"}},                        {\"responsive\": true}                    ).then(function(){\n",
              "                            \n",
              "var gd = document.getElementById('d60025e4-1ba3-48d1-9136-0879d1fb134d');\n",
              "var x = new MutationObserver(function (mutations, observer) {{\n",
              "        var display = window.getComputedStyle(gd).display;\n",
              "        if (!display || display === 'none') {{\n",
              "            console.log([gd, 'removed!']);\n",
              "            Plotly.purge(gd);\n",
              "            observer.disconnect();\n",
              "        }}\n",
              "}});\n",
              "\n",
              "// Listen for the removal of the full notebook cells\n",
              "var notebookContainer = gd.closest('#notebook-container');\n",
              "if (notebookContainer) {{\n",
              "    x.observe(notebookContainer, {childList: true});\n",
              "}}\n",
              "\n",
              "// Listen for the clearing of the current output cell\n",
              "var outputEl = gd.closest('.output');\n",
              "if (outputEl) {{\n",
              "    x.observe(outputEl, {childList: true});\n",
              "}}\n",
              "\n",
              "                        })                };                            </script>        </div>\n",
              "</body>\n",
              "</html>"
            ]
          },
          "metadata": {}
        }
      ]
    },
    {
      "cell_type": "code",
      "source": [
        "pie_chart(input_list=input_data[\"Gender\"], chart_title=\"Customers & Gender\")\n"
      ],
      "metadata": {
        "colab": {
          "base_uri": "https://localhost:8080/",
          "height": 542
        },
        "id": "dgiK6XWBDZK2",
        "outputId": "e121fade-3982-4a1d-d2ba-c695cf47a14b"
      },
      "execution_count": null,
      "outputs": [
        {
          "output_type": "display_data",
          "data": {
            "text/html": [
              "<html>\n",
              "<head><meta charset=\"utf-8\" /></head>\n",
              "<body>\n",
              "    <div>            <script src=\"https://cdnjs.cloudflare.com/ajax/libs/mathjax/2.7.5/MathJax.js?config=TeX-AMS-MML_SVG\"></script><script type=\"text/javascript\">if (window.MathJax && window.MathJax.Hub && window.MathJax.Hub.Config) {window.MathJax.Hub.Config({SVG: {font: \"STIX-Web\"}});}</script>                <script type=\"text/javascript\">window.PlotlyConfig = {MathJaxConfig: 'local'};</script>\n",
              "        <script charset=\"utf-8\" src=\"https://cdn.plot.ly/plotly-2.24.1.min.js\"></script>                <div id=\"91ef3736-3e43-4e47-acdc-111fed0d432d\" class=\"plotly-graph-div\" style=\"height:525px; width:100%;\"></div>            <script type=\"text/javascript\">                                    window.PLOTLYENV=window.PLOTLYENV || {};                                    if (document.getElementById(\"91ef3736-3e43-4e47-acdc-111fed0d432d\")) {                    Plotly.newPlot(                        \"91ef3736-3e43-4e47-acdc-111fed0d432d\",                        [{\"domain\":{\"x\":[0.0,1.0],\"y\":[0.0,1.0]},\"hovertemplate\":\"Category=%{label}\\u003cbr\\u003eCount=%{value}\\u003cextra\\u003e\\u003c\\u002fextra\\u003e\",\"labels\":[\"Female\",\"Male\"],\"legendgroup\":\"\",\"name\":\"\",\"showlegend\":true,\"values\":[4543,5457],\"type\":\"pie\",\"textinfo\":\"percent+label\"}],                        {\"template\":{\"data\":{\"histogram2dcontour\":[{\"type\":\"histogram2dcontour\",\"colorbar\":{\"outlinewidth\":0,\"ticks\":\"\"},\"colorscale\":[[0.0,\"#0d0887\"],[0.1111111111111111,\"#46039f\"],[0.2222222222222222,\"#7201a8\"],[0.3333333333333333,\"#9c179e\"],[0.4444444444444444,\"#bd3786\"],[0.5555555555555556,\"#d8576b\"],[0.6666666666666666,\"#ed7953\"],[0.7777777777777778,\"#fb9f3a\"],[0.8888888888888888,\"#fdca26\"],[1.0,\"#f0f921\"]]}],\"choropleth\":[{\"type\":\"choropleth\",\"colorbar\":{\"outlinewidth\":0,\"ticks\":\"\"}}],\"histogram2d\":[{\"type\":\"histogram2d\",\"colorbar\":{\"outlinewidth\":0,\"ticks\":\"\"},\"colorscale\":[[0.0,\"#0d0887\"],[0.1111111111111111,\"#46039f\"],[0.2222222222222222,\"#7201a8\"],[0.3333333333333333,\"#9c179e\"],[0.4444444444444444,\"#bd3786\"],[0.5555555555555556,\"#d8576b\"],[0.6666666666666666,\"#ed7953\"],[0.7777777777777778,\"#fb9f3a\"],[0.8888888888888888,\"#fdca26\"],[1.0,\"#f0f921\"]]}],\"heatmap\":[{\"type\":\"heatmap\",\"colorbar\":{\"outlinewidth\":0,\"ticks\":\"\"},\"colorscale\":[[0.0,\"#0d0887\"],[0.1111111111111111,\"#46039f\"],[0.2222222222222222,\"#7201a8\"],[0.3333333333333333,\"#9c179e\"],[0.4444444444444444,\"#bd3786\"],[0.5555555555555556,\"#d8576b\"],[0.6666666666666666,\"#ed7953\"],[0.7777777777777778,\"#fb9f3a\"],[0.8888888888888888,\"#fdca26\"],[1.0,\"#f0f921\"]]}],\"heatmapgl\":[{\"type\":\"heatmapgl\",\"colorbar\":{\"outlinewidth\":0,\"ticks\":\"\"},\"colorscale\":[[0.0,\"#0d0887\"],[0.1111111111111111,\"#46039f\"],[0.2222222222222222,\"#7201a8\"],[0.3333333333333333,\"#9c179e\"],[0.4444444444444444,\"#bd3786\"],[0.5555555555555556,\"#d8576b\"],[0.6666666666666666,\"#ed7953\"],[0.7777777777777778,\"#fb9f3a\"],[0.8888888888888888,\"#fdca26\"],[1.0,\"#f0f921\"]]}],\"contourcarpet\":[{\"type\":\"contourcarpet\",\"colorbar\":{\"outlinewidth\":0,\"ticks\":\"\"}}],\"contour\":[{\"type\":\"contour\",\"colorbar\":{\"outlinewidth\":0,\"ticks\":\"\"},\"colorscale\":[[0.0,\"#0d0887\"],[0.1111111111111111,\"#46039f\"],[0.2222222222222222,\"#7201a8\"],[0.3333333333333333,\"#9c179e\"],[0.4444444444444444,\"#bd3786\"],[0.5555555555555556,\"#d8576b\"],[0.6666666666666666,\"#ed7953\"],[0.7777777777777778,\"#fb9f3a\"],[0.8888888888888888,\"#fdca26\"],[1.0,\"#f0f921\"]]}],\"surface\":[{\"type\":\"surface\",\"colorbar\":{\"outlinewidth\":0,\"ticks\":\"\"},\"colorscale\":[[0.0,\"#0d0887\"],[0.1111111111111111,\"#46039f\"],[0.2222222222222222,\"#7201a8\"],[0.3333333333333333,\"#9c179e\"],[0.4444444444444444,\"#bd3786\"],[0.5555555555555556,\"#d8576b\"],[0.6666666666666666,\"#ed7953\"],[0.7777777777777778,\"#fb9f3a\"],[0.8888888888888888,\"#fdca26\"],[1.0,\"#f0f921\"]]}],\"mesh3d\":[{\"type\":\"mesh3d\",\"colorbar\":{\"outlinewidth\":0,\"ticks\":\"\"}}],\"scatter\":[{\"fillpattern\":{\"fillmode\":\"overlay\",\"size\":10,\"solidity\":0.2},\"type\":\"scatter\"}],\"parcoords\":[{\"type\":\"parcoords\",\"line\":{\"colorbar\":{\"outlinewidth\":0,\"ticks\":\"\"}}}],\"scatterpolargl\":[{\"type\":\"scatterpolargl\",\"marker\":{\"colorbar\":{\"outlinewidth\":0,\"ticks\":\"\"}}}],\"bar\":[{\"error_x\":{\"color\":\"#2a3f5f\"},\"error_y\":{\"color\":\"#2a3f5f\"},\"marker\":{\"line\":{\"color\":\"#E5ECF6\",\"width\":0.5},\"pattern\":{\"fillmode\":\"overlay\",\"size\":10,\"solidity\":0.2}},\"type\":\"bar\"}],\"scattergeo\":[{\"type\":\"scattergeo\",\"marker\":{\"colorbar\":{\"outlinewidth\":0,\"ticks\":\"\"}}}],\"scatterpolar\":[{\"type\":\"scatterpolar\",\"marker\":{\"colorbar\":{\"outlinewidth\":0,\"ticks\":\"\"}}}],\"histogram\":[{\"marker\":{\"pattern\":{\"fillmode\":\"overlay\",\"size\":10,\"solidity\":0.2}},\"type\":\"histogram\"}],\"scattergl\":[{\"type\":\"scattergl\",\"marker\":{\"colorbar\":{\"outlinewidth\":0,\"ticks\":\"\"}}}],\"scatter3d\":[{\"type\":\"scatter3d\",\"line\":{\"colorbar\":{\"outlinewidth\":0,\"ticks\":\"\"}},\"marker\":{\"colorbar\":{\"outlinewidth\":0,\"ticks\":\"\"}}}],\"scattermapbox\":[{\"type\":\"scattermapbox\",\"marker\":{\"colorbar\":{\"outlinewidth\":0,\"ticks\":\"\"}}}],\"scatterternary\":[{\"type\":\"scatterternary\",\"marker\":{\"colorbar\":{\"outlinewidth\":0,\"ticks\":\"\"}}}],\"scattercarpet\":[{\"type\":\"scattercarpet\",\"marker\":{\"colorbar\":{\"outlinewidth\":0,\"ticks\":\"\"}}}],\"carpet\":[{\"aaxis\":{\"endlinecolor\":\"#2a3f5f\",\"gridcolor\":\"white\",\"linecolor\":\"white\",\"minorgridcolor\":\"white\",\"startlinecolor\":\"#2a3f5f\"},\"baxis\":{\"endlinecolor\":\"#2a3f5f\",\"gridcolor\":\"white\",\"linecolor\":\"white\",\"minorgridcolor\":\"white\",\"startlinecolor\":\"#2a3f5f\"},\"type\":\"carpet\"}],\"table\":[{\"cells\":{\"fill\":{\"color\":\"#EBF0F8\"},\"line\":{\"color\":\"white\"}},\"header\":{\"fill\":{\"color\":\"#C8D4E3\"},\"line\":{\"color\":\"white\"}},\"type\":\"table\"}],\"barpolar\":[{\"marker\":{\"line\":{\"color\":\"#E5ECF6\",\"width\":0.5},\"pattern\":{\"fillmode\":\"overlay\",\"size\":10,\"solidity\":0.2}},\"type\":\"barpolar\"}],\"pie\":[{\"automargin\":true,\"type\":\"pie\"}]},\"layout\":{\"autotypenumbers\":\"strict\",\"colorway\":[\"#636efa\",\"#EF553B\",\"#00cc96\",\"#ab63fa\",\"#FFA15A\",\"#19d3f3\",\"#FF6692\",\"#B6E880\",\"#FF97FF\",\"#FECB52\"],\"font\":{\"color\":\"#2a3f5f\"},\"hovermode\":\"closest\",\"hoverlabel\":{\"align\":\"left\"},\"paper_bgcolor\":\"white\",\"plot_bgcolor\":\"#E5ECF6\",\"polar\":{\"bgcolor\":\"#E5ECF6\",\"angularaxis\":{\"gridcolor\":\"white\",\"linecolor\":\"white\",\"ticks\":\"\"},\"radialaxis\":{\"gridcolor\":\"white\",\"linecolor\":\"white\",\"ticks\":\"\"}},\"ternary\":{\"bgcolor\":\"#E5ECF6\",\"aaxis\":{\"gridcolor\":\"white\",\"linecolor\":\"white\",\"ticks\":\"\"},\"baxis\":{\"gridcolor\":\"white\",\"linecolor\":\"white\",\"ticks\":\"\"},\"caxis\":{\"gridcolor\":\"white\",\"linecolor\":\"white\",\"ticks\":\"\"}},\"coloraxis\":{\"colorbar\":{\"outlinewidth\":0,\"ticks\":\"\"}},\"colorscale\":{\"sequential\":[[0.0,\"#0d0887\"],[0.1111111111111111,\"#46039f\"],[0.2222222222222222,\"#7201a8\"],[0.3333333333333333,\"#9c179e\"],[0.4444444444444444,\"#bd3786\"],[0.5555555555555556,\"#d8576b\"],[0.6666666666666666,\"#ed7953\"],[0.7777777777777778,\"#fb9f3a\"],[0.8888888888888888,\"#fdca26\"],[1.0,\"#f0f921\"]],\"sequentialminus\":[[0.0,\"#0d0887\"],[0.1111111111111111,\"#46039f\"],[0.2222222222222222,\"#7201a8\"],[0.3333333333333333,\"#9c179e\"],[0.4444444444444444,\"#bd3786\"],[0.5555555555555556,\"#d8576b\"],[0.6666666666666666,\"#ed7953\"],[0.7777777777777778,\"#fb9f3a\"],[0.8888888888888888,\"#fdca26\"],[1.0,\"#f0f921\"]],\"diverging\":[[0,\"#8e0152\"],[0.1,\"#c51b7d\"],[0.2,\"#de77ae\"],[0.3,\"#f1b6da\"],[0.4,\"#fde0ef\"],[0.5,\"#f7f7f7\"],[0.6,\"#e6f5d0\"],[0.7,\"#b8e186\"],[0.8,\"#7fbc41\"],[0.9,\"#4d9221\"],[1,\"#276419\"]]},\"xaxis\":{\"gridcolor\":\"white\",\"linecolor\":\"white\",\"ticks\":\"\",\"title\":{\"standoff\":15},\"zerolinecolor\":\"white\",\"automargin\":true,\"zerolinewidth\":2},\"yaxis\":{\"gridcolor\":\"white\",\"linecolor\":\"white\",\"ticks\":\"\",\"title\":{\"standoff\":15},\"zerolinecolor\":\"white\",\"automargin\":true,\"zerolinewidth\":2},\"scene\":{\"xaxis\":{\"backgroundcolor\":\"#E5ECF6\",\"gridcolor\":\"white\",\"linecolor\":\"white\",\"showbackground\":true,\"ticks\":\"\",\"zerolinecolor\":\"white\",\"gridwidth\":2},\"yaxis\":{\"backgroundcolor\":\"#E5ECF6\",\"gridcolor\":\"white\",\"linecolor\":\"white\",\"showbackground\":true,\"ticks\":\"\",\"zerolinecolor\":\"white\",\"gridwidth\":2},\"zaxis\":{\"backgroundcolor\":\"#E5ECF6\",\"gridcolor\":\"white\",\"linecolor\":\"white\",\"showbackground\":true,\"ticks\":\"\",\"zerolinecolor\":\"white\",\"gridwidth\":2}},\"shapedefaults\":{\"line\":{\"color\":\"#2a3f5f\"}},\"annotationdefaults\":{\"arrowcolor\":\"#2a3f5f\",\"arrowhead\":0,\"arrowwidth\":1},\"geo\":{\"bgcolor\":\"white\",\"landcolor\":\"#E5ECF6\",\"subunitcolor\":\"white\",\"showland\":true,\"showlakes\":true,\"lakecolor\":\"white\"},\"title\":{\"x\":0.05},\"mapbox\":{\"style\":\"light\"}}},\"legend\":{\"tracegroupgap\":0},\"title\":{\"text\":\"Customers & Gender\"}},                        {\"responsive\": true}                    ).then(function(){\n",
              "                            \n",
              "var gd = document.getElementById('91ef3736-3e43-4e47-acdc-111fed0d432d');\n",
              "var x = new MutationObserver(function (mutations, observer) {{\n",
              "        var display = window.getComputedStyle(gd).display;\n",
              "        if (!display || display === 'none') {{\n",
              "            console.log([gd, 'removed!']);\n",
              "            Plotly.purge(gd);\n",
              "            observer.disconnect();\n",
              "        }}\n",
              "}});\n",
              "\n",
              "// Listen for the removal of the full notebook cells\n",
              "var notebookContainer = gd.closest('#notebook-container');\n",
              "if (notebookContainer) {{\n",
              "    x.observe(notebookContainer, {childList: true});\n",
              "}}\n",
              "\n",
              "// Listen for the clearing of the current output cell\n",
              "var outputEl = gd.closest('.output');\n",
              "if (outputEl) {{\n",
              "    x.observe(outputEl, {childList: true});\n",
              "}}\n",
              "\n",
              "                        })                };                            </script>        </div>\n",
              "</body>\n",
              "</html>"
            ]
          },
          "metadata": {}
        }
      ]
    },
    {
      "cell_type": "code",
      "source": [
        "bins = [0, 18, 30, 45, 60, 100]  # Define age range boundaries\n",
        "labels = ['0-18', '19-30', '31-45', '46-60', '61-100']  # Labels for age ranges\n",
        "\n",
        "input_data['AgeRange'] = pd.cut(input_data['Age'], bins=bins, labels=labels)"
      ],
      "metadata": {
        "id": "9br03lkBWETM"
      },
      "execution_count": null,
      "outputs": []
    },
    {
      "cell_type": "code",
      "source": [
        "age_group_counts = input_data.groupby(['AgeRange', 'Exited']).size().unstack(fill_value=0)\n",
        "age_group_counts"
      ],
      "metadata": {
        "id": "GjFKIrCVYAC9",
        "colab": {
          "base_uri": "https://localhost:8080/",
          "height": 238
        },
        "outputId": "b7e8c26b-92dc-49d6-f0c5-1bf236a58ebc"
      },
      "execution_count": null,
      "outputs": [
        {
          "output_type": "execute_result",
          "data": {
            "text/plain": [
              "Exited       0    1\n",
              "AgeRange           \n",
              "0-18        20    2\n",
              "19-30     1800  146\n",
              "31-45     4989  932\n",
              "46-60      805  842\n",
              "61-100     349  115"
            ],
            "text/html": [
              "\n",
              "  <div id=\"df-54eda2e4-a958-4ceb-bbd2-92c82ec19d2b\" class=\"colab-df-container\">\n",
              "    <div>\n",
              "<style scoped>\n",
              "    .dataframe tbody tr th:only-of-type {\n",
              "        vertical-align: middle;\n",
              "    }\n",
              "\n",
              "    .dataframe tbody tr th {\n",
              "        vertical-align: top;\n",
              "    }\n",
              "\n",
              "    .dataframe thead th {\n",
              "        text-align: right;\n",
              "    }\n",
              "</style>\n",
              "<table border=\"1\" class=\"dataframe\">\n",
              "  <thead>\n",
              "    <tr style=\"text-align: right;\">\n",
              "      <th>Exited</th>\n",
              "      <th>0</th>\n",
              "      <th>1</th>\n",
              "    </tr>\n",
              "    <tr>\n",
              "      <th>AgeRange</th>\n",
              "      <th></th>\n",
              "      <th></th>\n",
              "    </tr>\n",
              "  </thead>\n",
              "  <tbody>\n",
              "    <tr>\n",
              "      <th>0-18</th>\n",
              "      <td>20</td>\n",
              "      <td>2</td>\n",
              "    </tr>\n",
              "    <tr>\n",
              "      <th>19-30</th>\n",
              "      <td>1800</td>\n",
              "      <td>146</td>\n",
              "    </tr>\n",
              "    <tr>\n",
              "      <th>31-45</th>\n",
              "      <td>4989</td>\n",
              "      <td>932</td>\n",
              "    </tr>\n",
              "    <tr>\n",
              "      <th>46-60</th>\n",
              "      <td>805</td>\n",
              "      <td>842</td>\n",
              "    </tr>\n",
              "    <tr>\n",
              "      <th>61-100</th>\n",
              "      <td>349</td>\n",
              "      <td>115</td>\n",
              "    </tr>\n",
              "  </tbody>\n",
              "</table>\n",
              "</div>\n",
              "    <div class=\"colab-df-buttons\">\n",
              "\n",
              "  <div class=\"colab-df-container\">\n",
              "    <button class=\"colab-df-convert\" onclick=\"convertToInteractive('df-54eda2e4-a958-4ceb-bbd2-92c82ec19d2b')\"\n",
              "            title=\"Convert this dataframe to an interactive table.\"\n",
              "            style=\"display:none;\">\n",
              "\n",
              "  <svg xmlns=\"http://www.w3.org/2000/svg\" height=\"24px\" viewBox=\"0 -960 960 960\">\n",
              "    <path d=\"M120-120v-720h720v720H120Zm60-500h600v-160H180v160Zm220 220h160v-160H400v160Zm0 220h160v-160H400v160ZM180-400h160v-160H180v160Zm440 0h160v-160H620v160ZM180-180h160v-160H180v160Zm440 0h160v-160H620v160Z\"/>\n",
              "  </svg>\n",
              "    </button>\n",
              "\n",
              "  <style>\n",
              "    .colab-df-container {\n",
              "      display:flex;\n",
              "      gap: 12px;\n",
              "    }\n",
              "\n",
              "    .colab-df-convert {\n",
              "      background-color: #E8F0FE;\n",
              "      border: none;\n",
              "      border-radius: 50%;\n",
              "      cursor: pointer;\n",
              "      display: none;\n",
              "      fill: #1967D2;\n",
              "      height: 32px;\n",
              "      padding: 0 0 0 0;\n",
              "      width: 32px;\n",
              "    }\n",
              "\n",
              "    .colab-df-convert:hover {\n",
              "      background-color: #E2EBFA;\n",
              "      box-shadow: 0px 1px 2px rgba(60, 64, 67, 0.3), 0px 1px 3px 1px rgba(60, 64, 67, 0.15);\n",
              "      fill: #174EA6;\n",
              "    }\n",
              "\n",
              "    .colab-df-buttons div {\n",
              "      margin-bottom: 4px;\n",
              "    }\n",
              "\n",
              "    [theme=dark] .colab-df-convert {\n",
              "      background-color: #3B4455;\n",
              "      fill: #D2E3FC;\n",
              "    }\n",
              "\n",
              "    [theme=dark] .colab-df-convert:hover {\n",
              "      background-color: #434B5C;\n",
              "      box-shadow: 0px 1px 3px 1px rgba(0, 0, 0, 0.15);\n",
              "      filter: drop-shadow(0px 1px 2px rgba(0, 0, 0, 0.3));\n",
              "      fill: #FFFFFF;\n",
              "    }\n",
              "  </style>\n",
              "\n",
              "    <script>\n",
              "      const buttonEl =\n",
              "        document.querySelector('#df-54eda2e4-a958-4ceb-bbd2-92c82ec19d2b button.colab-df-convert');\n",
              "      buttonEl.style.display =\n",
              "        google.colab.kernel.accessAllowed ? 'block' : 'none';\n",
              "\n",
              "      async function convertToInteractive(key) {\n",
              "        const element = document.querySelector('#df-54eda2e4-a958-4ceb-bbd2-92c82ec19d2b');\n",
              "        const dataTable =\n",
              "          await google.colab.kernel.invokeFunction('convertToInteractive',\n",
              "                                                    [key], {});\n",
              "        if (!dataTable) return;\n",
              "\n",
              "        const docLinkHtml = 'Like what you see? Visit the ' +\n",
              "          '<a target=\"_blank\" href=https://colab.research.google.com/notebooks/data_table.ipynb>data table notebook</a>'\n",
              "          + ' to learn more about interactive tables.';\n",
              "        element.innerHTML = '';\n",
              "        dataTable['output_type'] = 'display_data';\n",
              "        await google.colab.output.renderOutput(dataTable, element);\n",
              "        const docLink = document.createElement('div');\n",
              "        docLink.innerHTML = docLinkHtml;\n",
              "        element.appendChild(docLink);\n",
              "      }\n",
              "    </script>\n",
              "  </div>\n",
              "\n",
              "\n",
              "<div id=\"df-25a2217b-0510-4639-930d-792b6be2172d\">\n",
              "  <button class=\"colab-df-quickchart\" onclick=\"quickchart('df-25a2217b-0510-4639-930d-792b6be2172d')\"\n",
              "            title=\"Suggest charts.\"\n",
              "            style=\"display:none;\">\n",
              "\n",
              "<svg xmlns=\"http://www.w3.org/2000/svg\" height=\"24px\"viewBox=\"0 0 24 24\"\n",
              "     width=\"24px\">\n",
              "    <g>\n",
              "        <path d=\"M19 3H5c-1.1 0-2 .9-2 2v14c0 1.1.9 2 2 2h14c1.1 0 2-.9 2-2V5c0-1.1-.9-2-2-2zM9 17H7v-7h2v7zm4 0h-2V7h2v10zm4 0h-2v-4h2v4z\"/>\n",
              "    </g>\n",
              "</svg>\n",
              "  </button>\n",
              "\n",
              "<style>\n",
              "  .colab-df-quickchart {\n",
              "      --bg-color: #E8F0FE;\n",
              "      --fill-color: #1967D2;\n",
              "      --hover-bg-color: #E2EBFA;\n",
              "      --hover-fill-color: #174EA6;\n",
              "      --disabled-fill-color: #AAA;\n",
              "      --disabled-bg-color: #DDD;\n",
              "  }\n",
              "\n",
              "  [theme=dark] .colab-df-quickchart {\n",
              "      --bg-color: #3B4455;\n",
              "      --fill-color: #D2E3FC;\n",
              "      --hover-bg-color: #434B5C;\n",
              "      --hover-fill-color: #FFFFFF;\n",
              "      --disabled-bg-color: #3B4455;\n",
              "      --disabled-fill-color: #666;\n",
              "  }\n",
              "\n",
              "  .colab-df-quickchart {\n",
              "    background-color: var(--bg-color);\n",
              "    border: none;\n",
              "    border-radius: 50%;\n",
              "    cursor: pointer;\n",
              "    display: none;\n",
              "    fill: var(--fill-color);\n",
              "    height: 32px;\n",
              "    padding: 0;\n",
              "    width: 32px;\n",
              "  }\n",
              "\n",
              "  .colab-df-quickchart:hover {\n",
              "    background-color: var(--hover-bg-color);\n",
              "    box-shadow: 0 1px 2px rgba(60, 64, 67, 0.3), 0 1px 3px 1px rgba(60, 64, 67, 0.15);\n",
              "    fill: var(--button-hover-fill-color);\n",
              "  }\n",
              "\n",
              "  .colab-df-quickchart-complete:disabled,\n",
              "  .colab-df-quickchart-complete:disabled:hover {\n",
              "    background-color: var(--disabled-bg-color);\n",
              "    fill: var(--disabled-fill-color);\n",
              "    box-shadow: none;\n",
              "  }\n",
              "\n",
              "  .colab-df-spinner {\n",
              "    border: 2px solid var(--fill-color);\n",
              "    border-color: transparent;\n",
              "    border-bottom-color: var(--fill-color);\n",
              "    animation:\n",
              "      spin 1s steps(1) infinite;\n",
              "  }\n",
              "\n",
              "  @keyframes spin {\n",
              "    0% {\n",
              "      border-color: transparent;\n",
              "      border-bottom-color: var(--fill-color);\n",
              "      border-left-color: var(--fill-color);\n",
              "    }\n",
              "    20% {\n",
              "      border-color: transparent;\n",
              "      border-left-color: var(--fill-color);\n",
              "      border-top-color: var(--fill-color);\n",
              "    }\n",
              "    30% {\n",
              "      border-color: transparent;\n",
              "      border-left-color: var(--fill-color);\n",
              "      border-top-color: var(--fill-color);\n",
              "      border-right-color: var(--fill-color);\n",
              "    }\n",
              "    40% {\n",
              "      border-color: transparent;\n",
              "      border-right-color: var(--fill-color);\n",
              "      border-top-color: var(--fill-color);\n",
              "    }\n",
              "    60% {\n",
              "      border-color: transparent;\n",
              "      border-right-color: var(--fill-color);\n",
              "    }\n",
              "    80% {\n",
              "      border-color: transparent;\n",
              "      border-right-color: var(--fill-color);\n",
              "      border-bottom-color: var(--fill-color);\n",
              "    }\n",
              "    90% {\n",
              "      border-color: transparent;\n",
              "      border-bottom-color: var(--fill-color);\n",
              "    }\n",
              "  }\n",
              "</style>\n",
              "\n",
              "  <script>\n",
              "    async function quickchart(key) {\n",
              "      const quickchartButtonEl =\n",
              "        document.querySelector('#' + key + ' button');\n",
              "      quickchartButtonEl.disabled = true;  // To prevent multiple clicks.\n",
              "      quickchartButtonEl.classList.add('colab-df-spinner');\n",
              "      try {\n",
              "        const charts = await google.colab.kernel.invokeFunction(\n",
              "            'suggestCharts', [key], {});\n",
              "      } catch (error) {\n",
              "        console.error('Error during call to suggestCharts:', error);\n",
              "      }\n",
              "      quickchartButtonEl.classList.remove('colab-df-spinner');\n",
              "      quickchartButtonEl.classList.add('colab-df-quickchart-complete');\n",
              "    }\n",
              "    (() => {\n",
              "      let quickchartButtonEl =\n",
              "        document.querySelector('#df-25a2217b-0510-4639-930d-792b6be2172d button');\n",
              "      quickchartButtonEl.style.display =\n",
              "        google.colab.kernel.accessAllowed ? 'block' : 'none';\n",
              "    })();\n",
              "  </script>\n",
              "</div>\n",
              "    </div>\n",
              "  </div>\n"
            ]
          },
          "metadata": {},
          "execution_count": 18
        }
      ]
    },
    {
      "cell_type": "code",
      "source": [
        "string_counts = {string: list(input_data['AgeRange']).count(string) for string in set(input_data['AgeRange'])}\n",
        "string_counts"
      ],
      "metadata": {
        "colab": {
          "base_uri": "https://localhost:8080/"
        },
        "id": "AXQdS1iveU7j",
        "outputId": "0ccd3544-e9fa-48cb-8ebc-91ee268e583d"
      },
      "execution_count": null,
      "outputs": [
        {
          "output_type": "execute_result",
          "data": {
            "text/plain": [
              "{'19-30': 1946, '61-100': 464, '0-18': 22, '46-60': 1647, '31-45': 5921}"
            ]
          },
          "metadata": {},
          "execution_count": 19
        }
      ]
    },
    {
      "cell_type": "code",
      "source": [
        "pie_chart(input_list=input_data[\"AgeRange\"], chart_title=\"Customers & AgeRange\")\n",
        "# update_layout_plot()\n",
        "fig.write_image(\"customers_age.png\", format=\"png\")"
      ],
      "metadata": {
        "colab": {
          "base_uri": "https://localhost:8080/",
          "height": 542
        },
        "id": "dKrgghPBfMc5",
        "outputId": "31c614f9-ef0e-43cf-8a44-bc98a2794527"
      },
      "execution_count": null,
      "outputs": [
        {
          "output_type": "display_data",
          "data": {
            "text/html": [
              "<html>\n",
              "<head><meta charset=\"utf-8\" /></head>\n",
              "<body>\n",
              "    <div>            <script src=\"https://cdnjs.cloudflare.com/ajax/libs/mathjax/2.7.5/MathJax.js?config=TeX-AMS-MML_SVG\"></script><script type=\"text/javascript\">if (window.MathJax && window.MathJax.Hub && window.MathJax.Hub.Config) {window.MathJax.Hub.Config({SVG: {font: \"STIX-Web\"}});}</script>                <script type=\"text/javascript\">window.PlotlyConfig = {MathJaxConfig: 'local'};</script>\n",
              "        <script charset=\"utf-8\" src=\"https://cdn.plot.ly/plotly-2.24.1.min.js\"></script>                <div id=\"0d21c51c-2113-4177-865d-e08658b3176f\" class=\"plotly-graph-div\" style=\"height:525px; width:100%;\"></div>            <script type=\"text/javascript\">                                    window.PLOTLYENV=window.PLOTLYENV || {};                                    if (document.getElementById(\"0d21c51c-2113-4177-865d-e08658b3176f\")) {                    Plotly.newPlot(                        \"0d21c51c-2113-4177-865d-e08658b3176f\",                        [{\"domain\":{\"x\":[0.0,1.0],\"y\":[0.0,1.0]},\"hovertemplate\":\"Category=%{label}\\u003cbr\\u003eCount=%{value}\\u003cextra\\u003e\\u003c\\u002fextra\\u003e\",\"labels\":[\"31-45\",\"46-60\",\"19-30\",\"61-100\",\"0-18\"],\"legendgroup\":\"\",\"name\":\"\",\"showlegend\":true,\"values\":[5921,1647,1946,464,22],\"type\":\"pie\",\"textinfo\":\"percent+label\"}],                        {\"template\":{\"data\":{\"histogram2dcontour\":[{\"type\":\"histogram2dcontour\",\"colorbar\":{\"outlinewidth\":0,\"ticks\":\"\"},\"colorscale\":[[0.0,\"#0d0887\"],[0.1111111111111111,\"#46039f\"],[0.2222222222222222,\"#7201a8\"],[0.3333333333333333,\"#9c179e\"],[0.4444444444444444,\"#bd3786\"],[0.5555555555555556,\"#d8576b\"],[0.6666666666666666,\"#ed7953\"],[0.7777777777777778,\"#fb9f3a\"],[0.8888888888888888,\"#fdca26\"],[1.0,\"#f0f921\"]]}],\"choropleth\":[{\"type\":\"choropleth\",\"colorbar\":{\"outlinewidth\":0,\"ticks\":\"\"}}],\"histogram2d\":[{\"type\":\"histogram2d\",\"colorbar\":{\"outlinewidth\":0,\"ticks\":\"\"},\"colorscale\":[[0.0,\"#0d0887\"],[0.1111111111111111,\"#46039f\"],[0.2222222222222222,\"#7201a8\"],[0.3333333333333333,\"#9c179e\"],[0.4444444444444444,\"#bd3786\"],[0.5555555555555556,\"#d8576b\"],[0.6666666666666666,\"#ed7953\"],[0.7777777777777778,\"#fb9f3a\"],[0.8888888888888888,\"#fdca26\"],[1.0,\"#f0f921\"]]}],\"heatmap\":[{\"type\":\"heatmap\",\"colorbar\":{\"outlinewidth\":0,\"ticks\":\"\"},\"colorscale\":[[0.0,\"#0d0887\"],[0.1111111111111111,\"#46039f\"],[0.2222222222222222,\"#7201a8\"],[0.3333333333333333,\"#9c179e\"],[0.4444444444444444,\"#bd3786\"],[0.5555555555555556,\"#d8576b\"],[0.6666666666666666,\"#ed7953\"],[0.7777777777777778,\"#fb9f3a\"],[0.8888888888888888,\"#fdca26\"],[1.0,\"#f0f921\"]]}],\"heatmapgl\":[{\"type\":\"heatmapgl\",\"colorbar\":{\"outlinewidth\":0,\"ticks\":\"\"},\"colorscale\":[[0.0,\"#0d0887\"],[0.1111111111111111,\"#46039f\"],[0.2222222222222222,\"#7201a8\"],[0.3333333333333333,\"#9c179e\"],[0.4444444444444444,\"#bd3786\"],[0.5555555555555556,\"#d8576b\"],[0.6666666666666666,\"#ed7953\"],[0.7777777777777778,\"#fb9f3a\"],[0.8888888888888888,\"#fdca26\"],[1.0,\"#f0f921\"]]}],\"contourcarpet\":[{\"type\":\"contourcarpet\",\"colorbar\":{\"outlinewidth\":0,\"ticks\":\"\"}}],\"contour\":[{\"type\":\"contour\",\"colorbar\":{\"outlinewidth\":0,\"ticks\":\"\"},\"colorscale\":[[0.0,\"#0d0887\"],[0.1111111111111111,\"#46039f\"],[0.2222222222222222,\"#7201a8\"],[0.3333333333333333,\"#9c179e\"],[0.4444444444444444,\"#bd3786\"],[0.5555555555555556,\"#d8576b\"],[0.6666666666666666,\"#ed7953\"],[0.7777777777777778,\"#fb9f3a\"],[0.8888888888888888,\"#fdca26\"],[1.0,\"#f0f921\"]]}],\"surface\":[{\"type\":\"surface\",\"colorbar\":{\"outlinewidth\":0,\"ticks\":\"\"},\"colorscale\":[[0.0,\"#0d0887\"],[0.1111111111111111,\"#46039f\"],[0.2222222222222222,\"#7201a8\"],[0.3333333333333333,\"#9c179e\"],[0.4444444444444444,\"#bd3786\"],[0.5555555555555556,\"#d8576b\"],[0.6666666666666666,\"#ed7953\"],[0.7777777777777778,\"#fb9f3a\"],[0.8888888888888888,\"#fdca26\"],[1.0,\"#f0f921\"]]}],\"mesh3d\":[{\"type\":\"mesh3d\",\"colorbar\":{\"outlinewidth\":0,\"ticks\":\"\"}}],\"scatter\":[{\"fillpattern\":{\"fillmode\":\"overlay\",\"size\":10,\"solidity\":0.2},\"type\":\"scatter\"}],\"parcoords\":[{\"type\":\"parcoords\",\"line\":{\"colorbar\":{\"outlinewidth\":0,\"ticks\":\"\"}}}],\"scatterpolargl\":[{\"type\":\"scatterpolargl\",\"marker\":{\"colorbar\":{\"outlinewidth\":0,\"ticks\":\"\"}}}],\"bar\":[{\"error_x\":{\"color\":\"#2a3f5f\"},\"error_y\":{\"color\":\"#2a3f5f\"},\"marker\":{\"line\":{\"color\":\"#E5ECF6\",\"width\":0.5},\"pattern\":{\"fillmode\":\"overlay\",\"size\":10,\"solidity\":0.2}},\"type\":\"bar\"}],\"scattergeo\":[{\"type\":\"scattergeo\",\"marker\":{\"colorbar\":{\"outlinewidth\":0,\"ticks\":\"\"}}}],\"scatterpolar\":[{\"type\":\"scatterpolar\",\"marker\":{\"colorbar\":{\"outlinewidth\":0,\"ticks\":\"\"}}}],\"histogram\":[{\"marker\":{\"pattern\":{\"fillmode\":\"overlay\",\"size\":10,\"solidity\":0.2}},\"type\":\"histogram\"}],\"scattergl\":[{\"type\":\"scattergl\",\"marker\":{\"colorbar\":{\"outlinewidth\":0,\"ticks\":\"\"}}}],\"scatter3d\":[{\"type\":\"scatter3d\",\"line\":{\"colorbar\":{\"outlinewidth\":0,\"ticks\":\"\"}},\"marker\":{\"colorbar\":{\"outlinewidth\":0,\"ticks\":\"\"}}}],\"scattermapbox\":[{\"type\":\"scattermapbox\",\"marker\":{\"colorbar\":{\"outlinewidth\":0,\"ticks\":\"\"}}}],\"scatterternary\":[{\"type\":\"scatterternary\",\"marker\":{\"colorbar\":{\"outlinewidth\":0,\"ticks\":\"\"}}}],\"scattercarpet\":[{\"type\":\"scattercarpet\",\"marker\":{\"colorbar\":{\"outlinewidth\":0,\"ticks\":\"\"}}}],\"carpet\":[{\"aaxis\":{\"endlinecolor\":\"#2a3f5f\",\"gridcolor\":\"white\",\"linecolor\":\"white\",\"minorgridcolor\":\"white\",\"startlinecolor\":\"#2a3f5f\"},\"baxis\":{\"endlinecolor\":\"#2a3f5f\",\"gridcolor\":\"white\",\"linecolor\":\"white\",\"minorgridcolor\":\"white\",\"startlinecolor\":\"#2a3f5f\"},\"type\":\"carpet\"}],\"table\":[{\"cells\":{\"fill\":{\"color\":\"#EBF0F8\"},\"line\":{\"color\":\"white\"}},\"header\":{\"fill\":{\"color\":\"#C8D4E3\"},\"line\":{\"color\":\"white\"}},\"type\":\"table\"}],\"barpolar\":[{\"marker\":{\"line\":{\"color\":\"#E5ECF6\",\"width\":0.5},\"pattern\":{\"fillmode\":\"overlay\",\"size\":10,\"solidity\":0.2}},\"type\":\"barpolar\"}],\"pie\":[{\"automargin\":true,\"type\":\"pie\"}]},\"layout\":{\"autotypenumbers\":\"strict\",\"colorway\":[\"#636efa\",\"#EF553B\",\"#00cc96\",\"#ab63fa\",\"#FFA15A\",\"#19d3f3\",\"#FF6692\",\"#B6E880\",\"#FF97FF\",\"#FECB52\"],\"font\":{\"color\":\"#2a3f5f\"},\"hovermode\":\"closest\",\"hoverlabel\":{\"align\":\"left\"},\"paper_bgcolor\":\"white\",\"plot_bgcolor\":\"#E5ECF6\",\"polar\":{\"bgcolor\":\"#E5ECF6\",\"angularaxis\":{\"gridcolor\":\"white\",\"linecolor\":\"white\",\"ticks\":\"\"},\"radialaxis\":{\"gridcolor\":\"white\",\"linecolor\":\"white\",\"ticks\":\"\"}},\"ternary\":{\"bgcolor\":\"#E5ECF6\",\"aaxis\":{\"gridcolor\":\"white\",\"linecolor\":\"white\",\"ticks\":\"\"},\"baxis\":{\"gridcolor\":\"white\",\"linecolor\":\"white\",\"ticks\":\"\"},\"caxis\":{\"gridcolor\":\"white\",\"linecolor\":\"white\",\"ticks\":\"\"}},\"coloraxis\":{\"colorbar\":{\"outlinewidth\":0,\"ticks\":\"\"}},\"colorscale\":{\"sequential\":[[0.0,\"#0d0887\"],[0.1111111111111111,\"#46039f\"],[0.2222222222222222,\"#7201a8\"],[0.3333333333333333,\"#9c179e\"],[0.4444444444444444,\"#bd3786\"],[0.5555555555555556,\"#d8576b\"],[0.6666666666666666,\"#ed7953\"],[0.7777777777777778,\"#fb9f3a\"],[0.8888888888888888,\"#fdca26\"],[1.0,\"#f0f921\"]],\"sequentialminus\":[[0.0,\"#0d0887\"],[0.1111111111111111,\"#46039f\"],[0.2222222222222222,\"#7201a8\"],[0.3333333333333333,\"#9c179e\"],[0.4444444444444444,\"#bd3786\"],[0.5555555555555556,\"#d8576b\"],[0.6666666666666666,\"#ed7953\"],[0.7777777777777778,\"#fb9f3a\"],[0.8888888888888888,\"#fdca26\"],[1.0,\"#f0f921\"]],\"diverging\":[[0,\"#8e0152\"],[0.1,\"#c51b7d\"],[0.2,\"#de77ae\"],[0.3,\"#f1b6da\"],[0.4,\"#fde0ef\"],[0.5,\"#f7f7f7\"],[0.6,\"#e6f5d0\"],[0.7,\"#b8e186\"],[0.8,\"#7fbc41\"],[0.9,\"#4d9221\"],[1,\"#276419\"]]},\"xaxis\":{\"gridcolor\":\"white\",\"linecolor\":\"white\",\"ticks\":\"\",\"title\":{\"standoff\":15},\"zerolinecolor\":\"white\",\"automargin\":true,\"zerolinewidth\":2},\"yaxis\":{\"gridcolor\":\"white\",\"linecolor\":\"white\",\"ticks\":\"\",\"title\":{\"standoff\":15},\"zerolinecolor\":\"white\",\"automargin\":true,\"zerolinewidth\":2},\"scene\":{\"xaxis\":{\"backgroundcolor\":\"#E5ECF6\",\"gridcolor\":\"white\",\"linecolor\":\"white\",\"showbackground\":true,\"ticks\":\"\",\"zerolinecolor\":\"white\",\"gridwidth\":2},\"yaxis\":{\"backgroundcolor\":\"#E5ECF6\",\"gridcolor\":\"white\",\"linecolor\":\"white\",\"showbackground\":true,\"ticks\":\"\",\"zerolinecolor\":\"white\",\"gridwidth\":2},\"zaxis\":{\"backgroundcolor\":\"#E5ECF6\",\"gridcolor\":\"white\",\"linecolor\":\"white\",\"showbackground\":true,\"ticks\":\"\",\"zerolinecolor\":\"white\",\"gridwidth\":2}},\"shapedefaults\":{\"line\":{\"color\":\"#2a3f5f\"}},\"annotationdefaults\":{\"arrowcolor\":\"#2a3f5f\",\"arrowhead\":0,\"arrowwidth\":1},\"geo\":{\"bgcolor\":\"white\",\"landcolor\":\"#E5ECF6\",\"subunitcolor\":\"white\",\"showland\":true,\"showlakes\":true,\"lakecolor\":\"white\"},\"title\":{\"x\":0.05},\"mapbox\":{\"style\":\"light\"}}},\"legend\":{\"tracegroupgap\":0},\"title\":{\"text\":\"Customers & AgeRange\"}},                        {\"responsive\": true}                    ).then(function(){\n",
              "                            \n",
              "var gd = document.getElementById('0d21c51c-2113-4177-865d-e08658b3176f');\n",
              "var x = new MutationObserver(function (mutations, observer) {{\n",
              "        var display = window.getComputedStyle(gd).display;\n",
              "        if (!display || display === 'none') {{\n",
              "            console.log([gd, 'removed!']);\n",
              "            Plotly.purge(gd);\n",
              "            observer.disconnect();\n",
              "        }}\n",
              "}});\n",
              "\n",
              "// Listen for the removal of the full notebook cells\n",
              "var notebookContainer = gd.closest('#notebook-container');\n",
              "if (notebookContainer) {{\n",
              "    x.observe(notebookContainer, {childList: true});\n",
              "}}\n",
              "\n",
              "// Listen for the clearing of the current output cell\n",
              "var outputEl = gd.closest('.output');\n",
              "if (outputEl) {{\n",
              "    x.observe(outputEl, {childList: true});\n",
              "}}\n",
              "\n",
              "                        })                };                            </script>        </div>\n",
              "</body>\n",
              "</html>"
            ]
          },
          "metadata": {}
        }
      ]
    },
    {
      "cell_type": "code",
      "source": [
        "def exited_feature(feature:str):\n",
        "  group_counts = input_data.groupby([feature, 'Exited']).size().unstack(fill_value=0)\n",
        "  group_counts['Stayed'] = (group_counts[0] / (group_counts[0] + group_counts[1])) * 100\n",
        "  group_counts['Exited'] = (group_counts[1] / (group_counts[0] + group_counts[1])) * 100\n",
        "\n",
        "  fig = px.bar(group_counts.reset_index(), x=feature, y=['Stayed', 'Exited'], title=f'Percentage of exited by {feature}')\n",
        "\n",
        "  fig.update_traces(\n",
        "      text=round(group_counts['Stayed'],2),\n",
        "      textposition='inside',\n",
        "      selector=dict(name='Stayed')\n",
        "  )\n",
        "  fig.update_traces(\n",
        "      text=round(group_counts['Exited'],2),\n",
        "      textposition='inside',\n",
        "      selector=dict(name='Exited')\n",
        "  )\n",
        "\n",
        "  fig.update_layout(barmode='stack')\n",
        "  fig.update_xaxes(title_text=feature)\n",
        "  fig.update_yaxes(title_text='Percentage')\n",
        "\n",
        "  return fig"
      ],
      "metadata": {
        "id": "vvPrdzki20yH"
      },
      "execution_count": null,
      "outputs": []
    },
    {
      "cell_type": "code",
      "source": [
        "fig = exited_feature(feature=\"AgeRange\")\n",
        "# update_layout_plot()\n",
        "fig.show()\n",
        "fig.write_image(\"exited_age.png\", format=\"png\")"
      ],
      "metadata": {
        "colab": {
          "base_uri": "https://localhost:8080/",
          "height": 542
        },
        "id": "ZrcjMSok3Ysz",
        "outputId": "e9fc8e1b-c7d5-47d2-ba72-da4c55528bdf"
      },
      "execution_count": null,
      "outputs": [
        {
          "output_type": "display_data",
          "data": {
            "text/html": [
              "<html>\n",
              "<head><meta charset=\"utf-8\" /></head>\n",
              "<body>\n",
              "    <div>            <script src=\"https://cdnjs.cloudflare.com/ajax/libs/mathjax/2.7.5/MathJax.js?config=TeX-AMS-MML_SVG\"></script><script type=\"text/javascript\">if (window.MathJax && window.MathJax.Hub && window.MathJax.Hub.Config) {window.MathJax.Hub.Config({SVG: {font: \"STIX-Web\"}});}</script>                <script type=\"text/javascript\">window.PlotlyConfig = {MathJaxConfig: 'local'};</script>\n",
              "        <script charset=\"utf-8\" src=\"https://cdn.plot.ly/plotly-2.24.1.min.js\"></script>                <div id=\"7c5314f6-eb37-41cd-b3e6-411d4f9c0475\" class=\"plotly-graph-div\" style=\"height:525px; width:100%;\"></div>            <script type=\"text/javascript\">                                    window.PLOTLYENV=window.PLOTLYENV || {};                                    if (document.getElementById(\"7c5314f6-eb37-41cd-b3e6-411d4f9c0475\")) {                    Plotly.newPlot(                        \"7c5314f6-eb37-41cd-b3e6-411d4f9c0475\",                        [{\"alignmentgroup\":\"True\",\"hovertemplate\":\"variable=Stayed\\u003cbr\\u003eAgeRange=%{x}\\u003cbr\\u003evalue=%{y}\\u003cextra\\u003e\\u003c\\u002fextra\\u003e\",\"legendgroup\":\"Stayed\",\"marker\":{\"color\":\"#636efa\",\"pattern\":{\"shape\":\"\"}},\"name\":\"Stayed\",\"offsetgroup\":\"Stayed\",\"orientation\":\"v\",\"showlegend\":true,\"textposition\":\"inside\",\"x\":[\"0-18\",\"19-30\",\"31-45\",\"46-60\",\"61-100\"],\"xaxis\":\"x\",\"y\":[90.9090909090909,92.49743062692704,84.25941563925012,48.87674559805708,75.21551724137932],\"yaxis\":\"y\",\"type\":\"bar\",\"text\":[90.91,92.5,84.26,48.88,75.22]},{\"alignmentgroup\":\"True\",\"hovertemplate\":\"variable=Exited\\u003cbr\\u003eAgeRange=%{x}\\u003cbr\\u003evalue=%{y}\\u003cextra\\u003e\\u003c\\u002fextra\\u003e\",\"legendgroup\":\"Exited\",\"marker\":{\"color\":\"#EF553B\",\"pattern\":{\"shape\":\"\"}},\"name\":\"Exited\",\"offsetgroup\":\"Exited\",\"orientation\":\"v\",\"showlegend\":true,\"textposition\":\"inside\",\"x\":[\"0-18\",\"19-30\",\"31-45\",\"46-60\",\"61-100\"],\"xaxis\":\"x\",\"y\":[9.090909090909092,7.50256937307297,15.740584360749873,51.12325440194293,24.78448275862069],\"yaxis\":\"y\",\"type\":\"bar\",\"text\":[9.09,7.5,15.74,51.12,24.78]}],                        {\"template\":{\"data\":{\"histogram2dcontour\":[{\"type\":\"histogram2dcontour\",\"colorbar\":{\"outlinewidth\":0,\"ticks\":\"\"},\"colorscale\":[[0.0,\"#0d0887\"],[0.1111111111111111,\"#46039f\"],[0.2222222222222222,\"#7201a8\"],[0.3333333333333333,\"#9c179e\"],[0.4444444444444444,\"#bd3786\"],[0.5555555555555556,\"#d8576b\"],[0.6666666666666666,\"#ed7953\"],[0.7777777777777778,\"#fb9f3a\"],[0.8888888888888888,\"#fdca26\"],[1.0,\"#f0f921\"]]}],\"choropleth\":[{\"type\":\"choropleth\",\"colorbar\":{\"outlinewidth\":0,\"ticks\":\"\"}}],\"histogram2d\":[{\"type\":\"histogram2d\",\"colorbar\":{\"outlinewidth\":0,\"ticks\":\"\"},\"colorscale\":[[0.0,\"#0d0887\"],[0.1111111111111111,\"#46039f\"],[0.2222222222222222,\"#7201a8\"],[0.3333333333333333,\"#9c179e\"],[0.4444444444444444,\"#bd3786\"],[0.5555555555555556,\"#d8576b\"],[0.6666666666666666,\"#ed7953\"],[0.7777777777777778,\"#fb9f3a\"],[0.8888888888888888,\"#fdca26\"],[1.0,\"#f0f921\"]]}],\"heatmap\":[{\"type\":\"heatmap\",\"colorbar\":{\"outlinewidth\":0,\"ticks\":\"\"},\"colorscale\":[[0.0,\"#0d0887\"],[0.1111111111111111,\"#46039f\"],[0.2222222222222222,\"#7201a8\"],[0.3333333333333333,\"#9c179e\"],[0.4444444444444444,\"#bd3786\"],[0.5555555555555556,\"#d8576b\"],[0.6666666666666666,\"#ed7953\"],[0.7777777777777778,\"#fb9f3a\"],[0.8888888888888888,\"#fdca26\"],[1.0,\"#f0f921\"]]}],\"heatmapgl\":[{\"type\":\"heatmapgl\",\"colorbar\":{\"outlinewidth\":0,\"ticks\":\"\"},\"colorscale\":[[0.0,\"#0d0887\"],[0.1111111111111111,\"#46039f\"],[0.2222222222222222,\"#7201a8\"],[0.3333333333333333,\"#9c179e\"],[0.4444444444444444,\"#bd3786\"],[0.5555555555555556,\"#d8576b\"],[0.6666666666666666,\"#ed7953\"],[0.7777777777777778,\"#fb9f3a\"],[0.8888888888888888,\"#fdca26\"],[1.0,\"#f0f921\"]]}],\"contourcarpet\":[{\"type\":\"contourcarpet\",\"colorbar\":{\"outlinewidth\":0,\"ticks\":\"\"}}],\"contour\":[{\"type\":\"contour\",\"colorbar\":{\"outlinewidth\":0,\"ticks\":\"\"},\"colorscale\":[[0.0,\"#0d0887\"],[0.1111111111111111,\"#46039f\"],[0.2222222222222222,\"#7201a8\"],[0.3333333333333333,\"#9c179e\"],[0.4444444444444444,\"#bd3786\"],[0.5555555555555556,\"#d8576b\"],[0.6666666666666666,\"#ed7953\"],[0.7777777777777778,\"#fb9f3a\"],[0.8888888888888888,\"#fdca26\"],[1.0,\"#f0f921\"]]}],\"surface\":[{\"type\":\"surface\",\"colorbar\":{\"outlinewidth\":0,\"ticks\":\"\"},\"colorscale\":[[0.0,\"#0d0887\"],[0.1111111111111111,\"#46039f\"],[0.2222222222222222,\"#7201a8\"],[0.3333333333333333,\"#9c179e\"],[0.4444444444444444,\"#bd3786\"],[0.5555555555555556,\"#d8576b\"],[0.6666666666666666,\"#ed7953\"],[0.7777777777777778,\"#fb9f3a\"],[0.8888888888888888,\"#fdca26\"],[1.0,\"#f0f921\"]]}],\"mesh3d\":[{\"type\":\"mesh3d\",\"colorbar\":{\"outlinewidth\":0,\"ticks\":\"\"}}],\"scatter\":[{\"fillpattern\":{\"fillmode\":\"overlay\",\"size\":10,\"solidity\":0.2},\"type\":\"scatter\"}],\"parcoords\":[{\"type\":\"parcoords\",\"line\":{\"colorbar\":{\"outlinewidth\":0,\"ticks\":\"\"}}}],\"scatterpolargl\":[{\"type\":\"scatterpolargl\",\"marker\":{\"colorbar\":{\"outlinewidth\":0,\"ticks\":\"\"}}}],\"bar\":[{\"error_x\":{\"color\":\"#2a3f5f\"},\"error_y\":{\"color\":\"#2a3f5f\"},\"marker\":{\"line\":{\"color\":\"#E5ECF6\",\"width\":0.5},\"pattern\":{\"fillmode\":\"overlay\",\"size\":10,\"solidity\":0.2}},\"type\":\"bar\"}],\"scattergeo\":[{\"type\":\"scattergeo\",\"marker\":{\"colorbar\":{\"outlinewidth\":0,\"ticks\":\"\"}}}],\"scatterpolar\":[{\"type\":\"scatterpolar\",\"marker\":{\"colorbar\":{\"outlinewidth\":0,\"ticks\":\"\"}}}],\"histogram\":[{\"marker\":{\"pattern\":{\"fillmode\":\"overlay\",\"size\":10,\"solidity\":0.2}},\"type\":\"histogram\"}],\"scattergl\":[{\"type\":\"scattergl\",\"marker\":{\"colorbar\":{\"outlinewidth\":0,\"ticks\":\"\"}}}],\"scatter3d\":[{\"type\":\"scatter3d\",\"line\":{\"colorbar\":{\"outlinewidth\":0,\"ticks\":\"\"}},\"marker\":{\"colorbar\":{\"outlinewidth\":0,\"ticks\":\"\"}}}],\"scattermapbox\":[{\"type\":\"scattermapbox\",\"marker\":{\"colorbar\":{\"outlinewidth\":0,\"ticks\":\"\"}}}],\"scatterternary\":[{\"type\":\"scatterternary\",\"marker\":{\"colorbar\":{\"outlinewidth\":0,\"ticks\":\"\"}}}],\"scattercarpet\":[{\"type\":\"scattercarpet\",\"marker\":{\"colorbar\":{\"outlinewidth\":0,\"ticks\":\"\"}}}],\"carpet\":[{\"aaxis\":{\"endlinecolor\":\"#2a3f5f\",\"gridcolor\":\"white\",\"linecolor\":\"white\",\"minorgridcolor\":\"white\",\"startlinecolor\":\"#2a3f5f\"},\"baxis\":{\"endlinecolor\":\"#2a3f5f\",\"gridcolor\":\"white\",\"linecolor\":\"white\",\"minorgridcolor\":\"white\",\"startlinecolor\":\"#2a3f5f\"},\"type\":\"carpet\"}],\"table\":[{\"cells\":{\"fill\":{\"color\":\"#EBF0F8\"},\"line\":{\"color\":\"white\"}},\"header\":{\"fill\":{\"color\":\"#C8D4E3\"},\"line\":{\"color\":\"white\"}},\"type\":\"table\"}],\"barpolar\":[{\"marker\":{\"line\":{\"color\":\"#E5ECF6\",\"width\":0.5},\"pattern\":{\"fillmode\":\"overlay\",\"size\":10,\"solidity\":0.2}},\"type\":\"barpolar\"}],\"pie\":[{\"automargin\":true,\"type\":\"pie\"}]},\"layout\":{\"autotypenumbers\":\"strict\",\"colorway\":[\"#636efa\",\"#EF553B\",\"#00cc96\",\"#ab63fa\",\"#FFA15A\",\"#19d3f3\",\"#FF6692\",\"#B6E880\",\"#FF97FF\",\"#FECB52\"],\"font\":{\"color\":\"#2a3f5f\"},\"hovermode\":\"closest\",\"hoverlabel\":{\"align\":\"left\"},\"paper_bgcolor\":\"white\",\"plot_bgcolor\":\"#E5ECF6\",\"polar\":{\"bgcolor\":\"#E5ECF6\",\"angularaxis\":{\"gridcolor\":\"white\",\"linecolor\":\"white\",\"ticks\":\"\"},\"radialaxis\":{\"gridcolor\":\"white\",\"linecolor\":\"white\",\"ticks\":\"\"}},\"ternary\":{\"bgcolor\":\"#E5ECF6\",\"aaxis\":{\"gridcolor\":\"white\",\"linecolor\":\"white\",\"ticks\":\"\"},\"baxis\":{\"gridcolor\":\"white\",\"linecolor\":\"white\",\"ticks\":\"\"},\"caxis\":{\"gridcolor\":\"white\",\"linecolor\":\"white\",\"ticks\":\"\"}},\"coloraxis\":{\"colorbar\":{\"outlinewidth\":0,\"ticks\":\"\"}},\"colorscale\":{\"sequential\":[[0.0,\"#0d0887\"],[0.1111111111111111,\"#46039f\"],[0.2222222222222222,\"#7201a8\"],[0.3333333333333333,\"#9c179e\"],[0.4444444444444444,\"#bd3786\"],[0.5555555555555556,\"#d8576b\"],[0.6666666666666666,\"#ed7953\"],[0.7777777777777778,\"#fb9f3a\"],[0.8888888888888888,\"#fdca26\"],[1.0,\"#f0f921\"]],\"sequentialminus\":[[0.0,\"#0d0887\"],[0.1111111111111111,\"#46039f\"],[0.2222222222222222,\"#7201a8\"],[0.3333333333333333,\"#9c179e\"],[0.4444444444444444,\"#bd3786\"],[0.5555555555555556,\"#d8576b\"],[0.6666666666666666,\"#ed7953\"],[0.7777777777777778,\"#fb9f3a\"],[0.8888888888888888,\"#fdca26\"],[1.0,\"#f0f921\"]],\"diverging\":[[0,\"#8e0152\"],[0.1,\"#c51b7d\"],[0.2,\"#de77ae\"],[0.3,\"#f1b6da\"],[0.4,\"#fde0ef\"],[0.5,\"#f7f7f7\"],[0.6,\"#e6f5d0\"],[0.7,\"#b8e186\"],[0.8,\"#7fbc41\"],[0.9,\"#4d9221\"],[1,\"#276419\"]]},\"xaxis\":{\"gridcolor\":\"white\",\"linecolor\":\"white\",\"ticks\":\"\",\"title\":{\"standoff\":15},\"zerolinecolor\":\"white\",\"automargin\":true,\"zerolinewidth\":2},\"yaxis\":{\"gridcolor\":\"white\",\"linecolor\":\"white\",\"ticks\":\"\",\"title\":{\"standoff\":15},\"zerolinecolor\":\"white\",\"automargin\":true,\"zerolinewidth\":2},\"scene\":{\"xaxis\":{\"backgroundcolor\":\"#E5ECF6\",\"gridcolor\":\"white\",\"linecolor\":\"white\",\"showbackground\":true,\"ticks\":\"\",\"zerolinecolor\":\"white\",\"gridwidth\":2},\"yaxis\":{\"backgroundcolor\":\"#E5ECF6\",\"gridcolor\":\"white\",\"linecolor\":\"white\",\"showbackground\":true,\"ticks\":\"\",\"zerolinecolor\":\"white\",\"gridwidth\":2},\"zaxis\":{\"backgroundcolor\":\"#E5ECF6\",\"gridcolor\":\"white\",\"linecolor\":\"white\",\"showbackground\":true,\"ticks\":\"\",\"zerolinecolor\":\"white\",\"gridwidth\":2}},\"shapedefaults\":{\"line\":{\"color\":\"#2a3f5f\"}},\"annotationdefaults\":{\"arrowcolor\":\"#2a3f5f\",\"arrowhead\":0,\"arrowwidth\":1},\"geo\":{\"bgcolor\":\"white\",\"landcolor\":\"#E5ECF6\",\"subunitcolor\":\"white\",\"showland\":true,\"showlakes\":true,\"lakecolor\":\"white\"},\"title\":{\"x\":0.05},\"mapbox\":{\"style\":\"light\"}}},\"xaxis\":{\"anchor\":\"y\",\"domain\":[0.0,1.0],\"title\":{\"text\":\"AgeRange\"}},\"yaxis\":{\"anchor\":\"x\",\"domain\":[0.0,1.0],\"title\":{\"text\":\"Percentage\"}},\"legend\":{\"title\":{\"text\":\"variable\"},\"tracegroupgap\":0},\"title\":{\"text\":\"Percentage of exited by AgeRange\"},\"barmode\":\"stack\"},                        {\"responsive\": true}                    ).then(function(){\n",
              "                            \n",
              "var gd = document.getElementById('7c5314f6-eb37-41cd-b3e6-411d4f9c0475');\n",
              "var x = new MutationObserver(function (mutations, observer) {{\n",
              "        var display = window.getComputedStyle(gd).display;\n",
              "        if (!display || display === 'none') {{\n",
              "            console.log([gd, 'removed!']);\n",
              "            Plotly.purge(gd);\n",
              "            observer.disconnect();\n",
              "        }}\n",
              "}});\n",
              "\n",
              "// Listen for the removal of the full notebook cells\n",
              "var notebookContainer = gd.closest('#notebook-container');\n",
              "if (notebookContainer) {{\n",
              "    x.observe(notebookContainer, {childList: true});\n",
              "}}\n",
              "\n",
              "// Listen for the clearing of the current output cell\n",
              "var outputEl = gd.closest('.output');\n",
              "if (outputEl) {{\n",
              "    x.observe(outputEl, {childList: true});\n",
              "}}\n",
              "\n",
              "                        })                };                            </script>        </div>\n",
              "</body>\n",
              "</html>"
            ]
          },
          "metadata": {}
        }
      ]
    },
    {
      "cell_type": "code",
      "source": [
        "import pandas as pd\n",
        "import plotly.express as px\n",
        "\n",
        "\n",
        "df = input_data\n",
        "\n",
        "age_ranges = ['0-18', '19-30', '31-45', '46-60', '61-100']\n",
        "\n",
        "probabilities_label_0 = []\n",
        "probabilities_label_1 = []\n",
        "\n",
        "for specific_age_range in age_ranges:\n",
        "    age_range_mask = df['AgeRange'] == specific_age_range\n",
        "    probability_label_0 = ((df['Exited'] == 0) & age_range_mask).mean()\n",
        "    probability_label_1 = ((df['Exited'] == 1) & age_range_mask).mean()\n",
        "    probabilities_label_0.append(probability_label_0)\n",
        "    probabilities_label_1.append(probability_label_1)\n",
        "\n",
        "label_0_df = pd.DataFrame({'AgeRange': age_ranges, 'Probability': probabilities_label_0, 'Label': 'Stayed'})\n",
        "label_1_df = pd.DataFrame({'AgeRange': age_ranges, 'Probability': probabilities_label_1, 'Label': 'Exited'})\n",
        "\n",
        "\n",
        "combined_df = pd.concat([label_0_df, label_1_df], ignore_index=True)\n",
        "\n",
        "fig = px.bar(combined_df, x='AgeRange', y='Probability', color='Label', text='Probability',\n",
        "             title='Probabilities of Stayed and Exited in Different Age Ranges')\n",
        "\n",
        "fig.update_xaxes(title_text='Age Range')\n",
        "fig.update_yaxes(title_text='Probability')\n",
        "fig.update_traces(texttemplate='%{text:.2%}', textposition='outside')\n",
        "\n",
        "# update_layout_plot()\n",
        "\n",
        "fig.show()\n",
        "fig.write_image(\"fprob_exited_age.png\", format=\"png\")"
      ],
      "metadata": {
        "colab": {
          "base_uri": "https://localhost:8080/",
          "height": 542
        },
        "id": "Meuxo1Cchleh",
        "outputId": "e8713fc6-f075-4187-9ea7-eaf1500e02d4"
      },
      "execution_count": null,
      "outputs": [
        {
          "output_type": "display_data",
          "data": {
            "text/html": [
              "<html>\n",
              "<head><meta charset=\"utf-8\" /></head>\n",
              "<body>\n",
              "    <div>            <script src=\"https://cdnjs.cloudflare.com/ajax/libs/mathjax/2.7.5/MathJax.js?config=TeX-AMS-MML_SVG\"></script><script type=\"text/javascript\">if (window.MathJax && window.MathJax.Hub && window.MathJax.Hub.Config) {window.MathJax.Hub.Config({SVG: {font: \"STIX-Web\"}});}</script>                <script type=\"text/javascript\">window.PlotlyConfig = {MathJaxConfig: 'local'};</script>\n",
              "        <script charset=\"utf-8\" src=\"https://cdn.plot.ly/plotly-2.24.1.min.js\"></script>                <div id=\"a719f3e1-ab3b-4840-b858-07c4657374c0\" class=\"plotly-graph-div\" style=\"height:525px; width:100%;\"></div>            <script type=\"text/javascript\">                                    window.PLOTLYENV=window.PLOTLYENV || {};                                    if (document.getElementById(\"a719f3e1-ab3b-4840-b858-07c4657374c0\")) {                    Plotly.newPlot(                        \"a719f3e1-ab3b-4840-b858-07c4657374c0\",                        [{\"alignmentgroup\":\"True\",\"hovertemplate\":\"Label=Stayed\\u003cbr\\u003eAgeRange=%{x}\\u003cbr\\u003eProbability=%{text}\\u003cextra\\u003e\\u003c\\u002fextra\\u003e\",\"legendgroup\":\"Stayed\",\"marker\":{\"color\":\"#636efa\",\"pattern\":{\"shape\":\"\"}},\"name\":\"Stayed\",\"offsetgroup\":\"Stayed\",\"orientation\":\"v\",\"showlegend\":true,\"text\":[0.002,0.18,0.4989,0.0805,0.0349],\"textposition\":\"outside\",\"x\":[\"0-18\",\"19-30\",\"31-45\",\"46-60\",\"61-100\"],\"xaxis\":\"x\",\"y\":[0.002,0.18,0.4989,0.0805,0.0349],\"yaxis\":\"y\",\"type\":\"bar\",\"texttemplate\":\"%{text:.2%}\"},{\"alignmentgroup\":\"True\",\"hovertemplate\":\"Label=Exited\\u003cbr\\u003eAgeRange=%{x}\\u003cbr\\u003eProbability=%{text}\\u003cextra\\u003e\\u003c\\u002fextra\\u003e\",\"legendgroup\":\"Exited\",\"marker\":{\"color\":\"#EF553B\",\"pattern\":{\"shape\":\"\"}},\"name\":\"Exited\",\"offsetgroup\":\"Exited\",\"orientation\":\"v\",\"showlegend\":true,\"text\":[0.0002,0.0146,0.0932,0.0842,0.0115],\"textposition\":\"outside\",\"x\":[\"0-18\",\"19-30\",\"31-45\",\"46-60\",\"61-100\"],\"xaxis\":\"x\",\"y\":[0.0002,0.0146,0.0932,0.0842,0.0115],\"yaxis\":\"y\",\"type\":\"bar\",\"texttemplate\":\"%{text:.2%}\"}],                        {\"template\":{\"data\":{\"histogram2dcontour\":[{\"type\":\"histogram2dcontour\",\"colorbar\":{\"outlinewidth\":0,\"ticks\":\"\"},\"colorscale\":[[0.0,\"#0d0887\"],[0.1111111111111111,\"#46039f\"],[0.2222222222222222,\"#7201a8\"],[0.3333333333333333,\"#9c179e\"],[0.4444444444444444,\"#bd3786\"],[0.5555555555555556,\"#d8576b\"],[0.6666666666666666,\"#ed7953\"],[0.7777777777777778,\"#fb9f3a\"],[0.8888888888888888,\"#fdca26\"],[1.0,\"#f0f921\"]]}],\"choropleth\":[{\"type\":\"choropleth\",\"colorbar\":{\"outlinewidth\":0,\"ticks\":\"\"}}],\"histogram2d\":[{\"type\":\"histogram2d\",\"colorbar\":{\"outlinewidth\":0,\"ticks\":\"\"},\"colorscale\":[[0.0,\"#0d0887\"],[0.1111111111111111,\"#46039f\"],[0.2222222222222222,\"#7201a8\"],[0.3333333333333333,\"#9c179e\"],[0.4444444444444444,\"#bd3786\"],[0.5555555555555556,\"#d8576b\"],[0.6666666666666666,\"#ed7953\"],[0.7777777777777778,\"#fb9f3a\"],[0.8888888888888888,\"#fdca26\"],[1.0,\"#f0f921\"]]}],\"heatmap\":[{\"type\":\"heatmap\",\"colorbar\":{\"outlinewidth\":0,\"ticks\":\"\"},\"colorscale\":[[0.0,\"#0d0887\"],[0.1111111111111111,\"#46039f\"],[0.2222222222222222,\"#7201a8\"],[0.3333333333333333,\"#9c179e\"],[0.4444444444444444,\"#bd3786\"],[0.5555555555555556,\"#d8576b\"],[0.6666666666666666,\"#ed7953\"],[0.7777777777777778,\"#fb9f3a\"],[0.8888888888888888,\"#fdca26\"],[1.0,\"#f0f921\"]]}],\"heatmapgl\":[{\"type\":\"heatmapgl\",\"colorbar\":{\"outlinewidth\":0,\"ticks\":\"\"},\"colorscale\":[[0.0,\"#0d0887\"],[0.1111111111111111,\"#46039f\"],[0.2222222222222222,\"#7201a8\"],[0.3333333333333333,\"#9c179e\"],[0.4444444444444444,\"#bd3786\"],[0.5555555555555556,\"#d8576b\"],[0.6666666666666666,\"#ed7953\"],[0.7777777777777778,\"#fb9f3a\"],[0.8888888888888888,\"#fdca26\"],[1.0,\"#f0f921\"]]}],\"contourcarpet\":[{\"type\":\"contourcarpet\",\"colorbar\":{\"outlinewidth\":0,\"ticks\":\"\"}}],\"contour\":[{\"type\":\"contour\",\"colorbar\":{\"outlinewidth\":0,\"ticks\":\"\"},\"colorscale\":[[0.0,\"#0d0887\"],[0.1111111111111111,\"#46039f\"],[0.2222222222222222,\"#7201a8\"],[0.3333333333333333,\"#9c179e\"],[0.4444444444444444,\"#bd3786\"],[0.5555555555555556,\"#d8576b\"],[0.6666666666666666,\"#ed7953\"],[0.7777777777777778,\"#fb9f3a\"],[0.8888888888888888,\"#fdca26\"],[1.0,\"#f0f921\"]]}],\"surface\":[{\"type\":\"surface\",\"colorbar\":{\"outlinewidth\":0,\"ticks\":\"\"},\"colorscale\":[[0.0,\"#0d0887\"],[0.1111111111111111,\"#46039f\"],[0.2222222222222222,\"#7201a8\"],[0.3333333333333333,\"#9c179e\"],[0.4444444444444444,\"#bd3786\"],[0.5555555555555556,\"#d8576b\"],[0.6666666666666666,\"#ed7953\"],[0.7777777777777778,\"#fb9f3a\"],[0.8888888888888888,\"#fdca26\"],[1.0,\"#f0f921\"]]}],\"mesh3d\":[{\"type\":\"mesh3d\",\"colorbar\":{\"outlinewidth\":0,\"ticks\":\"\"}}],\"scatter\":[{\"fillpattern\":{\"fillmode\":\"overlay\",\"size\":10,\"solidity\":0.2},\"type\":\"scatter\"}],\"parcoords\":[{\"type\":\"parcoords\",\"line\":{\"colorbar\":{\"outlinewidth\":0,\"ticks\":\"\"}}}],\"scatterpolargl\":[{\"type\":\"scatterpolargl\",\"marker\":{\"colorbar\":{\"outlinewidth\":0,\"ticks\":\"\"}}}],\"bar\":[{\"error_x\":{\"color\":\"#2a3f5f\"},\"error_y\":{\"color\":\"#2a3f5f\"},\"marker\":{\"line\":{\"color\":\"#E5ECF6\",\"width\":0.5},\"pattern\":{\"fillmode\":\"overlay\",\"size\":10,\"solidity\":0.2}},\"type\":\"bar\"}],\"scattergeo\":[{\"type\":\"scattergeo\",\"marker\":{\"colorbar\":{\"outlinewidth\":0,\"ticks\":\"\"}}}],\"scatterpolar\":[{\"type\":\"scatterpolar\",\"marker\":{\"colorbar\":{\"outlinewidth\":0,\"ticks\":\"\"}}}],\"histogram\":[{\"marker\":{\"pattern\":{\"fillmode\":\"overlay\",\"size\":10,\"solidity\":0.2}},\"type\":\"histogram\"}],\"scattergl\":[{\"type\":\"scattergl\",\"marker\":{\"colorbar\":{\"outlinewidth\":0,\"ticks\":\"\"}}}],\"scatter3d\":[{\"type\":\"scatter3d\",\"line\":{\"colorbar\":{\"outlinewidth\":0,\"ticks\":\"\"}},\"marker\":{\"colorbar\":{\"outlinewidth\":0,\"ticks\":\"\"}}}],\"scattermapbox\":[{\"type\":\"scattermapbox\",\"marker\":{\"colorbar\":{\"outlinewidth\":0,\"ticks\":\"\"}}}],\"scatterternary\":[{\"type\":\"scatterternary\",\"marker\":{\"colorbar\":{\"outlinewidth\":0,\"ticks\":\"\"}}}],\"scattercarpet\":[{\"type\":\"scattercarpet\",\"marker\":{\"colorbar\":{\"outlinewidth\":0,\"ticks\":\"\"}}}],\"carpet\":[{\"aaxis\":{\"endlinecolor\":\"#2a3f5f\",\"gridcolor\":\"white\",\"linecolor\":\"white\",\"minorgridcolor\":\"white\",\"startlinecolor\":\"#2a3f5f\"},\"baxis\":{\"endlinecolor\":\"#2a3f5f\",\"gridcolor\":\"white\",\"linecolor\":\"white\",\"minorgridcolor\":\"white\",\"startlinecolor\":\"#2a3f5f\"},\"type\":\"carpet\"}],\"table\":[{\"cells\":{\"fill\":{\"color\":\"#EBF0F8\"},\"line\":{\"color\":\"white\"}},\"header\":{\"fill\":{\"color\":\"#C8D4E3\"},\"line\":{\"color\":\"white\"}},\"type\":\"table\"}],\"barpolar\":[{\"marker\":{\"line\":{\"color\":\"#E5ECF6\",\"width\":0.5},\"pattern\":{\"fillmode\":\"overlay\",\"size\":10,\"solidity\":0.2}},\"type\":\"barpolar\"}],\"pie\":[{\"automargin\":true,\"type\":\"pie\"}]},\"layout\":{\"autotypenumbers\":\"strict\",\"colorway\":[\"#636efa\",\"#EF553B\",\"#00cc96\",\"#ab63fa\",\"#FFA15A\",\"#19d3f3\",\"#FF6692\",\"#B6E880\",\"#FF97FF\",\"#FECB52\"],\"font\":{\"color\":\"#2a3f5f\"},\"hovermode\":\"closest\",\"hoverlabel\":{\"align\":\"left\"},\"paper_bgcolor\":\"white\",\"plot_bgcolor\":\"#E5ECF6\",\"polar\":{\"bgcolor\":\"#E5ECF6\",\"angularaxis\":{\"gridcolor\":\"white\",\"linecolor\":\"white\",\"ticks\":\"\"},\"radialaxis\":{\"gridcolor\":\"white\",\"linecolor\":\"white\",\"ticks\":\"\"}},\"ternary\":{\"bgcolor\":\"#E5ECF6\",\"aaxis\":{\"gridcolor\":\"white\",\"linecolor\":\"white\",\"ticks\":\"\"},\"baxis\":{\"gridcolor\":\"white\",\"linecolor\":\"white\",\"ticks\":\"\"},\"caxis\":{\"gridcolor\":\"white\",\"linecolor\":\"white\",\"ticks\":\"\"}},\"coloraxis\":{\"colorbar\":{\"outlinewidth\":0,\"ticks\":\"\"}},\"colorscale\":{\"sequential\":[[0.0,\"#0d0887\"],[0.1111111111111111,\"#46039f\"],[0.2222222222222222,\"#7201a8\"],[0.3333333333333333,\"#9c179e\"],[0.4444444444444444,\"#bd3786\"],[0.5555555555555556,\"#d8576b\"],[0.6666666666666666,\"#ed7953\"],[0.7777777777777778,\"#fb9f3a\"],[0.8888888888888888,\"#fdca26\"],[1.0,\"#f0f921\"]],\"sequentialminus\":[[0.0,\"#0d0887\"],[0.1111111111111111,\"#46039f\"],[0.2222222222222222,\"#7201a8\"],[0.3333333333333333,\"#9c179e\"],[0.4444444444444444,\"#bd3786\"],[0.5555555555555556,\"#d8576b\"],[0.6666666666666666,\"#ed7953\"],[0.7777777777777778,\"#fb9f3a\"],[0.8888888888888888,\"#fdca26\"],[1.0,\"#f0f921\"]],\"diverging\":[[0,\"#8e0152\"],[0.1,\"#c51b7d\"],[0.2,\"#de77ae\"],[0.3,\"#f1b6da\"],[0.4,\"#fde0ef\"],[0.5,\"#f7f7f7\"],[0.6,\"#e6f5d0\"],[0.7,\"#b8e186\"],[0.8,\"#7fbc41\"],[0.9,\"#4d9221\"],[1,\"#276419\"]]},\"xaxis\":{\"gridcolor\":\"white\",\"linecolor\":\"white\",\"ticks\":\"\",\"title\":{\"standoff\":15},\"zerolinecolor\":\"white\",\"automargin\":true,\"zerolinewidth\":2},\"yaxis\":{\"gridcolor\":\"white\",\"linecolor\":\"white\",\"ticks\":\"\",\"title\":{\"standoff\":15},\"zerolinecolor\":\"white\",\"automargin\":true,\"zerolinewidth\":2},\"scene\":{\"xaxis\":{\"backgroundcolor\":\"#E5ECF6\",\"gridcolor\":\"white\",\"linecolor\":\"white\",\"showbackground\":true,\"ticks\":\"\",\"zerolinecolor\":\"white\",\"gridwidth\":2},\"yaxis\":{\"backgroundcolor\":\"#E5ECF6\",\"gridcolor\":\"white\",\"linecolor\":\"white\",\"showbackground\":true,\"ticks\":\"\",\"zerolinecolor\":\"white\",\"gridwidth\":2},\"zaxis\":{\"backgroundcolor\":\"#E5ECF6\",\"gridcolor\":\"white\",\"linecolor\":\"white\",\"showbackground\":true,\"ticks\":\"\",\"zerolinecolor\":\"white\",\"gridwidth\":2}},\"shapedefaults\":{\"line\":{\"color\":\"#2a3f5f\"}},\"annotationdefaults\":{\"arrowcolor\":\"#2a3f5f\",\"arrowhead\":0,\"arrowwidth\":1},\"geo\":{\"bgcolor\":\"white\",\"landcolor\":\"#E5ECF6\",\"subunitcolor\":\"white\",\"showland\":true,\"showlakes\":true,\"lakecolor\":\"white\"},\"title\":{\"x\":0.05},\"mapbox\":{\"style\":\"light\"}}},\"xaxis\":{\"anchor\":\"y\",\"domain\":[0.0,1.0],\"title\":{\"text\":\"Age Range\"}},\"yaxis\":{\"anchor\":\"x\",\"domain\":[0.0,1.0],\"title\":{\"text\":\"Probability\"}},\"legend\":{\"title\":{\"text\":\"Label\"},\"tracegroupgap\":0},\"title\":{\"text\":\"Probabilities of Stayed and Exited in Different Age Ranges\"},\"barmode\":\"relative\"},                        {\"responsive\": true}                    ).then(function(){\n",
              "                            \n",
              "var gd = document.getElementById('a719f3e1-ab3b-4840-b858-07c4657374c0');\n",
              "var x = new MutationObserver(function (mutations, observer) {{\n",
              "        var display = window.getComputedStyle(gd).display;\n",
              "        if (!display || display === 'none') {{\n",
              "            console.log([gd, 'removed!']);\n",
              "            Plotly.purge(gd);\n",
              "            observer.disconnect();\n",
              "        }}\n",
              "}});\n",
              "\n",
              "// Listen for the removal of the full notebook cells\n",
              "var notebookContainer = gd.closest('#notebook-container');\n",
              "if (notebookContainer) {{\n",
              "    x.observe(notebookContainer, {childList: true});\n",
              "}}\n",
              "\n",
              "// Listen for the clearing of the current output cell\n",
              "var outputEl = gd.closest('.output');\n",
              "if (outputEl) {{\n",
              "    x.observe(outputEl, {childList: true});\n",
              "}}\n",
              "\n",
              "                        })                };                            </script>        </div>\n",
              "</body>\n",
              "</html>"
            ]
          },
          "metadata": {}
        }
      ]
    },
    {
      "cell_type": "code",
      "source": [
        "fig = px.box(input_data, x=\"Exited\", y=\"Balance\", color=\"Exited\")\n",
        "\n",
        "# Customize the plot\n",
        "fig.update_layout(\n",
        "    title=\"Box Plot of Balance by Exit Status\",\n",
        "    xaxis_title=\"Exited\",\n",
        "    yaxis_title=\"Balance\",\n",
        "    legend_title=\"Exited\",\n",
        ")\n",
        "\n",
        "# update_layout_plot()\n",
        "\n",
        "fig.show()\n",
        "fig.write_image(\"exit_balance_box_plot.png\", format=\"png\")"
      ],
      "metadata": {
        "colab": {
          "base_uri": "https://localhost:8080/",
          "height": 542
        },
        "id": "DO5MtMao4mK3",
        "outputId": "640c46b8-5dc3-4d19-dba1-5da58c18d0da"
      },
      "execution_count": null,
      "outputs": [
        {
          "output_type": "display_data",
          "data": {
            "text/html": [
              "<html>\n",
              "<head><meta charset=\"utf-8\" /></head>\n",
              "<body>\n",
              "    <div>            <script src=\"https://cdnjs.cloudflare.com/ajax/libs/mathjax/2.7.5/MathJax.js?config=TeX-AMS-MML_SVG\"></script><script type=\"text/javascript\">if (window.MathJax && window.MathJax.Hub && window.MathJax.Hub.Config) {window.MathJax.Hub.Config({SVG: {font: \"STIX-Web\"}});}</script>                <script type=\"text/javascript\">window.PlotlyConfig = {MathJaxConfig: 'local'};</script>\n",
              "        <script charset=\"utf-8\" src=\"https://cdn.plot.ly/plotly-2.24.1.min.js\"></script>                <div id=\"93bb7733-20da-43ce-b091-ce96ee178e77\" class=\"plotly-graph-div\" style=\"height:525px; width:100%;\"></div>            <script type=\"text/javascript\">                                    window.PLOTLYENV=window.PLOTLYENV || {};                                    if (document.getElementById(\"93bb7733-20da-43ce-b091-ce96ee178e77\")) {                    Plotly.newPlot(                        \"93bb7733-20da-43ce-b091-ce96ee178e77\",                        [{\"alignmentgroup\":\"True\",\"hovertemplate\":\"Exited=%{x}\\u003cbr\\u003eBalance=%{y}\\u003cextra\\u003e\\u003c\\u002fextra\\u003e\",\"legendgroup\":\"1\",\"marker\":{\"color\":\"#636efa\"},\"name\":\"1\",\"notched\":false,\"offsetgroup\":\"1\",\"orientation\":\"v\",\"showlegend\":true,\"x\":[1,1,1,1,1,1,1,1,1,1,1,1,1,1,1,1,1,1,1,1,1,1,1,1,1,1,1,1,1,1,1,1,1,1,1,1,1,1,1,1,1,1,1,1,1,1,1,1,1,1,1,1,1,1,1,1,1,1,1,1,1,1,1,1,1,1,1,1,1,1,1,1,1,1,1,1,1,1,1,1,1,1,1,1,1,1,1,1,1,1,1,1,1,1,1,1,1,1,1,1,1,1,1,1,1,1,1,1,1,1,1,1,1,1,1,1,1,1,1,1,1,1,1,1,1,1,1,1,1,1,1,1,1,1,1,1,1,1,1,1,1,1,1,1,1,1,1,1,1,1,1,1,1,1,1,1,1,1,1,1,1,1,1,1,1,1,1,1,1,1,1,1,1,1,1,1,1,1,1,1,1,1,1,1,1,1,1,1,1,1,1,1,1,1,1,1,1,1,1,1,1,1,1,1,1,1,1,1,1,1,1,1,1,1,1,1,1,1,1,1,1,1,1,1,1,1,1,1,1,1,1,1,1,1,1,1,1,1,1,1,1,1,1,1,1,1,1,1,1,1,1,1,1,1,1,1,1,1,1,1,1,1,1,1,1,1,1,1,1,1,1,1,1,1,1,1,1,1,1,1,1,1,1,1,1,1,1,1,1,1,1,1,1,1,1,1,1,1,1,1,1,1,1,1,1,1,1,1,1,1,1,1,1,1,1,1,1,1,1,1,1,1,1,1,1,1,1,1,1,1,1,1,1,1,1,1,1,1,1,1,1,1,1,1,1,1,1,1,1,1,1,1,1,1,1,1,1,1,1,1,1,1,1,1,1,1,1,1,1,1,1,1,1,1,1,1,1,1,1,1,1,1,1,1,1,1,1,1,1,1,1,1,1,1,1,1,1,1,1,1,1,1,1,1,1,1,1,1,1,1,1,1,1,1,1,1,1,1,1,1,1,1,1,1,1,1,1,1,1,1,1,1,1,1,1,1,1,1,1,1,1,1,1,1,1,1,1,1,1,1,1,1,1,1,1,1,1,1,1,1,1,1,1,1,1,1,1,1,1,1,1,1,1,1,1,1,1,1,1,1,1,1,1,1,1,1,1,1,1,1,1,1,1,1,1,1,1,1,1,1,1,1,1,1,1,1,1,1,1,1,1,1,1,1,1,1,1,1,1,1,1,1,1,1,1,1,1,1,1,1,1,1,1,1,1,1,1,1,1,1,1,1,1,1,1,1,1,1,1,1,1,1,1,1,1,1,1,1,1,1,1,1,1,1,1,1,1,1,1,1,1,1,1,1,1,1,1,1,1,1,1,1,1,1,1,1,1,1,1,1,1,1,1,1,1,1,1,1,1,1,1,1,1,1,1,1,1,1,1,1,1,1,1,1,1,1,1,1,1,1,1,1,1,1,1,1,1,1,1,1,1,1,1,1,1,1,1,1,1,1,1,1,1,1,1,1,1,1,1,1,1,1,1,1,1,1,1,1,1,1,1,1,1,1,1,1,1,1,1,1,1,1,1,1,1,1,1,1,1,1,1,1,1,1,1,1,1,1,1,1,1,1,1,1,1,1,1,1,1,1,1,1,1,1,1,1,1,1,1,1,1,1,1,1,1,1,1,1,1,1,1,1,1,1,1,1,1,1,1,1,1,1,1,1,1,1,1,1,1,1,1,1,1,1,1,1,1,1,1,1,1,1,1,1,1,1,1,1,1,1,1,1,1,1,1,1,1,1,1,1,1,1,1,1,1,1,1,1,1,1,1,1,1,1,1,1,1,1,1,1,1,1,1,1,1,1,1,1,1,1,1,1,1,1,1,1,1,1,1,1,1,1,1,1,1,1,1,1,1,1,1,1,1,1,1,1,1,1,1,1,1,1,1,1,1,1,1,1,1,1,1,1,1,1,1,1,1,1,1,1,1,1,1,1,1,1,1,1,1,1,1,1,1,1,1,1,1,1,1,1,1,1,1,1,1,1,1,1,1,1,1,1,1,1,1,1,1,1,1,1,1,1,1,1,1,1,1,1,1,1,1,1,1,1,1,1,1,1,1,1,1,1,1,1,1,1,1,1,1,1,1,1,1,1,1,1,1,1,1,1,1,1,1,1,1,1,1,1,1,1,1,1,1,1,1,1,1,1,1,1,1,1,1,1,1,1,1,1,1,1,1,1,1,1,1,1,1,1,1,1,1,1,1,1,1,1,1,1,1,1,1,1,1,1,1,1,1,1,1,1,1,1,1,1,1,1,1,1,1,1,1,1,1,1,1,1,1,1,1,1,1,1,1,1,1,1,1,1,1,1,1,1,1,1,1,1,1,1,1,1,1,1,1,1,1,1,1,1,1,1,1,1,1,1,1,1,1,1,1,1,1,1,1,1,1,1,1,1,1,1,1,1,1,1,1,1,1,1,1,1,1,1,1,1,1,1,1,1,1,1,1,1,1,1,1,1,1,1,1,1,1,1,1,1,1,1,1,1,1,1,1,1,1,1,1,1,1,1,1,1,1,1,1,1,1,1,1,1,1,1,1,1,1,1,1,1,1,1,1,1,1,1,1,1,1,1,1,1,1,1,1,1,1,1,1,1,1,1,1,1,1,1,1,1,1,1,1,1,1,1,1,1,1,1,1,1,1,1,1,1,1,1,1,1,1,1,1,1,1,1,1,1,1,1,1,1,1,1,1,1,1,1,1,1,1,1,1,1,1,1,1,1,1,1,1,1,1,1,1,1,1,1,1,1,1,1,1,1,1,1,1,1,1,1,1,1,1,1,1,1,1,1,1,1,1,1,1,1,1,1,1,1,1,1,1,1,1,1,1,1,1,1,1,1,1,1,1,1,1,1,1,1,1,1,1,1,1,1,1,1,1,1,1,1,1,1,1,1,1,1,1,1,1,1,1,1,1,1,1,1,1,1,1,1,1,1,1,1,1,1,1,1,1,1,1,1,1,1,1,1,1,1,1,1,1,1,1,1,1,1,1,1,1,1,1,1,1,1,1,1,1,1,1,1,1,1,1,1,1,1,1,1,1,1,1,1,1,1,1,1,1,1,1,1,1,1,1,1,1,1,1,1,1,1,1,1,1,1,1,1,1,1,1,1,1,1,1,1,1,1,1,1,1,1,1,1,1,1,1,1,1,1,1,1,1,1,1,1,1,1,1,1,1,1,1,1,1,1,1,1,1,1,1,1,1,1,1,1,1,1,1,1,1,1,1,1,1,1,1,1,1,1,1,1,1,1,1,1,1,1,1,1,1,1,1,1,1,1,1,1,1,1,1,1,1,1,1,1,1,1,1,1,1,1,1,1,1,1,1,1,1,1,1,1,1,1,1,1,1,1,1,1,1,1,1,1,1,1,1,1,1,1,1,1,1,1,1,1,1,1,1,1,1,1,1,1,1,1,1,1,1,1,1,1,1,1,1,1,1,1,1,1,1,1,1,1,1,1,1,1,1,1,1,1,1,1,1,1,1,1,1,1,1,1,1,1,1,1,1,1,1,1,1,1,1,1,1,1,1,1,1,1,1,1,1,1,1,1,1,1,1,1,1,1,1,1,1,1,1,1,1,1,1,1,1,1,1,1,1,1,1,1,1,1,1,1,1,1,1,1,1,1,1,1,1,1,1,1,1,1,1,1,1,1,1,1,1,1,1,1,1,1,1,1,1,1,1,1,1,1,1,1,1,1,1,1,1,1,1,1,1,1,1,1,1,1,1,1,1,1,1,1,1,1,1,1,1,1,1,1,1,1,1,1,1,1,1,1,1,1,1,1,1,1,1,1,1,1,1,1,1,1,1,1,1,1,1,1,1,1,1,1,1,1,1,1,1,1,1,1,1,1,1,1,1,1,1,1,1,1,1,1,1,1,1,1,1,1,1,1,1,1,1,1,1,1,1,1,1,1,1,1,1,1,1,1,1,1,1,1,1,1,1,1,1,1,1,1,1,1,1,1,1,1,1,1,1,1,1,1,1,1,1,1,1,1,1,1,1,1,1,1,1,1,1,1,1,1,1,1,1,1,1,1,1,1,1,1,1,1,1,1,1,1,1,1,1,1,1,1,1,1,1,1,1,1,1,1,1,1,1,1,1,1,1,1,1,1,1,1,1,1,1,1,1,1,1,1,1,1,1,1,1,1,1,1,1,1,1,1,1,1,1,1,1,1,1,1,1,1,1,1,1,1,1,1,1,1,1,1,1,1,1,1,1,1,1,1,1,1,1,1,1,1,1,1,1,1,1,1,1,1,1,1,1,1,1,1,1,1,1,1,1,1,1,1,1,1,1,1,1,1,1,1,1,1,1,1,1,1,1,1,1,1,1,1,1,1,1,1,1,1,1,1,1,1,1,1,1,1,1,1,1,1,1,1,1,1,1,1,1,1,1,1,1,1,1,1,1,1,1,1,1,1,1,1,1,1,1,1,1,1,1,1,1,1,1,1,1,1,1,1,1,1,1,1,1,1,1,1,1,1,1,1,1,1,1,1,1,1,1,1,1,1,1,1,1,1,1,1,1,1,1,1,1,1,1,1,1,1,1,1,1,1,1,1,1,1,1,1,1,1,1,1,1,1,1,1,1,1,1,1,1,1,1,1,1],\"x0\":\" \",\"xaxis\":\"x\",\"y\":[0.0,159660.8,113755.78,115046.74,132602.88,0.0,0.0,134264.04,122522.32,131394.56,112045.67,137843.8,125561.97,98495.72,0.0,133745.44,0.0,121681.82,0.0,0.0,0.0,107073.27,92833.89,154475.54,107818.63,152603.45,0.0,148507.24,213146.2,129490.36,0.0,40915.55,0.0,0.0,133702.89,113034.22,0.0,129608.57,161608.81,0.0,56214.85,0.0,129022.06,89763.84,0.0,106854.21,105799.32,0.0,0.0,99564.22,74596.15,96888.39,100160.75,116220.5,0.0,117411.6,123497.58,126418.14,0.0,100337.96,0.0,0.0,138718.92,112822.26,0.0,0.0,137104.47,147069.78,139290.41,95441.27,112013.81,182123.79,165272.13,115301.31,129502.49,126436.29,150842.93,117231.63,0.0,127209.0,0.0,135842.41,141434.04,181461.48,110368.03,115924.89,111756.5,99282.63,137946.39,114754.08,116528.15,68065.8,95556.31,133950.37,130878.75,149762.08,141078.37,0.0,135096.77,0.0,170061.92,0.0,85891.55,136188.78,0.0,101238.24,211774.31,152827.99,0.0,114931.35,111071.36,169312.13,0.0,106901.94,154962.99,91536.93,0.0,0.0,0.0,0.0,108431.87,119741.77,100946.71,170491.84,157296.02,144606.22,162448.69,0.0,0.0,0.0,140745.33,0.0,115988.86,67996.23,116060.08,135134.99,133102.92,42157.08,133994.52,102703.62,178820.91,126674.81,136294.97,64119.38,106138.33,168286.81,86605.5,209767.31,129634.25,0.0,121152.05,128981.07,88915.37,124151.09,77253.5,140080.32,115920.62,114715.71,129748.54,113599.74,116922.25,118945.09,116313.57,0.0,122384.22,123331.36,137453.43,0.0,145338.76,0.0,97133.92,134956.02,0.0,190227.46,172448.77,170833.46,108122.39,129818.39,0.0,0.0,45144.43,0.0,125884.95,102967.41,93051.64,0.0,0.0,104947.72,0.0,0.0,0.0,0.0,109922.61,0.0,0.0,118590.41,73309.38,156371.61,96134.11,115888.04,132558.26,128100.28,151839.26,168197.66,175159.9,116497.31,0.0,0.0,89634.69,103909.86,173434.9,135483.17,0.0,0.0,107949.45,122949.14,67111.65,152169.12,0.0,0.0,113348.14,170935.94,89772.3,0.0,100749.5,94267.9,0.0,100717.85,135549.9,185891.54,130854.59,132312.06,144976.5,115414.19,112414.81,158456.76,0.0,0.0,96652.86,148962.76,135643.0,125801.03,0.0,104817.41,120711.73,203715.15,0.0,168069.73,126547.8,169742.64,129855.72,146098.43,127655.22,0.0,0.0,0.0,0.0,0.0,124601.58,107850.82,81553.93,125534.51,46870.43,147004.34,116973.26,0.0,113488.68,182364.53,102980.44,134096.53,76915.4,81576.75,65942.26,0.0,0.0,0.0,159453.64,118233.81,0.0,0.0,97403.18,176845.41,119507.58,120633.42,134542.73,0.0,201696.07,114203.47,125437.64,135555.66,73700.12,0.0,67563.31,118633.08,159441.27,125212.65,0.0,135070.58,0.0,90350.77,128747.69,0.0,91611.12,101609.77,104217.3,144757.02,0.0,110802.03,120392.99,136556.44,99587.43,70731.07,117561.49,103560.57,0.0,120656.86,92786.66,0.0,93656.95,121345.88,102365.49,0.0,81947.76,158623.14,132403.56,124043.8,131694.97,152522.47,59486.31,140596.95,90432.92,109052.59,115029.4,116646.76,110864.38,109528.28,0.0,120782.7,108825.34,91502.99,0.0,75075.14,0.0,130812.91,107174.58,152677.48,129293.74,108632.48,100374.58,133656.91,148571.07,0.0,114739.92,105722.69,0.0,117356.19,0.0,0.0,56674.48,77354.37,0.0,152797.9,133701.07,0.0,143903.11,110641.18,166909.2,118520.26,117707.18,0.0,157848.53,93960.35,88308.87,0.0,93716.72,110765.68,169649.73,116917.07,130627.66,152759.0,109733.2,0.0,64345.21,109044.6,122031.55,27755.97,175303.06,131607.28,63127.41,127258.79,78939.15,100900.5,129248.11,0.0,126397.66,108546.16,148061.89,134388.11,129109.02,117052.82,130056.23,123806.28,144453.75,108888.24,118803.35,171137.62,143542.36,97764.41,0.0,0.0,116393.59,0.0,106171.68,134250.17,0.0,0.0,124493.03,146547.78,117837.43,0.0,0.0,92171.35,173962.32,0.0,102882.4,0.0,169832.57,0.0,103060.63,36566.96,0.0,141136.62,0.0,68432.45,44020.89,97665.61,65971.61,250898.09,0.0,123378.2,138311.76,125456.07,0.0,118449.21,127785.17,86053.52,95295.39,105229.53,0.0,101247.06,0.0,110123.59,178111.82,126306.64,143249.67,123642.36,145018.64,137648.41,118560.0,0.0,118079.47,109705.52,87541.06,132253.22,0.0,157559.59,126550.7,158584.82,0.0,118199.97,119208.85,53772.73,140431.98,116471.43,123785.24,88758.95,112044.72,106804.26,68892.77,129370.91,0.0,57784.22,0.0,110022.74,123444.72,0.0,155393.32,110463.25,154575.76,119276.31,93059.34,113625.93,119961.48,137227.04,119024.75,74623.5,157929.45,0.0,122917.71,159492.79,118241.02,125537.38,179915.85,88815.56,147972.19,170008.84,138292.64,118994.84,0.0,0.0,132571.67,92805.72,0.0,135309.36,56580.93,97361.66,0.0,100727.5,145751.03,0.0,70655.48,129901.21,169406.33,140418.81,163146.46,0.0,145150.28,108914.17,111920.13,75150.34,0.0,0.0,95813.76,102453.26,0.0,68639.57,134760.21,0.0,87361.02,111257.59,131583.59,95020.8,0.0,0.0,0.0,0.0,0.0,144432.04,130024.87,110610.41,102994.04,127760.07,132591.36,103163.35,0.0,106458.31,152296.83,0.0,107247.69,0.0,75361.44,109308.79,119889.84,148595.55,164948.98,140549.4,191864.51,96418.09,142910.15,87894.26,0.0,103018.45,0.0,162532.14,0.0,110356.42,146100.75,123110.9,111760.4,108076.33,128808.65,136444.25,128140.17,0.0,185078.26,0.0,128218.47,109799.55,125397.21,94867.18,132412.38,124401.6,118022.06,184552.12,59669.43,113709.28,0.0,0.0,125095.94,0.0,103583.05,99842.5,0.0,199689.49,110219.14,73211.12,96196.24,107467.56,98218.04,139781.06,148610.41,123906.22,131441.51,0.0,136325.48,113150.44,122104.79,0.0,0.0,0.0,124365.42,143966.3,0.0,140278.99,68375.27,117833.3,0.0,128882.49,131355.3,108348.66,93871.95,0.0,114959.12,164704.38,0.0,89158.94,101207.75,133003.03,0.0,137780.74,118715.86,136836.49,91592.06,0.0,55853.33,91415.76,0.0,119370.11,134381.52,114888.74,105061.74,0.0,143139.87,178585.46,115130.34,0.0,0.0,0.0,110407.44,69329.47,116755.5,130694.89,137285.26,130701.29,114737.26,119817.33,130806.99,0.0,80931.75,0.0,164769.02,117738.81,154393.43,110827.49,0.0,0.0,81290.02,0.0,113715.36,0.0,138881.04,0.0,0.0,0.0,125647.36,109032.23,0.0,0.0,108508.82,121175.56,0.0,149726.08,0.0,0.0,0.0,95140.44,0.0,238387.56,98807.45,127631.62,143988.0,133793.89,139529.93,64646.7,0.0,126345.55,0.0,99340.83,126833.79,155447.65,116765.7,130929.02,101016.53,0.0,97067.69,92208.54,0.0,77270.08,111911.63,74135.85,91893.32,175443.75,131769.04,63609.92,79120.27,88011.4,0.0,105397.8,89079.41,94598.48,188241.05,133379.41,0.0,112666.67,110148.49,0.0,0.0,165350.61,106344.95,28082.95,0.0,0.0,87873.39,105617.73,0.0,120847.11,135133.39,0.0,62055.17,104784.23,156948.41,147751.75,142028.36,0.0,117160.32,97565.74,0.0,174701.05,124640.51,79757.21,123959.97,0.0,0.0,121376.15,131368.3,134950.19,96956.1,107601.79,92060.06,110689.07,0.0,115115.38,0.0,110738.89,105792.49,0.0,80764.03,144801.97,0.0,122314.5,147803.48,170228.59,0.0,0.0,149131.03,0.0,98592.88,89087.89,124678.35,143930.92,137059.05,186558.55,105701.91,0.0,139106.19,130935.56,116509.99,111578.18,112230.38,125734.2,0.0,142360.62,138843.7,109958.15,149155.53,135096.05,78126.28,106913.43,0.0,124425.99,101012.77,82291.1,117056.46,110132.55,122227.71,121647.54,110597.76,120731.39,0.0,0.0,0.0,151772.63,103244.86,104568.41,86376.29,87926.24,127997.83,94238.75,0.0,111973.97,108924.33,118334.44,121411.9,121455.65,167664.83,123770.46,116150.65,0.0,113873.22,0.0,0.0,0.0,0.0,141528.88,91680.1,162039.78,114421.55,0.0,162082.31,117306.69,180226.24,108736.52,100260.88,126066.26,139561.46,0.0,0.0,115895.22,24043.45,132287.92,0.0,100431.84,150358.97,75990.97,0.0,92055.36,116726.22,111128.04,0.0,0.0,0.0,0.0,153548.12,95231.91,174088.3,0.0,121016.23,118210.42,103108.8,0.0,131852.81,0.0,62094.71,0.0,0.0,158271.74,121863.61,83495.11,0.0,0.0,107494.86,0.0,124233.24,51116.26,0.0,137464.04,0.0,0.0,132002.7,142724.48,99141.86,127660.46,111905.43,0.0,108895.93,154669.77,0.0,0.0,154733.97,112609.91,89118.26,120867.18,134237.07,0.0,115442.19,135370.12,92877.33,97042.6,0.0,108528.07,74274.87,82794.18,159304.07,183572.84,0.0,101455.7,127197.14,47364.45,104930.38,106434.94,120530.34,113641.49,149049.92,41473.33,141074.59,169362.43,0.0,109062.28,66079.45,0.0,0.0,96947.58,69478.57,156674.2,174506.1,105435.74,0.0,164450.94,0.0,148222.65,111537.23,121063.8,142989.69,206014.94,101191.83,113657.41,122506.38,0.0,0.0,89743.05,0.0,133201.17,153469.26,0.0,142882.49,131935.51,105214.58,0.0,0.0,119839.69,29602.08,126589.12,130666.2,98649.55,0.0,0.0,131778.08,0.0,0.0,102088.68,144768.94,117206.3,128352.59,104478.12,143923.96,139825.56,131834.8,99529.7,0.0,123042.0,148283.94,0.0,123916.67,0.0,103549.24,165901.59,0.0,133384.66,158411.95,128751.65,0.0,130147.98,0.0,147856.82,65407.16,187602.18,0.0,0.0,0.0,111284.53,0.0,127642.44,125584.17,50911.21,0.0,0.0,0.0,149713.61,107963.38,81811.71,116933.11,109153.96,98438.23,192122.84,178058.06,109349.29,0.0,152335.7,124662.54,99472.76,114634.63,56738.47,0.0,133811.78,144235.73,172478.15,0.0,33563.95,174126.75,155828.22,113525.84,136100.69,93578.68,123681.32,167194.36,0.0,81076.8,101465.31,87603.35,121205.15,75408.33,0.0,61354.14,124954.94,95039.12,119638.21,122689.51,171913.87,137239.17,65190.29,111512.75,134980.74,142880.28,121537.71,0.0,89838.71,0.0,140891.46,106000.12,127539.3,96891.46,185648.56,102286.6,105770.14,0.0,98488.08,144237.91,0.0,0.0,0.0,107812.67,57530.06,138341.51,0.0,101528.61,155196.17,113386.36,0.0,139592.98,128289.7,0.0,88826.07,143443.61,0.0,81954.6,95196.26,0.0,110314.21,163760.82,0.0,146422.22,100275.88,0.0,113688.63,100032.52,131955.07,94348.94,52831.13,97750.07,104760.82,0.0,115766.26,144677.19,123815.86,0.0,143500.82,120905.03,0.0,102277.52,125292.53,0.0,151191.31,114023.64,80285.16,136911.07,117691.0,135506.58,75051.49,123925.23,0.0,153819.58,98088.09,118317.27,99774.5,0.0,0.0,111100.98,115290.27,99097.33,143391.07,166522.78,120481.69,126147.84,153697.53,116585.97,102556.18,109876.82,152086.15,119852.01,145387.32,95808.19,54428.37,143279.58,38340.02,133237.21,157138.99,80090.93,181166.44,148045.68,126729.41,119984.07,0.0,109196.66,134168.5,120100.41,105489.31,0.0,0.0,117721.02,125396.24,137638.69,73348.56,95675.62,0.0,190305.78,118536.4,146202.93,0.0,0.0,137260.78,124447.73,0.0,161378.02,104267.7,63488.7,12459.19,0.0,128504.76,98792.4,113948.58,97036.22,127475.24,144889.18,150126.44,0.0,135776.36,91115.76,151391.68,70291.02,0.0,76296.81,64497.94,0.0,0.0,86147.46,116563.58,114603.76,148074.79,0.0,108004.64,127471.56,97092.87,0.0,88827.53,0.0,0.0,62389.03,91857.66,0.0,176173.52,123845.36,208165.53,0.0,136576.02,141816.25,138547.97,153040.03,142084.04,66582.81,198546.1,105770.7,0.0,0.0,127940.47,141535.52,120243.49,67178.19,0.0,109172.88,107926.02,112281.6,0.0,132865.56,120682.53,144386.32,108437.89,0.0,0.0,110240.04,99546.25,0.0,123086.39,109472.47,0.0,83036.05,142644.64,23503.31,0.0,110993.79,157691.98,105245.21,123067.63,0.0,93590.47,114141.64,156353.46,135637.0,107915.94,137755.76,0.0,116309.01,105099.45,0.0,116967.68,0.0,0.0,144900.58,127205.32,155143.52,0.0,87612.64,116880.53,178144.91,0.0,108289.28,152508.99,85646.81,77641.99,164649.52,123571.77,106396.48,104887.43,150578.0,106011.59,111362.76,39344.83,63562.02,114169.16,202904.64,0.0,161807.18,110791.97,108755.0,117294.12,0.0,114552.6,140292.58,0.0,137455.99,97720.35,76319.64,125919.35,148384.64,0.0,108585.35,0.0,121399.98,0.0,152367.21,118207.69,136298.65,0.0,95872.86,0.0,0.0,123407.69,0.0,138076.47,163630.76,98710.89,0.0,168078.83,98268.84,0.0,124586.93,138207.08,148636.21,116546.59,115761.51,139626.01,0.0,148962.46,80542.81,0.0,83348.89,96553.52,201009.64,131326.47,128472.8,84445.68,62400.48,143054.56,82940.25,112650.89,163700.78,165363.31,0.0,109698.41,102645.48,87779.83,168286.58,86102.27,126597.89,187997.15,133105.47,0.0,115796.7,140273.47,0.0,82559.42,128663.9,79951.9,132508.3,104129.24,0.0,0.0,0.0,142147.32,0.0,109908.06,142946.18,104339.11,105103.33,127120.62,0.0,216109.88,0.0,0.0,0.0,92895.56,0.0,132446.08,92053.0,138214.5,0.0,121389.78,117103.26,129335.65,0.0,0.0,119272.29,106415.57,126608.37,162888.73,0.0,0.0,148843.56,162702.35,129255.2,120145.96,159203.71,0.0,139493.25,0.0,127087.06,106074.89,114422.85,133903.12,0.0,120568.41,72092.95,181821.96,0.0,141819.02,156974.26,113882.33,127253.98,0.0,125889.3,78314.63,206329.65,57098.96,115341.19,161801.47,102870.93,44582.07,0.0,112290.22,154409.74,125961.74,49572.73,0.0,121325.84,113063.83,117325.54,182876.88,130023.38,167831.88,0.0,0.0,83287.05,117438.17,150836.92,154121.32,165048.5,170252.05,111009.32,115280.49,151802.29,150005.38,106261.63,132670.53,117314.92,145874.35,109978.83,103362.14,132623.76,121461.87,88441.64,0.0,135392.31,131629.17,108477.27,0.0,120961.5,109339.17,55328.4,105173.99,117280.23,136650.89,0.0,190066.54,149349.58,147726.98,89299.81,154586.92,0.0,127286.04,0.0,103741.14,77526.66,110150.43,0.0,133295.98,148326.09,139914.6,118723.11,168920.75,118028.35,113657.83,189318.16,51690.89,150200.23,0.0,0.0,128966.13,152581.06,117094.02,0.0,194532.66,169743.83,82909.14,145151.4,147187.84,108185.81,210433.08,0.0,0.0,153610.61,116520.28,141825.88,130051.66,138523.2,90778.76,99353.42,111524.49,117458.51,94231.13,127201.58,144962.74,0.0,128389.63,130554.51,90212.0,0.0,129934.64,151958.19,118400.91,116322.27,108308.11,165438.26,119963.45,102016.38,0.0,200724.96,113317.1,0.0,0.0,131593.85,119530.52,113109.52,151933.63,0.0,108449.23,0.0,106731.58,87609.68,0.0,108960.0,101487.18,105355.81,77967.5,0.0,175464.85,79475.3,0.0,0.0,132796.04,73937.02,158621.04,0.0,101070.69,110357.0,109493.62,154110.99,122924.75,0.0,115163.38,118098.62,0.0,161171.7,146193.6,146622.35,131038.14,90450.0,125997.22,0.0,86616.35,131240.61,161450.03,43772.66,108028.08,141252.18,128548.49,145177.84,143212.22,143350.41,137851.31,0.0,119948.09,0.0,99056.22,137592.31,108760.27,119657.53,102025.32,146710.76,136709.35,0.0,107906.75,128914.97,127723.25,145843.82,81245.79,143829.2,104753.84,116574.84,65269.23,0.0,0.0,111288.18,103700.69,112595.85,0.0,95922.9,0.0,69974.66,123711.73,121874.89,188455.19,123276.69,0.0,0.0,0.0,92316.31,122185.53,0.0,0.0,159024.71,73493.17,106723.28,116251.24,124620.01,108204.52,119655.77,151701.45,132405.52,105000.85,138937.35,114514.71,122478.51,136789.14,207034.96,0.0,0.0,82373.94,0.0,103696.97,74129.18,118087.68,130367.87,140094.59,95439.4,137115.16,108019.27,126725.25,156652.13,0.0,100116.67,143644.16,0.0,183555.24,93259.57,107714.74,0.0,94752.49,0.0,132084.66,45472.28,130229.71,127415.85,110067.71,125789.69,128264.03,147386.72,93608.28,122831.58,124737.96,179356.28,0.0,0.0,133686.52,0.0,0.0,80538.56,177822.03,110939.3,175575.95,132217.45,129289.98,121438.58,0.0,136492.92,140306.38,0.0,95560.04,88379.81,72309.3,0.0,0.0,107104.5,0.0,122325.58,132934.89,150805.17,165969.26,124495.98,141559.5,155393.98,0.0,79035.95,0.0,120043.13,125191.69,98675.74,126817.13,106059.4,0.0,72647.64,96340.81,0.0,0.0,90044.32,102128.27,148846.39,112070.86,131354.39,132746.2,0.0,139422.37,99339.0,144772.69,0.0,71281.29,3768.69,121797.09,122403.24,145860.98,105086.74,93817.41,0.0,137891.35,122034.4,0.0,171178.25,0.0,128137.42,115915.53,92887.06,114940.67,71816.74,165282.42,113909.69,0.0,145155.37,150490.32,121159.65,144027.8,0.0,0.0,85162.26,108300.27,91219.29,0.0,148368.02,148600.91,139625.34,0.0,136186.44,0.0,108309.0,122739.1,113781.5,128284.45,166968.28,130788.71,99165.84,121890.06,99786.07,118907.6,0.0,0.0,123070.89,127543.11,0.0,103101.56,129828.58,80214.36,195238.29,154309.67,0.0,0.0,108308.0,85146.48,0.0,103409.16,222267.63,144090.42,127421.78,146498.76,0.0,109974.22,0.0,0.0,128213.96,98854.34,111336.89,0.0,144326.09,209490.21,0.0,191665.21,47020.65,128518.98,135645.29,115488.52,130565.02,0.0,108477.49,0.0,66338.68,135078.41,69434.4,187534.79,131764.96,152076.93,0.0,93569.86,114346.3,143888.22,186825.57,95053.1,143595.87,155655.46,0.0,118772.71,0.0,122857.46,0.0,96402.96,91246.53,139756.12,177626.77,0.0,0.0,113674.2,171236.3,142703.4,160818.08,121669.93,89799.46,108867.0,153855.52,104584.11,98173.02,0.0,126285.73,104552.61,0.0,119492.88,0.0,45752.78,175406.13,138597.54,0.0,130013.12,0.0,103914.17,117810.79,59877.33,107304.39,171325.98,0.0,79811.72,105473.74,121927.92,61671.19,96296.78,185966.64,118214.32,163764.84,104469.58,137852.96,127132.96,135759.4,0.0,0.0,133723.43,112670.48,0.0,0.0,134171.8,124442.38,0.0,108862.76,44301.43,120688.61,114318.78,101543.51,104016.88,0.0,106230.92,146266.0,125845.66,147262.11,108806.96,106036.52,82182.1,76817.0,103711.56,148214.36,102085.72,0.0,0.0,140121.17,137409.19,0.0,123593.22,0.0,0.0,111677.88,115518.07,0.0,78119.59,0.0,75225.53,120916.52,0.0,123544.0,95328.6,0.0,159035.45,0.0,0.0,0.0,81571.05,0.0,0.0,102962.62,119654.44,129387.94,150213.71,99816.46,86714.06,128707.31,123192.12,115248.11,46388.16,148666.99,115101.5,0.0,128876.71,135979.01,117271.8,0.0,0.0,112383.03,100520.92,131033.76,95727.05,0.0,0.0,111098.85,131873.07,0.0,139973.65,121498.11,69608.14,0.0,88046.88,142388.61,167273.71,127545.56,115730.71,131078.42,128298.74,0.0,0.0,95984.21,110923.15,0.0,106968.96,86038.21,102773.2,70754.18,81153.82,137986.58,121197.64,147341.43,0.0,118336.95,119556.1,119349.69,104614.29,104682.83,126315.26,156848.13,105736.32,62212.29,121523.51,104533.24,108465.65,120105.43,129646.91,131433.33,106506.77,118356.89,105229.72,0.0,127585.98,0.0,93925.3,118793.6,117005.55,204510.94,107959.39,118588.83,83503.11,85216.61,104552.72,0.0,113957.01,152039.7,137145.12,88381.21,0.0,75075.31],\"y0\":\" \",\"yaxis\":\"y\",\"type\":\"box\"},{\"alignmentgroup\":\"True\",\"hovertemplate\":\"Exited=%{x}\\u003cbr\\u003eBalance=%{y}\\u003cextra\\u003e\\u003c\\u002fextra\\u003e\",\"legendgroup\":\"0\",\"marker\":{\"color\":\"#EF553B\"},\"name\":\"0\",\"notched\":false,\"offsetgroup\":\"0\",\"orientation\":\"v\",\"showlegend\":true,\"x\":[0,0,0,0,0,0,0,0,0,0,0,0,0,0,0,0,0,0,0,0,0,0,0,0,0,0,0,0,0,0,0,0,0,0,0,0,0,0,0,0,0,0,0,0,0,0,0,0,0,0,0,0,0,0,0,0,0,0,0,0,0,0,0,0,0,0,0,0,0,0,0,0,0,0,0,0,0,0,0,0,0,0,0,0,0,0,0,0,0,0,0,0,0,0,0,0,0,0,0,0,0,0,0,0,0,0,0,0,0,0,0,0,0,0,0,0,0,0,0,0,0,0,0,0,0,0,0,0,0,0,0,0,0,0,0,0,0,0,0,0,0,0,0,0,0,0,0,0,0,0,0,0,0,0,0,0,0,0,0,0,0,0,0,0,0,0,0,0,0,0,0,0,0,0,0,0,0,0,0,0,0,0,0,0,0,0,0,0,0,0,0,0,0,0,0,0,0,0,0,0,0,0,0,0,0,0,0,0,0,0,0,0,0,0,0,0,0,0,0,0,0,0,0,0,0,0,0,0,0,0,0,0,0,0,0,0,0,0,0,0,0,0,0,0,0,0,0,0,0,0,0,0,0,0,0,0,0,0,0,0,0,0,0,0,0,0,0,0,0,0,0,0,0,0,0,0,0,0,0,0,0,0,0,0,0,0,0,0,0,0,0,0,0,0,0,0,0,0,0,0,0,0,0,0,0,0,0,0,0,0,0,0,0,0,0,0,0,0,0,0,0,0,0,0,0,0,0,0,0,0,0,0,0,0,0,0,0,0,0,0,0,0,0,0,0,0,0,0,0,0,0,0,0,0,0,0,0,0,0,0,0,0,0,0,0,0,0,0,0,0,0,0,0,0,0,0,0,0,0,0,0,0,0,0,0,0,0,0,0,0,0,0,0,0,0,0,0,0,0,0,0,0,0,0,0,0,0,0,0,0,0,0,0,0,0,0,0,0,0,0,0,0,0,0,0,0,0,0,0,0,0,0,0,0,0,0,0,0,0,0,0,0,0,0,0,0,0,0,0,0,0,0,0,0,0,0,0,0,0,0,0,0,0,0,0,0,0,0,0,0,0,0,0,0,0,0,0,0,0,0,0,0,0,0,0,0,0,0,0,0,0,0,0,0,0,0,0,0,0,0,0,0,0,0,0,0,0,0,0,0,0,0,0,0,0,0,0,0,0,0,0,0,0,0,0,0,0,0,0,0,0,0,0,0,0,0,0,0,0,0,0,0,0,0,0,0,0,0,0,0,0,0,0,0,0,0,0,0,0,0,0,0,0,0,0,0,0,0,0,0,0,0,0,0,0,0,0,0,0,0,0,0,0,0,0,0,0,0,0,0,0,0,0,0,0,0,0,0,0,0,0,0,0,0,0,0,0,0,0,0,0,0,0,0,0,0,0,0,0,0,0,0,0,0,0,0,0,0,0,0,0,0,0,0,0,0,0,0,0,0,0,0,0,0,0,0,0,0,0,0,0,0,0,0,0,0,0,0,0,0,0,0,0,0,0,0,0,0,0,0,0,0,0,0,0,0,0,0,0,0,0,0,0,0,0,0,0,0,0,0,0,0,0,0,0,0,0,0,0,0,0,0,0,0,0,0,0,0,0,0,0,0,0,0,0,0,0,0,0,0,0,0,0,0,0,0,0,0,0,0,0,0,0,0,0,0,0,0,0,0,0,0,0,0,0,0,0,0,0,0,0,0,0,0,0,0,0,0,0,0,0,0,0,0,0,0,0,0,0,0,0,0,0,0,0,0,0,0,0,0,0,0,0,0,0,0,0,0,0,0,0,0,0,0,0,0,0,0,0,0,0,0,0,0,0,0,0,0,0,0,0,0,0,0,0,0,0,0,0,0,0,0,0,0,0,0,0,0,0,0,0,0,0,0,0,0,0,0,0,0,0,0,0,0,0,0,0,0,0,0,0,0,0,0,0,0,0,0,0,0,0,0,0,0,0,0,0,0,0,0,0,0,0,0,0,0,0,0,0,0,0,0,0,0,0,0,0,0,0,0,0,0,0,0,0,0,0,0,0,0,0,0,0,0,0,0,0,0,0,0,0,0,0,0,0,0,0,0,0,0,0,0,0,0,0,0,0,0,0,0,0,0,0,0,0,0,0,0,0,0,0,0,0,0,0,0,0,0,0,0,0,0,0,0,0,0,0,0,0,0,0,0,0,0,0,0,0,0,0,0,0,0,0,0,0,0,0,0,0,0,0,0,0,0,0,0,0,0,0,0,0,0,0,0,0,0,0,0,0,0,0,0,0,0,0,0,0,0,0,0,0,0,0,0,0,0,0,0,0,0,0,0,0,0,0,0,0,0,0,0,0,0,0,0,0,0,0,0,0,0,0,0,0,0,0,0,0,0,0,0,0,0,0,0,0,0,0,0,0,0,0,0,0,0,0,0,0,0,0,0,0,0,0,0,0,0,0,0,0,0,0,0,0,0,0,0,0,0,0,0,0,0,0,0,0,0,0,0,0,0,0,0,0,0,0,0,0,0,0,0,0,0,0,0,0,0,0,0,0,0,0,0,0,0,0,0,0,0,0,0,0,0,0,0,0,0,0,0,0,0,0,0,0,0,0,0,0,0,0,0,0,0,0,0,0,0,0,0,0,0,0,0,0,0,0,0,0,0,0,0,0,0,0,0,0,0,0,0,0,0,0,0,0,0,0,0,0,0,0,0,0,0,0,0,0,0,0,0,0,0,0,0,0,0,0,0,0,0,0,0,0,0,0,0,0,0,0,0,0,0,0,0,0,0,0,0,0,0,0,0,0,0,0,0,0,0,0,0,0,0,0,0,0,0,0,0,0,0,0,0,0,0,0,0,0,0,0,0,0,0,0,0,0,0,0,0,0,0,0,0,0,0,0,0,0,0,0,0,0,0,0,0,0,0,0,0,0,0,0,0,0,0,0,0,0,0,0,0,0,0,0,0,0,0,0,0,0,0,0,0,0,0,0,0,0,0,0,0,0,0,0,0,0,0,0,0,0,0,0,0,0,0,0,0,0,0,0,0,0,0,0,0,0,0,0,0,0,0,0,0,0,0,0,0,0,0,0,0,0,0,0,0,0,0,0,0,0,0,0,0,0,0,0,0,0,0,0,0,0,0,0,0,0,0,0,0,0,0,0,0,0,0,0,0,0,0,0,0,0,0,0,0,0,0,0,0,0,0,0,0,0,0,0,0,0,0,0,0,0,0,0,0,0,0,0,0,0,0,0,0,0,0,0,0,0,0,0,0,0,0,0,0,0,0,0,0,0,0,0,0,0,0,0,0,0,0,0,0,0,0,0,0,0,0,0,0,0,0,0,0,0,0,0,0,0,0,0,0,0,0,0,0,0,0,0,0,0,0,0,0,0,0,0,0,0,0,0,0,0,0,0,0,0,0,0,0,0,0,0,0,0,0,0,0,0,0,0,0,0,0,0,0,0,0,0,0,0,0,0,0,0,0,0,0,0,0,0,0,0,0,0,0,0,0,0,0,0,0,0,0,0,0,0,0,0,0,0,0,0,0,0,0,0,0,0,0,0,0,0,0,0,0,0,0,0,0,0,0,0,0,0,0,0,0,0,0,0,0,0,0,0,0,0,0,0,0,0,0,0,0,0,0,0,0,0,0,0,0,0,0,0,0,0,0,0,0,0,0,0,0,0,0,0,0,0,0,0,0,0,0,0,0,0,0,0,0,0,0,0,0,0,0,0,0,0,0,0,0,0,0,0,0,0,0,0,0,0,0,0,0,0,0,0,0,0,0,0,0,0,0,0,0,0,0,0,0,0,0,0,0,0,0,0,0,0,0,0,0,0,0,0,0,0,0,0,0,0,0,0,0,0,0,0,0,0,0,0,0,0,0,0,0,0,0,0,0,0,0,0,0,0,0,0,0,0,0,0,0,0,0,0,0,0,0,0,0,0,0,0,0,0,0,0,0,0,0,0,0,0,0,0,0,0,0,0,0,0,0,0,0,0,0,0,0,0,0,0,0,0,0,0,0,0,0,0,0,0,0,0,0,0,0,0,0,0,0,0,0,0,0,0,0,0,0,0,0,0,0,0,0,0,0,0,0,0,0,0,0,0,0,0,0,0,0,0,0,0,0,0,0,0,0,0,0,0,0,0,0,0,0,0,0,0,0,0,0,0,0,0,0,0,0,0,0,0,0,0,0,0,0,0,0,0,0,0,0,0,0,0,0,0,0,0,0,0,0,0,0,0,0,0,0,0,0,0,0,0,0,0,0,0,0,0,0,0,0,0,0,0,0,0,0,0,0,0,0,0,0,0,0,0,0,0,0,0,0,0,0,0,0,0,0,0,0,0,0,0,0,0,0,0,0,0,0,0,0,0,0,0,0,0,0,0,0,0,0,0,0,0,0,0,0,0,0,0,0,0,0,0,0,0,0,0,0,0,0,0,0,0,0,0,0,0,0,0,0,0,0,0,0,0,0,0,0,0,0,0,0,0,0,0,0,0,0,0,0,0,0,0,0,0,0,0,0,0,0,0,0,0,0,0,0,0,0,0,0,0,0,0,0,0,0,0,0,0,0,0,0,0,0,0,0,0,0,0,0,0,0,0,0,0,0,0,0,0,0,0,0,0,0,0,0,0,0,0,0,0,0,0,0,0,0,0,0,0,0,0,0,0,0,0,0,0,0,0,0,0,0,0,0,0,0,0,0,0,0,0,0,0,0,0,0,0,0,0,0,0,0,0,0,0,0,0,0,0,0,0,0,0,0,0,0,0,0,0,0,0,0,0,0,0,0,0,0,0,0,0,0,0,0,0,0,0,0,0,0,0,0,0,0,0,0,0,0,0,0,0,0,0,0,0,0,0,0,0,0,0,0,0,0,0,0,0,0,0,0,0,0,0,0,0,0,0,0,0,0,0,0,0,0,0,0,0,0,0,0,0,0,0,0,0,0,0,0,0,0,0,0,0,0,0,0,0,0,0,0,0,0,0,0,0,0,0,0,0,0,0,0,0,0,0,0,0,0,0,0,0,0,0,0,0,0,0,0,0,0,0,0,0,0,0,0,0,0,0,0,0,0,0,0,0,0,0,0,0,0,0,0,0,0,0,0,0,0,0,0,0,0,0,0,0,0,0,0,0,0,0,0,0,0,0,0,0,0,0,0,0,0,0,0,0,0,0,0,0,0,0,0,0,0,0,0,0,0,0,0,0,0,0,0,0,0,0,0,0,0,0,0,0,0,0,0,0,0,0,0,0,0,0,0,0,0,0,0,0,0,0,0,0,0,0,0,0,0,0,0,0,0,0,0,0,0,0,0,0,0,0,0,0,0,0,0,0,0,0,0,0,0,0,0,0,0,0,0,0,0,0,0,0,0,0,0,0,0,0,0,0,0,0,0,0,0,0,0,0,0,0,0,0,0,0,0,0,0,0,0,0,0,0,0,0,0,0,0,0,0,0,0,0,0,0,0,0,0,0,0,0,0,0,0,0,0,0,0,0,0,0,0,0,0,0,0,0,0,0,0,0,0,0,0,0,0,0,0,0,0,0,0,0,0,0,0,0,0,0,0,0,0,0,0,0,0,0,0,0,0,0,0,0,0,0,0,0,0,0,0,0,0,0,0,0,0,0,0,0,0,0,0,0,0,0,0,0,0,0,0,0,0,0,0,0,0,0,0,0,0,0,0,0,0,0,0,0,0,0,0,0,0,0,0,0,0,0,0,0,0,0,0,0,0,0,0,0,0,0,0,0,0,0,0,0,0,0,0,0,0,0,0,0,0,0,0,0,0,0,0,0,0,0,0,0,0,0,0,0,0,0,0,0,0,0,0,0,0,0,0,0,0,0,0,0,0,0,0,0,0,0,0,0,0,0,0,0,0,0,0,0,0,0,0,0,0,0,0,0,0,0,0,0,0,0,0,0,0,0,0,0,0,0,0,0,0,0,0,0,0,0,0,0,0,0,0,0,0,0,0,0,0,0,0,0,0,0,0,0,0,0,0,0,0,0,0,0,0,0,0,0,0,0,0,0,0,0,0,0,0,0,0,0,0,0,0,0,0,0,0,0,0,0,0,0,0,0,0,0,0,0,0,0,0,0,0,0,0,0,0,0,0,0,0,0,0,0,0,0,0,0,0,0,0,0,0,0,0,0,0,0,0,0,0,0,0,0,0,0,0,0,0,0,0,0,0,0,0,0,0,0,0,0,0,0,0,0,0,0,0,0,0,0,0,0,0,0,0,0,0,0,0,0,0,0,0,0,0,0,0,0,0,0,0,0,0,0,0,0,0,0,0,0,0,0,0,0,0,0,0,0,0,0,0,0,0,0,0,0,0,0,0,0,0,0,0,0,0,0,0,0,0,0,0,0,0,0,0,0,0,0,0,0,0,0,0,0,0,0,0,0,0,0,0,0,0,0,0,0,0,0,0,0,0,0,0,0,0,0,0,0,0,0,0,0,0,0,0,0,0,0,0,0,0,0,0,0,0,0,0,0,0,0,0,0,0,0,0,0,0,0,0,0,0,0,0,0,0,0,0,0,0,0,0,0,0,0,0,0,0,0,0,0,0,0,0,0,0,0,0,0,0,0,0,0,0,0,0,0,0,0,0,0,0,0,0,0,0,0,0,0,0,0,0,0,0,0,0,0,0,0,0,0,0,0,0,0,0,0,0,0,0,0,0,0,0,0,0,0,0,0,0,0,0,0,0,0,0,0,0,0,0,0,0,0,0,0,0,0,0,0,0,0,0,0,0,0,0,0,0,0,0,0,0,0,0,0,0,0,0,0,0,0,0,0,0,0,0,0,0,0,0,0,0,0,0,0,0,0,0,0,0,0,0,0,0,0,0,0,0,0,0,0,0,0,0,0,0,0,0,0,0,0,0,0,0,0,0,0,0,0,0,0,0,0,0,0,0,0,0,0,0,0,0,0,0,0,0,0,0,0,0,0,0,0,0,0,0,0,0,0,0,0,0,0,0,0,0,0,0,0,0,0,0,0,0,0,0,0,0,0,0,0,0,0,0,0,0,0,0,0,0,0,0,0,0,0,0,0,0,0,0,0,0,0,0,0,0,0,0,0,0,0,0,0,0,0,0,0,0,0,0,0,0,0,0,0,0,0,0,0,0,0,0,0,0,0,0,0,0,0,0,0,0,0,0,0,0,0,0,0,0,0,0,0,0,0,0,0,0,0,0,0,0,0,0,0,0,0,0,0,0,0,0,0,0,0,0,0,0,0,0,0,0,0,0,0,0,0,0,0,0,0,0,0,0,0,0,0,0,0,0,0,0,0,0,0,0,0,0,0,0,0,0,0,0,0,0,0,0,0,0,0,0,0,0,0,0,0,0,0,0,0,0,0,0,0,0,0,0,0,0,0,0,0,0,0,0,0,0,0,0,0,0,0,0,0,0,0,0,0,0,0,0,0,0,0,0,0,0,0,0,0,0,0,0,0,0,0,0,0,0,0,0,0,0,0,0,0,0,0,0,0,0,0,0,0,0,0,0,0,0,0,0,0,0,0,0,0,0,0,0,0,0,0,0,0,0,0,0,0,0,0,0,0,0,0,0,0,0,0,0,0,0,0,0,0,0,0,0,0,0,0,0,0,0,0,0,0,0,0,0,0,0,0,0,0,0,0,0,0,0,0,0,0,0,0,0,0,0,0,0,0,0,0,0,0,0,0,0,0,0,0,0,0,0,0,0,0,0,0,0,0,0,0,0,0,0,0,0,0,0,0,0,0,0,0,0,0,0,0,0,0,0,0,0,0,0,0,0,0,0,0,0,0,0,0,0,0,0,0,0,0,0,0,0,0,0,0,0,0,0,0,0,0,0,0,0,0,0,0,0,0,0,0,0,0,0,0,0,0,0,0,0,0,0,0,0,0,0,0,0,0,0,0,0,0,0,0,0,0,0,0,0,0,0,0,0,0,0,0,0,0,0,0,0,0,0,0,0,0,0,0,0,0,0,0,0,0,0,0,0,0,0,0,0,0,0,0,0,0,0,0,0,0,0,0,0,0,0,0,0,0,0,0,0,0,0,0,0,0,0,0,0,0,0,0,0,0,0,0,0,0,0,0,0,0,0,0,0,0,0,0,0,0,0,0,0,0,0,0,0,0,0,0,0,0,0,0,0,0,0,0,0,0,0,0,0,0,0,0,0,0,0,0,0,0,0,0,0,0,0,0,0,0,0,0,0,0,0,0,0,0,0,0,0,0,0,0,0,0,0,0,0,0,0,0,0,0,0,0,0,0,0,0,0,0,0,0,0,0,0,0,0,0,0,0,0,0,0,0,0,0,0,0,0,0,0,0,0,0,0,0,0,0,0,0,0,0,0,0,0,0,0,0,0,0,0,0,0,0,0,0,0,0,0,0,0,0,0,0,0,0,0,0,0,0,0,0,0,0,0,0,0,0,0,0,0,0,0,0,0,0,0,0,0,0,0,0,0,0,0,0,0,0,0,0,0,0,0,0,0,0,0,0,0,0,0,0,0,0,0,0,0,0,0,0,0,0,0,0,0,0,0,0,0,0,0,0,0,0,0,0,0,0,0,0,0,0,0,0,0,0,0,0,0,0,0,0,0,0,0,0,0,0,0,0,0,0,0,0,0,0,0,0,0,0,0,0,0,0,0,0,0,0,0,0,0,0,0,0,0,0,0,0,0,0,0,0,0,0,0,0,0,0,0,0,0,0,0,0,0,0,0,0,0,0,0,0,0,0,0,0,0,0,0,0,0,0,0,0,0,0,0,0,0,0,0,0,0,0,0,0,0,0,0,0,0,0,0,0,0,0,0,0,0,0,0,0,0,0,0,0,0,0,0,0,0,0,0,0,0,0,0,0,0,0,0,0,0,0,0,0,0,0,0,0,0,0,0,0,0,0,0,0,0,0,0,0,0,0,0,0,0,0,0,0,0,0,0,0,0,0,0,0,0,0,0,0,0,0,0,0,0,0,0,0,0,0,0,0,0,0,0,0,0,0,0,0,0,0,0,0,0,0,0,0,0,0,0,0,0,0,0,0,0,0,0,0,0,0,0,0,0,0,0,0,0,0,0,0,0,0,0,0,0,0,0,0,0,0,0,0,0,0,0,0,0,0,0,0,0,0,0,0,0,0,0,0,0,0,0,0,0,0,0,0,0,0,0,0,0,0,0,0,0,0,0,0,0,0,0,0,0,0,0,0,0,0,0,0,0,0,0,0,0,0,0,0,0,0,0,0,0,0,0,0,0,0,0,0,0,0,0,0,0,0,0,0,0,0,0,0,0,0,0,0,0,0,0,0,0,0,0,0,0,0,0,0,0,0,0,0,0,0,0,0,0,0,0,0,0,0,0,0,0,0,0,0,0,0,0,0,0,0,0,0,0,0,0,0,0,0,0,0,0,0,0,0,0,0,0,0,0,0,0,0,0,0,0,0,0,0,0,0,0,0,0,0,0,0,0,0,0,0,0,0,0,0,0,0,0,0,0,0,0,0,0,0,0,0,0,0,0,0,0,0,0,0,0,0,0,0,0,0,0,0,0,0,0,0,0,0,0,0,0,0,0,0,0,0,0,0,0,0,0,0,0,0,0,0,0,0,0,0,0,0,0,0,0,0,0,0,0,0,0,0,0,0,0,0,0,0,0,0,0,0,0,0,0,0,0,0,0,0,0,0,0,0,0,0,0,0,0,0,0,0,0,0,0,0,0,0,0,0,0,0,0,0,0,0,0,0,0,0,0,0,0,0,0,0,0,0,0,0,0,0,0,0,0,0,0,0,0,0,0,0,0,0,0,0,0,0,0,0,0,0,0,0,0,0,0,0,0,0,0,0,0,0,0,0,0,0,0,0,0,0,0,0,0,0,0,0,0,0,0,0,0,0,0,0,0,0,0,0,0,0,0,0,0,0,0,0,0,0,0,0,0,0,0,0,0,0,0,0,0,0,0,0,0,0,0,0,0,0,0,0,0,0,0,0,0,0,0,0,0,0,0,0,0,0,0,0,0,0,0,0,0,0,0,0,0,0,0,0,0,0,0,0,0,0,0,0,0,0,0,0,0,0,0,0,0,0,0,0,0,0,0,0,0,0,0,0,0,0,0,0,0,0,0,0,0,0,0,0,0,0,0,0,0,0,0,0,0,0,0,0,0,0,0,0,0,0,0,0,0,0,0,0,0,0,0,0,0,0,0,0,0,0,0,0,0,0,0,0,0,0,0,0,0,0,0,0,0,0,0,0,0,0,0,0,0,0,0,0,0,0,0,0,0,0,0,0,0,0,0,0,0,0,0,0,0,0,0,0,0,0,0,0,0,0,0,0,0,0,0,0,0,0,0,0,0,0,0,0,0,0,0,0,0,0,0,0,0,0,0,0,0,0,0,0,0,0,0,0,0,0,0,0,0,0,0,0,0,0,0,0,0,0,0,0,0,0,0,0,0,0,0,0,0,0,0,0,0,0,0,0,0,0,0,0,0,0,0,0,0,0,0,0,0,0,0,0,0,0,0,0,0,0,0,0,0,0,0,0,0,0,0,0,0,0,0,0,0,0,0,0,0,0,0,0,0,0,0,0,0,0,0,0,0,0,0,0,0,0,0,0,0,0,0,0,0,0,0,0,0,0,0,0,0,0,0,0,0,0,0,0,0,0,0,0,0,0,0,0,0,0,0,0,0,0,0,0,0,0,0,0,0,0,0,0,0,0,0,0,0,0,0,0,0,0,0,0,0,0,0,0,0,0,0,0,0,0,0,0,0,0,0,0,0,0,0,0,0,0,0,0,0,0,0,0,0,0,0,0,0,0,0,0,0,0,0,0,0,0,0,0,0,0,0,0,0,0,0,0,0,0,0,0,0,0,0,0,0,0,0,0,0,0,0,0,0,0,0,0,0,0,0,0,0,0,0,0,0,0,0,0,0,0,0,0,0,0,0,0,0,0,0,0,0,0,0,0,0,0,0,0,0,0,0,0,0,0,0,0,0,0,0,0,0,0,0,0,0,0,0,0,0,0,0,0,0,0,0,0,0,0,0,0,0,0,0,0,0,0,0,0,0,0,0,0,0,0,0,0,0,0,0,0,0,0,0,0,0,0,0,0,0,0,0,0,0,0,0,0,0,0,0,0,0,0,0,0,0,0,0,0,0,0,0,0,0,0,0,0,0,0,0,0,0,0,0,0,0,0,0,0,0,0,0,0,0,0,0,0,0,0,0,0,0,0,0,0,0,0,0,0,0,0,0,0,0,0,0,0,0,0,0,0,0,0,0,0,0,0,0,0,0,0,0,0,0,0,0,0,0,0,0,0,0,0,0,0,0,0,0,0,0,0,0,0,0,0,0,0,0,0,0,0,0,0,0,0,0,0,0,0,0,0,0,0,0,0,0,0,0,0,0,0,0,0,0,0,0,0,0,0,0,0,0,0,0,0,0,0,0,0,0,0,0,0,0,0,0,0,0,0,0,0,0,0,0,0,0,0,0,0,0,0,0,0,0,0,0,0,0,0,0,0,0,0,0,0,0,0,0,0,0,0,0,0,0,0,0,0,0,0,0,0,0,0,0,0,0,0,0,0,0,0,0,0,0,0,0,0,0,0,0,0,0,0,0,0,0,0,0,0,0,0,0,0,0,0,0,0,0,0,0,0,0,0,0,0,0,0,0,0,0,0,0,0,0,0,0,0,0,0,0,0,0,0,0,0,0,0,0,0,0,0,0,0,0,0,0,0,0,0,0,0,0,0,0,0,0,0,0,0,0,0,0,0,0,0,0,0,0,0,0,0,0,0,0,0,0,0,0,0,0,0,0,0,0,0,0,0,0,0,0,0,0,0,0,0,0,0,0,0,0,0,0,0,0,0,0,0,0,0,0,0,0,0,0,0,0,0,0,0,0,0,0,0,0,0,0,0,0,0,0,0,0,0,0,0,0,0,0,0,0,0,0,0,0,0,0,0,0,0,0,0,0,0,0,0,0,0,0,0,0,0,0,0,0,0,0,0,0,0,0,0,0,0,0,0,0,0,0,0,0,0,0,0,0,0,0,0,0,0,0,0,0,0,0,0,0,0,0,0,0,0,0,0,0,0,0,0,0,0,0,0,0,0,0,0,0,0,0,0,0,0,0,0,0,0,0,0,0,0,0,0,0,0,0,0,0,0,0,0,0,0,0,0,0,0,0,0,0,0,0,0,0,0,0,0,0,0,0,0,0,0,0,0,0,0,0,0,0,0,0,0,0,0,0,0,0,0,0,0,0,0,0,0,0,0,0,0,0,0,0,0,0,0,0,0,0,0,0,0,0,0,0,0,0,0,0,0,0,0,0,0,0,0,0,0,0,0,0,0,0,0,0,0,0,0,0,0,0,0,0,0,0,0,0,0,0,0,0,0,0,0,0,0,0,0,0,0,0,0,0,0,0,0,0,0,0,0,0,0,0,0,0,0,0,0,0,0,0,0,0,0,0,0,0,0,0,0,0,0,0,0,0,0,0,0,0,0,0,0,0,0,0,0,0,0,0,0,0,0,0,0,0,0,0,0,0,0,0,0,0,0,0,0,0,0,0,0,0,0,0,0,0,0,0,0,0,0,0,0,0,0,0,0,0,0,0,0,0,0,0,0,0,0,0,0,0,0,0,0,0,0,0,0,0,0,0,0,0,0,0,0,0,0,0,0,0,0,0,0,0,0,0,0,0,0,0,0,0,0,0,0,0,0,0,0,0,0,0,0,0,0,0,0,0,0,0,0,0,0,0,0,0,0,0,0,0,0,0,0,0,0,0,0,0,0,0,0,0,0,0,0,0,0,0,0,0,0,0,0,0,0,0,0,0,0,0,0,0,0,0,0,0,0,0,0,0,0,0,0,0,0,0,0,0,0,0,0,0,0,0,0,0,0,0,0,0,0,0,0,0,0,0,0,0,0,0,0,0,0,0,0,0,0,0,0,0,0,0,0,0,0,0,0,0,0,0,0,0,0,0,0,0,0,0,0,0,0,0,0,0,0,0,0,0,0,0,0,0,0,0,0,0,0,0,0,0,0,0,0,0,0,0,0,0,0,0,0,0,0,0,0,0,0,0,0,0,0,0,0,0,0,0,0,0,0,0,0,0,0,0,0,0,0,0,0,0,0,0,0,0,0,0,0,0,0,0,0,0,0,0,0,0,0,0,0,0,0,0,0,0,0,0,0,0,0,0,0,0,0,0,0,0,0,0,0,0,0,0,0,0,0,0,0,0,0,0,0,0,0,0,0,0,0,0,0,0,0,0,0,0,0,0,0,0,0,0,0,0,0,0,0,0,0,0,0,0,0,0,0,0,0,0,0,0,0,0,0,0,0,0,0,0,0,0,0,0,0,0,0,0,0,0,0,0,0,0,0,0,0,0,0,0,0,0,0,0,0,0,0,0,0,0,0,0,0,0,0,0,0,0,0,0,0,0,0,0,0,0,0,0,0,0,0,0,0,0,0,0,0,0,0,0,0,0,0,0,0,0,0,0,0,0,0,0,0,0,0,0,0,0,0,0,0,0,0,0,0,0,0,0,0,0,0,0,0,0,0,0,0,0,0,0,0,0,0,0,0,0,0,0,0,0,0,0,0,0,0,0,0,0,0,0,0,0,0,0,0,0,0,0,0,0,0,0,0,0,0,0,0,0,0,0,0,0,0,0,0,0,0,0,0,0,0,0,0,0,0,0,0,0,0,0,0,0,0,0,0,0,0,0,0,0,0,0,0,0,0,0,0,0,0,0,0,0,0,0,0,0,0,0,0,0,0,0,0,0,0,0,0,0,0,0,0,0,0,0,0,0,0,0,0,0,0,0,0,0,0,0,0,0,0,0,0,0,0,0,0,0,0,0,0,0,0,0,0,0,0,0,0,0,0,0,0,0,0,0,0,0,0,0,0,0,0,0,0,0,0,0,0,0,0,0,0,0,0,0,0,0,0,0,0,0,0,0,0,0,0,0,0,0,0,0,0,0,0,0,0,0,0,0,0,0,0,0,0,0,0,0,0,0,0,0,0,0,0,0,0,0,0,0,0,0,0,0,0,0,0,0,0,0,0,0,0,0,0,0,0,0,0,0,0,0,0,0,0,0,0,0,0,0,0,0,0,0,0,0,0,0,0,0,0,0,0,0,0,0,0,0,0,0,0,0,0,0,0,0,0,0,0,0,0,0,0,0,0,0,0,0,0,0,0,0,0,0,0,0,0,0,0,0,0,0,0,0,0,0,0,0,0,0,0,0,0,0,0,0,0,0,0,0,0,0,0,0,0,0,0,0,0,0,0,0,0,0,0,0,0,0,0,0,0,0,0,0,0,0,0,0,0,0,0,0,0,0,0,0,0,0,0,0,0,0,0,0,0,0,0,0,0,0,0,0,0,0,0,0,0,0,0,0,0,0,0,0,0,0,0,0,0,0,0,0,0,0,0,0,0,0,0,0,0,0,0,0,0,0,0,0,0,0,0,0,0,0,0,0,0,0,0,0,0,0,0,0,0,0,0,0,0,0,0,0,0,0,0,0,0,0,0,0,0,0,0,0,0,0,0,0,0,0,0,0,0,0,0,0,0,0,0,0,0,0,0,0,0,0,0,0,0,0,0,0,0,0,0,0,0,0,0,0,0,0,0,0,0,0,0,0,0,0,0,0,0,0,0,0,0,0,0,0,0,0,0,0,0,0,0,0,0,0,0,0,0,0,0,0,0,0,0,0,0,0,0,0,0,0,0,0,0,0,0,0,0,0,0,0,0,0,0,0,0,0,0,0,0,0,0,0,0,0,0,0,0,0,0,0,0,0,0,0,0,0,0,0,0,0,0,0,0,0,0,0,0,0,0,0,0,0,0,0,0,0,0,0,0,0,0,0,0,0,0,0,0,0,0,0,0,0,0,0,0,0,0,0,0,0,0,0,0,0,0,0,0,0,0,0,0,0,0,0,0,0,0,0,0,0,0,0,0,0,0,0,0,0,0,0,0,0,0,0,0,0,0,0,0,0,0,0,0,0,0,0,0,0,0,0,0,0,0,0,0,0,0,0,0,0,0,0,0,0,0,0,0,0,0,0,0,0,0,0,0,0,0,0,0,0,0,0,0,0,0,0,0,0,0,0,0,0,0,0,0,0,0,0,0,0,0,0,0,0,0,0,0,0,0,0,0,0,0,0,0,0,0,0,0,0,0,0,0,0,0,0,0,0,0,0,0,0,0,0,0,0,0,0,0,0,0,0,0,0,0,0,0,0,0,0,0,0,0,0,0,0,0,0,0,0,0,0,0,0,0,0,0,0,0,0,0,0,0,0,0,0,0,0,0,0,0,0,0,0,0,0,0,0,0,0,0,0,0,0,0,0,0,0,0,0,0,0,0,0,0,0,0,0,0,0,0,0,0,0,0,0,0,0,0,0,0,0,0,0,0,0,0,0,0,0,0,0,0,0,0,0,0,0,0,0,0,0,0,0,0,0,0,0,0,0,0,0,0,0,0,0,0,0,0,0,0,0,0,0,0,0,0,0,0,0,0,0,0,0,0,0,0,0,0,0,0,0,0,0,0,0,0,0,0,0,0,0,0,0,0,0,0,0,0,0,0,0,0,0,0,0,0,0,0,0,0,0,0,0,0,0,0,0,0,0,0,0,0,0,0,0,0,0,0,0,0,0,0,0,0,0,0,0,0,0,0,0,0,0,0,0,0,0,0,0,0,0,0,0,0,0,0,0,0,0,0,0,0,0,0,0,0,0,0,0,0,0,0,0,0,0,0,0,0,0,0,0,0,0,0,0,0,0,0,0,0,0,0,0,0,0,0,0,0,0,0,0,0,0,0,0,0,0,0,0,0,0,0,0,0,0,0,0,0,0,0,0,0,0,0,0,0,0,0,0,0,0,0,0,0,0,0,0,0,0,0,0,0,0,0,0,0,0,0,0,0,0,0,0,0,0,0,0,0,0,0,0,0,0,0,0,0,0,0,0,0,0,0,0,0,0,0,0,0,0,0,0,0,0,0,0,0,0,0,0,0,0,0,0,0,0,0,0,0,0,0,0,0,0,0,0,0,0,0,0,0,0,0,0,0,0,0,0,0,0,0,0,0,0,0,0,0,0,0,0,0,0,0,0,0,0,0,0,0,0,0,0,0,0,0,0,0,0,0,0,0,0,0,0,0,0,0,0,0,0,0,0,0,0,0,0,0,0,0,0,0,0,0,0,0,0,0,0,0,0,0,0,0,0,0,0,0,0,0,0,0,0,0,0,0,0,0,0,0,0,0,0,0,0,0,0,0,0,0,0,0,0,0,0,0,0,0,0,0,0,0,0,0,0,0,0,0,0,0,0,0,0,0,0,0,0,0,0,0,0,0,0,0,0,0,0,0,0,0,0,0,0,0,0,0,0,0,0,0,0,0,0,0,0,0,0,0,0,0,0,0,0,0,0,0,0,0,0,0,0,0,0,0,0,0,0,0,0,0,0,0,0,0,0,0,0,0,0,0,0,0,0,0,0,0,0,0,0,0,0,0,0,0,0,0,0,0,0,0,0,0,0,0,0,0,0,0,0,0,0,0,0,0,0,0,0,0,0,0,0,0,0,0,0,0,0,0,0,0,0,0,0,0,0,0,0,0,0,0,0,0,0,0,0,0,0,0,0,0,0,0,0,0,0,0,0,0,0,0,0,0,0,0,0,0,0,0,0,0,0,0,0,0,0,0,0,0,0,0,0,0,0,0,0,0,0,0,0,0,0,0,0,0,0,0,0,0,0,0,0,0,0,0,0,0,0,0,0,0,0,0,0,0,0,0,0,0,0,0,0,0,0,0,0,0,0,0,0,0,0,0,0,0,0,0,0,0,0,0,0,0,0,0,0,0,0,0,0,0,0,0,0,0,0,0,0,0,0,0,0,0,0,0,0,0,0,0,0,0,0,0,0,0,0,0,0,0,0,0,0,0,0,0,0,0,0,0,0,0,0,0,0,0,0,0,0,0,0,0,0,0,0,0,0,0,0,0,0,0,0,0,0,0,0,0,0,0,0,0,0,0,0,0,0,0,0,0,0,0,0,0,0,0,0,0,0,0,0,0,0,0,0,0,0,0,0,0,0,0,0,0,0,0,0,0,0,0,0,0,0,0,0,0,0,0,0,0,0,0,0,0,0,0,0,0,0,0,0,0,0,0,0,0,0,0,0,0,0,0,0,0,0,0,0,0,0,0,0,0,0,0,0,0,0,0,0,0,0,0,0,0,0,0,0,0,0,0,0,0,0,0,0,0,0,0,0,0,0,0,0,0,0,0,0,0,0,0,0,0,0,0,0,0,0,0,0,0,0,0,0,0,0,0,0,0,0,0,0,0,0,0,0,0,0,0,0,0,0,0,0,0,0,0,0,0,0,0,0,0,0,0,0,0,0,0,0,0,0,0,0,0,0,0,0,0,0,0,0,0,0,0,0,0,0,0,0,0,0,0,0,0,0,0,0,0,0,0,0,0,0,0,0,0,0,0,0,0,0,0,0,0,0,0,0,0,0,0,0,0,0,0,0,0,0,0,0,0,0,0,0,0,0,0,0,0,0,0,0,0,0,0,0,0,0,0,0,0,0,0,0,0,0,0,0,0,0,0,0,0,0,0,0,0,0,0,0,0,0,0,0,0,0,0,0,0,0,0,0,0,0,0,0,0,0,0,0,0,0,0,0,0,0,0,0,0,0,0,0,0,0,0,0,0,0,0,0,0,0,0,0,0,0,0,0,0,0,0,0,0,0,0,0,0,0,0,0,0,0,0,0,0,0,0,0,0,0,0,0,0,0,0,0,0,0,0,0,0,0,0,0,0,0,0,0,0,0,0,0,0,0,0,0,0,0,0,0,0,0,0,0,0,0,0,0,0,0,0,0,0,0,0,0,0,0,0,0,0,0,0,0,0,0,0,0,0,0,0,0,0,0,0,0,0,0,0,0,0,0,0,0,0,0,0,0,0,0,0,0,0,0,0,0,0,0,0,0,0,0,0,0,0,0,0],\"x0\":\" \",\"xaxis\":\"x\",\"y\":[83807.86,0.0,125510.82,0.0,142051.07,134603.88,102016.72,0.0,0.0,0.0,0.0,143129.41,0.0,0.0,0.0,0.0,0.0,0.0,0.0,0.0,136815.64,0.0,141349.43,59697.17,85311.7,110112.54,0.0,0.0,145260.23,76548.6,0.0,70349.48,0.0,117419.35,155931.11,109421.13,103391.38,103769.22,116363.37,146050.97,0.0,125211.92,127864.4,75888.2,40685.92,136857.0,152328.88,56084.69,78707.16,109166.37,169831.46,101633.04,123180.01,150725.53,98373.26,0.0,163607.18,157780.84,0.0,178718.19,0.0,0.0,77253.22,122189.66,96645.54,0.0,90307.62,0.0,0.0,0.0,81623.67,118626.55,0.0,0.0,0.0,176273.95,102827.44,97086.4,0.0,0.0,0.0,0.0,82674.15,0.0,88938.62,99806.85,150092.8,90536.81,108055.1,100238.35,106190.55,132351.29,167864.4,0.0,185173.81,129433.34,120193.42,0.0,126384.42,0.0,0.0,101827.07,0.0,130862.43,122570.87,0.0,124828.46,144895.05,63663.93,133463.1,137452.09,0.0,125851.93,113157.22,138296.94,106967.18,120681.63,0.0,0.0,0.0,127609.59,0.0,0.0,0.0,97259.25,123246.7,101060.25,0.0,108007.36,0.0,125189.75,109013.23,57929.81,130114.39,95826.49,169462.09,0.0,133868.21,0.0,190479.48,101993.12,122311.21,0.0,162150.42,0.0,0.0,99010.67,0.0,0.0,111388.18,84327.77,0.0,93012.89,61710.44,174790.15,0.0,107720.64,0.0,96423.84,141040.01,105420.18,176666.62,0.0,134954.53,106376.85,161814.64,0.0,0.0,63095.01,118287.01,49512.55,0.0,114722.05,0.0,0.0,170557.91,0.0,130830.22,0.0,0.0,0.0,119714.25,113978.97,0.0,81173.83,0.0,116803.8,105961.68,0.0,152400.51,0.0,103097.85,77846.9,0.0,0.0,79731.91,0.0,0.0,0.0,37266.67,127992.25,54901.01,108748.08,99906.19,184686.41,110654.02,79019.8,99240.51,0.0,0.0,52436.2,0.0,149297.19,0.0,145605.44,0.0,0.0,84026.86,0.0,0.0,118274.71,174185.98,113208.86,103907.28,119023.28,166297.89,0.0,63227.0,94521.17,0.0,0.0,135903.33,125169.26,149117.31,0.0,0.0,132311.71,0.0,0.0,118082.89,119266.69,156847.29,78398.69,0.0,63669.42,0.0,135296.33,153804.44,0.0,0.0,0.0,95741.75,145965.33,141441.75,0.0,0.0,144428.87,0.0,144848.74,116244.14,0.0,146502.07,117028.6,108269.37,150923.74,0.0,118342.26,0.0,0.0,0.0,0.0,106937.05,170331.37,114510.85,0.0,107594.11,81273.13,169399.6,0.0,187841.99,0.0,126776.3,101960.74,0.0,0.0,102535.57,99027.61,0.0,0.0,87271.41,102742.91,40105.51,152265.43,141947.67,106307.91,107884.81,125013.72,58469.37,0.0,152390.26,34013.63,0.0,101583.11,77168.87,124695.72,105934.96,0.0,0.0,0.0,0.0,161525.96,147199.07,183102.29,97378.54,136925.09,54503.55,155726.85,0.0,63349.75,129499.42,0.0,70438.01,0.0,0.0,0.0,152958.29,138306.34,0.0,0.0,124328.84,0.0,0.0,89588.35,0.0,0.0,0.0,0.0,0.0,162923.85,124576.65,80793.58,71340.09,127892.57,101084.36,0.0,99286.98,79871.02,104088.59,168190.33,85679.25,0.0,0.0,121551.58,122220.19,77780.29,0.0,125832.2,127299.34,174937.64,0.0,110071.1,139432.37,127357.76,0.0,0.0,0.0,0.0,111681.98,0.0,108738.71,0.0,89968.69,0.0,0.0,0.0,134169.62,93844.69,0.0,0.0,117992.59,100812.33,0.0,80262.6,156478.62,0.0,0.0,115217.99,155470.55,0.0,0.0,180075.22,97541.24,156067.05,81550.94,92310.54,169089.38,80613.93,121581.56,0.0,0.0,77637.35,0.0,0.0,116927.89,137326.65,0.0,0.0,67238.98,86569.76,0.0,133598.4,0.0,120092.52,89685.92,131317.48,93722.73,101160.99,120320.54,0.0,0.0,0.0,64097.75,119035.35,135219.57,93694.42,59408.63,114354.95,128173.9,0.0,151226.18,0.0,64740.12,112652.08,0.0,143964.36,122451.46,0.0,65253.07,128509.63,0.0,129834.67,138241.9,0.0,0.0,105204.01,152968.73,158261.68,121021.05,0.0,137715.66,121192.22,0.0,100486.18,92566.53,110929.96,0.0,138901.61,123217.66,0.0,0.0,0.0,0.0,72392.41,0.0,0.0,134811.3,115897.12,82034.0,174318.13,114206.84,0.0,111574.41,148249.54,123709.46,0.0,150525.8,0.0,0.0,0.0,0.0,111018.98,129755.99,0.0,129555.7,87202.38,146133.39,170184.99,139070.51,0.0,114193.24,167878.5,141616.55,145747.67,129120.64,110349.82,141325.56,78653.84,0.0,142253.65,75592.43,164113.04,0.0,0.0,138778.15,147832.15,135438.4,112564.62,125406.58,0.0,82259.29,0.0,0.0,0.0,0.0,150461.07,164870.81,121702.73,193858.2,131039.97,113829.45,0.0,81877.38,116326.07,0.0,0.0,0.0,0.0,127070.73,0.0,122549.64,176099.13,122388.38,0.0,0.0,118879.35,0.0,0.0,88736.44,0.0,0.0,97318.25,128468.69,133432.59,141782.57,135125.28,112212.14,66392.64,122552.34,76408.85,145071.24,0.0,109730.22,0.0,0.0,181656.51,0.0,95128.86,126615.94,0.0,76190.48,88109.81,0.0,0.0,123971.51,148116.48,116269.01,120599.21,144260.5,0.0,58629.97,0.0,0.0,0.0,0.0,169824.46,97530.25,145988.65,0.0,0.0,137494.28,147360.0,0.0,125167.02,0.0,151858.98,114628.4,0.0,95059.02,128736.39,156325.38,105405.97,0.0,0.0,160980.03,177619.71,62276.99,127559.97,0.0,95523.16,107749.03,110777.26,166733.92,157120.86,127160.78,0.0,156091.97,98668.18,134022.06,114292.48,135277.96,0.0,119782.72,129722.57,0.0,139180.2,134944.0,0.0,119182.73,0.0,71264.02,0.0,0.0,92140.15,0.0,177640.09,0.0,167997.6,82275.35,0.0,111962.99,131736.88,0.0,108239.11,98444.19,114540.38,187530.66,133636.16,0.0,84745.03,120599.38,0.0,127771.35,0.0,0.0,167772.96,95845.6,0.0,134714.7,0.0,0.0,157993.15,0.0,75263.16,137824.03,132578.92,156021.31,0.0,0.0,164284.72,0.0,0.0,112373.49,0.0,0.0,0.0,154333.82,111432.77,0.0,137390.11,0.0,111642.08,83543.37,186796.37,58641.43,137148.68,80001.23,86402.52,0.0,122874.74,97544.29,170826.55,153895.65,0.0,0.0,0.0,143637.58,147506.25,113980.21,0.0,0.0,76968.12,88293.13,0.0,0.0,163943.89,0.0,101430.3,117301.66,173340.83,0.0,134348.57,105525.65,106192.1,92113.61,0.0,128366.44,0.0,106545.53,145618.37,141541.25,57017.06,0.0,61825.5,0.0,0.0,171770.55,161064.64,90612.34,145105.64,174912.72,135213.71,0.0,116229.85,111201.41,0.0,131899.0,124525.52,0.0,47134.75,0.0,0.0,0.0,138657.08,70302.48,101609.01,0.0,130170.82,133802.29,106234.02,132628.98,103522.75,192390.52,0.0,0.0,128605.32,0.0,68598.56,106518.52,0.0,121326.42,67226.37,82931.85,145981.87,130796.33,151607.56,111577.01,107042.74,129605.99,0.0,0.0,132576.25,129101.3,108822.4,137948.51,100433.8,124626.07,139810.34,0.0,84496.71,116854.71,138333.03,0.0,78992.75,97257.41,122453.37,112940.07,0.0,133297.24,0.0,197041.8,71497.79,0.0,124532.78,82293.82,142120.91,149620.88,93147.0,97440.02,65046.08,95357.49,123105.88,0.0,0.0,121286.27,167738.82,104091.29,121980.56,0.0,50880.98,105514.69,0.0,99824.45,0.0,122964.88,0.0,0.0,0.0,95710.11,139706.31,0.0,102238.01,179380.74,0.0,108691.95,0.0,0.0,133377.8,0.0,0.0,116537.6,0.0,0.0,130131.08,0.0,0.0,107316.09,0.0,83181.29,0.0,153946.14,0.0,0.0,119624.54,121132.26,54817.55,0.0,80816.45,98205.77,94684.27,141604.76,0.0,0.0,81677.22,80293.98,155413.06,0.0,103818.43,0.0,214346.96,103023.26,0.0,0.0,111855.04,140348.56,0.0,145512.84,146720.98,107209.73,130933.74,0.0,0.0,0.0,0.0,0.0,123981.31,91622.42,126195.81,0.0,0.0,0.0,141581.71,0.0,148586.64,0.0,0.0,123403.85,0.0,106511.85,0.0,110555.37,0.0,92578.14,87070.23,0.0,91070.43,117412.19,90018.45,0.0,149641.53,122528.18,143734.01,155663.31,101736.66,125822.21,0.0,0.0,0.0,157791.07,0.0,0.0,181627.14,109679.72,190008.32,0.0,0.0,0.0,131344.52,101713.84,0.0,0.0,137963.07,129938.07,151421.44,122773.5,152303.8,0.0,79415.67,0.0,0.0,67495.04,164850.54,154776.42,143124.63,0.0,0.0,102133.38,79932.41,122717.53,92363.3,0.0,0.0,0.0,93460.47,0.0,40224.7,0.0,130538.77,132623.6,103465.02,128262.72,0.0,150795.81,0.0,0.0,65643.3,0.0,104584.16,0.0,99785.28,0.0,101257.16,0.0,121313.88,0.0,81523.38,128252.66,0.0,0.0,0.0,0.0,145541.56,115182.84,163789.49,65733.41,0.0,128486.11,109663.47,88324.31,146445.24,0.0,0.0,109949.05,78653.05,83765.35,143773.07,116227.27,103471.52,0.0,137492.35,0.0,129829.59,146329.57,114027.7,146580.69,132122.42,0.0,0.0,0.0,0.0,175214.71,97705.99,126817.65,0.0,120094.93,0.0,0.0,104356.94,73023.17,173432.55,165679.92,104678.62,0.0,126732.85,148481.09,137654.05,115315.04,99095.73,165610.41,161628.66,146605.27,77002.2,0.0,0.0,0.0,0.0,149364.58,127450.14,162278.32,152212.88,161993.89,131468.44,143321.97,130404.92,0.0,87505.47,133634.02,151233.62,70263.83,0.0,57657.49,153572.31,134752.08,83132.09,0.0,118100.59,0.0,118327.17,124857.69,90971.85,153147.75,0.0,100912.19,0.0,124439.49,0.0,0.0,58781.76,142721.52,167795.6,128345.69,165260.98,0.0,143452.74,145018.49,82407.51,79460.98,126473.99,133537.1,164978.01,128029.72,0.0,81589.04,0.0,94443.77,0.0,92199.84,0.0,135756.96,0.0,0.0,154344.49,0.0,189026.53,120764.08,97975.82,0.0,113270.2,0.0,124548.99,0.0,0.0,0.0,64897.75,0.0,107764.75,117307.44,60603.4,40169.88,92041.87,130483.95,0.0,151097.28,112808.18,0.0,86459.8,0.0,88656.37,146033.62,120268.13,0.0,0.0,122550.05,0.0,130306.49,0.0,126873.52,108424.19,0.0,84350.07,84958.6,99097.36,136622.55,156771.68,167658.33,0.0,109483.54,134504.78,114427.86,83888.54,110029.77,127523.75,139762.13,109471.79,150500.64,0.0,78892.23,82344.84,0.0,0.0,127706.33,124349.34,0.0,119336.29,0.0,0.0,0.0,0.0,0.0,100169.51,145731.83,135067.52,0.0,0.0,109342.82,0.0,0.0,78247.31,88980.32,0.0,113308.84,0.0,63763.49,169988.35,180303.24,61592.14,164701.68,80780.16,0.0,154221.37,0.0,101641.14,0.0,131081.66,98014.74,0.0,97460.1,104077.19,0.0,0.0,141675.23,0.0,0.0,0.0,101868.51,0.0,112392.45,106570.34,0.0,144162.3,86350.87,0.0,0.0,134985.66,0.0,103772.45,133040.32,0.0,0.0,0.0,71460.67,133214.13,96558.66,93806.31,0.0,0.0,106266.8,0.0,0.0,139840.36,0.0,124098.54,145807.59,0.0,107508.93,0.0,145980.23,212778.2,168964.77,0.0,0.0,98266.3,113000.92,137060.88,112146.12,129307.32,163975.09,0.0,158414.85,92072.68,88243.29,0.0,0.0,0.0,0.0,119278.01,158741.43,0.0,104783.81,77992.97,110822.9,119624.6,139129.44,152324.66,0.0,127480.58,114005.78,156267.59,102482.76,115563.71,0.0,95624.36,0.0,160376.61,37702.79,118273.83,131082.17,94456.0,0.0,93791.38,0.0,0.0,155973.13,89409.95,97854.37,0.0,60280.62,135216.8,124923.35,0.0,188614.07,62321.62,115961.58,115062.61,160602.25,166287.85,152663.77,80844.69,97001.36,0.0,122524.61,132292.63,0.0,59385.98,0.0,97956.5,0.0,0.0,141223.68,151762.74,141749.74,165686.11,0.0,0.0,0.0,92961.61,0.0,132005.77,0.0,0.0,127305.5,0.0,0.0,0.0,170291.22,102562.23,111061.01,0.0,124379.14,0.0,57745.76,0.0,150777.1,0.0,0.0,153861.1,0.0,61196.54,116891.72,92911.52,119825.75,111852.84,106683.52,139022.24,0.0,129776.72,0.0,0.0,0.0,122545.65,0.0,131908.35,0.0,0.0,82767.42,87842.98,133261.13,0.0,97925.11,0.0,140453.91,0.0,137204.77,0.0,54098.18,0.0,113758.48,0.0,118636.92,0.0,95488.82,110829.52,144244.59,122021.92,0.0,0.0,85839.62,96974.97,148172.44,0.0,0.0,0.0,0.0,134766.85,123210.56,139887.01,149961.11,152880.97,108589.47,0.0,0.0,0.0,105663.56,0.0,100683.54,0.0,139541.58,121801.72,112281.7,0.0,93499.82,132255.99,0.0,0.0,121973.28,99462.8,165878.76,117494.27,138577.34,0.0,107525.07,139224.92,121453.63,0.0,0.0,79259.99,116295.29,74309.81,114430.18,127504.57,84113.41,101126.66,103564.83,168178.21,129753.69,0.0,154139.45,97459.06,0.0,112088.04,0.0,0.0,141038.57,84468.67,142663.46,118627.16,137523.02,110976.23,107283.4,0.0,124314.45,95858.37,0.0,0.0,0.0,135289.33,174060.46,114446.84,0.0,0.0,108071.36,14262.8,102749.72,161757.87,0.0,95698.79,124969.13,0.0,0.0,112935.87,98567.1,180530.51,140931.57,148913.72,0.0,0.0,115335.32,0.0,0.0,134678.13,0.0,90547.48,103324.78,114590.58,91286.51,163340.12,150900.29,124577.33,0.0,91292.7,111723.08,173459.45,0.0,0.0,0.0,0.0,56580.95,142316.14,0.0,117444.51,76001.57,107747.57,0.0,134997.49,0.0,0.0,141665.63,0.0,136624.6,161209.66,95010.92,167545.32,118560.55,0.0,0.0,97840.72,158651.29,96950.21,123859.6,0.0,0.0,85227.84,97786.08,128135.99,0.0,85996.19,0.0,104502.11,95772.97,98108.79,0.0,0.0,140355.56,0.0,0.0,107418.27,0.0,0.0,167557.12,117300.02,0.0,143672.9,0.0,0.0,76798.92,0.0,115309.75,178171.04,0.0,0.0,0.0,0.0,0.0,0.0,0.0,107569.96,134874.4,0.0,0.0,0.0,0.0,70105.87,0.0,105128.85,113836.27,0.0,109118.05,0.0,122277.87,0.0,0.0,152899.24,109740.62,92366.72,0.0,105102.5,111375.32,0.0,150412.14,156660.72,90957.81,104960.46,88915.85,148071.39,152182.83,0.0,95039.73,0.0,0.0,112773.73,94667.29,0.0,174397.21,0.0,136678.52,135515.76,177799.83,147487.23,139480.18,0.0,140553.46,0.0,141162.08,65848.36,83319.28,0.0,129731.64,0.0,0.0,107106.33,0.0,0.0,105303.73,165798.1,0.0,126495.57,81733.74,96020.86,0.0,181671.16,185709.28,95671.75,142151.75,127823.93,144164.29,63492.94,0.0,0.0,106134.46,127269.75,0.0,99610.92,168522.37,117337.54,108131.53,136496.12,116324.53,75470.23,172646.82,0.0,160358.68,98415.37,57809.32,128743.8,130806.42,123971.16,0.0,0.0,0.0,156297.58,0.0,123372.3,0.0,148375.19,0.0,147422.44,145215.43,167539.97,94968.97,106116.5,0.0,0.0,0.0,120018.86,112541.54,166118.45,106881.5,120727.97,0.0,113599.42,0.0,0.0,0.0,146282.79,119413.62,122084.63,0.0,0.0,110483.86,120718.28,108601.0,0.0,0.0,0.0,108231.37,144855.34,136855.24,133060.63,0.0,0.0,185013.02,0.0,150463.11,0.0,0.0,136425.18,146798.81,0.0,128486.91,0.0,143407.29,76165.65,0.0,0.0,90560.3,62391.22,0.0,0.0,99836.47,161434.36,0.0,0.0,0.0,101744.84,0.0,0.0,0.0,0.0,0.0,178095.55,109175.14,0.0,0.0,134260.36,69143.91,100054.77,0.0,116248.88,123157.95,63438.91,133550.67,106871.81,105266.32,102768.42,112689.95,122334.26,0.0,137847.41,122486.47,101286.11,0.0,86977.96,100768.77,0.0,0.0,118991.79,140997.26,0.0,166824.59,76322.69,0.0,149083.7,0.0,0.0,126588.81,81844.91,0.0,190298.89,117212.18,0.0,139848.17,101861.36,167455.66,0.0,116360.07,88466.82,0.0,0.0,72286.84,0.0,109681.61,0.0,187487.63,165692.91,164385.53,108286.5,0.0,127283.78,0.0,141389.06,130091.5,143744.77,97408.03,111927.45,0.0,0.0,0.0,188285.68,0.0,127122.79,98241.04,170840.08,62610.96,0.0,113328.93,104832.49,102289.85,125227.82,140510.89,39043.29,0.0,99685.06,125385.49,131365.37,98308.51,0.0,140856.16,0.0,172274.01,0.0,122447.76,163569.61,127211.45,101014.08,0.0,0.0,138878.81,130922.81,0.0,0.0,130866.19,187257.94,0.0,147733.64,0.0,163139.27,0.0,119540.15,129553.76,0.0,66101.89,0.0,0.0,0.0,0.0,0.0,153611.83,123826.07,0.0,0.0,125827.43,0.0,0.0,148495.64,133043.66,74989.58,60263.23,157955.83,0.0,70729.17,0.0,90721.52,0.0,131765.72,131569.63,164523.5,114330.95,135923.16,0.0,0.0,124693.48,147936.42,0.0,126558.92,106938.11,140002.35,147107.91,128514.84,106756.01,0.0,0.0,110414.48,0.0,157098.52,85626.6,93796.42,0.0,125268.03,148143.84,115545.33,0.0,44928.88,0.0,162442.35,0.0,96213.82,156569.43,0.0,0.0,0.0,0.0,147037.32,108664.85,0.0,163034.82,179581.31,129209.48,92606.86,127862.93,142711.81,0.0,163159.85,108586.86,110624.99,154846.24,0.0,82787.93,102500.34,0.0,0.0,113090.4,65763.57,94263.91,133434.57,0.0,0.0,94748.76,98640.74,74681.9,0.0,128207.23,132739.26,0.0,120509.81,124547.13,0.0,82231.51,184715.86,0.0,0.0,0.0,0.0,0.0,95386.82,90373.28,133467.77,0.0,96288.26,91547.84,0.0,71667.74,0.0,145610.07,138162.81,135020.21,0.0,135161.67,94486.47,117640.39,111379.55,136820.99,98752.51,158266.42,105599.67,0.0,0.0,139723.9,141806.46,180516.9,0.0,128917.84,131390.75,0.0,0.0,0.0,0.0,0.0,0.0,102714.65,67816.72,81710.46,75237.54,124023.18,107238.85,0.0,139994.66,126224.87,121166.89,0.0,0.0,125470.81,0.0,107041.3,95153.77,145166.09,0.0,65962.63,139799.63,171787.84,149238.97,0.0,61482.47,126670.37,84390.8,89728.86,0.0,118628.8,0.0,96863.13,142263.45,0.0,0.0,0.0,122724.37,174902.26,0.0,98052.66,123873.19,0.0,0.0,0.0,0.0,114753.76,0.0,111871.93,0.0,135927.06,0.0,0.0,57037.74,79468.96,121063.85,118537.47,0.0,105082.07,0.0,104702.65,167026.61,148045.45,0.0,0.0,104498.79,0.0,0.0,149542.52,87946.39,148826.32,0.0,108166.09,103214.71,90124.64,0.0,0.0,80242.37,0.0,122661.39,0.0,0.0,81742.84,145127.85,148912.44,0.0,89900.24,119027.28,105222.86,116114.93,187911.55,0.0,77065.9,180520.29,0.0,110086.69,174853.46,108724.98,91285.13,0.0,59893.85,149318.55,116409.55,0.0,113402.14,0.0,0.0,0.0,136953.47,0.0,0.0,123863.64,120811.89,148430.55,47869.69,150926.99,130206.28,136674.51,200322.45,0.0,80927.56,0.0,142574.71,160426.07,116160.23,98683.47,118829.03,118870.92,0.0,0.0,107192.38,108010.78,0.0,129837.72,97009.15,122929.42,0.0,128993.76,0.0,185267.45,0.0,116805.82,129750.68,129177.01,82506.72,157780.93,172170.36,0.0,0.0,0.0,0.0,98263.46,0.0,0.0,164365.44,98800.0,193125.85,51522.75,84284.48,0.0,137910.45,0.0,100116.82,166082.15,0.0,0.0,94078.97,0.0,0.0,152509.25,131945.94,0.0,0.0,146311.58,97445.49,0.0,154485.74,115625.07,108396.67,65095.41,84764.79,0.0,115680.81,0.0,73088.06,150905.03,143054.85,0.0,0.0,99948.45,115451.05,108235.91,98795.61,0.0,0.0,0.0,113146.98,92053.44,0.0,104944.1,0.0,0.0,107879.04,0.0,109783.69,149777.0,104339.56,85818.18,212692.97,89696.84,0.0,68067.24,148564.66,136354.16,122214.0,0.0,119684.88,135139.33,110728.39,121558.46,120623.21,114713.57,103457.76,101134.87,78136.36,0.0,133446.34,0.0,131354.25,62974.64,143340.44,116993.43,58662.92,137555.44,142393.11,0.0,125785.23,121527.4,144696.75,0.0,0.0,120383.41,129735.3,0.0,0.0,0.0,144591.96,0.0,0.0,100194.44,145295.31,106070.29,120621.89,0.0,0.0,0.0,171283.91,0.0,0.0,77776.39,124978.19,0.0,0.0,0.0,0.0,111347.37,104291.41,0.0,135703.59,106453.53,82531.11,127278.31,0.0,0.0,184244.86,79543.59,151553.19,166527.88,150329.15,121911.59,156773.78,127864.26,79974.55,0.0,144427.96,99263.09,79368.87,0.0,0.0,0.0,162485.8,95668.82,0.0,0.0,0.0,74197.38,89688.94,103121.33,0.0,120170.07,149136.31,141136.79,152341.55,120026.98,132168.28,85200.82,84903.33,0.0,0.0,0.0,121535.18,116662.96,0.0,124829.16,155180.56,108262.87,0.0,0.0,99812.88,132164.26,142406.43,0.0,0.0,81042.42,0.0,142645.43,0.0,0.0,0.0,0.0,142072.02,0.0,149564.61,0.0,153366.13,76467.16,121508.28,0.0,0.0,0.0,92674.94,114391.62,80262.66,173331.52,147285.52,119785.47,140137.15,133607.75,0.0,95139.41,0.0,0.0,0.0,97331.19,139265.63,0.0,168094.01,131563.88,0.0,0.0,0.0,107363.29,94493.03,170214.23,0.0,170241.7,128306.83,0.0,0.0,175454.0,0.0,100885.93,93320.8,63176.44,139451.67,49113.75,0.0,0.0,0.0,0.0,102785.16,83264.28,72252.64,148051.52,138489.66,0.0,111589.33,96106.83,115930.87,124513.66,0.0,100988.39,118577.24,0.0,0.0,0.0,0.0,113311.11,0.0,0.0,147249.29,103688.19,138740.24,111900.14,152760.24,141556.96,0.0,0.0,0.0,0.0,0.0,162560.32,123229.46,76665.71,0.0,115764.32,131142.53,0.0,0.0,111093.01,132657.55,69129.59,0.0,121404.64,102097.33,154863.15,99945.93,121704.32,0.0,138782.76,0.0,136291.71,107856.57,125860.2,172713.44,0.0,0.0,130786.92,112367.34,91091.06,106198.5,142669.93,112833.35,0.0,0.0,104336.43,104305.74,140187.1,0.0,119096.55,0.0,0.0,115465.28,0.0,184926.61,85957.88,114084.6,166930.76,0.0,0.0,107193.82,116275.12,0.0,91068.56,123049.21,0.0,0.0,137781.65,108128.96,105317.73,80569.73,174852.89,0.0,89800.14,106086.42,0.0,0.0,101440.36,0.0,106603.74,130420.2,0.0,45022.23,74298.43,0.0,136689.66,0.0,102520.37,0.0,0.0,88382.01,115049.15,104796.54,123082.08,0.0,0.0,0.0,88311.48,0.0,71872.19,110046.93,104430.08,0.0,138653.51,102575.04,0.0,0.0,105209.54,109570.21,0.0,153393.18,132603.36,0.0,129398.01,0.0,151352.74,0.0,0.0,165536.28,62482.95,68155.59,0.0,79589.43,100880.76,174330.35,143390.51,134366.42,0.0,88786.81,96814.46,160680.41,0.0,0.0,145537.21,0.0,0.0,149332.48,0.0,0.0,155062.8,88798.34,0.0,0.0,107027.52,140720.93,80964.57,135889.13,134919.85,138190.13,131519.49,126935.98,133707.09,97893.2,127900.03,143835.47,0.0,129596.77,0.0,0.0,142015.76,81370.07,83870.33,117451.47,206868.78,111695.62,149218.39,0.0,0.0,0.0,167949.48,131254.81,0.0,0.0,86656.13,0.0,0.0,0.0,132178.67,0.0,0.0,107233.85,176227.07,109949.39,0.0,133292.45,160474.59,0.0,145750.45,109044.3,75170.54,0.0,105795.9,0.0,0.0,118097.87,172693.54,129440.3,0.0,96471.2,140197.18,0.0,135946.26,0.0,168883.08,143421.74,153644.39,109330.06,115095.88,183276.32,68193.72,0.0,139729.54,98365.33,0.0,122453.97,132174.41,0.0,0.0,104349.45,116968.91,105346.03,136623.19,0.0,0.0,124445.52,68999.66,85768.42,100628.0,0.0,0.0,0.0,100375.39,0.0,171922.72,146810.99,0.0,128653.59,80387.81,155978.17,0.0,89349.47,86131.71,102346.86,121263.62,0.0,0.0,161274.05,0.0,103138.17,109628.44,97286.16,118004.26,85534.83,0.0,75900.84,126619.27,111833.47,0.0,108698.96,112687.69,81556.89,136596.85,0.0,0.0,107499.7,0.0,0.0,0.0,176024.05,0.0,0.0,109819.16,138734.94,111363.1,0.0,118838.75,161637.75,71553.83,0.0,0.0,0.0,64667.95,121164.11,0.0,98903.06,104158.84,0.0,0.0,0.0,118894.22,0.0,0.0,68213.99,0.0,139196.0,0.0,0.0,0.0,0.0,129278.43,119558.35,92467.58,0.0,0.0,0.0,0.0,109676.52,0.0,134729.99,98431.37,130368.31,123974.96,138082.16,129855.32,132308.22,124268.64,176311.36,99886.42,0.0,0.0,85089.3,134318.21,75395.53,0.0,111501.66,76595.08,160541.36,129728.6,0.0,116800.25,0.0,190566.65,186347.97,103176.62,94216.05,0.0,0.0,106770.82,138089.97,133191.19,0.0,99208.46,92242.34,108380.72,85757.93,0.0,96759.42,0.0,0.0,0.0,0.0,132150.26,0.0,78990.15,113743.37,157624.84,125163.62,0.0,0.0,80922.75,193354.86,107648.94,138992.48,113899.92,114450.32,0.0,0.0,0.0,75497.51,0.0,0.0,0.0,117704.73,130463.55,46161.18,0.0,110182.54,0.0,117221.15,0.0,177069.24,61636.97,0.0,104414.03,159732.02,89437.03,0.0,0.0,0.0,142400.77,0.0,154870.28,0.0,118402.25,87374.88,125341.69,129164.88,141004.46,0.0,103604.31,182705.05,0.0,0.0,0.0,117469.91,80790.74,107735.93,168066.87,69014.49,0.0,98548.62,0.0,76554.06,0.0,107375.82,122417.17,97188.62,61297.05,0.0,157842.07,91443.75,53299.96,0.0,0.0,70233.74,75212.28,41299.03,83286.56,0.0,85668.59,57327.04,0.0,69609.85,129269.27,0.0,152105.57,0.0,106290.64,100548.67,137482.19,116465.53,0.0,0.0,127637.92,0.0,0.0,81951.74,147531.82,0.0,135120.72,0.0,0.0,0.0,0.0,0.0,111087.5,0.0,127120.07,115651.6,77743.01,0.0,71996.09,61581.97,0.0,148770.61,94901.09,174851.9,0.0,0.0,0.0,103267.8,109699.08,0.0,137649.47,113567.94,141547.26,131156.76,134837.58,0.0,0.0,124619.33,124182.21,125837.86,0.0,0.0,104833.79,101675.22,0.0,71142.77,108805.42,0.0,0.0,116037.76,0.0,80673.96,182275.23,98635.77,0.0,0.0,53053.76,120911.75,115285.85,0.0,221532.8,105056.13,88363.03,123757.52,114822.64,145219.3,106807.64,148159.71,99745.95,156282.79,0.0,0.0,111582.11,129417.82,0.0,0.0,0.0,94607.08,166883.07,0.0,172812.72,126606.63,0.0,0.0,137688.71,85845.43,125552.96,167298.42,55732.92,98544.11,178317.6,115713.84,143267.14,89750.21,116576.45,143001.5,157761.56,0.0,103430.11,0.0,122501.28,0.0,0.0,146758.24,0.0,94203.8,153198.23,0.0,61811.23,101116.06,74458.25,142871.27,98585.94,0.0,0.0,110053.62,118890.81,151218.98,150507.21,0.0,131023.76,0.0,0.0,111739.4,113882.31,98148.61,0.0,59271.82,0.0,0.0,69413.44,160599.06,0.0,0.0,133111.73,0.0,176139.5,0.0,110245.13,0.0,158719.57,160979.68,123557.65,112896.86,120962.13,96048.55,0.0,185063.7,118064.93,0.0,0.0,0.0,0.0,125512.98,83492.07,0.0,125739.26,141789.15,112949.71,105057.33,147435.96,154439.86,73054.37,152576.25,152243.57,0.0,88120.97,0.0,115654.47,0.0,126152.84,157094.78,113228.38,0.0,108432.88,0.0,120702.67,0.0,0.0,101851.8,93124.04,0.0,86546.29,0.0,129669.32,0.0,164557.95,0.0,118989.92,0.0,0.0,79259.75,118129.87,86824.09,128306.7,117641.43,103302.37,0.0,82696.09,145471.37,101506.66,156265.31,128554.98,139959.55,132944.53,0.0,93547.23,152302.72,147674.26,148021.12,0.0,151027.56,138857.59,105426.5,170890.05,89122.3,123894.43,0.0,127845.83,0.0,106397.75,0.0,166492.48,0.0,114493.68,126104.98,0.0,0.0,0.0,101140.76,150844.94,115024.5,131286.46,0.0,141267.67,137761.55,0.0,98064.97,114519.57,0.0,84719.98,0.0,104386.53,128131.73,122806.95,0.0,112510.89,131778.66,70784.27,0.0,0.0,0.0,140752.06,92126.26,93148.74,0.0,0.0,153722.47,114088.32,0.0,0.0,152532.3,0.0,143292.95,149144.61,127157.04,84673.17,135962.4,151691.44,88335.05,139859.23,43134.65,99580.13,110717.38,0.0,0.0,108197.11,0.0,104450.86,0.0,0.0,0.0,0.0,116099.82,111169.91,0.0,123616.43,155619.58,89558.39,131938.92,0.0,0.0,0.0,97700.02,0.0,147833.3,0.0,0.0,0.0,84521.48,91938.31,124240.93,0.0,157084.99,108244.82,0.0,82161.7,119912.46,68881.59,0.0,150840.03,155059.1,0.0,78128.13,98899.76,0.0,160982.89,0.0,79385.21,168396.34,134896.03,0.0,0.0,0.0,212696.32,139153.68,0.0,0.0,0.0,92887.13,0.0,83442.98,144773.29,178032.53,140007.19,98400.61,0.0,132835.56,0.0,81732.88,0.0,0.0,117989.76,0.0,137411.29,73688.2,122330.7,99906.89,0.0,141525.55,124832.51,132121.71,0.0,78539.84,0.0,160729.1,88378.6,182888.08,0.0,85600.08,0.0,0.0,95001.33,0.0,74896.92,89492.62,128718.78,0.0,144954.75,0.0,94001.61,0.0,0.0,0.0,0.0,0.0,141546.35,109805.3,86614.06,38848.19,153639.11,0.0,123870.07,0.0,46323.57,110928.51,0.0,130036.21,151510.17,0.0,83568.55,139972.18,100212.13,90217.07,0.0,124067.32,0.0,122889.88,148790.61,104857.19,166833.86,102936.72,129974.79,85982.07,134397.61,137841.53,139822.11,123151.51,95331.83,0.0,138162.41,0.0,96763.89,0.0,172463.45,107798.85,70181.48,177997.07,0.0,0.0,0.0,0.0,123200.78,0.0,0.0,137742.9,116270.72,113220.2,0.0,121730.49,113811.85,136214.08,146200.01,106242.67,0.0,0.0,0.0,0.0,0.0,90322.99,0.0,131283.11,131659.59,120952.74,153166.17,53291.86,167924.95,86394.14,0.0,0.0,158978.79,0.0,114347.85,0.0,134007.9,98899.91,0.0,137430.82,0.0,0.0,188976.89,0.0,0.0,112181.08,97208.46,0.0,0.0,150856.79,146748.07,0.0,0.0,148863.17,0.0,153360.02,124723.92,103033.83,0.0,0.0,0.0,0.0,113923.81,0.0,0.0,0.0,0.0,121827.43,0.0,125389.7,103895.31,0.0,0.0,151242.48,129709.62,83347.25,84121.04,0.0,102338.19,87375.78,104677.09,121669.23,108407.34,154969.79,141829.67,109162.82,87471.63,147229.65,0.0,182532.23,0.0,160903.2,138053.79,149085.9,0.0,85109.21,125338.8,0.0,106831.69,159597.45,147361.57,176134.54,0.0,0.0,84055.43,0.0,199229.14,0.0,0.0,78833.15,0.0,0.0,102540.61,0.0,129401.87,0.0,0.0,0.0,106702.94,139584.57,0.0,0.0,148654.84,136963.12,137774.11,111156.52,121237.65,97234.58,0.0,0.0,97382.53,107553.33,0.0,161806.09,0.0,0.0,128243.03,126645.13,112291.34,89188.83,109161.25,0.0,0.0,0.0,96951.21,146566.01,186101.18,146943.38,0.0,125130.28,0.0,0.0,0.0,0.0,0.0,0.0,0.0,150685.79,141359.37,0.0,94631.26,118336.14,0.0,0.0,91869.69,122338.43,0.0,0.0,86270.93,0.0,117289.92,0.0,153663.27,0.0,123599.49,0.0,134208.25,0.0,98556.89,0.0,134593.79,0.0,68781.82,147307.91,145754.91,112610.77,71481.79,0.0,77826.8,87140.85,178011.5,102954.68,123783.25,101802.67,148659.48,112152.89,89550.85,75915.75,118889.66,118788.57,156555.54,61211.18,128932.4,0.0,80728.15,106070.89,137560.38,126212.64,111835.94,0.0,99705.69,0.0,128061.0,0.0,190678.02,0.0,136712.91,115462.44,133501.36,58668.02,0.0,76510.52,140694.78,95448.32,91562.99,72541.48,0.0,157320.51,0.0,139676.95,0.0,0.0,0.0,103000.94,118235.7,0.0,0.0,0.0,0.0,115557.0,166518.63,102073.67,79064.85,0.0,100421.1,84006.88,0.0,0.0,80293.81,125437.14,0.0,0.0,127536.44,0.0,108117.1,0.0,61688.61,0.0,0.0,138664.24,126362.57,160652.45,88421.81,112871.19,60880.68,0.0,88084.13,0.0,0.0,83456.79,98298.18,0.0,86911.8,139707.28,0.0,142876.98,146301.31,0.0,58137.08,179886.41,107637.97,167685.56,136525.99,52106.33,0.0,112803.92,145081.72,0.0,135842.89,112203.25,129895.19,153279.39,0.0,113193.51,113174.21,0.0,164951.56,153325.1,134032.01,125445.04,126077.43,0.0,90371.09,0.0,142802.02,90537.16,0.0,156123.73,0.0,0.0,117899.95,0.0,166257.96,0.0,205962.0,126061.51,105627.95,100606.02,0.0,0.0,138171.1,139395.08,0.0,0.0,89994.71,0.0,103996.74,175111.11,148055.74,0.0,0.0,95994.98,0.0,110741.56,0.0,0.0,0.0,109786.82,0.0,0.0,102721.49,166070.48,105957.44,0.0,110340.68,0.0,135870.01,0.0,0.0,0.0,85704.95,0.0,0.0,108513.25,156687.1,150604.52,155114.9,0.0,91216.0,141784.02,127763.24,0.0,82613.56,69423.52,86167.82,131406.56,121898.82,77487.2,0.0,138705.02,132730.17,0.0,0.0,116498.22,0.0,139979.07,127216.31,0.0,0.0,134152.29,119565.92,0.0,0.0,124995.98,0.0,86891.84,0.0,78022.61,154495.79,189443.72,152926.6,115371.94,0.0,178056.54,0.0,0.0,0.0,0.0,0.0,149814.54,115617.24,0.0,138160.0,117700.86,0.0,166501.17,0.0,0.0,0.0,98894.39,168735.74,0.0,0.0,127237.25,117864.85,93911.3,76597.79,79927.36,0.0,40172.91,115195.58,116644.29,180293.84,139872.81,34547.82,0.0,96462.25,130334.35,119688.81,0.0,71187.24,0.0,0.0,0.0,136422.41,0.0,0.0,0.0,153238.88,0.0,47536.4,0.0,0.0,160566.11,127678.8,139859.54,0.0,112324.45,134497.27,120171.58,106012.2,0.0,0.0,0.0,92219.21,142055.41,0.0,0.0,0.0,141803.77,0.0,0.0,108393.35,115643.58,132876.23,110949.41,103821.47,0.0,0.0,132187.73,126444.08,154159.51,0.0,129250.0,167733.51,56116.3,141581.08,139675.07,66201.96,133658.24,136202.78,0.0,0.0,42712.87,0.0,142631.54,141204.65,131402.21,92636.96,0.0,134887.53,0.0,159900.38,102278.79,0.0,0.0,0.0,76989.97,0.0,0.0,114491.82,145056.59,138014.4,112568.31,0.0,176958.46,99167.54,103210.27,125921.37,0.0,80697.44,161887.81,109558.36,124271.26,0.0,190569.23,96542.16,0.0,111769.14,0.0,113672.18,147256.86,107023.03,125529.55,0.0,0.0,0.0,107303.72,72783.42,0.0,0.0,115743.6,161256.53,0.0,0.0,0.0,162261.01,74896.33,144037.6,93522.2,0.0,0.0,106922.92,112972.57,100488.92,123322.15,0.0,68683.68,59532.18,140260.36,88302.65,0.0,114655.58,0.0,0.0,165896.0,0.0,111168.97,0.0,103804.97,119152.1,122950.31,0.0,0.0,122028.65,0.0,133436.52,123177.01,120328.88,92716.96,0.0,0.0,76914.21,106045.92,103133.26,145974.79,0.0,0.0,0.0,0.0,139183.06,0.0,74974.89,61691.45,121952.75,0.0,0.0,0.0,80107.83,0.0,0.0,114233.18,0.0,156834.34,0.0,157498.9,0.0,0.0,0.0,130274.22,0.0,149379.66,0.0,100829.94,96408.98,0.0,0.0,149105.08,0.0,0.0,0.0,90218.11,87347.7,0.0,137811.75,105563.0,0.0,0.0,91125.75,0.0,0.0,135120.56,0.0,0.0,86837.95,100446.57,0.0,0.0,114512.59,136364.46,106260.67,146126.75,121056.63,128270.56,0.0,0.0,0.0,191775.65,85141.79,126392.18,0.0,129860.37,0.0,91955.61,84266.44,147149.59,0.0,104822.45,146766.72,148745.92,0.0,0.0,135203.81,93301.97,96341.0,165326.2,0.0,99786.2,114440.24,141573.55,133676.65,147493.7,0.0,95022.57,0.0,0.0,0.0,0.0,0.0,0.0,102017.25,0.0,0.0,96674.55,79281.61,0.0,122314.39,140733.74,165445.04,123805.03,107548.94,111634.29,0.0,86055.17,0.0,144705.87,0.0,91612.91,0.0,0.0,179904.0,176166.56,156864.2,0.0,0.0,0.0,161588.89,0.0,0.0,91522.04,0.0,62052.28,107871.72,128039.01,0.0,90355.12,115725.24,114327.59,100762.64,89039.9,78829.53,112372.96,122029.15,157829.12,108377.75,95507.12,127146.68,121092.47,126979.75,152582.2,126477.42,97473.87,138053.67,164003.05,0.0,122486.11,0.0,53667.44,0.0,109327.65,121151.05,101043.63,83501.66,80462.24,0.0,109093.41,140355.6,0.0,130170.82,0.0,109542.29,148795.17,0.0,0.0,106405.03,0.0,128393.29,127841.52,137295.19,0.0,144351.86,106365.29,127801.88,122793.96,0.0,140916.81,0.0,121365.39,0.0,0.0,0.0,115409.6,90791.69,92436.86,0.0,160838.13,144470.77,0.0,130169.27,0.0,0.0,0.0,113865.23,120037.96,0.0,0.0,0.0,121818.84,0.0,141806.0,103417.74,0.0,43028.77,0.0,73179.34,0.0,92659.2,102955.14,96863.52,154983.98,106819.65,128578.52,126473.33,110570.78,0.0,0.0,0.0,0.0,111099.79,0.0,100913.57,0.0,16893.59,122267.85,125685.79,127397.34,105271.56,115265.14,0.0,0.0,139542.82,148466.93,0.0,108155.49,0.0,84622.13,146997.64,0.0,98590.25,0.0,108078.56,0.0,0.0,106836.67,102490.27,112746.54,125487.89,142862.21,0.0,0.0,79388.33,0.0,0.0,107784.65,149571.94,142767.39,0.0,103399.87,0.0,136855.94,0.0,89364.91,146011.4,0.0,145294.08,0.0,0.0,104508.77,0.0,78535.25,112712.17,119618.42,0.0,74963.5,138023.79,0.0,185513.67,128015.83,39539.39,0.0,77608.46,141462.13,0.0,131691.33,93833.86,137933.39,0.0,166328.65,164307.77,163965.69,125608.72,0.0,118433.94,0.0,98362.35,0.0,105767.28,0.0,0.0,134467.26,138515.02,128647.98,121858.98,0.0,120108.56,196853.62,121418.62,0.0,0.0,97495.8,0.0,127343.4,158633.61,0.0,183744.98,0.0,0.0,79962.92,0.0,0.0,140956.99,0.0,145241.63,138008.06,0.0,0.0,0.0,0.0,0.0,127570.93,0.0,91560.58,121303.77,161546.68,128415.45,0.0,142243.54,0.0,0.0,146466.46,0.0,0.0,0.0,120307.58,87637.26,94652.04,114415.84,0.0,84315.02,0.0,93955.83,67087.69,110824.52,0.0,179960.2,134006.77,121532.17,0.0,0.0,129717.3,94762.16,129514.99,172196.23,97612.12,104719.94,0.0,0.0,139096.85,140301.72,0.0,0.0,111233.09,0.0,147737.63,0.0,125725.02,0.0,149134.46,124119.54,116822.7,103219.47,0.0,0.0,0.0,136555.01,0.0,119452.03,69881.09,0.0,0.0,0.0,204223.03,141069.18,115934.74,151457.88,154206.07,89928.99,89182.09,79706.25,0.0,117799.28,0.0,0.0,150186.22,147493.89,0.0,0.0,121823.4,0.0,100471.34,0.0,116358.0,163549.63,99183.9,134177.06,0.0,0.0,0.0,155584.21,0.0,0.0,170661.47,185544.36,114007.5,104308.77,84719.13,0.0,140236.98,0.0,75302.85,0.0,113693.0,174180.39,0.0,0.0,121215.9,115350.63,105683.63,135179.49,117551.23,157404.02,77910.23,110942.9,0.0,179305.09,150593.59,69385.17,138032.15,0.0,0.0,119670.18,99106.73,120135.55,0.0,0.0,101629.3,171937.27,0.0,0.0,0.0,129743.75,102630.13,124227.14,0.0,175477.15,132144.35,133299.67,0.0,0.0,0.0,133199.71,127154.14,0.0,49508.79,0.0,0.0,0.0,70417.79,111484.88,146343.98,160541.0,130274.26,98993.02,0.0,141827.33,110054.45,0.0,0.0,0.0,0.0,133806.54,124993.29,157622.58,126111.61,161651.37,142856.95,102918.38,0.0,0.0,0.0,125265.61,82500.28,175754.87,109387.33,100443.36,83102.72,0.0,0.0,0.0,0.0,140197.71,105245.34,0.0,0.0,142296.13,171069.39,0.0,102523.88,0.0,106022.73,0.0,128960.21,0.0,0.0,0.0,126442.59,0.0,127261.35,0.0,0.0,0.0,73481.05,160515.37,149525.34,135536.5,103421.32,135658.73,0.0,191402.82,94504.35,0.0,0.0,87624.03,0.0,0.0,134464.58,83008.31,113635.16,0.0,122552.48,118899.45,99713.87,0.0,134208.22,85906.65,137714.25,160777.9,0.0,0.0,102585.88,126772.57,158373.23,0.0,141927.1,0.0,111369.79,116969.35,136729.51,0.0,127289.28,0.0,0.0,0.0,117183.74,129907.63,0.0,124616.23,0.0,0.0,0.0,117152.3,106250.72,111837.78,97023.21,137687.72,113348.5,122109.78,120452.4,0.0,65812.35,0.0,0.0,103846.65,125190.86,0.0,123802.98,96651.03,0.0,0.0,142105.35,166115.42,81070.34,0.0,123835.52,123401.43,169377.31,130015.24,0.0,133936.04,114543.27,119794.67,0.0,0.0,0.0,0.0,136733.24,82498.14,151914.93,83739.32,130588.82,0.0,94126.67,0.0,0.0,0.0,168165.84,72835.56,0.0,123212.08,0.0,0.0,119501.88,144550.83,0.0,121490.05,91897.8,139443.75,144961.97,126041.02,69459.05,198338.77,0.0,0.0,0.0,0.0,0.0,0.0,0.0,0.0,0.0,0.0,0.0,0.0,0.0,135559.8,150355.35,0.0,133489.12,60205.2,0.0,0.0,0.0,0.0,112333.63,116936.81,165896.22,153656.85,94164.0,0.0,191808.73,152199.33,104405.54,133801.49,0.0,0.0,100047.33,109848.6,127849.38,0.0,95947.76,0.0,0.0,0.0,0.0,0.0,89416.99,0.0,0.0,143262.04,119656.45,132954.64,105206.7,0.0,83061.26,147650.68,0.0,0.0,116320.68,0.0,0.0,0.0,66250.71,92616.64,0.0,100565.94,127649.64,165358.77,0.0,78249.53,125193.96,0.0,154007.21,133214.88,0.0,90963.49,114386.85,0.0,0.0,0.0,111060.05,0.0,135310.41,0.0,0.0,0.0,139393.19,0.0,104258.8,0.0,113447.01,0.0,111063.73,82766.43,0.0,91718.8,159863.9,104592.55,132088.59,0.0,120654.68,0.0,83772.95,172325.67,117685.31,0.0,0.0,0.0,135871.5,0.0,56228.25,181768.32,101198.01,0.0,0.0,0.0,139064.06,104508.1,0.0,0.0,0.0,117524.72,160389.82,0.0,125547.53,92783.68,0.0,0.0,102145.13,113452.66,155681.72,0.0,112751.13,0.0,0.0,69712.74,0.0,0.0,117438.92,119315.75,89571.59,102251.57,118546.71,103257.14,124209.02,0.0,150302.84,108653.93,85325.93,0.0,131411.24,0.0,0.0,106431.97,90305.76,117466.03,148884.47,77373.87,104744.89,0.0,91538.51,0.0,185734.75,143396.54,125909.85,0.0,154525.7,0.0,100654.8,83325.77,110934.54,113680.54,117020.08,145359.99,123935.35,0.0,166031.45,96643.32,0.0,0.0,0.0,0.0,0.0,97268.1,0.0,0.0,0.0,0.0,0.0,0.0,0.0,134249.7,105443.68,0.0,0.0,96939.06,106758.6,112528.65,0.0,0.0,141786.78,136416.82,0.0,133245.52,90757.64,92350.36,78778.49,102143.93,0.0,98459.6,0.0,107712.57,0.0,0.0,145303.52,138476.41,156551.63,129312.79,100315.1,81684.97,152092.44,0.0,102406.76,109130.96,0.0,75242.28,0.0,129142.54,0.0,139129.92,0.0,66483.32,0.0,0.0,0.0,131834.76,92347.96,0.0,95297.11,0.0,0.0,143426.34,0.0,112708.2,100013.51,0.0,0.0,121685.31,111525.02,0.0,113546.3,95696.52,88963.31,144880.34,63093.01,132271.12,88814.4,90594.55,52192.08,124976.19,0.0,104356.38,150315.92,129299.28,140950.92,128065.12,107433.48,117468.67,0.0,0.0,0.0,0.0,0.0,112079.58,132044.6,0.0,0.0,0.0,102895.1,0.0,117578.35,0.0,0.0,116623.31,0.0,0.0,0.0,94435.45,112889.91,129745.1,0.0,0.0,139914.27,91835.16,0.0,0.0,115378.94,127786.28,64900.32,0.0,114091.38,0.0,0.0,145933.27,131504.73,0.0,0.0,124781.67,129055.13,96166.88,165298.12,0.0,102773.15,104449.8,137102.65,142475.87,0.0,103195.2,112070.44,0.0,96473.59,0.0,153195.59,96877.21,0.0,95452.89,63873.56,148298.59,0.0,143258.85,121342.24,99152.73,0.0,68423.89,79656.81,0.0,125321.84,0.0,84378.9,0.0,136281.41,119380.37,108716.59,0.0,0.0,106596.29,0.0,112615.86,0.0,0.0,0.0,75381.15,0.0,0.0,0.0,0.0,0.0,155766.05,101985.81,96019.5,0.0,0.0,147900.43,100755.66,125427.37,98202.76,72509.91,140393.65,145729.71,122295.17,0.0,119799.27,163708.58,61687.33,79144.34,0.0,104848.68,0.0,0.0,0.0,146652.01,0.0,0.0,130622.34,187013.13,0.0,0.0,0.0,98862.54,0.0,98443.14,0.0,123575.51,0.0,105239.1,0.0,0.0,117687.35,0.0,0.0,0.0,101457.14,100549.43,174588.8,121161.57,0.0,90063.74,0.0,134936.97,110495.27,133200.09,82596.8,103837.75,104149.66,117153.0,175534.78,0.0,0.0,0.0,83415.04,141859.12,132767.66,110635.32,177657.35,157777.58,86568.75,137262.71,0.0,0.0,131244.65,125155.83,140691.08,58820.32,0.0,168372.52,94682.56,0.0,0.0,146329.73,0.0,167962.7,0.0,0.0,0.0,0.0,0.0,93244.42,0.0,0.0,0.0,80442.06,150561.03,125474.44,127076.68,0.0,128650.11,145580.61,0.0,97588.6,0.0,0.0,122200.31,151709.33,0.0,122134.4,137260.45,88594.14,0.0,96997.09,0.0,142200.19,160761.41,0.0,0.0,0.0,116234.61,0.0,0.0,84009.47,139246.22,170113.0,145578.28,126273.95,162482.76,0.0,87814.89,113858.95,0.0,106648.98,0.0,103653.51,97990.49,150635.3,0.0,129674.89,0.0,83568.26,147137.74,114370.41,149887.49,170172.9,0.0,0.0,64808.32,62732.65,0.0,95167.55,134644.19,0.0,51293.47,0.0,116622.73,0.0,198113.86,0.0,141234.98,0.0,0.0,117304.29,0.0,92340.69,146780.52,144974.55,0.0,0.0,0.0,115137.26,101952.97,0.0,91956.49,0.0,123938.6,120777.88,90248.79,0.0,0.0,72079.71,0.0,0.0,99844.68,0.0,156815.71,146034.74,152283.39,118897.1,96781.39,102772.67,0.0,0.0,0.0,0.0,0.0,163548.07,148580.12,96709.07,135650.88,130809.77,133009.51,135337.49,112536.57,122570.69,0.0,100368.63,0.0,136082.0,47884.92,0.0,0.0,0.0,0.0,0.0,102251.14,0.0,0.0,132057.92,114285.2,0.0,76087.98,160272.27,102000.17,0.0,137853.0,0.0,162318.61,0.0,0.0,126431.54,123475.04,97652.96,0.0,0.0,99046.31,0.0,105907.42,0.0,97392.18,0.0,152812.58,139301.68,124348.38,117199.8,113905.48,133476.09,117879.32,0.0,122359.5,145875.74,121542.57,109508.68,146407.11,0.0,112330.83,90413.12,105302.66,0.0,0.0,121520.36,103960.38,102945.01,92760.55,0.0,134590.21,104255.03,0.0,0.0,147127.81,125927.51,0.0,111599.32,0.0,0.0,114212.6,115251.64,0.0,107571.61,0.0,130969.77,97738.97,0.0,113794.22,128396.33,124730.26,0.0,0.0,0.0,0.0,125724.95,0.0,0.0,74260.03,123783.91,0.0,153880.15,0.0,106301.85,0.0,135422.31,0.0,126875.62,96381.68,119703.1,152102.18,127675.39,133776.86,72788.03,76226.9,0.0,0.0,155423.17,126683.8,140700.61,107726.93,0.0,0.0,35741.69,133800.98,125682.79,0.0,130428.78,0.0,0.0,0.0,137138.2,73112.95,152347.01,115144.68,137817.52,157332.26,0.0,116980.78,128398.38,0.0,137657.25,167259.44,0.0,119009.57,80002.33,140211.88,118742.74,178827.79,83134.3,121513.31,95900.04,112543.42,0.0,141751.82,124140.57,0.0,157576.47,0.0,141428.99,127510.99,0.0,0.0,81818.49,100895.54,63832.43,0.0,116085.06,0.0,0.0,0.0,115576.44,0.0,77647.6,0.0,0.0,0.0,0.0,0.0,102050.47,114948.76,136000.45,156001.68,147974.16,0.0,90402.77,0.0,0.0,0.0,162701.65,0.0,0.0,82453.96,100107.99,0.0,125167.74,0.0,153313.67,0.0,125879.29,170057.62,0.0,160485.16,115409.18,133628.09,107135.04,0.0,151659.52,0.0,155903.82,0.0,95853.39,82228.67,0.0,106328.08,152992.91,116439.65,101352.78,0.0,105609.17,0.0,0.0,103894.38,139834.93,112518.71,115895.42,146408.68,71843.15,105492.53,183027.25,131968.57,104118.5,0.0,125023.1,74323.2,109346.13,0.0,0.0,127758.09,93249.4,0.0,0.0,138131.34,70362.52,0.0,115142.9,0.0,157989.21,172192.49,0.0,0.0,192407.97,107199.75,164858.18,117633.28,0.0,0.0,126663.51,0.0,153344.72,123943.18,0.0,98630.31,58036.33,0.0,109200.74,0.0,0.0,0.0,83173.98,0.0,73494.21,132450.24,120530.13,74988.59,94722.88,0.0,71269.89,98612.1,138033.55,91621.69,140014.42,126815.97,139663.37,0.0,165312.27,0.0,0.0,123699.28,97325.15,97041.16,0.0,0.0,104367.5,135369.71,112119.48,123760.68,0.0,0.0,0.0,0.0,0.0,152160.21,0.0,0.0,0.0,172381.8,106116.56,141952.07,0.0,138497.84,0.0,124213.36,126872.6,0.0,0.0,120923.52,142643.54,79857.64,95502.21,0.0,197715.93,85859.76,85304.27,132371.3,0.0,79896.0,0.0,0.0,0.0,146587.3,0.0,0.0,109109.33,0.0,0.0,0.0,0.0,0.0,109106.8,112262.84,0.0,0.0,144238.7,159397.75,125385.01,69365.25,155271.83,197200.04,144837.79,0.0,163085.79,125903.22,154377.3,107511.52,127406.5,143656.55,138106.75,128940.24,114453.58,0.0,0.0,131762.94,0.0,150300.65,108935.39,135847.47,157274.36,98848.19,0.0,0.0,129118.5,0.0,146053.66,124577.15,151012.55,144318.97,0.0,0.0,27517.15,147092.65,92246.14,148897.02,138335.96,160736.63,0.0,0.0,107141.27,96798.79,134498.54,132387.91,147171.2,100524.69,0.0,0.0,0.0,0.0,128743.55,122647.32,79263.9,123906.55,143006.7,157597.61,127117.8,102989.83,145118.83,126076.24,0.0,0.0,98186.7,0.0,0.0,0.0,75801.74,0.0,159316.64,96479.81,117726.33,0.0,122351.29,0.0,0.0,132598.38,0.0,0.0,0.0,127772.1,104631.67,0.0,0.0,118050.79,0.0,136093.74,88477.36,161572.24,68332.96,179852.26,0.0,104763.41,88541.57,0.0,0.0,0.0,0.0,92474.05,0.0,115479.48,87098.91,86351.85,0.0,163714.52,0.0,94153.56,90605.29,0.0,102787.42,63723.78,0.0,0.0,0.0,162691.16,127806.91,157960.49,87096.82,84944.58,160139.59,0.0,0.0,0.0,0.0,94615.11,90727.79,119545.48,118311.76,129574.98,148163.57,117154.9,154251.67,0.0,65667.79,0.0,50194.59,96748.89,132667.17,0.0,125566.9,137367.94,157658.36,103154.66,0.0,149592.14,84587.9,197436.82,104254.27,140133.08,136980.23,43658.33,0.0,0.0,0.0,0.0,90920.75,0.0,0.0,0.0,0.0,0.0,94920.71,113939.36,0.0,0.0,110666.42,151215.34,116318.23,0.0,100062.39,126605.14,106942.08,0.0,88594.93,123737.04,110752.15,0.0,0.0,0.0,0.0,0.0,145536.9,77082.65,145081.73,115897.73,108058.07,191523.09,0.0,91187.9,0.0,113958.55,147167.25,82916.48,0.0,0.0,165257.2,0.0,0.0,68799.72,116120.19,0.0,84102.11,0.0,0.0,0.0,0.0,104013.79,120822.86,128389.12,102800.72,135470.9,90145.04,0.0,99660.13,123081.84,151105.68,163856.76,0.0,127290.61,180614.04,55053.62,96110.22,106521.49,82255.51,0.0,102395.79,118201.41,0.0,0.0,105522.06,123936.54,0.0,119499.42,135814.7,106259.63,0.0,115463.16,0.0,120233.83,0.0,81132.21,122196.99,0.0,0.0,0.0,132759.8,76705.87,0.0,0.0,0.0,103015.12,0.0,104001.38,87116.71,82547.11,111167.7,139714.4,139875.2,138340.06,114974.24,0.0,0.0,0.0,0.0,0.0,0.0,0.0,0.0,0.0,78737.61,152606.82,0.0,167268.98,144287.6,151855.33,0.0,155994.15,147527.03,100267.03,0.0,0.0,121235.05,129965.18,0.0,163894.35,0.0,0.0,0.0,87967.42,0.0,0.0,121093.29,121691.54,0.0,0.0,0.0,0.0,0.0,127638.35,0.0,135290.42,108269.2,0.0,145623.36,145809.53,130334.84,0.0,0.0,0.0,0.0,0.0,157371.54,0.0,134560.62,0.0,72373.62,109564.1,132116.13,101195.23,149436.73,130682.11,129944.39,0.0,0.0,0.0,138731.95,155621.08,0.0,64430.06,0.0,0.0,146777.44,0.0,108881.73,0.0,112957.26,89015.61,133618.01,93680.43,97486.15,137794.18,101928.51,0.0,0.0,79585.96,161884.99,129068.54,0.0,175307.32,136658.61,146584.19,0.0,131414.76,0.0,99441.21,0.0,0.0,0.0,181110.13,100476.46,51949.95,121063.49,127023.39,144147.68,173306.13,106425.75,0.0,152685.4,82083.52,0.0,114779.35,57568.94,0.0,0.0,0.0,110559.46,0.0,0.0,128152.82,129472.33,105000.23,72012.76,110480.48,132439.99,0.0,94108.54,0.0,131959.86,0.0,122952.9,107379.68,122641.56,0.0,124037.28,117565.03,133189.4,120252.02,152264.81,105069.98,115076.06,0.0,110540.43,135095.47,187861.18,124655.59,0.0,134105.01,0.0,0.0,83693.34,114631.23,128601.98,91258.52,70416.75,0.0,0.0,0.0,88294.6,0.0,93577.3,98765.84,84309.57,136258.06,0.0,131160.85,145222.99,98141.57,102282.61,116121.84,155176.83,98986.28,0.0,144852.06,0.0,97663.16,95161.75,127095.14,92526.15,107362.8,0.0,0.0,139930.18,77949.69,121405.04,124580.69,133087.76,0.0,0.0,98877.95,105843.26,0.0,0.0,105264.88,0.0,0.0,0.0,138166.3,122265.24,0.0,68927.57,106957.28,190238.93,113537.73,101090.27,0.0,0.0,0.0,111589.67,172310.33,147910.3,131287.36,121276.32,109869.32,97435.85,0.0,133853.27,109528.16,84607.34,101438.0,0.0,99513.91,97585.32,0.0,0.0,136659.74,85755.86,0.0,0.0,0.0,111669.68,154741.45,125681.51,155303.71,140681.68,71902.52,146606.6,123949.75,144753.21,91285.22,0.0,125850.53,108116.66,0.0,67639.56,141287.15,0.0,0.0,97157.96,125241.17,0.0,142688.57,130089.56,0.0,0.0,0.0,90218.9,0.0,155973.88,129321.44,138650.49,136487.86,0.0,38617.2,0.0,0.0,0.0,0.0,0.0,105918.1,0.0,0.0,0.0,59972.26,157228.61,0.0,0.0,102452.71,0.0,142987.46,143330.56,120165.4,0.0,66573.17,102833.46,164757.56,0.0,0.0,169025.83,153455.72,0.0,153972.89,114609.55,143625.83,80926.02,166594.78,115465.98,0.0,0.0,92618.62,149594.02,0.0,0.0,158468.76,161889.79,133681.78,0.0,187294.46,0.0,0.0,119706.22,0.0,128645.67,129189.15,121260.19,0.0,163757.06,0.0,0.0,141005.47,105356.09,0.0,85897.95,0.0,164672.66,99169.67,0.0,0.0,124053.03,0.0,103499.09,151766.71,0.0,101486.96,123601.56,122017.19,100262.88,117302.62,135984.15,0.0,160997.54,0.0,71996.29,85615.66,62339.81,142319.03,0.0,0.0,87413.19,0.0,97560.16,141787.31,166178.02,163097.55,0.0,0.0,0.0,0.0,0.0,0.0,143138.91,0.0,0.0,129804.17,110153.27,116377.48,117791.06,0.0,105419.73,99219.47,119327.93,83947.12,99883.16,156111.24,111095.58,0.0,153137.74,156111.08,113014.7,132615.73,0.0,0.0,0.0,80380.24,108909.12,90865.8,99799.76,140363.95,151844.64,0.0,133231.48,0.0,126598.99,0.0,93173.88,105007.31,0.0,118614.6,95829.13,0.0,0.0,153590.73,0.0,130557.24,93183.19,125495.64,0.0,118547.72,97792.21,0.0,167181.01,121355.19,0.0,0.0,113226.47,118392.75,145262.54,163505.16,118114.28,0.0,103294.56,0.0,0.0,119919.12,0.0,0.0,0.0,0.0,0.0,0.0,0.0,128744.04,137727.34,123544.21,133968.96,126534.6,0.0,0.0,0.0,0.0,144953.31,103544.88,0.0,0.0,0.0,120047.77,167735.69,0.0,74385.98,94754.0,0.0,86920.86,132077.48,127847.86,176702.36,83555.58,0.0,0.0,0.0,96858.35,0.0,0.0,154970.54,88902.21,98738.92,0.0,0.0,137456.28,0.0,113257.2,0.0,116536.43,0.0,127331.46,0.0,0.0,105969.42,119547.46,0.0,138668.18,51582.5,0.0,169902.92,87262.4,0.0,0.0,0.0,0.0,0.0,0.0,0.0,0.0,150348.37,115074.02,0.0,99986.98,166685.92,95312.8,202443.47,88977.39,104982.57,185714.28,116022.53,0.0,164011.48,0.0,101514.89,0.0,0.0,134599.33,147511.26,78396.08,0.0,110581.29,151836.36,83624.55,148197.15,72594.0,115221.36,117808.74,147754.68,113292.17,0.0,0.0,0.0,120825.7,0.0,0.0,133845.28,0.0,108541.04,0.0,113817.06,137300.23,158024.38,127837.54,161533.0,80958.36,0.0,0.0,115021.76,126773.43,92889.91,0.0,88820.29,115406.97,132951.92,108891.7,141788.63,116954.32,0.0,0.0,144637.86,0.0,127924.25,0.0,0.0,120046.74,97819.36,62979.93,0.0,0.0,119496.25,0.0,100249.41,0.0,53013.29,0.0,122088.67,90544.0,0.0,147813.05,134140.68,0.0,0.0,122198.21,94222.53,0.0,130931.83,0.0,0.0,140614.15,118680.57,122917.69,0.0,131754.11,0.0,0.0,0.0,0.0,97266.1,113690.83,0.0,116338.68,97339.99,0.0,128770.88,0.0,44054.84,108797.63,0.0,122446.61,158786.67,125689.29,154640.41,129305.09,0.0,0.0,82844.33,0.0,0.0,76692.22,117715.84,87105.32,69311.16,0.0,66948.67,0.0,128410.71,99897.53,0.0,152622.34,0.0,138227.19,111395.53,84386.57,0.0,174673.65,0.0,109019.65,111179.83,124099.13,122471.09,134692.4,123816.5,106288.54,148200.72,104145.65,142755.25,168560.46,0.0,132193.94,0.0,139330.1,0.0,0.0,134571.5,0.0,133444.97,0.0,176914.8,68348.18,0.0,56726.83,66220.17,96147.55,0.0,145330.43,0.0,124192.28,107805.67,0.0,0.0,87739.08,133313.34,0.0,154902.66,0.0,119695.75,0.0,152614.51,131647.01,96654.72,137583.04,62717.84,95377.13,135936.1,161591.11,142382.03,0.0,0.0,127043.09,0.0,78885.88,0.0,91711.59,110031.09,81210.72,122947.92,182065.85,76495.04,0.0,0.0,0.0,99045.93,0.0,205770.78,79340.95,138456.03,0.0,101099.9,0.0,109219.83,113034.31,0.0,129548.5,74812.84,0.0,153538.13,0.0,0.0,155619.36,159693.9,171653.17,47685.47,0.0,123692.0,148853.29,133161.95,143221.35,0.0,0.0,126265.88,0.0,112713.34,141173.03,0.0,0.0,118866.36,0.0,0.0,123345.85,73070.18,0.0,95120.59,102800.65,97072.42,132876.55,0.0,0.0,0.0,51962.91,98759.89,156570.86,0.0,69617.36,136526.26,113736.27,138847.9,0.0,107868.14,96926.12,77599.23,178787.54,0.0,129668.43,146178.13,0.0,0.0,154763.21,0.0,100954.88,0.0,112701.04,84692.5,86449.39,0.0,73194.99,124593.23,121765.37,110837.73,99835.17,91057.37,0.0,149400.27,89111.63,132527.9,114997.42,161798.53,96129.32,0.0,133050.97,120124.35,0.0,133705.74,0.0,0.0,152805.05,0.0,112465.06,156007.09,142662.68,102603.3,0.0,0.0,0.0,69518.95,126145.54,113581.98,112572.39,0.0,0.0,84906.45,126816.18,105249.76,0.0,109387.9,137732.23,157866.77,0.0,0.0,144684.03,107065.31,91301.72,0.0,0.0,0.0,0.0,0.0,0.0,92472.1,0.0,127738.75,101242.98,92599.55,0.0,141356.47,72664.0,123365.34,121898.58,0.0,0.0,0.0,185379.02,109402.13,108410.87,90408.16,90425.15,0.0,204017.4,0.0,134740.19,0.0,98955.87,49157.09,130240.33,96693.66,129810.6,130661.96,0.0,0.0,130747.1,106629.49,112029.83,130575.26,96679.71,0.0,171740.69,0.0,120596.93,0.0,95984.69,142557.11,0.0,0.0,132129.72,91902.56,156218.19,168085.38,117852.26,84474.62,0.0,126803.34,0.0,68806.84,115141.18,0.0,90723.36,151249.45,0.0,0.0,0.0,0.0,0.0,123948.85,65521.2,0.0,0.0,155736.42,0.0,118307.57,0.0,103099.17,0.0,109646.83,127187.86,0.0,0.0,130385.82,107787.47,99325.04,0.0,123764.95,86006.21,57068.43,103607.24,99004.24,0.0,0.0,119496.87,0.0,0.0,0.0,152885.77,99607.37,137003.68,99811.44,154712.58,0.0,147687.24,0.0,127009.83,0.0,127320.36,125175.58,186788.96,148556.74,128644.46,127476.73,159561.93,112419.92,129991.76,0.0,0.0,89175.06,162390.52,190353.08,0.0,0.0,139180.97,114435.47,149950.19,126115.6,111396.97,115007.08,102141.9,120879.73,82321.88,0.0,116474.28,132352.69,182491.57,0.0,120787.18,130181.47,88348.43,0.0,146186.28,104488.17,109196.67,109026.8,61319.63,0.0,0.0,165413.43,77805.66,0.0,124197.22,0.0,160132.75,70258.88,162657.64,148042.97,92855.02,100252.18,107592.89,113096.41,0.0,149940.04,0.0,148874.01,68138.37,110080.3,0.0,114268.85,117412.35,0.0,0.0,35549.81,0.0,123675.69,139532.34,178713.98,0.0,89086.31,96143.47,32197.64,0.0,0.0,0.0,0.0,0.0,0.0,74483.97,0.0,152303.66,159904.79,0.0,99557.94,116886.59,142188.2,149961.99,0.0,0.0,0.0,28649.64,81025.6,0.0,152462.79,0.0,155519.59,118851.05,92899.27,0.0,75263.7,147904.31,106640.5,90696.78,175509.8,0.0,0.0,114321.28,85915.52,0.0,0.0,0.0,133844.22,154872.08,0.0,116121.67,71026.77,0.0,0.0,0.0,0.0,0.0,145644.05,129667.77,109341.87,0.0,0.0,0.0,87485.67,0.0,53369.13,0.0,146679.77,112499.42,48387.0,68079.8,160133.88,66190.33,123761.68,0.0,138912.17,0.0,128524.19,0.0,0.0,0.0,0.0,114756.14,0.0,128663.81,113522.64,0.0,0.0,141918.09,107944.33,0.0,96399.31,0.0,76961.6,121394.42,112755.34,0.0,145400.69,0.0,124450.36,113877.23,0.0,148667.81,0.0,111065.93,0.0,158697.61,0.0,84651.79,154953.94,108883.29,0.0,125211.55,0.0,157099.47,0.0,83600.24,0.0,81795.74,129378.32,0.0,0.0,0.0,74430.1,91241.85,99092.45,0.0,100062.16,98723.67,0.0,128760.32,117035.89,0.0,108913.84,101100.22,110615.47,152143.89,109798.25,0.0,0.0,114991.45,96769.04,0.0,0.0,132725.1,0.0,0.0,0.0,84557.82,113913.53,140406.68,105229.34,0.0,0.0,165252.52,0.0,0.0,0.0,0.0,118962.58,71379.53,131307.11,0.0,87099.85,183135.39,0.0,0.0,0.0,72535.45,0.0,0.0,0.0,107000.49,0.0,0.0,152806.74,0.0,140641.26,0.0,143145.87,114731.76,116695.27,0.0,0.0,93978.96,121968.11,97324.91,0.0,0.0,0.0,137222.77,0.0,114268.22,0.0,0.0,160858.13,170288.38,111568.01,83889.03,171982.95,0.0,137624.4,0.0,0.0,91184.01,0.0,0.0,140170.61,62092.9,0.0,0.0,0.0,103516.87,0.0,0.0,143061.88,0.0,137388.01,137712.01,106901.42,105603.21,150679.71,52016.08,60515.13,158584.28,118812.5,0.0,0.0,0.0,76318.64,0.0,111432.13,150148.51,38550.06,119013.86,111213.64,71097.23,109632.85,71083.98,0.0,81564.1,0.0,124540.28,133616.39,101648.5,124281.84,0.0,0.0,183613.66,137682.68,106005.54,152310.55,0.0,134446.04,142289.28,0.0,149003.76,131341.46,77919.78,0.0,0.0,0.0,115462.02,0.0,0.0,0.0,0.0,120591.19,0.0,0.0,0.0,0.0,71667.97,82729.47,0.0,0.0,0.0,129626.19,114035.39,151922.94,0.0,107751.68,0.0,101179.23,0.0,0.0,0.0,58571.18,153058.64,98270.34,0.0,0.0,115636.05,185932.18,72549.0,0.0,0.0,0.0,0.0,115084.53,0.0,127661.69,77627.33,160625.17,0.0,124266.86,127974.06,0.0,104911.35,0.0,0.0,110646.54,0.0,126704.49,0.0,84560.04,129893.56,167385.81,0.0,105858.71,0.0,0.0,0.0,125141.24,96173.17,0.0,0.0,0.0,0.0,126113.28,40488.76,137389.77,85146.36,0.0,141796.43,111348.15,0.0,0.0,64404.26,129431.36,134204.67,0.0,0.0,116711.06,0.0,54980.81,99773.85,101231.77,117070.21,73314.04,0.0,212314.03,136067.82,109052.04,79126.17,102290.56,102025.08,113383.07,102541.1,0.0,0.0,109941.51,141749.68,0.0,0.0,134066.1,0.0,0.0,87619.29,0.0,0.0,123040.38,108128.52,169023.33,0.0,0.0,0.0,114835.43,0.0,145030.92,71240.3,138772.15,93617.07,0.0,0.0,74237.2,61274.7,106486.66,73194.52,0.0,0.0,0.0,120355.0,117265.21,0.0,98009.13,0.0,0.0,171671.9,116197.65,0.0,86607.39,0.0,0.0,0.0,97338.19,0.0,0.0,131698.57,130110.45,0.0,165149.13,101707.8,105588.66,78391.17,0.0,101278.25,108711.57,108555.07,146781.24,0.0,0.0,0.0,0.0,103291.25,0.0,0.0,0.0,0.0,149405.18,0.0,135071.12,0.0,0.0,181804.34,142658.04,120150.39,81905.95,137998.2,123126.29,0.0,122449.31,161766.87,0.0,123187.51,150956.71,105021.28,0.0,133204.91,0.0,0.0,0.0,0.0,0.0,91328.71,0.0,81310.34,107136.6,0.0,0.0,144757.97,0.0,113110.26,106414.57,106920.91,0.0,131513.26,0.0,134320.23,79715.36,74306.19,126428.38,99640.89,0.0,128226.37,0.0,0.0,0.0,0.0,122168.65,178074.33,0.0,0.0,122726.56,164496.99,0.0,150219.41,0.0,0.0,103108.17,96486.57,90560.48,92476.88,0.0,43504.42,0.0,0.0,102486.21,0.0,110203.77,128362.59,170600.78,0.0,0.0,75339.64,122038.34,0.0,124788.18,0.0,0.0,138553.57,0.0,105387.89,0.0,0.0,137361.96,158537.42,0.0,169947.41,148167.83,0.0,48023.83,0.0,0.0,121240.76,0.0,0.0,129847.75,0.0,105163.88,0.0,0.0,0.0,93934.63,117866.92,0.0,127103.97,132512.26,107604.66,0.0,0.0,120875.23,71786.9,113143.12,150777.72,174894.53,0.0,160416.56,0.0,0.0,98775.23,0.0,152496.82,0.0,112930.28,0.0,144450.58,96776.49,145984.92,96353.8,0.0,115777.23,122822.0,0.0,0.0,79450.09,122394.0,0.0,134378.89,0.0,88161.85,142412.13,121030.9,165982.43,0.0,206663.75,94661.53,174400.36,123428.69,175735.5,78381.13,115345.86,118613.34,109960.06,121729.42,0.0,139496.35,0.0,138521.83,0.0,83727.68,0.0,0.0,124179.3,128829.25,171490.78,0.0,0.0,0.0,0.0,156367.6,133970.22,0.0,96127.27,121907.97,0.0,0.0,77701.64,0.0,0.0,113922.44,183997.7,0.0,0.0,0.0,85660.96,115569.21,81828.22,132694.73,0.0,0.0,96152.68,0.0,141334.95,0.0,135157.05,171601.27,179539.2,80615.46,137964.51,159434.03,113574.61,0.0,124573.33,105864.6,0.0,0.0,130499.09,140576.11,91025.58,125877.65,121778.71,127948.57,0.0,115286.68,62078.21,0.0,131643.25,151739.65,93616.35,0.0,85225.21,148749.29,0.0,0.0,111729.47,180169.44,0.0,0.0,0.0,0.0,88772.87,0.0,131184.67,0.0,92466.21,102741.15,178755.84,0.0,146602.25,0.0,0.0,115702.67,137655.31,0.0,100082.14,0.0,96032.22,0.0,144553.5,86172.81,0.0,87212.8,0.0,130700.92,0.0,0.0,0.0,92930.92,0.0,77556.79,102874.28,146093.39,149363.12,152309.37,0.0,111629.29,0.0,95830.43,135919.33,0.0,0.0,92244.83,112727.06,100359.54,105301.5,112994.65,89025.88,95478.17,0.0,119127.46,128206.79,0.0,71433.08,102258.11,151963.26,128551.36,118158.74,118520.41,0.0,163823.37,0.0,0.0,141726.88,0.0,154100.3,0.0,0.0,0.0,140004.96,0.0,125328.56,0.0,139986.65,119787.76,107556.06,0.0,0.0,142705.95,0.0,0.0,161613.94,116353.2,60013.81,0.0,144272.07,0.0,117696.67,79954.61,149989.39,124339.9,0.0,83074.0,141792.61,0.0,106870.12,120962.59,0.0,110527.17,0.0,116084.32,0.0,0.0,82441.75,0.0,0.0,0.0,141099.43,128843.67,86843.61,120074.97,130231.8,0.0,109724.38,111743.43,121309.17,82697.28,138317.94,176913.52,89047.14,0.0,94753.55,0.0,0.0,106520.73,134006.39,132837.7,120549.29,139432.55,80895.44,0.0,171646.76,109121.71,109844.81,140931.82,0.0,0.0,102708.77,149000.91,83459.86,75893.11,167395.6,0.0,71283.09,0.0,0.0,127616.56,154737.88,0.0,125476.31,176511.08,110783.28,141642.92,0.0,0.0,75681.52,0.0,161111.45,0.0,72494.69,133964.3,0.0,0.0,157201.48,95679.29,0.0,81231.85,81480.27,73059.38,117559.05,186445.31,137657.71,133889.35,134562.8,100781.75,174356.13,190125.43,164046.1,123536.52,0.0,171848.38,0.0,139562.05,0.0,168001.34,0.0,123356.63,0.0,45408.85,125977.81,133767.19,0.0,0.0,0.0,0.0,142550.25,0.0,0.0,128369.75,0.0,0.0,166133.28,121206.96,0.0,127552.85,159458.53,142537.18,182781.74,0.0,0.0,0.0,152063.59,110997.76,148942.0,0.0,84438.57,93920.47,158713.08,0.0,123204.88,72945.29,178742.71,0.0,0.0,0.0,132906.88,179334.83,137179.39,0.0,119960.29,127414.55,0.0,0.0,0.0,112494.99,78133.15,0.0,145553.07,146286.22,111827.27,0.0,94416.78,91549.78,59568.57,94464.81,95368.14,102185.42,144875.71,0.0,0.0,113291.05,0.0,0.0,131101.04,76101.81,0.0,92510.9,0.0,77652.4,98360.03,27288.43,0.0,0.0,131996.66,121580.42,132436.34,0.0,107978.4,98684.15,0.0,129264.05,131753.41,0.0,0.0,57422.62,0.0,144094.2,147510.34,161592.76,0.0,0.0,0.0,87542.89,144581.96,122568.05,172231.93,171932.26,0.0,0.0,111798.06,0.0,79336.61,142905.51,96834.78,105261.76,127913.71,73218.89,149995.72,123674.28,124125.26,0.0,156811.74,0.0,0.0,150555.83,109137.12,158351.02,0.0,0.0,0.0,0.0,0.0,0.0,0.0,82729.49,142765.24,121172.97,132932.14,123374.46,161371.5,79563.36,0.0,138232.24,0.0,95927.04,116932.59,79551.12,116416.94,88141.1,177729.13,0.0,123912.78,0.0,108306.44,103502.22,183768.47,0.0,0.0,140900.97,94049.92,98926.4,142872.36,46057.96,119769.77,143244.97,79562.98,0.0,0.0,96659.64,0.0,165947.99,92676.3,83195.12,0.0,130233.14,123502.53,140894.06,163867.86,0.0,93816.7,0.0,0.0,114668.89,146756.68,111183.53,0.0,0.0,0.0,0.0,0.0,0.0,132838.07,0.0,0.0,59360.77,0.0,112668.7,138503.51,0.0,0.0,0.0,0.0,157267.95,133871.05,141989.27,0.0,0.0,148363.38,144102.32,118448.15,0.0,0.0,0.0,0.0,0.0,0.0,129205.49,104015.54,0.0,0.0,103873.39,117731.79,135827.33,114135.17,0.0,118756.62,98382.72,79858.13,0.0,95052.29,177728.55,83116.68,111565.91,83015.71,124511.01,130652.52,0.0,0.0,121854.45,0.0,86893.28,79523.13,89939.62,0.0,155047.56,0.0,118569.03,0.0,0.0,0.0,0.0,130461.02,0.0,0.0,61172.04,90194.34,95508.2,99967.76,101470.29,70541.06,112211.61,154543.98,137275.36,153316.14,0.0,121250.04,109578.04,53573.18,58003.41,113000.66,0.0,151290.16,103515.39,0.0,0.0,106687.76,0.0,0.0,106089.2,0.0,96202.32,0.0,0.0,127818.52,137318.42,0.0,55776.39,84421.62,83161.65,0.0,87807.29,0.0,0.0,0.0,95293.86,92847.59,0.0,0.0,0.0,0.0,0.0,0.0,68345.86,76656.4,0.0,0.0,60374.98,0.0,0.0,0.0,0.0,129968.67,157731.6,0.0,89276.48,138825.19,103729.79,75499.24,169445.4,111359.55,123311.39,115532.52,77886.53,135795.63,97514.07,106160.37,0.0,143680.47,124483.53,86006.3,111094.05,0.0,0.0,0.0,115171.71,111543.26,137936.94,122304.65,120586.54,0.0,46520.69,105473.74,0.0,145396.49,165526.71,83714.41,0.0,125540.05,100254.76,138150.57,0.0,136858.42,102609.0,0.0,0.0,77356.92,151675.65,0.0,0.0,80204.11,0.0,0.0,115587.49,0.0,139659.04,0.0,122781.51,0.0,153545.11,121629.22,167983.17,99760.84,125890.72,0.0,119148.55,72948.58,133974.36,154483.98,98627.13,136770.67,95252.72,117413.95,143571.52,121626.9,84440.1,0.0,0.0,140356.7,0.0,92224.56,0.0,121355.99,109003.26,102983.91,96252.98,155879.09,142929.16,64082.09,0.0,0.0,0.0,168253.21,101979.16,164902.43,0.0,111812.52,0.0,119755.0,139528.23,94773.11,108345.22,166939.88,174571.36,71829.34,0.0,76769.68,0.0,128927.93,110941.93,99250.08,0.0,0.0,0.0,0.0,0.0,118886.55,156823.7,124216.93,144258.52,128793.63,0.0,0.0,0.0,115341.55,99162.29,200117.76,0.0,0.0,151532.4,0.0,0.0,68238.51,136808.53,92398.08,143566.12,0.0,127728.24,0.0,119658.49,0.0,149879.66,119859.52,145382.61,121231.39,141078.57,70657.61,191091.74,0.0,0.0,137937.95,0.0,0.0,0.0,93143.39,0.0,112544.45,123034.43,0.0,119278.44,0.0,0.0,169312.72,128412.61,137479.13,0.0,148088.11,126679.69,90826.27,143582.89,125712.2,0.0,155187.3,0.0,155455.43,100480.53,0.0,101891.1,0.0,128929.88,121681.91,139603.22,0.0,0.0,91760.11,175739.36,0.0,170295.04,101579.28,115282.3,107980.37,133866.22,102723.35,0.0,193213.02,132862.59,0.0,65349.71,139753.35,0.0,195926.39,0.0,87772.52,71018.6,111096.91,166776.6,101266.51,134796.87,0.0,160454.15,0.0,0.0,91132.18,0.0,0.0,0.0,113113.12,0.0,190409.34,0.0,0.0,139687.66,137301.87,129845.26,0.0,125489.4,0.0,155417.61,0.0,0.0,0.0,113607.47,0.0,126524.11,117593.48,83199.05,125920.98,118469.38,153537.57,0.0,151027.05,144751.81,155739.76,0.0,122531.86,103377.81,0.0,93017.47,90022.85,74371.49,0.0,90602.42,123841.49,183579.54,180307.73,0.0,0.0,35016.6,0.0,155060.41,0.0,0.0,57369.61,130142.79],\"y0\":\" \",\"yaxis\":\"y\",\"type\":\"box\"}],                        {\"template\":{\"data\":{\"histogram2dcontour\":[{\"type\":\"histogram2dcontour\",\"colorbar\":{\"outlinewidth\":0,\"ticks\":\"\"},\"colorscale\":[[0.0,\"#0d0887\"],[0.1111111111111111,\"#46039f\"],[0.2222222222222222,\"#7201a8\"],[0.3333333333333333,\"#9c179e\"],[0.4444444444444444,\"#bd3786\"],[0.5555555555555556,\"#d8576b\"],[0.6666666666666666,\"#ed7953\"],[0.7777777777777778,\"#fb9f3a\"],[0.8888888888888888,\"#fdca26\"],[1.0,\"#f0f921\"]]}],\"choropleth\":[{\"type\":\"choropleth\",\"colorbar\":{\"outlinewidth\":0,\"ticks\":\"\"}}],\"histogram2d\":[{\"type\":\"histogram2d\",\"colorbar\":{\"outlinewidth\":0,\"ticks\":\"\"},\"colorscale\":[[0.0,\"#0d0887\"],[0.1111111111111111,\"#46039f\"],[0.2222222222222222,\"#7201a8\"],[0.3333333333333333,\"#9c179e\"],[0.4444444444444444,\"#bd3786\"],[0.5555555555555556,\"#d8576b\"],[0.6666666666666666,\"#ed7953\"],[0.7777777777777778,\"#fb9f3a\"],[0.8888888888888888,\"#fdca26\"],[1.0,\"#f0f921\"]]}],\"heatmap\":[{\"type\":\"heatmap\",\"colorbar\":{\"outlinewidth\":0,\"ticks\":\"\"},\"colorscale\":[[0.0,\"#0d0887\"],[0.1111111111111111,\"#46039f\"],[0.2222222222222222,\"#7201a8\"],[0.3333333333333333,\"#9c179e\"],[0.4444444444444444,\"#bd3786\"],[0.5555555555555556,\"#d8576b\"],[0.6666666666666666,\"#ed7953\"],[0.7777777777777778,\"#fb9f3a\"],[0.8888888888888888,\"#fdca26\"],[1.0,\"#f0f921\"]]}],\"heatmapgl\":[{\"type\":\"heatmapgl\",\"colorbar\":{\"outlinewidth\":0,\"ticks\":\"\"},\"colorscale\":[[0.0,\"#0d0887\"],[0.1111111111111111,\"#46039f\"],[0.2222222222222222,\"#7201a8\"],[0.3333333333333333,\"#9c179e\"],[0.4444444444444444,\"#bd3786\"],[0.5555555555555556,\"#d8576b\"],[0.6666666666666666,\"#ed7953\"],[0.7777777777777778,\"#fb9f3a\"],[0.8888888888888888,\"#fdca26\"],[1.0,\"#f0f921\"]]}],\"contourcarpet\":[{\"type\":\"contourcarpet\",\"colorbar\":{\"outlinewidth\":0,\"ticks\":\"\"}}],\"contour\":[{\"type\":\"contour\",\"colorbar\":{\"outlinewidth\":0,\"ticks\":\"\"},\"colorscale\":[[0.0,\"#0d0887\"],[0.1111111111111111,\"#46039f\"],[0.2222222222222222,\"#7201a8\"],[0.3333333333333333,\"#9c179e\"],[0.4444444444444444,\"#bd3786\"],[0.5555555555555556,\"#d8576b\"],[0.6666666666666666,\"#ed7953\"],[0.7777777777777778,\"#fb9f3a\"],[0.8888888888888888,\"#fdca26\"],[1.0,\"#f0f921\"]]}],\"surface\":[{\"type\":\"surface\",\"colorbar\":{\"outlinewidth\":0,\"ticks\":\"\"},\"colorscale\":[[0.0,\"#0d0887\"],[0.1111111111111111,\"#46039f\"],[0.2222222222222222,\"#7201a8\"],[0.3333333333333333,\"#9c179e\"],[0.4444444444444444,\"#bd3786\"],[0.5555555555555556,\"#d8576b\"],[0.6666666666666666,\"#ed7953\"],[0.7777777777777778,\"#fb9f3a\"],[0.8888888888888888,\"#fdca26\"],[1.0,\"#f0f921\"]]}],\"mesh3d\":[{\"type\":\"mesh3d\",\"colorbar\":{\"outlinewidth\":0,\"ticks\":\"\"}}],\"scatter\":[{\"fillpattern\":{\"fillmode\":\"overlay\",\"size\":10,\"solidity\":0.2},\"type\":\"scatter\"}],\"parcoords\":[{\"type\":\"parcoords\",\"line\":{\"colorbar\":{\"outlinewidth\":0,\"ticks\":\"\"}}}],\"scatterpolargl\":[{\"type\":\"scatterpolargl\",\"marker\":{\"colorbar\":{\"outlinewidth\":0,\"ticks\":\"\"}}}],\"bar\":[{\"error_x\":{\"color\":\"#2a3f5f\"},\"error_y\":{\"color\":\"#2a3f5f\"},\"marker\":{\"line\":{\"color\":\"#E5ECF6\",\"width\":0.5},\"pattern\":{\"fillmode\":\"overlay\",\"size\":10,\"solidity\":0.2}},\"type\":\"bar\"}],\"scattergeo\":[{\"type\":\"scattergeo\",\"marker\":{\"colorbar\":{\"outlinewidth\":0,\"ticks\":\"\"}}}],\"scatterpolar\":[{\"type\":\"scatterpolar\",\"marker\":{\"colorbar\":{\"outlinewidth\":0,\"ticks\":\"\"}}}],\"histogram\":[{\"marker\":{\"pattern\":{\"fillmode\":\"overlay\",\"size\":10,\"solidity\":0.2}},\"type\":\"histogram\"}],\"scattergl\":[{\"type\":\"scattergl\",\"marker\":{\"colorbar\":{\"outlinewidth\":0,\"ticks\":\"\"}}}],\"scatter3d\":[{\"type\":\"scatter3d\",\"line\":{\"colorbar\":{\"outlinewidth\":0,\"ticks\":\"\"}},\"marker\":{\"colorbar\":{\"outlinewidth\":0,\"ticks\":\"\"}}}],\"scattermapbox\":[{\"type\":\"scattermapbox\",\"marker\":{\"colorbar\":{\"outlinewidth\":0,\"ticks\":\"\"}}}],\"scatterternary\":[{\"type\":\"scatterternary\",\"marker\":{\"colorbar\":{\"outlinewidth\":0,\"ticks\":\"\"}}}],\"scattercarpet\":[{\"type\":\"scattercarpet\",\"marker\":{\"colorbar\":{\"outlinewidth\":0,\"ticks\":\"\"}}}],\"carpet\":[{\"aaxis\":{\"endlinecolor\":\"#2a3f5f\",\"gridcolor\":\"white\",\"linecolor\":\"white\",\"minorgridcolor\":\"white\",\"startlinecolor\":\"#2a3f5f\"},\"baxis\":{\"endlinecolor\":\"#2a3f5f\",\"gridcolor\":\"white\",\"linecolor\":\"white\",\"minorgridcolor\":\"white\",\"startlinecolor\":\"#2a3f5f\"},\"type\":\"carpet\"}],\"table\":[{\"cells\":{\"fill\":{\"color\":\"#EBF0F8\"},\"line\":{\"color\":\"white\"}},\"header\":{\"fill\":{\"color\":\"#C8D4E3\"},\"line\":{\"color\":\"white\"}},\"type\":\"table\"}],\"barpolar\":[{\"marker\":{\"line\":{\"color\":\"#E5ECF6\",\"width\":0.5},\"pattern\":{\"fillmode\":\"overlay\",\"size\":10,\"solidity\":0.2}},\"type\":\"barpolar\"}],\"pie\":[{\"automargin\":true,\"type\":\"pie\"}]},\"layout\":{\"autotypenumbers\":\"strict\",\"colorway\":[\"#636efa\",\"#EF553B\",\"#00cc96\",\"#ab63fa\",\"#FFA15A\",\"#19d3f3\",\"#FF6692\",\"#B6E880\",\"#FF97FF\",\"#FECB52\"],\"font\":{\"color\":\"#2a3f5f\"},\"hovermode\":\"closest\",\"hoverlabel\":{\"align\":\"left\"},\"paper_bgcolor\":\"white\",\"plot_bgcolor\":\"#E5ECF6\",\"polar\":{\"bgcolor\":\"#E5ECF6\",\"angularaxis\":{\"gridcolor\":\"white\",\"linecolor\":\"white\",\"ticks\":\"\"},\"radialaxis\":{\"gridcolor\":\"white\",\"linecolor\":\"white\",\"ticks\":\"\"}},\"ternary\":{\"bgcolor\":\"#E5ECF6\",\"aaxis\":{\"gridcolor\":\"white\",\"linecolor\":\"white\",\"ticks\":\"\"},\"baxis\":{\"gridcolor\":\"white\",\"linecolor\":\"white\",\"ticks\":\"\"},\"caxis\":{\"gridcolor\":\"white\",\"linecolor\":\"white\",\"ticks\":\"\"}},\"coloraxis\":{\"colorbar\":{\"outlinewidth\":0,\"ticks\":\"\"}},\"colorscale\":{\"sequential\":[[0.0,\"#0d0887\"],[0.1111111111111111,\"#46039f\"],[0.2222222222222222,\"#7201a8\"],[0.3333333333333333,\"#9c179e\"],[0.4444444444444444,\"#bd3786\"],[0.5555555555555556,\"#d8576b\"],[0.6666666666666666,\"#ed7953\"],[0.7777777777777778,\"#fb9f3a\"],[0.8888888888888888,\"#fdca26\"],[1.0,\"#f0f921\"]],\"sequentialminus\":[[0.0,\"#0d0887\"],[0.1111111111111111,\"#46039f\"],[0.2222222222222222,\"#7201a8\"],[0.3333333333333333,\"#9c179e\"],[0.4444444444444444,\"#bd3786\"],[0.5555555555555556,\"#d8576b\"],[0.6666666666666666,\"#ed7953\"],[0.7777777777777778,\"#fb9f3a\"],[0.8888888888888888,\"#fdca26\"],[1.0,\"#f0f921\"]],\"diverging\":[[0,\"#8e0152\"],[0.1,\"#c51b7d\"],[0.2,\"#de77ae\"],[0.3,\"#f1b6da\"],[0.4,\"#fde0ef\"],[0.5,\"#f7f7f7\"],[0.6,\"#e6f5d0\"],[0.7,\"#b8e186\"],[0.8,\"#7fbc41\"],[0.9,\"#4d9221\"],[1,\"#276419\"]]},\"xaxis\":{\"gridcolor\":\"white\",\"linecolor\":\"white\",\"ticks\":\"\",\"title\":{\"standoff\":15},\"zerolinecolor\":\"white\",\"automargin\":true,\"zerolinewidth\":2},\"yaxis\":{\"gridcolor\":\"white\",\"linecolor\":\"white\",\"ticks\":\"\",\"title\":{\"standoff\":15},\"zerolinecolor\":\"white\",\"automargin\":true,\"zerolinewidth\":2},\"scene\":{\"xaxis\":{\"backgroundcolor\":\"#E5ECF6\",\"gridcolor\":\"white\",\"linecolor\":\"white\",\"showbackground\":true,\"ticks\":\"\",\"zerolinecolor\":\"white\",\"gridwidth\":2},\"yaxis\":{\"backgroundcolor\":\"#E5ECF6\",\"gridcolor\":\"white\",\"linecolor\":\"white\",\"showbackground\":true,\"ticks\":\"\",\"zerolinecolor\":\"white\",\"gridwidth\":2},\"zaxis\":{\"backgroundcolor\":\"#E5ECF6\",\"gridcolor\":\"white\",\"linecolor\":\"white\",\"showbackground\":true,\"ticks\":\"\",\"zerolinecolor\":\"white\",\"gridwidth\":2}},\"shapedefaults\":{\"line\":{\"color\":\"#2a3f5f\"}},\"annotationdefaults\":{\"arrowcolor\":\"#2a3f5f\",\"arrowhead\":0,\"arrowwidth\":1},\"geo\":{\"bgcolor\":\"white\",\"landcolor\":\"#E5ECF6\",\"subunitcolor\":\"white\",\"showland\":true,\"showlakes\":true,\"lakecolor\":\"white\"},\"title\":{\"x\":0.05},\"mapbox\":{\"style\":\"light\"}}},\"xaxis\":{\"anchor\":\"y\",\"domain\":[0.0,1.0],\"title\":{\"text\":\"Exited\"},\"categoryorder\":\"array\",\"categoryarray\":[1,0]},\"yaxis\":{\"anchor\":\"x\",\"domain\":[0.0,1.0],\"title\":{\"text\":\"Balance\"}},\"legend\":{\"title\":{\"text\":\"Exited\"},\"tracegroupgap\":0},\"margin\":{\"t\":60},\"boxmode\":\"overlay\",\"title\":{\"text\":\"Box Plot of Balance by Exit Status\"}},                        {\"responsive\": true}                    ).then(function(){\n",
              "                            \n",
              "var gd = document.getElementById('93bb7733-20da-43ce-b091-ce96ee178e77');\n",
              "var x = new MutationObserver(function (mutations, observer) {{\n",
              "        var display = window.getComputedStyle(gd).display;\n",
              "        if (!display || display === 'none') {{\n",
              "            console.log([gd, 'removed!']);\n",
              "            Plotly.purge(gd);\n",
              "            observer.disconnect();\n",
              "        }}\n",
              "}});\n",
              "\n",
              "// Listen for the removal of the full notebook cells\n",
              "var notebookContainer = gd.closest('#notebook-container');\n",
              "if (notebookContainer) {{\n",
              "    x.observe(notebookContainer, {childList: true});\n",
              "}}\n",
              "\n",
              "// Listen for the clearing of the current output cell\n",
              "var outputEl = gd.closest('.output');\n",
              "if (outputEl) {{\n",
              "    x.observe(outputEl, {childList: true});\n",
              "}}\n",
              "\n",
              "                        })                };                            </script>        </div>\n",
              "</body>\n",
              "</html>"
            ]
          },
          "metadata": {}
        }
      ]
    },
    {
      "cell_type": "markdown",
      "source": [
        "**COMMENTS**\n",
        "\n",
        "From the diagram above and the category of 0, which describes the customers of staying in the bank, the min value equals to Q1. This means that a significant portion of the data is concentrated within the lower range of values. In other words, there's a clustering of data points at or near the minimum value.\n",
        "\n",
        "Also, the maximum value is significantly far away from the third quartile (Q3) in a dataset, it indicates that there is a substantial range of values, including outliers or extreme values, in the upper tail of the distribution, for both classes. Therefore, a substantial portion of the data falls within the lower 75% of the range, while a relatively small number of data points extend into the upper 25% of the range.\n",
        "\n",
        "The boxes of two classes have some differences in their medians or quartiles, about 30k, and it confirms the correlation between \"Balance\" and the likelihood of a customer exiting the bank.\n",
        "\n",
        "The boxes do not seem to have the same distribution, and that suggests a strong correlation between them."
      ],
      "metadata": {
        "id": "JBK8-H-B7_0P"
      }
    },
    {
      "cell_type": "code",
      "source": [
        "# TODO number of products and balance\n",
        "\n",
        "# fig = px.box(data_frame=input_data, x='NumOfProducts', y='Balance', title='Box Plot of Balance Grouped by Number of Products')\n",
        "colors = [\"red\", \"blue\", \"green\", \"purple\"]\n",
        "fig = px.box(data_frame=input_data, x='NumOfProducts', y='Balance', color='NumOfProducts',\n",
        "             color_discrete_map={1: colors[0], 2: colors[1], 3: colors[2], 4: colors[3]},\n",
        "             title='Box Plot of Balance Grouped by Number of Products')\n",
        "\n",
        "# update_layout_plot()\n",
        "fig.show()\n",
        "fig.write_image(\"numofprod_balance_box_plot.png\", format=\"png\")"
      ],
      "metadata": {
        "id": "n6cfnU69COCY",
        "colab": {
          "base_uri": "https://localhost:8080/",
          "height": 542
        },
        "outputId": "1f9de5ca-3ef8-450c-e44c-1dfe47eb2451"
      },
      "execution_count": null,
      "outputs": [
        {
          "output_type": "display_data",
          "data": {
            "text/html": [
              "<html>\n",
              "<head><meta charset=\"utf-8\" /></head>\n",
              "<body>\n",
              "    <div>            <script src=\"https://cdnjs.cloudflare.com/ajax/libs/mathjax/2.7.5/MathJax.js?config=TeX-AMS-MML_SVG\"></script><script type=\"text/javascript\">if (window.MathJax && window.MathJax.Hub && window.MathJax.Hub.Config) {window.MathJax.Hub.Config({SVG: {font: \"STIX-Web\"}});}</script>                <script type=\"text/javascript\">window.PlotlyConfig = {MathJaxConfig: 'local'};</script>\n",
              "        <script charset=\"utf-8\" src=\"https://cdn.plot.ly/plotly-2.24.1.min.js\"></script>                <div id=\"b46c11c3-f969-474c-826f-8798436da537\" class=\"plotly-graph-div\" style=\"height:525px; width:100%;\"></div>            <script type=\"text/javascript\">                                    window.PLOTLYENV=window.PLOTLYENV || {};                                    if (document.getElementById(\"b46c11c3-f969-474c-826f-8798436da537\")) {                    Plotly.newPlot(                        \"b46c11c3-f969-474c-826f-8798436da537\",                        [{\"alignmentgroup\":\"True\",\"hovertemplate\":\"NumOfProducts=%{x}\\u003cbr\\u003eBalance=%{y}\\u003cextra\\u003e\\u003c\\u002fextra\\u003e\",\"legendgroup\":\"1\",\"marker\":{\"color\":\"red\"},\"name\":\"1\",\"notched\":false,\"offsetgroup\":\"1\",\"orientation\":\"v\",\"showlegend\":true,\"x\":[1,1,1,1,1,1,1,1,1,1,1,1,1,1,1,1,1,1,1,1,1,1,1,1,1,1,1,1,1,1,1,1,1,1,1,1,1,1,1,1,1,1,1,1,1,1,1,1,1,1,1,1,1,1,1,1,1,1,1,1,1,1,1,1,1,1,1,1,1,1,1,1,1,1,1,1,1,1,1,1,1,1,1,1,1,1,1,1,1,1,1,1,1,1,1,1,1,1,1,1,1,1,1,1,1,1,1,1,1,1,1,1,1,1,1,1,1,1,1,1,1,1,1,1,1,1,1,1,1,1,1,1,1,1,1,1,1,1,1,1,1,1,1,1,1,1,1,1,1,1,1,1,1,1,1,1,1,1,1,1,1,1,1,1,1,1,1,1,1,1,1,1,1,1,1,1,1,1,1,1,1,1,1,1,1,1,1,1,1,1,1,1,1,1,1,1,1,1,1,1,1,1,1,1,1,1,1,1,1,1,1,1,1,1,1,1,1,1,1,1,1,1,1,1,1,1,1,1,1,1,1,1,1,1,1,1,1,1,1,1,1,1,1,1,1,1,1,1,1,1,1,1,1,1,1,1,1,1,1,1,1,1,1,1,1,1,1,1,1,1,1,1,1,1,1,1,1,1,1,1,1,1,1,1,1,1,1,1,1,1,1,1,1,1,1,1,1,1,1,1,1,1,1,1,1,1,1,1,1,1,1,1,1,1,1,1,1,1,1,1,1,1,1,1,1,1,1,1,1,1,1,1,1,1,1,1,1,1,1,1,1,1,1,1,1,1,1,1,1,1,1,1,1,1,1,1,1,1,1,1,1,1,1,1,1,1,1,1,1,1,1,1,1,1,1,1,1,1,1,1,1,1,1,1,1,1,1,1,1,1,1,1,1,1,1,1,1,1,1,1,1,1,1,1,1,1,1,1,1,1,1,1,1,1,1,1,1,1,1,1,1,1,1,1,1,1,1,1,1,1,1,1,1,1,1,1,1,1,1,1,1,1,1,1,1,1,1,1,1,1,1,1,1,1,1,1,1,1,1,1,1,1,1,1,1,1,1,1,1,1,1,1,1,1,1,1,1,1,1,1,1,1,1,1,1,1,1,1,1,1,1,1,1,1,1,1,1,1,1,1,1,1,1,1,1,1,1,1,1,1,1,1,1,1,1,1,1,1,1,1,1,1,1,1,1,1,1,1,1,1,1,1,1,1,1,1,1,1,1,1,1,1,1,1,1,1,1,1,1,1,1,1,1,1,1,1,1,1,1,1,1,1,1,1,1,1,1,1,1,1,1,1,1,1,1,1,1,1,1,1,1,1,1,1,1,1,1,1,1,1,1,1,1,1,1,1,1,1,1,1,1,1,1,1,1,1,1,1,1,1,1,1,1,1,1,1,1,1,1,1,1,1,1,1,1,1,1,1,1,1,1,1,1,1,1,1,1,1,1,1,1,1,1,1,1,1,1,1,1,1,1,1,1,1,1,1,1,1,1,1,1,1,1,1,1,1,1,1,1,1,1,1,1,1,1,1,1,1,1,1,1,1,1,1,1,1,1,1,1,1,1,1,1,1,1,1,1,1,1,1,1,1,1,1,1,1,1,1,1,1,1,1,1,1,1,1,1,1,1,1,1,1,1,1,1,1,1,1,1,1,1,1,1,1,1,1,1,1,1,1,1,1,1,1,1,1,1,1,1,1,1,1,1,1,1,1,1,1,1,1,1,1,1,1,1,1,1,1,1,1,1,1,1,1,1,1,1,1,1,1,1,1,1,1,1,1,1,1,1,1,1,1,1,1,1,1,1,1,1,1,1,1,1,1,1,1,1,1,1,1,1,1,1,1,1,1,1,1,1,1,1,1,1,1,1,1,1,1,1,1,1,1,1,1,1,1,1,1,1,1,1,1,1,1,1,1,1,1,1,1,1,1,1,1,1,1,1,1,1,1,1,1,1,1,1,1,1,1,1,1,1,1,1,1,1,1,1,1,1,1,1,1,1,1,1,1,1,1,1,1,1,1,1,1,1,1,1,1,1,1,1,1,1,1,1,1,1,1,1,1,1,1,1,1,1,1,1,1,1,1,1,1,1,1,1,1,1,1,1,1,1,1,1,1,1,1,1,1,1,1,1,1,1,1,1,1,1,1,1,1,1,1,1,1,1,1,1,1,1,1,1,1,1,1,1,1,1,1,1,1,1,1,1,1,1,1,1,1,1,1,1,1,1,1,1,1,1,1,1,1,1,1,1,1,1,1,1,1,1,1,1,1,1,1,1,1,1,1,1,1,1,1,1,1,1,1,1,1,1,1,1,1,1,1,1,1,1,1,1,1,1,1,1,1,1,1,1,1,1,1,1,1,1,1,1,1,1,1,1,1,1,1,1,1,1,1,1,1,1,1,1,1,1,1,1,1,1,1,1,1,1,1,1,1,1,1,1,1,1,1,1,1,1,1,1,1,1,1,1,1,1,1,1,1,1,1,1,1,1,1,1,1,1,1,1,1,1,1,1,1,1,1,1,1,1,1,1,1,1,1,1,1,1,1,1,1,1,1,1,1,1,1,1,1,1,1,1,1,1,1,1,1,1,1,1,1,1,1,1,1,1,1,1,1,1,1,1,1,1,1,1,1,1,1,1,1,1,1,1,1,1,1,1,1,1,1,1,1,1,1,1,1,1,1,1,1,1,1,1,1,1,1,1,1,1,1,1,1,1,1,1,1,1,1,1,1,1,1,1,1,1,1,1,1,1,1,1,1,1,1,1,1,1,1,1,1,1,1,1,1,1,1,1,1,1,1,1,1,1,1,1,1,1,1,1,1,1,1,1,1,1,1,1,1,1,1,1,1,1,1,1,1,1,1,1,1,1,1,1,1,1,1,1,1,1,1,1,1,1,1,1,1,1,1,1,1,1,1,1,1,1,1,1,1,1,1,1,1,1,1,1,1,1,1,1,1,1,1,1,1,1,1,1,1,1,1,1,1,1,1,1,1,1,1,1,1,1,1,1,1,1,1,1,1,1,1,1,1,1,1,1,1,1,1,1,1,1,1,1,1,1,1,1,1,1,1,1,1,1,1,1,1,1,1,1,1,1,1,1,1,1,1,1,1,1,1,1,1,1,1,1,1,1,1,1,1,1,1,1,1,1,1,1,1,1,1,1,1,1,1,1,1,1,1,1,1,1,1,1,1,1,1,1,1,1,1,1,1,1,1,1,1,1,1,1,1,1,1,1,1,1,1,1,1,1,1,1,1,1,1,1,1,1,1,1,1,1,1,1,1,1,1,1,1,1,1,1,1,1,1,1,1,1,1,1,1,1,1,1,1,1,1,1,1,1,1,1,1,1,1,1,1,1,1,1,1,1,1,1,1,1,1,1,1,1,1,1,1,1,1,1,1,1,1,1,1,1,1,1,1,1,1,1,1,1,1,1,1,1,1,1,1,1,1,1,1,1,1,1,1,1,1,1,1,1,1,1,1,1,1,1,1,1,1,1,1,1,1,1,1,1,1,1,1,1,1,1,1,1,1,1,1,1,1,1,1,1,1,1,1,1,1,1,1,1,1,1,1,1,1,1,1,1,1,1,1,1,1,1,1,1,1,1,1,1,1,1,1,1,1,1,1,1,1,1,1,1,1,1,1,1,1,1,1,1,1,1,1,1,1,1,1,1,1,1,1,1,1,1,1,1,1,1,1,1,1,1,1,1,1,1,1,1,1,1,1,1,1,1,1,1,1,1,1,1,1,1,1,1,1,1,1,1,1,1,1,1,1,1,1,1,1,1,1,1,1,1,1,1,1,1,1,1,1,1,1,1,1,1,1,1,1,1,1,1,1,1,1,1,1,1,1,1,1,1,1,1,1,1,1,1,1,1,1,1,1,1,1,1,1,1,1,1,1,1,1,1,1,1,1,1,1,1,1,1,1,1,1,1,1,1,1,1,1,1,1,1,1,1,1,1,1,1,1,1,1,1,1,1,1,1,1,1,1,1,1,1,1,1,1,1,1,1,1,1,1,1,1,1,1,1,1,1,1,1,1,1,1,1,1,1,1,1,1,1,1,1,1,1,1,1,1,1,1,1,1,1,1,1,1,1,1,1,1,1,1,1,1,1,1,1,1,1,1,1,1,1,1,1,1,1,1,1,1,1,1,1,1,1,1,1,1,1,1,1,1,1,1,1,1,1,1,1,1,1,1,1,1,1,1,1,1,1,1,1,1,1,1,1,1,1,1,1,1,1,1,1,1,1,1,1,1,1,1,1,1,1,1,1,1,1,1,1,1,1,1,1,1,1,1,1,1,1,1,1,1,1,1,1,1,1,1,1,1,1,1,1,1,1,1,1,1,1,1,1,1,1,1,1,1,1,1,1,1,1,1,1,1,1,1,1,1,1,1,1,1,1,1,1,1,1,1,1,1,1,1,1,1,1,1,1,1,1,1,1,1,1,1,1,1,1,1,1,1,1,1,1,1,1,1,1,1,1,1,1,1,1,1,1,1,1,1,1,1,1,1,1,1,1,1,1,1,1,1,1,1,1,1,1,1,1,1,1,1,1,1,1,1,1,1,1,1,1,1,1,1,1,1,1,1,1,1,1,1,1,1,1,1,1,1,1,1,1,1,1,1,1,1,1,1,1,1,1,1,1,1,1,1,1,1,1,1,1,1,1,1,1,1,1,1,1,1,1,1,1,1,1,1,1,1,1,1,1,1,1,1,1,1,1,1,1,1,1,1,1,1,1,1,1,1,1,1,1,1,1,1,1,1,1,1,1,1,1,1,1,1,1,1,1,1,1,1,1,1,1,1,1,1,1,1,1,1,1,1,1,1,1,1,1,1,1,1,1,1,1,1,1,1,1,1,1,1,1,1,1,1,1,1,1,1,1,1,1,1,1,1,1,1,1,1,1,1,1,1,1,1,1,1,1,1,1,1,1,1,1,1,1,1,1,1,1,1,1,1,1,1,1,1,1,1,1,1,1,1,1,1,1,1,1,1,1,1,1,1,1,1,1,1,1,1,1,1,1,1,1,1,1,1,1,1,1,1,1,1,1,1,1,1,1,1,1,1,1,1,1,1,1,1,1,1,1,1,1,1,1,1,1,1,1,1,1,1,1,1,1,1,1,1,1,1,1,1,1,1,1,1,1,1,1,1,1,1,1,1,1,1,1,1,1,1,1,1,1,1,1,1,1,1,1,1,1,1,1,1,1,1,1,1,1,1,1,1,1,1,1,1,1,1,1,1,1,1,1,1,1,1,1,1,1,1,1,1,1,1,1,1,1,1,1,1,1,1,1,1,1,1,1,1,1,1,1,1,1,1,1,1,1,1,1,1,1,1,1,1,1,1,1,1,1,1,1,1,1,1,1,1,1,1,1,1,1,1,1,1,1,1,1,1,1,1,1,1,1,1,1,1,1,1,1,1,1,1,1,1,1,1,1,1,1,1,1,1,1,1,1,1,1,1,1,1,1,1,1,1,1,1,1,1,1,1,1,1,1,1,1,1,1,1,1,1,1,1,1,1,1,1,1,1,1,1,1,1,1,1,1,1,1,1,1,1,1,1,1,1,1,1,1,1,1,1,1,1,1,1,1,1,1,1,1,1,1,1,1,1,1,1,1,1,1,1,1,1,1,1,1,1,1,1,1,1,1,1,1,1,1,1,1,1,1,1,1,1,1,1,1,1,1,1,1,1,1,1,1,1,1,1,1,1,1,1,1,1,1,1,1,1,1,1,1,1,1,1,1,1,1,1,1,1,1,1,1,1,1,1,1,1,1,1,1,1,1,1,1,1,1,1,1,1,1,1,1,1,1,1,1,1,1,1,1,1,1,1,1,1,1,1,1,1,1,1,1,1,1,1,1,1,1,1,1,1,1,1,1,1,1,1,1,1,1,1,1,1,1,1,1,1,1,1,1,1,1,1,1,1,1,1,1,1,1,1,1,1,1,1,1,1,1,1,1,1,1,1,1,1,1,1,1,1,1,1,1,1,1,1,1,1,1,1,1,1,1,1,1,1,1,1,1,1,1,1,1,1,1,1,1,1,1,1,1,1,1,1,1,1,1,1,1,1,1,1,1,1,1,1,1,1,1,1,1,1,1,1,1,1,1,1,1,1,1,1,1,1,1,1,1,1,1,1,1,1,1,1,1,1,1,1,1,1,1,1,1,1,1,1,1,1,1,1,1,1,1,1,1,1,1,1,1,1,1,1,1,1,1,1,1,1,1,1,1,1,1,1,1,1,1,1,1,1,1,1,1,1,1,1,1,1,1,1,1,1,1,1,1,1,1,1,1,1,1,1,1,1,1,1,1,1,1,1,1,1,1,1,1,1,1,1,1,1,1,1,1,1,1,1,1,1,1,1,1,1,1,1,1,1,1,1,1,1,1,1,1,1,1,1,1,1,1,1,1,1,1,1,1,1,1,1,1,1,1,1,1,1,1,1,1,1,1,1,1,1,1,1,1,1,1,1,1,1,1,1,1,1,1,1,1,1,1,1,1,1,1,1,1,1,1,1,1,1,1,1,1,1,1,1,1,1,1,1,1,1,1,1,1,1,1,1,1,1,1,1,1,1,1,1,1,1,1,1,1,1,1,1,1,1,1,1,1,1,1,1,1,1,1,1,1,1,1,1,1,1,1,1,1,1,1,1,1,1,1,1,1,1,1,1,1,1,1,1,1,1,1,1,1,1,1,1,1,1,1,1,1,1,1,1,1,1,1,1,1,1,1,1,1,1,1,1,1,1,1,1,1,1,1,1,1,1,1,1,1,1,1,1,1,1,1,1,1,1,1,1,1,1,1,1,1,1,1,1,1,1,1,1,1,1,1,1,1,1,1,1,1,1,1,1,1,1,1,1,1,1,1,1,1,1,1,1,1,1,1,1,1,1,1,1,1,1,1,1,1,1,1,1,1,1,1,1,1,1,1,1,1,1,1,1,1,1,1,1,1,1,1,1,1,1,1,1,1,1,1,1,1,1,1,1,1,1,1,1,1,1,1,1,1,1,1,1,1,1,1,1,1,1,1,1,1,1,1,1,1,1,1,1,1,1,1,1,1,1,1,1,1,1,1,1,1,1,1,1,1,1,1,1,1,1,1,1,1,1,1,1,1,1,1,1,1,1,1,1,1,1,1,1,1,1,1,1,1,1,1,1,1,1,1,1,1,1,1,1,1,1,1,1,1,1,1,1,1,1,1,1,1,1,1,1,1,1,1,1,1,1,1,1,1,1,1,1,1,1,1,1,1,1,1,1,1,1,1,1,1,1,1,1,1,1,1,1,1,1,1,1,1,1,1,1,1,1,1,1,1,1,1,1,1,1,1,1,1,1,1,1,1,1,1,1,1,1,1,1,1,1,1,1,1,1,1,1,1,1,1,1,1,1,1,1,1,1,1,1,1,1,1,1,1,1,1,1,1,1,1,1,1,1,1,1,1,1,1,1,1,1,1,1,1,1,1,1,1,1,1,1,1,1,1,1,1,1,1,1,1,1,1,1,1,1,1,1,1,1,1,1,1,1,1,1,1,1,1,1,1,1,1,1,1,1,1,1,1,1,1,1,1,1,1,1,1,1,1,1,1,1,1,1,1,1,1,1,1,1,1,1,1,1,1,1,1,1,1,1,1,1,1,1,1,1,1,1,1,1,1,1,1,1,1,1,1,1,1,1,1,1,1,1,1,1,1,1,1,1,1,1,1,1,1,1,1,1,1,1,1,1,1,1,1,1,1,1,1,1,1,1,1,1,1,1,1,1,1,1,1,1,1,1,1,1,1,1,1,1,1,1,1,1,1,1,1,1,1,1,1,1,1,1,1,1,1,1,1,1,1,1,1,1,1,1,1,1,1,1,1,1,1,1,1,1,1,1,1,1,1,1,1,1,1,1,1,1,1,1,1,1,1,1,1,1,1,1,1,1,1,1,1,1,1,1,1,1,1,1,1,1,1,1,1,1,1,1,1,1,1,1,1,1,1,1,1,1,1,1,1,1,1,1,1,1,1,1,1,1,1,1,1,1,1,1,1,1,1,1,1,1,1,1,1,1,1,1,1,1,1,1,1,1,1,1,1,1,1,1,1,1,1,1,1,1,1,1,1,1,1,1,1,1,1,1,1,1,1,1,1,1,1,1,1,1,1,1,1,1,1,1,1,1,1,1,1,1,1,1,1,1,1,1,1,1,1,1,1,1,1,1,1,1,1,1,1,1,1,1,1,1,1,1,1,1,1,1,1,1,1,1,1,1,1,1,1,1,1,1,1,1,1,1,1,1,1,1,1,1,1,1,1,1,1,1,1,1,1,1,1,1,1,1,1,1,1,1,1,1,1,1,1,1,1,1,1,1,1,1,1,1,1,1,1,1,1,1,1,1,1,1,1,1,1,1,1,1,1,1,1,1,1,1,1,1,1,1,1,1,1,1,1,1,1,1,1,1,1,1,1,1,1,1,1,1,1,1,1,1,1,1,1,1,1,1,1,1,1,1,1,1,1,1,1,1,1,1,1,1,1,1,1,1,1,1,1,1,1,1,1,1,1,1,1,1,1,1,1,1,1,1,1,1,1,1,1,1,1,1,1,1,1,1,1,1,1,1,1,1,1,1,1,1,1,1,1,1,1,1,1,1,1,1,1,1,1,1,1,1,1,1,1,1,1,1,1,1,1,1,1,1,1,1,1,1,1,1,1,1,1,1,1,1,1,1,1,1,1,1,1,1,1,1,1,1,1,1,1,1,1,1,1,1,1,1,1,1,1,1,1,1,1,1,1,1,1,1,1,1,1,1,1,1,1,1,1,1,1,1,1,1,1,1,1,1,1,1,1,1,1,1,1,1,1,1,1,1,1,1,1,1,1,1,1,1,1,1,1,1,1,1,1,1,1,1,1,1,1,1,1,1,1,1,1,1,1,1,1,1,1,1,1,1,1,1,1,1,1,1,1,1,1,1,1,1,1,1,1,1,1,1,1,1,1,1,1,1,1,1,1,1,1,1,1,1,1,1,1,1,1,1,1,1,1,1,1,1,1,1,1,1,1,1,1,1,1,1,1,1,1,1,1,1,1,1,1,1,1,1,1,1,1,1,1,1,1,1,1,1,1,1,1,1,1,1,1,1,1,1,1,1,1,1,1,1,1,1,1,1,1,1,1,1,1,1,1,1,1,1,1,1,1,1,1,1,1,1,1,1,1,1,1,1,1,1,1,1,1,1,1,1,1,1,1,1,1,1,1,1,1,1,1,1,1,1,1,1,1,1,1,1,1,1,1,1,1,1,1,1,1,1,1,1,1,1,1,1,1,1,1,1,1,1,1,1,1,1,1,1,1,1,1,1,1,1,1,1,1,1,1,1,1,1,1,1,1,1,1,1,1,1,1,1,1,1,1,1,1,1,1,1,1,1,1,1,1,1,1,1,1,1,1,1,1,1,1,1,1,1,1,1,1,1,1,1,1,1,1,1,1,1,1,1,1,1,1,1,1,1,1,1,1,1,1,1,1,1,1,1,1,1,1,1,1,1,1,1,1,1,1,1,1,1,1,1,1,1,1,1,1,1,1,1,1,1,1,1,1,1,1,1,1,1,1,1,1,1,1,1,1,1,1,1,1,1,1,1,1,1,1,1,1,1,1,1,1,1,1,1,1,1,1,1,1,1,1,1,1,1,1,1,1,1,1,1,1,1,1,1,1,1,1,1,1,1,1,1,1,1,1,1,1,1,1,1,1,1,1,1,1,1,1,1,1,1,1,1,1,1,1,1,1,1,1,1,1,1,1,1,1,1,1,1,1,1,1,1,1,1,1,1,1,1,1,1,1,1,1,1,1,1,1,1,1,1,1,1,1,1,1,1,1,1,1,1,1,1,1,1,1,1,1,1,1,1,1,1,1,1,1,1,1,1,1,1,1,1,1,1,1,1,1,1,1,1,1,1,1,1,1,1,1,1,1,1,1,1,1,1,1,1,1,1,1,1,1,1,1,1,1,1,1,1,1,1,1,1,1,1,1,1,1,1,1,1,1,1,1,1,1,1,1,1,1,1,1,1,1,1,1,1,1,1,1,1,1,1,1,1,1,1,1,1,1,1,1,1,1,1,1,1,1,1,1,1,1,1,1,1,1,1,1,1,1,1,1,1,1,1,1,1,1,1,1,1,1,1,1,1,1,1,1,1,1,1,1,1,1,1,1,1,1,1,1,1,1,1,1,1,1,1,1,1,1,1,1,1,1,1,1,1,1,1,1,1,1,1,1,1,1,1,1,1,1,1,1,1,1,1,1,1,1,1,1,1,1,1,1,1,1,1,1,1,1,1,1,1,1,1,1,1,1,1,1,1,1,1,1,1,1,1,1,1,1,1,1,1,1,1,1,1,1,1,1,1,1,1,1,1,1,1,1,1,1,1,1,1,1,1,1,1,1,1,1,1,1,1,1,1,1,1,1,1,1,1,1,1,1,1,1,1,1,1,1,1,1,1,1,1,1,1,1,1,1,1,1,1,1,1,1,1,1,1,1,1,1,1,1,1,1,1,1,1,1,1,1,1,1,1,1,1,1,1,1,1,1,1,1,1,1,1,1,1,1,1,1,1,1,1,1,1,1,1,1,1,1,1,1,1,1,1,1,1,1,1,1,1,1,1,1,1,1,1,1,1,1,1,1,1,1,1,1,1,1,1,1,1,1,1,1,1,1,1,1,1,1,1,1,1,1,1,1,1,1,1,1,1,1,1,1,1,1,1,1,1,1,1,1,1,1,1,1,1,1,1,1,1,1,1,1,1,1,1,1,1,1,1,1,1,1,1,1,1,1,1,1,1,1,1,1,1,1,1,1,1,1,1,1,1,1,1,1,1,1,1,1,1,1,1,1,1,1,1,1,1,1,1,1,1,1,1,1,1,1,1,1,1,1,1,1,1,1,1,1,1,1,1,1,1,1,1,1,1,1,1,1,1,1,1,1,1,1,1,1,1,1,1,1,1,1,1,1,1,1,1,1,1,1,1,1,1,1,1,1,1,1,1,1,1,1,1,1,1,1,1,1,1,1,1,1,1,1,1,1,1,1,1,1,1,1,1,1,1,1,1,1,1,1,1,1,1,1,1,1,1,1,1,1,1,1,1,1,1,1,1,1,1,1,1,1,1,1,1,1,1,1,1,1,1,1,1,1,1,1,1,1,1,1,1,1,1,1,1,1,1,1,1,1,1,1,1,1,1,1,1,1,1,1,1,1,1,1,1,1,1,1,1,1,1,1,1,1,1,1,1,1,1,1,1,1,1,1,1,1,1,1,1,1,1,1,1,1,1,1,1,1,1,1,1,1,1,1,1,1,1,1,1,1,1,1,1,1,1,1,1,1,1,1,1,1,1,1,1,1,1,1,1,1,1,1,1,1,1,1,1,1,1,1,1,1,1,1,1,1,1,1,1,1,1,1,1,1,1,1,1,1,1,1,1,1,1,1,1,1,1,1,1,1,1,1,1,1,1,1,1],\"x0\":\" \",\"xaxis\":\"x\",\"y\":[0.0,83807.86,125510.82,134603.88,132602.88,0.0,0.0,0.0,136815.64,141349.43,85311.7,134264.04,145260.23,76548.6,0.0,0.0,122522.32,117419.35,131394.56,155931.11,112045.67,137843.8,103391.38,125561.97,98495.72,125211.92,127864.4,75888.2,0.0,40685.92,136857.0,78707.16,109166.37,101633.04,98373.26,0.0,163607.18,0.0,77253.22,0.0,90307.62,121681.82,176273.95,102827.44,0.0,82674.15,0.0,88938.62,99806.85,150092.8,92833.89,90536.81,100238.35,106190.55,167864.4,107818.63,120193.42,126384.42,0.0,152603.45,0.0,148507.24,101827.07,130862.43,122570.87,63663.93,133463.1,213146.2,137452.09,125851.93,0.0,40915.55,113157.22,106967.18,120681.63,0.0,127609.59,0.0,97259.25,123246.7,101060.25,108007.36,133702.89,113034.22,109013.23,130114.39,129608.57,169462.09,133868.21,101993.12,161608.81,122311.21,0.0,99010.67,0.0,93012.89,174790.15,107720.64,96423.84,141040.01,105420.18,0.0,176666.62,0.0,89763.84,134954.53,0.0,106376.85,63095.01,106854.21,49512.55,0.0,0.0,0.0,99564.22,96888.39,130830.22,100160.75,0.0,116803.8,117411.6,123497.58,103097.85,126418.14,77846.9,79731.91,0.0,127992.25,54901.01,99906.19,110654.02,79019.8,99240.51,0.0,52436.2,145605.44,0.0,84026.86,0.0,138718.92,118274.71,103907.28,119023.28,166297.89,63227.0,112822.26,135903.33,125169.26,149117.31,132311.71,118082.89,119266.69,0.0,137104.47,78398.69,63669.42,135296.33,153804.44,147069.78,0.0,95741.75,145965.33,141441.75,139290.41,144428.87,95441.27,144848.74,146502.07,112013.81,108269.37,182123.79,165272.13,115301.31,118342.26,170331.37,114510.85,81273.13,169399.6,126436.29,101960.74,150842.93,102535.57,0.0,152265.43,141947.67,125013.72,0.0,152390.26,34013.63,105934.96,0.0,147199.07,183102.29,97378.54,54503.55,155726.85,135842.41,63349.75,129499.42,0.0,141434.04,138306.34,124328.84,110368.03,89588.35,115924.89,111756.5,0.0,0.0,162923.85,80793.58,71340.09,99282.63,137946.39,101084.36,114754.08,0.0,99286.98,85679.25,0.0,122220.19,116528.15,77780.29,0.0,125832.2,68065.8,174937.64,110071.1,139432.37,127357.76,0.0,95556.31,0.0,133950.37,89968.69,134169.62,149762.08,93844.69,141078.37,117992.59,0.0,80262.6,156478.62,155470.55,135096.77,180075.22,97541.24,156067.05,0.0,80613.93,0.0,85891.55,0.0,116927.89,137326.65,133598.4,136188.78,89685.92,211774.31,131317.48,101160.99,120320.54,152827.99,64097.75,135219.57,93694.42,59408.63,114354.95,0.0,111071.36,64740.12,169312.13,106901.94,128509.63,129834.67,91536.93,0.0,105204.01,152968.73,158261.68,0.0,121021.05,0.0,137715.66,0.0,110929.96,138901.61,0.0,72392.41,100946.71,170491.84,0.0,0.0,144606.22,134811.3,115897.12,82034.0,114206.84,111574.41,162448.69,148249.54,0.0,0.0,150525.8,0.0,111018.98,129755.99,129555.7,87202.38,146133.39,0.0,140745.33,139070.51,114193.24,167878.5,129120.64,110349.82,141325.56,78653.84,142253.65,0.0,115988.86,75592.43,138778.15,147832.15,135438.4,116060.08,112564.62,125406.58,135134.99,133102.92,42157.08,82259.29,0.0,150461.07,133994.52,121702.73,193858.2,113829.45,81877.38,116326.07,127070.73,122549.64,176099.13,0.0,102703.62,97318.25,128468.69,133432.59,135125.28,178820.91,126674.81,136294.97,66392.64,145071.24,109730.22,64119.38,181656.51,95128.86,88109.81,148116.48,116269.01,120599.21,144260.5,58629.97,0.0,169824.46,97530.25,137494.28,0.0,147360.0,125167.02,128981.07,0.0,151858.98,114628.4,128736.39,156325.38,105405.97,160980.03,177619.71,62276.99,95523.16,107749.03,156091.97,98668.18,134022.06,124151.09,77253.5,114292.48,135277.96,114715.71,129722.57,139180.2,134944.0,116922.25,118945.09,119182.73,116313.57,92140.15,177640.09,167997.6,111962.99,131736.88,0.0,98444.19,114540.38,133636.16,0.0,0.0,167772.96,95845.6,123331.36,75263.16,156021.31,0.0,137453.43,0.0,154333.82,111642.08,0.0,83543.37,145338.76,186796.37,58641.43,0.0,137148.68,80001.23,122874.74,97544.29,153895.65,134956.02,147506.25,190227.46,172448.77,113980.21,170833.46,0.0,0.0,117301.66,173340.83,134348.57,0.0,106192.1,45144.43,92113.61,128366.44,106545.53,145618.37,141541.25,0.0,61825.5,0.0,102967.41,171770.55,90612.34,0.0,0.0,174912.72,104947.72,135213.71,111201.41,0.0,131899.0,124525.52,0.0,0.0,47134.75,0.0,138657.08,70302.48,0.0,130170.82,106234.02,132628.98,0.0,109922.61,128605.32,0.0,68598.56,106518.52,0.0,121326.42,67226.37,0.0,118590.41,145981.87,73309.38,151607.56,111577.01,107042.74,129605.99,132576.25,129101.3,108822.4,137948.51,100433.8,115888.04,124626.07,139810.34,84496.71,138333.03,112940.07,132558.26,133297.24,197041.8,128100.28,142120.91,151839.26,168197.66,95357.49,121286.27,104091.29,99824.45,0.0,0.0,0.0,122964.88,89634.69,139706.31,103909.86,0.0,173434.9,108691.95,133377.8,0.0,116537.6,0.0,107316.09,83181.29,0.0,153946.14,135483.17,0.0,0.0,54817.55,107949.45,0.0,80816.45,98205.77,94684.27,141604.76,122949.14,80293.98,155413.06,67111.65,103818.43,0.0,0.0,113348.14,170935.94,103023.26,145512.84,107209.73,130933.74,0.0,89772.3,0.0,91622.42,126195.81,94267.9,0.0,148586.64,106511.85,135549.9,185891.54,130854.59,132312.06,144976.5,87070.23,91070.43,158456.76,0.0,149641.53,122528.18,155663.31,0.0,101736.66,125822.21,0.0,109679.72,96652.86,148962.76,0.0,0.0,137963.07,129938.07,151421.44,135643.0,152303.8,79415.67,0.0,104817.41,0.0,164850.54,0.0,102133.38,79932.41,120711.73,203715.15,0.0,40224.7,168069.73,130538.77,132623.6,126547.8,169742.64,150795.81,0.0,65643.3,104584.16,0.0,127655.22,0.0,101257.16,121313.88,81523.38,128252.66,0.0,0.0,0.0,0.0,65733.41,128486.11,109663.47,78653.05,107850.82,143773.07,116227.27,103471.52,129829.59,114027.7,146580.69,81553.93,175214.71,125534.51,97705.99,120094.93,147004.34,173432.55,165679.92,104678.62,0.0,126732.85,148481.09,115315.04,99095.73,161628.66,146605.27,113488.68,182364.53,149364.58,127450.14,162278.32,161993.89,131468.44,102980.44,143321.97,130404.92,133634.02,151233.62,70263.83,57657.49,134752.08,83132.09,76915.4,81576.75,90971.85,153147.75,65942.26,0.0,100912.19,0.0,58781.76,142721.52,167795.6,165260.98,118233.81,0.0,82407.51,0.0,126473.99,164978.01,128029.72,97403.18,0.0,81589.04,94443.77,92199.84,0.0,135756.96,120633.42,134542.73,0.0,0.0,120764.08,201696.07,114203.47,125437.64,64897.75,135555.66,107764.75,60603.4,92041.87,130483.95,151097.28,67563.31,112808.18,86459.8,118633.08,159441.27,146033.62,120268.13,0.0,130306.49,0.0,90350.77,128747.69,126873.52,108424.19,84350.07,99097.36,156771.68,134504.78,114427.86,83888.54,110029.77,127523.75,91611.12,109471.79,150500.64,101609.77,0.0,78892.23,82344.84,0.0,0.0,124349.34,0.0,104217.3,0.0,144757.02,0.0,0.0,100169.51,145731.83,110802.03,120392.99,136556.44,99587.43,0.0,70731.07,117561.49,88980.32,103560.57,113308.84,63763.49,169988.35,0.0,164701.68,80780.16,0.0,0.0,92786.66,98014.74,97460.1,0.0,93656.95,141675.23,102365.49,0.0,0.0,101868.51,0.0,81947.76,158623.14,132403.56,134985.66,103772.45,133040.32,133214.13,96558.66,124043.8,131694.97,106266.8,139840.36,124098.54,145807.59,145980.23,212778.2,152522.47,168964.77,0.0,98266.3,113000.92,112146.12,129307.32,163975.09,158414.85,92072.68,59486.31,0.0,140596.95,90432.92,110822.9,139129.44,115029.4,114005.78,116646.76,156267.59,109528.28,102482.76,115563.71,160376.61,37702.79,118273.83,93791.38,155973.13,89409.95,60280.62,135216.8,188614.07,62321.62,120782.7,115062.61,166287.85,152663.77,132292.63,91502.99,0.0,97956.5,151762.74,75075.14,0.0,92961.61,130812.91,107174.58,152677.48,132005.77,0.0,127305.5,0.0,102562.23,0.0,124379.14,0.0,57745.76,129293.74,150777.1,108632.48,153861.1,100374.58,61196.54,116891.72,92911.52,139022.24,148571.07,0.0,0.0,0.0,114739.92,131908.35,105722.69,82767.42,87842.98,133261.13,97925.11,0.0,140453.91,117356.19,137204.77,0.0,0.0,0.0,118636.92,85839.62,96974.97,148172.44,0.0,0.0,134766.85,139887.01,149961.11,152880.97,0.0,56674.48,0.0,100683.54,112281.7,121973.28,117494.27,138577.34,0.0,107525.07,121453.63,77354.37,0.0,79259.99,116295.29,0.0,74309.81,152797.9,127504.57,84113.41,0.0,143903.11,129753.69,110641.18,154139.45,97459.06,118520.26,142663.46,137523.02,107283.4,124314.45,95858.37,0.0,174060.46,157848.53,0.0,102749.72,95698.79,124969.13,93960.35,112935.87,98567.1,180530.51,140931.57,0.0,134678.13,103324.78,114590.58,91286.51,124577.33,91292.7,93716.72,111723.08,110765.68,116917.07,0.0,130627.66,142316.14,117444.51,76001.57,107747.57,0.0,0.0,64345.21,141665.63,161209.66,95010.92,167545.32,109044.6,122031.55,27755.97,118560.55,97840.72,175303.06,96950.21,123859.6,0.0,85227.84,128135.99,85996.19,104502.11,95772.97,98108.79,0.0,107418.27,167557.12,117300.02,143672.9,76798.92,115309.75,127258.79,0.0,0.0,0.0,107569.96,134874.4,70105.87,78939.15,113836.27,0.0,100900.5,0.0,126397.66,148061.89,122277.87,134388.11,109740.62,129109.02,105102.5,90957.81,104960.46,117052.82,88915.85,148071.39,152182.83,130056.23,123806.28,144453.75,171137.62,0.0,136678.52,135515.76,97764.41,0.0,139480.18,140553.46,141162.08,83319.28,105303.73,165798.1,116393.59,0.0,106171.68,96020.86,0.0,127823.93,144164.29,63492.94,106134.46,127269.75,146547.78,117837.43,168522.37,108131.53,116324.53,75470.23,172646.82,0.0,98415.37,57809.32,128743.8,123971.16,0.0,0.0,123372.3,147422.44,173962.32,0.0,145215.43,167539.97,94968.97,0.0,120727.97,169832.57,113599.42,0.0,122084.63,103060.63,110483.86,120718.28,36566.96,108601.0,0.0,141136.62,108231.37,0.0,144855.34,136855.24,44020.89,133060.63,0.0,97665.61,185013.02,136425.18,146798.81,0.0,76165.65,62391.22,123378.2,99836.47,138311.76,101744.84,0.0,125456.07,118449.21,0.0,178095.55,100054.77,0.0,116248.88,123157.95,63438.91,95295.39,133550.67,105229.53,102768.42,112689.95,122486.47,101286.11,101247.06,86977.96,0.0,110123.59,178111.82,100768.77,118991.79,140997.26,166824.59,76322.69,149083.7,0.0,143249.67,0.0,117212.18,139848.17,116360.07,88466.82,123642.36,0.0,109681.61,0.0,187487.63,165692.91,137648.41,118560.0,164385.53,108286.5,127283.78,141389.06,130091.5,97408.03,111927.45,0.0,0.0,188285.68,109705.52,98241.04,113328.93,104832.49,102289.85,140510.89,132253.22,99685.06,98308.51,172274.01,122447.76,126550.7,0.0,127211.45,119208.85,53772.73,138878.81,130866.19,187257.94,0.0,147733.64,163139.27,119540.15,66101.89,140431.98,0.0,123785.24,112044.72,123826.07,125827.43,148495.64,133043.66,74989.58,60263.23,0.0,70729.17,57784.22,131765.72,0.0,110022.74,131569.63,114330.95,135923.16,124693.48,147936.42,0.0,126558.92,140002.35,123444.72,147107.91,128514.84,0.0,155393.32,110414.48,157098.52,85626.6,148143.84,44928.88,162442.35,156569.43,154575.76,147037.32,119276.31,0.0,93059.34,179581.31,113625.93,119961.48,129209.48,157929.45,0.0,142711.81,163159.85,108586.86,110624.99,122917.71,102500.34,159492.79,118241.02,113090.4,65763.57,125537.38,0.0,98640.74,179915.85,128207.23,120509.81,0.0,147972.19,170008.84,0.0,95386.82,96288.26,0.0,71667.74,118994.84,138162.81,135161.67,0.0,94486.47,117640.39,111379.55,0.0,136820.99,98752.51,105599.67,139723.9,141806.46,132571.67,180516.9,92805.72,135309.36,128917.84,56580.93,97361.66,0.0,67816.72,81710.46,75237.54,124023.18,100727.5,139994.66,126224.87,145751.03,0.0,121166.89,70655.48,129901.21,125470.81,107041.3,95153.77,65962.63,140418.81,139799.63,149238.97,163146.46,61482.47,145150.28,126670.37,118628.8,96863.13,142263.45,0.0,122724.37,174902.26,108914.17,98052.66,123873.19,114753.76,0.0,111871.93,135927.06,57037.74,79468.96,121063.85,118537.47,0.0,102453.26,0.0,104498.79,87946.39,68639.57,148826.32,103214.71,0.0,90124.64,111257.59,0.0,122661.39,0.0,0.0,145127.85,148912.44,0.0,116114.93,187911.55,144432.04,180520.29,130024.87,110086.69,174853.46,108724.98,102994.04,149318.55,116409.55,127760.07,132591.36,0.0,136953.47,0.0,123863.64,120811.89,148430.55,103163.35,130206.28,200322.45,80927.56,160426.07,116160.23,118870.92,0.0,0.0,107192.38,108010.78,97009.15,0.0,0.0,116805.82,129750.68,107247.69,0.0,172170.36,0.0,75361.44,164365.44,98800.0,193125.85,51522.75,119889.84,137910.45,100116.82,0.0,148595.55,0.0,140549.4,152509.25,191864.51,96418.09,131945.94,142910.15,146311.58,87894.26,0.0,115625.07,108396.67,103018.45,84764.79,115680.81,143054.85,99948.45,108235.91,0.0,92053.44,104944.1,107879.04,110356.42,149777.0,104339.56,85818.18,212692.97,68067.24,148564.66,136354.16,122214.0,135139.33,146100.75,110728.39,121558.46,120623.21,114713.57,103457.76,133446.34,108076.33,131354.25,143340.44,137555.44,142393.11,125785.23,136444.25,121527.4,144696.75,128140.17,120383.41,185078.26,0.0,144591.96,0.0,100194.44,120621.89,0.0,171283.91,128218.47,77776.39,0.0,125397.21,132412.38,124401.6,82531.11,184552.12,127278.31,0.0,184244.86,59669.43,79543.59,151553.19,150329.15,121911.59,127864.26,113709.28,79974.55,0.0,0.0,99263.09,125095.94,0.0,89688.94,0.0,120170.07,141136.79,152341.55,132168.28,0.0,0.0,121535.18,124829.16,108262.87,0.0,132164.26,103583.05,0.0,81042.42,0.0,199689.49,142645.43,110219.14,142072.02,149564.61,153366.13,76467.16,121508.28,0.0,114391.62,80262.66,173331.52,147285.52,140137.15,107467.56,133607.75,95139.41,97331.19,0.0,168094.01,0.0,107363.29,94493.03,139781.06,128306.83,0.0,175454.0,93320.8,139451.67,49113.75,131441.51,0.0,0.0,102785.16,83264.28,148051.52,138489.66,111589.33,122104.79,96106.83,115930.87,0.0,0.0,0.0,118577.24,0.0,113311.11,0.0,124365.42,103688.19,111900.14,152760.24,141556.96,0.0,0.0,162560.32,123229.46,68375.27,0.0,111093.01,132657.55,128882.49,69129.59,121404.64,102097.33,154863.15,138782.76,136291.71,108348.66,0.0,125860.2,172713.44,0.0,130786.92,112367.34,106198.5,112833.35,104305.74,114959.12,164704.38,119096.55,0.0,0.0,115465.28,184926.61,114084.6,0.0,116275.12,91068.56,123049.21,137781.65,80569.73,174852.89,89800.14,101207.75,0.0,45022.23,74298.43,133003.03,136689.66,102520.37,88382.01,104796.54,123082.08,71872.19,104430.08,138653.51,102575.04,105209.54,118715.86,132603.36,151352.74,136836.49,91592.06,0.0,62482.95,68155.59,79589.43,100880.76,143390.51,91415.76,134366.42,88786.81,160680.41,145537.21,119370.11,134381.52,0.0,0.0,155062.8,88798.34,143139.87,107027.52,140720.93,178585.46,135889.13,134919.85,115130.34,0.0,133707.09,97893.2,127900.03,143835.47,0.0,0.0,129596.77,81370.07,69329.47,83870.33,117451.47,111695.62,149218.39,130701.29,167949.48,131254.81,86656.13,114737.26,0.0,119817.33,0.0,80931.75,132178.67,117738.81,133292.45,160474.59,154393.43,110827.49,109044.3,75170.54,105795.9,0.0,118097.87,172693.54,96471.2,0.0,140197.18,135946.26,0.0,113715.36,168883.08,143421.74,153644.39,109330.06,0.0,183276.32,68193.72,139729.54,98365.33,104349.45,138881.04,116968.91,136623.19,0.0,124445.52,85768.42,0.0,0.0,0.0,125647.36,100375.39,0.0,171922.72,109032.23,0.0,0.0,128653.59,80387.81,155978.17,0.0,121175.56,102346.86,121263.62,0.0,149726.08,103138.17,109628.44,0.0,118004.26,85534.83,0.0,0.0,75900.84,126619.27,111833.47,238387.56,112687.69,136596.85,98807.45,107499.7,127631.62,0.0,138734.94,118838.75,161637.75,133793.89,71553.83,0.0,121164.11,98903.06,104158.84,64646.7,118894.22,0.0,68213.99,139196.0,126345.55,0.0,129278.43,119558.35,92467.58,99340.83,109676.52,0.0,98431.37,123974.96,138082.16,129855.32,132308.22,176311.36,85089.3,116765.7,0.0,111501.66,129728.6,116800.25,101016.53,190566.65,0.0,97067.69,92208.54,103176.62,0.0,111911.63,94216.05,106770.82,74135.85,92242.34,108380.72,91893.32,85757.93,96759.42,0.0,175443.75,78990.15,113743.37,157624.84,0.0,0.0,80922.75,131769.04,113899.92,114450.32,63609.92,75497.51,117704.73,46161.18,117221.15,79120.27,61636.97,0.0,104414.03,159732.02,89437.03,0.0,0.0,142400.77,88011.4,154870.28,105397.8,125341.69,129164.88,141004.46,89079.41,182705.05,94598.48,80790.74,107735.93,133379.41,168066.87,0.0,76554.06,107375.82,0.0,97188.62,112666.67,0.0,157842.07,91443.75,110148.49,0.0,75212.28,41299.03,83286.56,0.0,85668.59,57327.04,69609.85,129269.27,106290.64,106344.95,137482.19,116465.53,0.0,127637.92,0.0,147531.82,135120.72,0.0,28082.95,111087.5,127120.07,71996.09,61581.97,87873.39,0.0,94901.09,174851.9,120847.11,0.0,0.0,103267.8,109699.08,135133.39,0.0,137649.47,113567.94,131156.76,134837.58,104784.23,156948.41,147751.75,124182.21,142028.36,0.0,117160.32,97565.74,104833.79,0.0,174701.05,0.0,116037.76,124640.51,98635.77,0.0,79757.21,53053.76,115285.85,221532.8,105056.13,88363.03,123959.97,114822.64,145219.3,106807.64,148159.71,99745.95,156282.79,0.0,0.0,111582.11,129417.82,0.0,94607.08,131368.3,96956.1,107601.79,92060.06,137688.71,125552.96,167298.42,110689.07,98544.11,178317.6,89750.21,116576.45,157761.56,0.0,115115.38,0.0,146758.24,0.0,110738.89,94203.8,105792.49,153198.23,61811.23,101116.06,74458.25,0.0,80764.03,144801.97,118890.81,0.0,151218.98,150507.21,122314.5,113882.31,98148.61,59271.82,69413.44,0.0,147803.48,133111.73,110245.13,158719.57,160979.68,0.0,0.0,112896.86,120962.13,96048.55,0.0,0.0,0.0,0.0,125739.26,98592.88,141789.15,112949.71,105057.33,89087.89,147435.96,154439.86,124678.35,152243.57,0.0,143930.92,186558.55,126152.84,105701.91,0.0,157094.78,0.0,0.0,0.0,139106.19,130935.56,116509.99,111578.18,86546.29,0.0,164557.95,118989.92,0.0,79259.75,112230.38,118129.87,86824.09,128306.7,103302.37,0.0,145471.37,101506.66,128554.98,132944.53,0.0,152302.72,147674.26,148021.12,151027.56,138843.7,109958.15,138857.59,135096.05,89122.3,78126.28,123894.43,106913.43,127845.83,106397.75,0.0,166492.48,114493.68,124425.99,0.0,101140.76,150844.94,115024.5,131286.46,141267.67,137761.55,98064.97,101012.77,0.0,82291.1,84719.98,104386.53,128131.73,122806.95,0.0,112510.89,117056.46,131778.66,70784.27,122227.71,110597.76,153722.47,114088.32,152532.3,143292.95,149144.61,127157.04,88335.05,139859.23,43134.65,99580.13,110717.38,0.0,104450.86,0.0,116099.82,111169.91,123616.43,155619.58,0.0,0.0,97700.02,91938.31,124240.93,157084.99,104568.41,119912.46,86376.29,0.0,160982.89,0.0,127997.83,168396.34,134896.03,212696.32,92887.13,83442.98,111973.97,178032.53,140007.19,132835.56,118334.44,121411.9,121455.65,117989.76,137411.29,73688.2,99906.89,167664.83,141525.55,124832.51,132121.71,78539.84,123770.46,160729.1,88378.6,182888.08,0.0,85600.08,95001.33,113873.22,74896.92,89492.62,128718.78,0.0,0.0,0.0,0.0,0.0,141546.35,141528.88,109805.3,153639.11,123870.07,46323.57,162039.78,110928.51,114421.55,83568.55,139972.18,100212.13,90217.07,124067.32,122889.88,148790.61,180226.24,102936.72,108736.52,85982.07,134397.61,137841.53,0.0,126066.26,96763.89,139561.46,0.0,0.0,172463.45,107798.85,177997.07,0.0,0.0,123200.78,116270.72,121730.49,136214.08,146200.01,106242.67,0.0,24043.45,131283.11,120952.74,153166.17,53291.86,167924.95,86394.14,0.0,158978.79,100431.84,150358.97,134007.9,98899.91,75990.97,112181.08,97208.46,0.0,150856.79,146748.07,148863.17,0.0,153360.02,92055.36,124723.92,103033.83,0.0,116726.22,103895.31,111128.04,0.0,151242.48,0.0,129709.62,83347.25,84121.04,102338.19,104677.09,121669.23,108407.34,141829.67,0.0,109162.82,87471.63,147229.65,160903.2,153548.12,95231.91,85109.21,106831.69,159597.45,147361.57,176134.54,84055.43,199229.14,0.0,0.0,102540.61,129401.87,139584.57,121016.23,136963.12,111156.52,121237.65,97234.58,97382.53,103108.8,0.0,131852.81,0.0,107553.33,161806.09,0.0,128243.03,126645.13,112291.34,89188.83,0.0,109161.25,0.0,0.0,158271.74,96951.21,121863.61,83495.11,146566.01,0.0,0.0,0.0,125130.28,150685.79,0.0,118336.14,0.0,124233.24,51116.26,91869.69,0.0,0.0,117289.92,153663.27,0.0,134208.25,0.0,134593.79,68781.82,137464.04,147307.91,0.0,145754.91,112610.77,77826.8,87140.85,132002.7,123783.25,101802.67,148659.48,142724.48,112152.89,89550.85,75915.75,118788.57,156555.54,99141.86,61211.18,128932.4,0.0,80728.15,106070.89,111905.43,126212.64,108895.93,154669.77,190678.02,0.0,0.0,136712.91,154733.97,112609.91,115462.44,133501.36,58668.02,89118.26,91562.99,72541.48,120867.18,0.0,157320.51,0.0,103000.94,134237.07,0.0,115557.0,135370.12,92877.33,97042.6,0.0,100421.1,0.0,80293.81,127536.44,82794.18,108117.1,0.0,159304.07,138664.24,183572.84,88421.81,0.0,60880.68,101455.7,127197.14,98298.18,86911.8,139707.28,146301.31,47364.45,58137.08,167685.56,136525.99,0.0,104930.38,106434.94,112803.92,120530.34,145081.72,135842.89,112203.25,129895.19,149049.92,153279.39,41473.33,164951.56,153325.1,134032.01,90371.09,142802.02,90537.16,156123.73,141074.59,166257.96,169362.43,205962.0,105627.95,100606.02,139395.08,109062.28,103996.74,175111.11,148055.74,0.0,95994.98,110741.56,0.0,0.0,102721.49,69478.57,156674.2,105957.44,0.0,110340.68,85704.95,105435.74,156687.1,150604.52,155114.9,91216.0,141784.02,127763.24,69423.52,86167.82,0.0,131406.56,121898.82,77487.2,0.0,164450.94,132730.17,0.0,116498.22,139979.07,148222.65,134152.29,119565.92,0.0,124995.98,86891.84,78022.61,154495.79,189443.72,152926.6,142989.69,101191.83,149814.54,115617.24,138160.0,117700.86,122506.38,0.0,89743.05,0.0,98894.39,0.0,133201.17,76597.79,40172.91,115195.58,139872.81,34547.82,119688.81,71187.24,136422.41,0.0,153238.88,47536.4,142882.49,131935.51,105214.58,139859.54,134497.27,120171.58,0.0,0.0,119839.69,92219.21,29602.08,141803.77,0.0,108393.35,132876.23,110949.41,130666.2,0.0,0.0,98649.55,154159.51,0.0,141581.08,66201.96,133658.24,136202.78,131778.08,131402.21,134887.53,159900.38,0.0,76989.97,114491.82,144768.94,145056.59,117206.3,112568.31,0.0,99167.54,103210.27,125921.37,80697.44,109558.36,124271.26,190569.23,143923.96,139825.56,147256.86,107023.03,125529.55,0.0,131834.8,99529.7,72783.42,0.0,115743.6,161256.53,74896.33,0.0,144037.6,93522.2,112972.57,123042.0,123322.15,0.0,68683.68,59532.18,88302.65,114655.58,148283.94,0.0,123916.67,111168.97,103549.24,103804.97,122950.31,0.0,133384.66,0.0,133436.52,123177.01,0.0,130147.98,92716.96,0.0,76914.21,103133.26,0.0,139183.06,74974.89,61691.45,0.0,114233.18,187602.18,156834.34,157498.9,0.0,0.0,130274.22,0.0,0.0,100829.94,96408.98,0.0,149105.08,0.0,90218.11,87347.7,137811.75,105563.0,91125.75,135120.56,86837.95,100446.57,114512.59,136364.46,106260.67,146126.75,111284.53,128270.56,0.0,191775.65,0.0,126392.18,129860.37,127642.44,91955.61,147149.59,104822.45,0.0,0.0,165326.2,99786.2,114440.24,141573.55,0.0,133676.65,0.0,95022.57,0.0,0.0,107963.38,0.0,81811.71,79281.61,122314.39,140733.74,116933.11,123805.03,107548.94,98438.23,91612.91,0.0,0.0,192122.84,179904.0,161588.89,109349.29,0.0,152335.7,124662.54,62052.28,107871.72,128039.01,100762.64,0.0,78829.53,112372.96,122029.15,157829.12,95507.12,127146.68,133811.78,126979.75,172478.15,126477.42,138053.67,0.0,53667.44,109327.65,121151.05,101043.63,80462.24,0.0,140355.6,109542.29,0.0,106405.03,0.0,128393.29,127841.52,155828.22,144351.86,106365.29,127801.88,122793.96,113525.84,140916.81,121365.39,0.0,0.0,115409.6,90791.69,92436.86,167194.36,0.0,144470.77,0.0,101465.31,0.0,120037.96,75408.33,0.0,61354.14,124954.94,95039.12,103417.74,43028.77,119638.21,171913.87,137239.17,65190.29,154983.98,106819.65,128578.52,126473.33,100913.57,16893.59,122267.85,125685.79,127397.34,105271.56,115265.14,0.0,139542.82,108155.49,84622.13,98590.25,134980.74,108078.56,102490.27,125487.89,142862.21,79388.33,107784.65,149571.94,142767.39,0.0,103399.87,0.0,89364.91,146011.4,106000.12,127539.3,0.0,96891.46,78535.25,112712.17,119618.42,0.0,74963.5,0.0,185513.67,185648.56,128015.83,0.0,141462.13,131691.33,93833.86,137933.39,105770.14,164307.77,125608.72,0.0,118433.94,98488.08,0.0,0.0,0.0,134467.26,138515.02,121858.98,120108.56,196853.62,121418.62,127343.4,158633.61,0.0,183744.98,0.0,140956.99,0.0,145241.63,0.0,0.0,107812.67,128415.45,57530.06,138341.51,0.0,120307.58,94652.04,114415.84,84315.02,67087.69,101528.61,110824.52,0.0,179960.2,134006.77,0.0,155196.17,129514.99,0.0,172196.23,97612.12,0.0,139096.85,140301.72,0.0,111233.09,147737.63,0.0,88826.07,143443.61,149134.46,124119.54,116822.7,103219.47,81954.6,95196.26,0.0,119452.03,0.0,204223.03,163760.82,115934.74,151457.88,89928.99,89182.09,117799.28,146422.22,100275.88,0.0,147493.89,113688.63,100471.34,100032.52,116358.0,163549.63,99183.9,131955.07,134177.06,0.0,94348.94,155584.21,170661.47,185544.36,52831.13,104308.77,140236.98,104760.82,0.0,113693.0,174180.39,115766.26,115350.63,105683.63,135179.49,117551.23,77910.23,110942.9,179305.09,123815.86,138032.15,0.0,143500.82,119670.18,99106.73,0.0,120905.03,102277.52,125292.53,0.0,101629.3,171937.27,129743.75,0.0,151191.31,124227.14,80285.16,175477.15,132144.35,136911.07,117691.0,0.0,75051.49,123925.23,153819.58,70417.79,111484.88,146343.98,98993.02,110054.45,0.0,98088.09,99774.5,157622.58,126111.61,111100.98,102918.38,125265.61,82500.28,109387.33,0.0,115290.27,105245.34,142296.13,99097.33,102523.88,143391.07,0.0,126442.59,0.0,127261.35,0.0,73481.05,160515.37,166522.78,135536.5,120481.69,103421.32,94504.35,126147.84,0.0,0.0,116585.97,83008.31,113635.16,99713.87,0.0,134208.22,137714.25,160777.9,126772.57,158373.23,141927.1,116969.35,152086.15,127289.28,119852.01,0.0,117183.74,129907.63,124616.23,95808.19,117152.3,106250.72,97023.21,137687.72,113348.5,122109.78,54428.37,103846.65,125190.86,38340.02,96651.03,133237.21,142105.35,166115.42,0.0,169377.31,130015.24,114543.27,119794.67,0.0,136733.24,151914.93,80090.93,83739.32,181166.44,130588.82,94126.67,148045.68,168165.84,126729.41,119984.07,0.0,0.0,121490.05,91897.8,144961.97,126041.02,0.0,0.0,120100.41,0.0,0.0,105489.31,0.0,0.0,0.0,112333.63,116936.81,117721.02,153656.85,94164.0,191808.73,152199.33,125396.24,133801.49,100047.33,109848.6,127849.38,95947.76,137638.69,0.0,89416.99,0.0,143262.04,132954.64,147650.68,73348.56,116320.68,66250.71,0.0,0.0,100565.94,190305.78,118536.4,127649.64,165358.77,78249.53,125193.96,154007.21,146202.93,90963.49,0.0,0.0,114386.85,137260.78,124447.73,0.0,104258.8,113447.01,161378.02,82766.43,104267.7,91718.8,63488.7,12459.19,132088.59,120654.68,83772.95,172325.67,135871.5,128504.76,56228.25,98792.4,101198.01,0.0,104508.1,113948.58,160389.82,125547.53,92783.68,102145.13,113452.66,155681.72,127475.24,112751.13,144889.18,150126.44,69712.74,119315.75,89571.59,102251.57,118546.71,0.0,103257.14,124209.02,150302.84,108653.93,85325.93,131411.24,90305.76,104744.89,91538.51,185734.75,125909.85,154525.7,0.0,100654.8,83325.77,110934.54,113680.54,145359.99,151391.68,123935.35,70291.02,166031.45,96643.32,76296.81,0.0,134249.7,0.0,105443.68,0.0,96939.06,106758.6,116563.58,0.0,141786.78,136416.82,92350.36,78778.49,0.0,98459.6,148074.79,108004.64,145303.52,127471.56,156551.63,97092.87,129312.79,81684.97,88827.53,0.0,102406.76,75242.28,0.0,0.0,139129.92,66483.32,91857.66,0.0,176173.52,0.0,92347.96,95297.11,0.0,0.0,112708.2,100013.51,208165.53,0.0,111525.02,113546.3,136576.02,63093.01,90594.55,141816.25,138547.97,124976.19,104356.38,150315.92,128065.12,107433.48,117468.67,0.0,153040.03,112079.58,66582.81,0.0,102895.1,0.0,0.0,116623.31,0.0,0.0,112889.91,127940.47,129745.1,141535.52,139914.27,120243.49,91835.16,67178.19,115378.94,109172.88,114091.38,145933.27,131504.73,107926.02,0.0,0.0,124781.67,132865.56,129055.13,96166.88,165298.12,120682.53,144386.32,104449.8,137102.65,142475.87,0.0,112070.44,96473.59,108437.89,153195.59,96877.21,0.0,95452.89,63873.56,121342.24,68423.89,0.0,79656.81,110240.04,0.0,84378.9,119380.37,106596.29,0.0,0.0,112615.86,0.0,75381.15,123086.39,0.0,109472.47,155766.05,96019.5,147900.43,100755.66,0.0,83036.05,98202.76,72509.91,23503.31,145729.71,79144.34,104848.68,0.0,0.0,146652.01,0.0,98862.54,0.0,123575.51,105239.1,110993.79,105245.21,117687.35,123067.63,0.0,101457.14,121161.57,110495.27,133200.09,82596.8,103837.75,0.0,93590.47,104149.66,114141.64,117153.0,156353.46,135637.0,83415.04,110635.32,177657.35,157777.58,86568.75,137755.76,0.0,116309.01,105099.45,168372.52,146329.73,167962.7,0.0,116967.68,0.0,93244.42,125474.44,145580.61,0.0,144900.58,97588.6,151709.33,88594.14,0.0,160761.41,116234.61,155143.52,84009.47,145578.28,126273.95,162482.76,0.0,87814.89,113858.95,0.0,106648.98,116880.53,150635.3,83568.26,147137.74,0.0,114370.41,170172.9,62732.65,95167.55,152508.99,134644.19,51293.47,116622.73,198113.86,85646.81,0.0,141234.98,77641.99,117304.29,144974.55,0.0,115137.26,91956.49,120777.88,90248.79,0.0,106396.48,104887.43,72079.71,99844.68,156815.71,146034.74,152283.39,96781.39,150578.0,163548.07,148580.12,106011.59,135650.88,39344.83,130809.77,133009.51,122570.69,136082.0,114169.16,47884.92,0.0,202904.64,0.0,110791.97,108755.0,102251.14,0.0,114285.2,76087.98,160272.27,114552.6,102000.17,137853.0,162318.61,0.0,0.0,126431.54,123475.04,97652.96,137455.99,152812.58,139301.68,76319.64,125919.35,117199.8,148384.64,113905.48,133476.09,117879.32,122359.5,108585.35,145875.74,109508.68,146407.11,0.0,112330.83,90413.12,105302.66,121520.36,103960.38,102945.01,92760.55,134590.21,104255.03,0.0,121399.98,111599.32,114212.6,115251.64,107571.61,113794.22,124730.26,0.0,136298.65,0.0,95872.86,0.0,0.0,74260.03,123407.69,153880.15,138076.47,135422.31,126875.62,72788.03,76226.9,163630.76,155423.17,98710.89,0.0,126683.8,140700.61,168078.83,35741.69,98268.84,133800.98,125682.79,130428.78,73112.95,152347.01,115144.68,137817.52,157332.26,124586.93,128398.38,0.0,167259.44,119009.57,80002.33,140211.88,138207.08,148636.21,178827.79,83134.3,121513.31,95900.04,112543.42,0.0,141751.82,0.0,127510.99,81818.49,100895.54,63832.43,116085.06,115761.51,139626.01,0.0,115576.44,77647.6,148962.46,80542.81,102050.47,0.0,90402.77,100107.99,201009.64,125167.74,0.0,153313.67,125879.29,170057.62,131326.47,128472.8,160485.16,62400.48,143054.56,112650.89,0.0,106328.08,152992.91,116439.65,101352.78,105609.17,139834.93,115895.42,146408.68,71843.15,105492.53,183027.25,104118.5,74323.2,109698.41,127758.09,102645.48,93249.4,87779.83,138131.34,168286.58,86102.27,115142.9,187997.15,172192.49,133105.47,0.0,192407.97,107199.75,115796.7,164858.18,117633.28,126663.51,140273.47,153344.72,123943.18,0.0,58036.33,0.0,0.0,73494.21,132450.24,128663.9,79951.9,132508.3,94722.88,98612.1,138033.55,91621.69,140014.42,139663.37,165312.27,97325.15,97041.16,0.0,104367.5,135369.71,112119.48,123760.68,0.0,0.0,172381.8,141952.07,138497.84,126872.6,0.0,120923.52,142643.54,79857.64,95502.21,85859.76,85304.27,0.0,0.0,79896.0,146587.3,109109.33,0.0,142147.32,109106.8,112262.84,144238.7,159397.75,125385.01,69365.25,155271.83,144837.79,163085.79,154377.3,107511.52,127406.5,143656.55,138106.75,128940.24,114453.58,0.0,131762.94,0.0,108935.39,135847.47,142946.18,98848.19,105103.33,127120.62,0.0,146053.66,124577.15,216109.88,144318.97,147092.65,148897.02,0.0,0.0,138335.96,92895.56,160736.63,107141.27,92053.0,147171.2,100524.69,138214.5,0.0,0.0,128743.55,122647.32,79263.9,121389.78,123906.55,143006.7,157597.61,145118.83,0.0,98186.7,0.0,129335.65,75801.74,159316.64,96479.81,117726.33,122351.29,0.0,0.0,119272.29,104631.67,0.0,118050.79,136093.74,161572.24,126608.37,68332.96,179852.26,104763.41,162888.73,0.0,0.0,92474.05,87098.91,148843.56,163714.52,94153.56,162702.35,90605.29,102787.42,159203.71,0.0,127806.91,84944.58,90727.79,118311.76,129574.98,148163.57,117154.9,154251.67,0.0,50194.59,132667.17,127087.06,125566.9,106074.89,137367.94,157658.36,103154.66,0.0,149592.14,84587.9,197436.82,104254.27,120568.41,90920.75,0.0,0.0,94920.71,0.0,141819.02,156974.26,116318.23,113882.33,127253.98,100062.39,0.0,126605.14,106942.08,88594.93,0.0,0.0,206329.65,145536.9,145081.73,115897.73,191523.09,91187.9,113958.55,147167.25,82916.48,0.0,57098.96,115341.19,165257.2,0.0,68799.72,0.0,104013.79,128389.12,102800.72,135470.9,90145.04,0.0,161801.47,102870.93,151105.68,163856.76,0.0,127290.61,180614.04,55053.62,96110.22,106521.49,102395.79,118201.41,105522.06,123936.54,0.0,115463.16,120233.83,81132.21,112290.22,154409.74,132759.8,49572.73,0.0,104001.38,87116.71,0.0,121325.84,111167.7,113063.83,138340.06,114974.24,117325.54,0.0,0.0,0.0,78737.61,130023.38,152606.82,167268.98,151855.33,155994.15,147527.03,0.0,100267.03,0.0,117438.17,129965.18,150836.92,163894.35,127638.35,145623.36,0.0,0.0,111009.32,0.0,157371.54,0.0,134560.62,0.0,109564.1,101195.23,0.0,151802.29,138731.95,155621.08,150005.38,106261.63,132670.53,0.0,117314.92,145874.35,109978.83,0.0,108881.73,0.0,103362.14,89015.61,133618.01,101928.51,79585.96,161884.99,121461.87,175307.32,136658.61,0.0,131414.76,121063.49,88441.64,127023.39,144147.68,173306.13,0.0,106425.75,152685.4,82083.52,108477.27,114779.35,57568.94,110559.46,0.0,128152.82,129472.33,105000.23,55328.4,72012.76,110480.48,132439.99,105173.99,131959.86,107379.68,124037.28,133189.4,152264.81,115076.06,135095.47,134105.01,0.0,114631.23,128601.98,70416.75,88294.6,0.0,93577.3,136650.89,98765.84,136258.06,131160.85,0.0,102282.61,190066.54,98986.28,144852.06,89299.81,95161.75,154586.92,107362.8,0.0,139930.18,77949.69,121405.04,124580.69,133087.76,0.0,0.0,103741.14,98877.95,110150.43,138166.3,122265.24,133295.98,0.0,148326.09,68927.57,118723.11,106957.28,190238.93,113537.73,101090.27,0.0,168920.75,111589.67,172310.33,118028.35,147910.3,121276.32,109869.32,133853.27,101438.0,113657.83,99513.91,136659.74,85755.86,0.0,51690.89,111669.68,125681.51,155303.71,140681.68,71902.52,146606.6,123949.75,144753.21,91285.22,108116.66,150200.23,141287.15,97157.96,128966.13,152581.06,0.0,117094.02,90218.9,194532.66,169743.83,0.0,155973.88,129321.44,38617.2,82909.14,145151.4,147187.84,105918.1,102452.71,0.0,0.0,0.0,66573.17,164757.56,153610.61,169025.83,116520.28,166594.78,115465.98,0.0,92618.62,141825.88,158468.76,161889.79,133681.78,187294.46,0.0,119706.22,0.0,138523.2,99353.42,111524.49,128645.67,117458.51,94231.13,163757.06,141005.47,85897.95,164672.66,124053.03,151766.71,0.0,101486.96,127201.58,144962.74,0.0,122017.19,117302.62,128389.63,90212.0,71996.29,142319.03,87413.19,0.0,97560.16,129934.64,118400.91,0.0,0.0,129804.17,108308.11,110153.27,116377.48,105419.73,119327.93,99883.16,165438.26,156111.24,119963.45,153137.74,156111.08,102016.38,0.0,0.0,80380.24,108909.12,90865.8,200724.96,151844.64,133231.48,113317.1,93173.88,0.0,0.0,131593.85,119530.52,0.0,0.0,113109.52,130557.24,93183.19,151933.63,118547.72,97792.21,167181.01,121355.19,113226.47,118392.75,145262.54,163505.16,103294.56,0.0,0.0,119919.12,0.0,0.0,128744.04,106731.58,123544.21,126534.6,0.0,144953.31,0.0,101487.18,105355.81,77967.5,120047.77,74385.98,94754.0,0.0,86920.86,127847.86,0.0,83555.58,0.0,0.0,96858.35,154970.54,88902.21,98738.92,0.0,73937.02,158621.04,113257.2,0.0,116536.43,101070.69,105969.42,119547.46,138668.18,169902.92,150348.37,0.0,99986.98,110357.0,95312.8,202443.47,109493.62,104982.57,185714.28,164011.48,101514.89,0.0,147511.26,78396.08,110581.29,122924.75,72594.0,115221.36,147754.68,113292.17,115163.38,118098.62,0.0,120825.7,0.0,108541.04,0.0,113817.06,137300.23,158024.38,127837.54,161533.0,80958.36,115021.76,126773.43,92889.91,146622.35,131038.14,88820.29,115406.97,132951.92,108891.7,116954.32,125997.22,86616.35,131240.61,97819.36,62979.93,0.0,161450.03,122088.67,90544.0,134140.68,0.0,145177.84,94222.53,143212.22,143350.41,130931.83,137851.31,0.0,0.0,140614.15,118680.57,122917.69,119948.09,0.0,97266.1,113690.83,116338.68,97339.99,44054.84,119657.53,102025.32,125689.29,154640.41,146710.76,136709.35,76692.22,117715.84,87105.32,0.0,69311.16,99897.53,0.0,152622.34,111395.53,84386.57,107906.75,128914.97,111179.83,124099.13,122471.09,123816.5,106288.54,145843.82,148200.72,104145.65,142755.25,81245.79,0.0,0.0,139330.1,134571.5,133444.97,116574.84,176914.8,65269.23,66220.17,0.0,96147.55,0.0,145330.43,111288.18,107805.67,103700.69,0.0,87739.08,133313.34,0.0,154902.66,112595.85,119695.75,0.0,137583.04,95377.13,142382.03,127043.09,0.0,95922.9,91711.59,122947.92,182065.85,0.0,76495.04,121874.89,188455.19,0.0,79340.95,109219.83,113034.31,74812.84,155619.36,171653.17,0.0,123692.0,133161.95,0.0,112713.34,141173.03,118866.36,122185.53,123345.85,95120.59,102800.65,97072.42,132876.55,0.0,0.0,98759.89,156570.86,0.0,159024.71,73493.17,69617.36,113736.27,106723.28,138847.9,77599.23,178787.54,116251.24,112701.04,84692.5,108204.52,86449.39,0.0,73194.99,124593.23,119655.77,110837.73,99835.17,149400.27,89111.63,114997.42,161798.53,133705.74,152805.05,112465.06,156007.09,142662.68,69518.95,138937.35,113581.98,112572.39,84906.45,126816.18,109387.9,122478.51,157866.77,0.0,136789.14,144684.03,107065.31,91301.72,0.0,0.0,82373.94,141356.47,0.0,121898.58,0.0,0.0,185379.02,118087.68,109402.13,130367.87,140094.59,95439.4,137115.16,98955.87,130240.33,126725.25,96693.66,129810.6,156652.13,0.0,130661.96,130747.1,106629.49,112029.83,130575.26,96679.71,171740.69,100116.67,120596.93,142557.11,143644.16,132129.72,183555.24,156218.19,0.0,68806.84,115141.18,90723.36,94752.49,0.0,0.0,45472.28,0.0,123948.85,127415.85,110067.71,65521.2,0.0,125789.69,109646.83,127187.86,0.0,0.0,130385.82,107787.47,0.0,123764.95,128264.03,86006.21,99004.24,93608.28,119496.87,0.0,152885.77,137003.68,122831.58,0.0,147687.24,127009.83,124737.96,125175.58,148556.74,128644.46,159561.93,112419.92,0.0,0.0,190353.08,139180.97,114435.47,149950.19,126115.6,111396.97,115007.08,102141.9,133686.52,0.0,82321.88,132352.69,182491.57,0.0,104488.17,80538.56,61319.63,177822.03,110939.3,165413.43,77805.66,124197.22,160132.75,132217.45,92855.02,129289.98,100252.18,113096.41,121438.58,0.0,68138.37,110080.3,117412.35,123675.69,139532.34,178713.98,89086.31,96143.47,32197.64,140306.38,0.0,159904.79,99557.94,116886.59,0.0,28649.64,152462.79,0.0,155519.59,118851.05,0.0,75263.7,147904.31,106640.5,90696.78,95560.04,85915.52,72309.3,0.0,0.0,133844.22,116121.67,107104.5,71026.77,0.0,145644.05,129667.77,109341.87,87485.67,53369.13,146679.77,48387.0,68079.8,160133.88,66190.33,123761.68,122325.58,138912.17,132934.89,141559.5,114756.14,0.0,113522.64,79035.95,120043.13,125191.69,98675.74,121394.42,106059.4,72647.64,0.0,0.0,158697.61,0.0,84651.79,102128.27,148846.39,154953.94,108883.29,131354.39,139422.37,83600.24,0.0,129378.32,0.0,99339.0,91241.85,99092.45,98723.67,0.0,128760.32,144772.69,0.0,71281.29,117035.89,110615.47,152143.89,121797.09,109798.25,122403.24,145860.98,105086.74,114991.45,96769.04,132725.1,84557.82,113913.53,105229.34,137891.35,165252.52,0.0,118962.58,0.0,171178.25,131307.11,72535.45,107000.49,152806.74,92887.06,165282.42,116695.27,0.0,97324.91,145155.37,137222.77,0.0,150490.32,170288.38,111568.01,83889.03,121159.65,91184.01,144027.8,140170.61,62092.9,0.0,0.0,103516.87,85162.26,143061.88,137712.01,60515.13,0.0,91219.29,76318.64,0.0,0.0,111432.13,150148.51,38550.06,119013.86,71097.23,109632.85,148368.02,148600.91,71083.98,139625.34,0.0,0.0,124540.28,133616.39,124281.84,136186.44,137682.68,106005.54,152310.55,134446.04,142289.28,0.0,77919.78,0.0,115462.02,122739.1,128284.45,120591.19,166968.28,114035.39,151922.94,0.0,153058.64,98270.34,130788.71,99165.84,0.0,121890.06,99786.07,127661.69,118907.6,160625.17,124266.86,0.0,110646.54,84560.04,129893.56,167385.81,105858.71,123070.89,0.0,0.0,126113.28,40488.76,85146.36,129828.58,80214.36,141796.43,111348.15,154309.67,129431.36,134204.67,54980.81,117070.21,0.0,212314.03,79126.17,0.0,108308.0,113383.07,102541.1,109941.51,141749.68,0.0,0.0,87619.29,0.0,103409.16,123040.38,108128.52,222267.63,144090.42,114835.43,145030.92,71240.3,138772.15,93617.07,146498.76,0.0,120355.0,117265.21,0.0,109974.22,0.0,0.0,171671.9,0.0,86607.39,98854.34,0.0,101707.8,105588.66,111336.89,78391.17,0.0,144326.09,108555.07,146781.24,0.0,209490.21,0.0,149405.18,191665.21,0.0,135071.12,128518.98,81905.95,123126.29,161766.87,123187.51,150956.71,105021.28,133204.91,130565.02,91328.71,81310.34,107136.6,0.0,0.0,108477.49,113110.26,106920.91,131513.26,79715.36,126428.38,99640.89,66338.68,128226.37,122168.65,178074.33,135078.41,122726.56,164496.99,0.0,187534.79,0.0,103108.17,131764.96,92476.88,152076.93,0.0,43504.42,0.0,114346.3,110203.77,128362.59,170600.78,0.0,75339.64,122038.34,186825.57,124788.18,138553.57,105387.89,95053.1,0.0,137361.96,158537.42,143595.87,48023.83,155655.46,0.0,121240.76,93934.63,117866.92,0.0,127103.97,0.0,96402.96,132512.26,107604.66,113143.12,174894.53,0.0,160416.56,91246.53,0.0,98775.23,139756.12,0.0,0.0,152496.82,113674.2,0.0,144450.58,96776.49,145984.92,96353.8,115777.23,79450.09,122394.0,134378.89,142412.13,121030.9,206663.75,174400.36,123428.69,175735.5,78381.13,118613.34,142703.4,121729.42,0.0,138521.83,83727.68,0.0,124179.3,128829.25,171490.78,0.0,160818.08,96127.27,121907.97,0.0,77701.64,0.0,85660.96,115569.21,81828.22,132694.73,108867.0,153855.52,141334.95,104584.11,98173.02,135157.05,171601.27,179539.2,0.0,126285.73,137964.51,159434.03,104552.61,0.0,140576.11,121778.71,127948.57,131643.25,151739.65,85225.21,130013.12,0.0,0.0,103914.17,88772.87,0.0,131184.67,117810.79,0.0,92466.21,178755.84,137655.31,59877.33,100082.14,0.0,96032.22,0.0,0.0,87212.8,171325.98,92930.92,0.0,102874.28,0.0,105473.74,121927.92,61671.19,152309.37,111629.29,0.0,96296.78,95830.43,135919.33,185966.64,100359.54,105301.5,112994.65,95478.17,128206.79,71433.08,163764.84,118158.74,118520.41,163823.37,104469.58,0.0,141726.88,137852.96,0.0,154100.3,0.0,140004.96,127132.96,125328.56,139986.65,119787.76,0.0,142705.95,0.0,60013.81,117696.67,149989.39,124339.9,135759.4,83074.0,141792.61,0.0,0.0,120962.59,110527.17,133723.43,112670.48,116084.32,0.0,82441.75,124442.38,0.0,0.0,108862.76,141099.43,128843.67,86843.61,109724.38,111743.43,82697.28,138317.94,120688.61,176913.52,89047.14,134006.39,132837.7,139432.55,171646.76,109121.71,109844.81,140931.82,102708.77,83459.86,104016.88,127616.56,125476.31,176511.08,110783.28,0.0,75681.52,0.0,0.0,161111.45,72494.69,133964.3,0.0,157201.48,95679.29,106230.92,73059.38,133889.35,134562.8,174356.13,146266.0,164046.1,171848.38,123356.63,125845.66,125977.81,147262.11,133767.19,106036.52,0.0,82182.1,103711.56,0.0,166133.28,148214.36,121206.96,159458.53,102085.72,142537.18,110997.76,148942.0,0.0,84438.57,93920.47,123204.88,178742.71,0.0,0.0,0.0,140121.17,132906.88,137179.39,127414.55,0.0,137409.19,0.0,112494.99,78133.15,145553.07,0.0,146286.22,94416.78,91549.78,59568.57,0.0,144875.71,0.0,111677.88,131101.04,77652.4,98360.03,115518.07,27288.43,0.0,0.0,121580.42,132436.34,98684.15,0.0,131753.41,0.0,57422.62,144094.2,147510.34,161592.76,144581.96,172231.93,79336.61,142905.51,96834.78,123544.0,95328.6,73218.89,124125.26,159035.45,156811.74,150555.83,109137.12,0.0,0.0,0.0,82729.49,121172.97,123374.46,161371.5,138232.24,0.0,81571.05,95927.04,116932.59,79551.12,116416.94,88141.1,177729.13,0.0,0.0,0.0,108306.44,102962.62,103502.22,183768.47,140900.97,98926.4,142872.36,119769.77,143244.97,79562.98,0.0,92676.3,83195.12,129387.94,130233.14,123502.53,163867.86,114668.89,146756.68,150213.71,99816.46,0.0,0.0,86714.06,132838.07,128707.31,123192.12,59360.77,112668.7,0.0,133871.05,0.0,148666.99,115101.5,148363.38,0.0,144102.32,0.0,129205.49,0.0,0.0,103873.39,112383.03,114135.17,118756.62,98382.72,100520.92,0.0,95052.29,177728.55,83116.68,111565.91,83015.71,124511.01,130652.52,121854.45,86893.28,79523.13,131033.76,89939.62,95727.05,0.0,130461.02,61172.04,95508.2,99967.76,101470.29,70541.06,112211.61,154543.98,111098.85,137275.36,153316.14,121250.04,53573.18,58003.41,113000.66,0.0,139973.65,151290.16,0.0,106687.76,106089.2,69608.14,96202.32,127818.52,0.0,137318.42,84421.62,83161.65,92847.59,0.0,0.0,60374.98,0.0,88046.88,129968.67,89276.48,138825.19,75499.24,169445.4,115532.52,167273.71,135795.63,97514.07,106160.37,124483.53,86006.3,115171.71,137936.94,120586.54,46520.69,105473.74,145396.49,128298.74,165526.71,83714.41,125540.05,138150.57,0.0,95984.21,136858.42,102609.0,151675.65,0.0,106968.96,139659.04,70754.18,122781.51,153545.11,121629.22,81153.82,99760.84,125890.72,119148.55,154483.98,136770.67,95252.72,117413.95,143571.52,121197.64,121626.9,140356.7,92224.56,121355.99,109003.26,147341.43,102983.91,64082.09,0.0,118336.95,168253.21,101979.16,164902.43,119755.0,119556.1,139528.23,94773.11,108345.22,166939.88,174571.36,71829.34,76769.68,104614.29,0.0,128927.93,99250.08,0.0,104682.83,118886.55,124216.93,144258.52,128793.63,126315.26,115341.55,99162.29,105736.32,62212.29,151532.4,121523.51,0.0,92398.08,143566.12,119658.49,149879.66,104533.24,145382.61,121231.39,141078.57,120105.43,129646.91,0.0,137937.95,93143.39,112544.45,119278.44,169312.72,128412.61,137479.13,105229.72,148088.11,0.0,126679.69,143582.89,125712.2,0.0,155187.3,155455.43,100480.53,101891.1,0.0,128929.88,139603.22,91760.11,93925.3,175739.36,101579.28,118793.6,115282.3,107980.37,133866.22,117005.55,132862.59,204510.94,65349.71,139753.35,107959.39,195926.39,87772.52,111096.91,101266.51,0.0,118588.83,0.0,91132.18,113113.12,0.0,137301.87,129845.26,125489.4,155417.61,85216.61,0.0,0.0,113607.47,104552.72,0.0,126524.11,83199.05,125920.98,118469.38,0.0,144751.81,155739.76,122531.86,103377.81,90022.85,74371.49,152039.7,137145.12,0.0,35016.6,88381.21,0.0,155060.41,57369.61,0.0,130142.79],\"y0\":\" \",\"yaxis\":\"y\",\"type\":\"box\"},{\"alignmentgroup\":\"True\",\"hovertemplate\":\"NumOfProducts=%{x}\\u003cbr\\u003eBalance=%{y}\\u003cextra\\u003e\\u003c\\u002fextra\\u003e\",\"legendgroup\":\"3\",\"marker\":{\"color\":\"green\"},\"name\":\"3\",\"notched\":false,\"offsetgroup\":\"3\",\"orientation\":\"v\",\"showlegend\":true,\"x\":[3,3,3,3,3,3,3,3,3,3,3,3,3,3,3,3,3,3,3,3,3,3,3,3,3,3,3,3,3,3,3,3,3,3,3,3,3,3,3,3,3,3,3,3,3,3,3,3,3,3,3,3,3,3,3,3,3,3,3,3,3,3,3,3,3,3,3,3,3,3,3,3,3,3,3,3,3,3,3,3,3,3,3,3,3,3,3,3,3,3,3,3,3,3,3,3,3,3,3,3,3,3,3,3,3,3,3,3,3,3,3,3,3,3,3,3,3,3,3,3,3,3,3,3,3,3,3,3,3,3,3,3,3,3,3,3,3,3,3,3,3,3,3,3,3,3,3,3,3,3,3,3,3,3,3,3,3,3,3,3,3,3,3,3,3,3,3,3,3,3,3,3,3,3,3,3,3,3,3,3,3,3,3,3,3,3,3,3,3,3,3,3,3,3,3,3,3,3,3,3,3,3,3,3,3,3,3,3,3,3,3,3,3,3,3,3,3,3,3,3,3,3,3,3,3,3,3,3,3,3,3,3,3,3,3,3,3,3,3,3,3,3,3,3,3,3,3,3,3,3,3,3,3,3,3,3,3,3,3,3,3,3,3,3,3,3],\"x0\":\" \",\"xaxis\":\"x\",\"y\":[159660.8,0.0,0.0,0.0,74596.15,116220.5,0.0,100337.96,0.0,117231.63,0.0,181461.48,130878.75,0.0,0.0,114931.35,0.0,0.0,154962.99,0.0,0.0,168286.81,86605.5,0.0,88915.37,140080.32,122384.22,129818.39,0.0,0.0,0.0,0.0,96134.11,0.0,116497.31,100749.5,100717.85,115414.19,101713.84,146098.43,0.0,116973.26,0.0,176845.41,73700.12,0.0,0.0,108825.34,0.0,133656.91,0.0,88308.87,108546.16,108888.24,143542.36,0.0,134250.17,92171.35,250898.09,0.0,126306.64,127122.79,158584.82,106804.26,137227.04,74623.5,158266.42,0.0,111920.13,95813.76,95020.8,0.0,0.0,164948.98,162532.14,0.0,123110.9,111760.4,128808.65,0.0,118022.06,0.0,148610.41,123906.22,140278.99,117833.3,131355.3,93871.95,89158.94,0.0,105061.74,0.0,164769.02,81290.02,108508.82,0.0,62055.17,134950.19,149131.03,137059.05,0.0,110132.55,0.0,0.0,116150.65,100260.88,115895.22,132287.92,0.0,0.0,62094.71,0.0,0.0,0.0,0.0,0.0,74274.87,96947.58,121063.8,153469.26,0.0,128352.59,104478.12,0.0,147856.82,50911.21,149713.61,109153.96,174126.75,123681.32,87603.35,0.0,111512.75,142880.28,89838.71,140891.46,102286.6,0.0,139592.98,128289.7,141069.18,0.0,97750.07,144677.19,0.0,135506.58,49508.79,0.0,85906.65,157138.99,109196.66,134168.5,0.0,104405.54,0.0,135776.36,64497.94,0.0,0.0,62389.03,0.0,105770.7,112281.6,99546.25,0.0,0.0,0.0,164649.52,123571.77,111362.76,140292.58,0.0,152367.21,0.0,83348.89,84445.68,0.0,163700.78,0.0,0.0,0.0,0.0,0.0,106415.57,139493.25,0.0,0.0,0.0,125889.3,78314.63,44582.07,0.0,165048.5,170252.05,132623.76,120961.5,117280.23,149349.58,147726.98,77526.66,0.0,0.0,0.0,0.0,130554.51,151958.19,0.0,108449.23,0.0,175464.85,79475.3,132796.04,127331.46,0.0,43772.66,161591.11,0.0,151701.45,132405.52,103696.97,108019.27,93259.57,107714.74,132084.66,147386.72,127320.36,136492.92,0.0,88379.81,0.0,150805.17,0.0,165969.26,124495.98,0.0,0.0,112070.86,0.0,122034.4,0.0,113909.69,0.0,0.0,93569.86,177626.77,0.0,0.0,107304.39,118214.32,0.0,44301.43,108806.96,0.0,0.0,120916.52,0.0,46388.16,128876.71,0.0,0.0,115730.71,0.0,86038.21,119349.69,106506.77,127585.98],\"y0\":\" \",\"yaxis\":\"y\",\"type\":\"box\"},{\"alignmentgroup\":\"True\",\"hovertemplate\":\"NumOfProducts=%{x}\\u003cbr\\u003eBalance=%{y}\\u003cextra\\u003e\\u003c\\u002fextra\\u003e\",\"legendgroup\":\"2\",\"marker\":{\"color\":\"blue\"},\"name\":\"2\",\"notched\":false,\"offsetgroup\":\"2\",\"orientation\":\"v\",\"showlegend\":true,\"x\":[2,2,2,2,2,2,2,2,2,2,2,2,2,2,2,2,2,2,2,2,2,2,2,2,2,2,2,2,2,2,2,2,2,2,2,2,2,2,2,2,2,2,2,2,2,2,2,2,2,2,2,2,2,2,2,2,2,2,2,2,2,2,2,2,2,2,2,2,2,2,2,2,2,2,2,2,2,2,2,2,2,2,2,2,2,2,2,2,2,2,2,2,2,2,2,2,2,2,2,2,2,2,2,2,2,2,2,2,2,2,2,2,2,2,2,2,2,2,2,2,2,2,2,2,2,2,2,2,2,2,2,2,2,2,2,2,2,2,2,2,2,2,2,2,2,2,2,2,2,2,2,2,2,2,2,2,2,2,2,2,2,2,2,2,2,2,2,2,2,2,2,2,2,2,2,2,2,2,2,2,2,2,2,2,2,2,2,2,2,2,2,2,2,2,2,2,2,2,2,2,2,2,2,2,2,2,2,2,2,2,2,2,2,2,2,2,2,2,2,2,2,2,2,2,2,2,2,2,2,2,2,2,2,2,2,2,2,2,2,2,2,2,2,2,2,2,2,2,2,2,2,2,2,2,2,2,2,2,2,2,2,2,2,2,2,2,2,2,2,2,2,2,2,2,2,2,2,2,2,2,2,2,2,2,2,2,2,2,2,2,2,2,2,2,2,2,2,2,2,2,2,2,2,2,2,2,2,2,2,2,2,2,2,2,2,2,2,2,2,2,2,2,2,2,2,2,2,2,2,2,2,2,2,2,2,2,2,2,2,2,2,2,2,2,2,2,2,2,2,2,2,2,2,2,2,2,2,2,2,2,2,2,2,2,2,2,2,2,2,2,2,2,2,2,2,2,2,2,2,2,2,2,2,2,2,2,2,2,2,2,2,2,2,2,2,2,2,2,2,2,2,2,2,2,2,2,2,2,2,2,2,2,2,2,2,2,2,2,2,2,2,2,2,2,2,2,2,2,2,2,2,2,2,2,2,2,2,2,2,2,2,2,2,2,2,2,2,2,2,2,2,2,2,2,2,2,2,2,2,2,2,2,2,2,2,2,2,2,2,2,2,2,2,2,2,2,2,2,2,2,2,2,2,2,2,2,2,2,2,2,2,2,2,2,2,2,2,2,2,2,2,2,2,2,2,2,2,2,2,2,2,2,2,2,2,2,2,2,2,2,2,2,2,2,2,2,2,2,2,2,2,2,2,2,2,2,2,2,2,2,2,2,2,2,2,2,2,2,2,2,2,2,2,2,2,2,2,2,2,2,2,2,2,2,2,2,2,2,2,2,2,2,2,2,2,2,2,2,2,2,2,2,2,2,2,2,2,2,2,2,2,2,2,2,2,2,2,2,2,2,2,2,2,2,2,2,2,2,2,2,2,2,2,2,2,2,2,2,2,2,2,2,2,2,2,2,2,2,2,2,2,2,2,2,2,2,2,2,2,2,2,2,2,2,2,2,2,2,2,2,2,2,2,2,2,2,2,2,2,2,2,2,2,2,2,2,2,2,2,2,2,2,2,2,2,2,2,2,2,2,2,2,2,2,2,2,2,2,2,2,2,2,2,2,2,2,2,2,2,2,2,2,2,2,2,2,2,2,2,2,2,2,2,2,2,2,2,2,2,2,2,2,2,2,2,2,2,2,2,2,2,2,2,2,2,2,2,2,2,2,2,2,2,2,2,2,2,2,2,2,2,2,2,2,2,2,2,2,2,2,2,2,2,2,2,2,2,2,2,2,2,2,2,2,2,2,2,2,2,2,2,2,2,2,2,2,2,2,2,2,2,2,2,2,2,2,2,2,2,2,2,2,2,2,2,2,2,2,2,2,2,2,2,2,2,2,2,2,2,2,2,2,2,2,2,2,2,2,2,2,2,2,2,2,2,2,2,2,2,2,2,2,2,2,2,2,2,2,2,2,2,2,2,2,2,2,2,2,2,2,2,2,2,2,2,2,2,2,2,2,2,2,2,2,2,2,2,2,2,2,2,2,2,2,2,2,2,2,2,2,2,2,2,2,2,2,2,2,2,2,2,2,2,2,2,2,2,2,2,2,2,2,2,2,2,2,2,2,2,2,2,2,2,2,2,2,2,2,2,2,2,2,2,2,2,2,2,2,2,2,2,2,2,2,2,2,2,2,2,2,2,2,2,2,2,2,2,2,2,2,2,2,2,2,2,2,2,2,2,2,2,2,2,2,2,2,2,2,2,2,2,2,2,2,2,2,2,2,2,2,2,2,2,2,2,2,2,2,2,2,2,2,2,2,2,2,2,2,2,2,2,2,2,2,2,2,2,2,2,2,2,2,2,2,2,2,2,2,2,2,2,2,2,2,2,2,2,2,2,2,2,2,2,2,2,2,2,2,2,2,2,2,2,2,2,2,2,2,2,2,2,2,2,2,2,2,2,2,2,2,2,2,2,2,2,2,2,2,2,2,2,2,2,2,2,2,2,2,2,2,2,2,2,2,2,2,2,2,2,2,2,2,2,2,2,2,2,2,2,2,2,2,2,2,2,2,2,2,2,2,2,2,2,2,2,2,2,2,2,2,2,2,2,2,2,2,2,2,2,2,2,2,2,2,2,2,2,2,2,2,2,2,2,2,2,2,2,2,2,2,2,2,2,2,2,2,2,2,2,2,2,2,2,2,2,2,2,2,2,2,2,2,2,2,2,2,2,2,2,2,2,2,2,2,2,2,2,2,2,2,2,2,2,2,2,2,2,2,2,2,2,2,2,2,2,2,2,2,2,2,2,2,2,2,2,2,2,2,2,2,2,2,2,2,2,2,2,2,2,2,2,2,2,2,2,2,2,2,2,2,2,2,2,2,2,2,2,2,2,2,2,2,2,2,2,2,2,2,2,2,2,2,2,2,2,2,2,2,2,2,2,2,2,2,2,2,2,2,2,2,2,2,2,2,2,2,2,2,2,2,2,2,2,2,2,2,2,2,2,2,2,2,2,2,2,2,2,2,2,2,2,2,2,2,2,2,2,2,2,2,2,2,2,2,2,2,2,2,2,2,2,2,2,2,2,2,2,2,2,2,2,2,2,2,2,2,2,2,2,2,2,2,2,2,2,2,2,2,2,2,2,2,2,2,2,2,2,2,2,2,2,2,2,2,2,2,2,2,2,2,2,2,2,2,2,2,2,2,2,2,2,2,2,2,2,2,2,2,2,2,2,2,2,2,2,2,2,2,2,2,2,2,2,2,2,2,2,2,2,2,2,2,2,2,2,2,2,2,2,2,2,2,2,2,2,2,2,2,2,2,2,2,2,2,2,2,2,2,2,2,2,2,2,2,2,2,2,2,2,2,2,2,2,2,2,2,2,2,2,2,2,2,2,2,2,2,2,2,2,2,2,2,2,2,2,2,2,2,2,2,2,2,2,2,2,2,2,2,2,2,2,2,2,2,2,2,2,2,2,2,2,2,2,2,2,2,2,2,2,2,2,2,2,2,2,2,2,2,2,2,2,2,2,2,2,2,2,2,2,2,2,2,2,2,2,2,2,2,2,2,2,2,2,2,2,2,2,2,2,2,2,2,2,2,2,2,2,2,2,2,2,2,2,2,2,2,2,2,2,2,2,2,2,2,2,2,2,2,2,2,2,2,2,2,2,2,2,2,2,2,2,2,2,2,2,2,2,2,2,2,2,2,2,2,2,2,2,2,2,2,2,2,2,2,2,2,2,2,2,2,2,2,2,2,2,2,2,2,2,2,2,2,2,2,2,2,2,2,2,2,2,2,2,2,2,2,2,2,2,2,2,2,2,2,2,2,2,2,2,2,2,2,2,2,2,2,2,2,2,2,2,2,2,2,2,2,2,2,2,2,2,2,2,2,2,2,2,2,2,2,2,2,2,2,2,2,2,2,2,2,2,2,2,2,2,2,2,2,2,2,2,2,2,2,2,2,2,2,2,2,2,2,2,2,2,2,2,2,2,2,2,2,2,2,2,2,2,2,2,2,2,2,2,2,2,2,2,2,2,2,2,2,2,2,2,2,2,2,2,2,2,2,2,2,2,2,2,2,2,2,2,2,2,2,2,2,2,2,2,2,2,2,2,2,2,2,2,2,2,2,2,2,2,2,2,2,2,2,2,2,2,2,2,2,2,2,2,2,2,2,2,2,2,2,2,2,2,2,2,2,2,2,2,2,2,2,2,2,2,2,2,2,2,2,2,2,2,2,2,2,2,2,2,2,2,2,2,2,2,2,2,2,2,2,2,2,2,2,2,2,2,2,2,2,2,2,2,2,2,2,2,2,2,2,2,2,2,2,2,2,2,2,2,2,2,2,2,2,2,2,2,2,2,2,2,2,2,2,2,2,2,2,2,2,2,2,2,2,2,2,2,2,2,2,2,2,2,2,2,2,2,2,2,2,2,2,2,2,2,2,2,2,2,2,2,2,2,2,2,2,2,2,2,2,2,2,2,2,2,2,2,2,2,2,2,2,2,2,2,2,2,2,2,2,2,2,2,2,2,2,2,2,2,2,2,2,2,2,2,2,2,2,2,2,2,2,2,2,2,2,2,2,2,2,2,2,2,2,2,2,2,2,2,2,2,2,2,2,2,2,2,2,2,2,2,2,2,2,2,2,2,2,2,2,2,2,2,2,2,2,2,2,2,2,2,2,2,2,2,2,2,2,2,2,2,2,2,2,2,2,2,2,2,2,2,2,2,2,2,2,2,2,2,2,2,2,2,2,2,2,2,2,2,2,2,2,2,2,2,2,2,2,2,2,2,2,2,2,2,2,2,2,2,2,2,2,2,2,2,2,2,2,2,2,2,2,2,2,2,2,2,2,2,2,2,2,2,2,2,2,2,2,2,2,2,2,2,2,2,2,2,2,2,2,2,2,2,2,2,2,2,2,2,2,2,2,2,2,2,2,2,2,2,2,2,2,2,2,2,2,2,2,2,2,2,2,2,2,2,2,2,2,2,2,2,2,2,2,2,2,2,2,2,2,2,2,2,2,2,2,2,2,2,2,2,2,2,2,2,2,2,2,2,2,2,2,2,2,2,2,2,2,2,2,2,2,2,2,2,2,2,2,2,2,2,2,2,2,2,2,2,2,2,2,2,2,2,2,2,2,2,2,2,2,2,2,2,2,2,2,2,2,2,2,2,2,2,2,2,2,2,2,2,2,2,2,2,2,2,2,2,2,2,2,2,2,2,2,2,2,2,2,2,2,2,2,2,2,2,2,2,2,2,2,2,2,2,2,2,2,2,2,2,2,2,2,2,2,2,2,2,2,2,2,2,2,2,2,2,2,2,2,2,2,2,2,2,2,2,2,2,2,2,2,2,2,2,2,2,2,2,2,2,2,2,2,2,2,2,2,2,2,2,2,2,2,2,2,2,2,2,2,2,2,2,2,2,2,2,2,2,2,2,2,2,2,2,2,2,2,2,2,2,2,2,2,2,2,2,2,2,2,2,2,2,2,2,2,2,2,2,2,2,2,2,2,2,2,2,2,2,2,2,2,2,2,2,2,2,2,2,2,2,2,2,2,2,2,2,2,2,2,2,2,2,2,2,2,2,2,2,2,2,2,2,2,2,2,2,2,2,2,2,2,2,2,2,2,2,2,2,2,2,2,2,2,2,2,2,2,2,2,2,2,2,2,2,2,2,2,2,2,2,2,2,2,2,2,2,2,2,2,2,2,2,2,2,2,2,2,2,2,2,2,2,2,2,2,2,2,2,2,2,2,2,2,2,2,2,2,2,2,2,2,2,2,2,2,2,2,2,2,2,2,2,2,2,2,2,2,2,2,2,2,2,2,2,2,2,2,2,2,2,2,2,2,2,2,2,2,2,2,2,2,2,2,2,2,2,2,2,2,2,2,2,2,2,2,2,2,2,2,2,2,2,2,2,2,2,2,2,2,2,2,2,2,2,2,2,2,2,2,2,2,2,2,2,2,2,2,2,2,2,2,2,2,2,2,2,2,2,2,2,2,2,2,2,2,2,2,2,2,2,2,2,2,2,2,2,2,2,2,2,2,2,2,2,2,2,2,2,2,2,2,2,2,2,2,2,2,2,2,2,2,2,2,2,2,2,2,2,2,2,2,2,2,2,2,2,2,2,2,2,2,2,2,2,2,2,2,2,2,2,2,2,2,2,2,2,2,2,2,2,2,2,2,2,2,2,2,2,2,2,2,2,2,2,2,2,2,2,2,2,2,2,2,2,2,2,2,2,2,2,2,2,2,2,2,2,2,2,2,2,2,2,2,2,2,2,2,2,2,2,2,2,2,2,2,2,2,2,2,2,2,2,2,2,2,2,2,2,2,2,2,2,2,2,2,2,2,2,2,2,2,2,2,2,2,2,2,2,2,2,2,2,2,2,2,2,2,2,2,2,2,2,2,2,2,2,2,2,2,2,2,2,2,2,2,2,2,2,2,2,2,2,2,2,2,2,2,2,2,2,2,2,2,2,2,2,2,2,2,2,2,2,2,2,2,2,2,2,2,2,2,2,2,2,2,2,2,2,2,2,2,2,2,2,2,2,2,2,2,2,2,2,2,2,2,2,2,2,2,2,2,2,2,2,2,2,2,2,2,2,2,2,2,2,2,2,2,2,2,2,2,2,2,2,2,2,2,2,2,2,2,2,2,2,2,2,2,2,2,2,2,2,2,2,2,2,2,2,2,2,2,2,2,2,2,2,2,2,2,2,2,2,2,2,2,2,2,2,2,2,2,2,2,2,2,2,2,2,2,2,2,2,2,2,2,2,2,2,2,2,2,2,2,2,2,2,2,2,2,2,2,2,2,2,2,2,2,2,2,2,2,2,2,2,2,2,2,2,2,2,2,2,2,2,2,2,2,2,2,2,2,2,2,2,2,2,2,2,2,2,2,2,2,2,2,2,2,2,2,2,2,2,2,2,2,2,2,2,2,2,2,2,2,2,2,2,2,2,2,2,2,2,2,2,2,2,2,2,2,2,2,2,2,2,2,2,2,2,2,2,2,2,2,2,2,2,2,2,2,2,2,2,2,2,2,2,2,2,2,2,2,2,2,2,2,2,2,2,2,2,2,2,2,2,2,2,2,2,2,2,2,2,2,2,2,2,2,2,2,2,2,2,2,2,2,2,2,2,2,2,2,2,2,2,2,2,2,2,2,2,2,2,2,2,2,2,2,2,2,2,2,2,2,2,2,2,2,2,2,2,2,2,2,2,2,2,2,2,2,2,2,2,2,2,2,2,2,2,2,2,2,2,2,2,2,2,2,2,2,2,2,2,2,2,2,2,2,2,2,2,2,2,2,2,2,2,2,2,2,2,2,2,2,2,2,2,2,2,2,2,2,2,2,2,2,2,2,2,2,2,2,2,2,2,2,2,2,2,2,2,2,2,2,2,2,2,2,2,2,2,2,2,2,2,2,2,2,2,2,2,2,2,2,2,2,2,2,2,2,2,2,2,2,2,2,2,2,2,2,2,2,2,2,2,2,2,2,2,2,2,2,2,2,2,2,2,2,2,2,2,2,2,2,2,2,2,2,2,2,2,2,2,2,2,2,2,2,2,2,2,2,2,2,2,2,2,2,2,2,2,2,2,2,2,2,2,2,2,2,2,2,2,2,2,2,2,2,2,2,2,2,2,2,2,2,2,2,2,2,2,2,2,2,2,2,2,2,2,2,2,2,2,2,2,2,2,2,2,2,2,2,2,2,2,2,2,2,2,2,2,2,2,2,2,2,2,2,2,2,2,2,2,2,2,2,2,2,2,2,2,2,2,2,2,2,2,2,2,2,2,2,2,2,2,2,2,2,2,2,2,2,2,2,2,2,2,2,2,2,2,2,2,2,2,2,2,2,2,2,2,2,2,2,2,2,2,2,2,2,2,2,2,2,2,2,2,2,2,2,2,2,2,2,2,2,2,2,2,2,2,2,2,2,2,2,2,2,2,2,2,2,2,2,2,2,2,2,2,2,2,2,2,2,2,2,2,2,2,2,2,2,2,2,2,2,2,2,2,2,2,2,2,2,2,2,2,2,2,2,2,2,2,2,2,2,2,2,2,2,2,2,2,2,2,2,2,2,2,2,2,2,2,2,2,2,2,2,2,2,2,2,2,2,2,2,2,2,2,2,2,2,2,2,2,2,2,2,2,2,2,2,2,2,2,2,2,2,2,2,2,2,2,2,2,2,2,2,2,2,2,2,2,2,2,2,2,2,2,2,2,2,2,2,2,2,2,2,2,2,2,2,2,2,2,2,2,2,2,2,2,2,2,2,2,2,2,2,2,2,2,2,2,2,2,2,2,2,2,2,2,2,2,2,2,2,2,2,2,2,2,2,2,2,2,2,2,2,2,2,2,2,2,2,2,2,2,2,2,2,2,2,2,2,2,2,2,2,2,2,2,2,2,2,2,2,2,2,2,2,2,2,2,2,2,2,2,2,2,2,2,2,2,2,2,2,2,2,2,2,2,2,2,2,2,2,2,2,2,2,2,2,2,2,2,2,2,2,2,2,2,2,2,2,2,2,2,2,2,2,2,2,2,2,2,2,2,2,2,2,2,2,2,2,2,2,2,2,2,2,2,2,2,2,2,2,2,2,2,2,2,2,2,2,2,2,2,2,2,2,2,2,2,2,2,2,2,2,2,2,2,2,2,2,2,2,2,2,2,2,2,2,2,2,2,2,2,2,2,2,2,2,2,2,2,2,2,2,2,2,2,2,2,2,2,2,2,2,2,2,2,2,2,2,2,2,2,2,2,2,2,2,2,2,2,2,2,2,2,2,2,2,2,2,2,2,2,2,2,2,2,2,2,2,2,2,2,2,2,2,2,2,2,2,2,2,2,2,2,2,2,2,2,2,2,2,2,2,2,2,2,2,2,2,2,2,2,2,2,2,2,2,2,2,2,2,2,2,2,2,2,2,2,2,2,2,2,2,2,2,2,2,2,2,2,2,2,2,2,2,2,2,2,2,2,2,2,2,2,2,2,2,2,2,2,2,2,2,2,2,2,2,2,2,2,2,2,2,2,2,2,2,2,2,2,2,2,2,2,2,2,2,2,2,2,2,2,2,2,2,2,2,2,2,2,2,2,2,2,2,2,2,2,2,2,2,2,2,2,2,2,2,2,2,2,2,2,2,2,2,2,2,2,2,2,2,2,2,2,2,2,2,2,2,2,2,2,2,2,2,2,2,2,2,2,2,2,2,2,2,2,2,2,2,2,2,2,2,2,2,2,2,2,2,2,2,2,2,2,2,2,2,2,2,2,2,2,2,2,2,2,2,2,2,2,2,2,2,2,2,2,2,2,2,2,2,2,2,2,2,2,2,2,2,2,2,2,2,2,2,2,2,2,2,2,2,2,2,2,2,2,2,2,2,2,2,2,2,2,2,2,2,2,2,2,2,2,2,2,2,2,2,2,2,2,2,2,2,2,2,2,2,2,2,2,2,2,2,2,2,2,2,2,2,2,2,2,2,2,2,2,2,2,2,2,2,2,2,2,2,2,2,2,2,2,2,2,2,2,2,2,2,2,2,2,2,2,2,2,2,2,2,2,2,2,2,2,2,2,2,2,2,2,2,2,2,2,2,2,2,2,2,2,2,2,2,2,2,2,2,2,2,2,2,2,2,2,2,2,2,2,2,2,2,2,2,2,2,2,2,2,2,2,2,2,2,2,2,2,2,2,2,2,2,2,2,2,2,2,2,2,2,2,2,2,2,2,2,2,2,2,2,2,2,2,2,2,2,2,2,2,2,2,2,2,2,2,2,2,2,2,2,2,2,2,2,2,2,2,2,2,2,2,2,2,2,2,2,2,2,2,2,2,2,2,2,2,2,2,2,2,2,2,2,2,2,2,2,2,2,2,2,2,2,2,2,2,2,2,2,2,2,2,2,2,2,2,2,2,2,2,2,2,2,2,2,2,2,2,2,2,2,2,2,2,2,2,2,2,2,2,2,2,2,2,2,2,2,2,2,2,2,2,2,2,2,2,2,2,2,2,2,2,2,2,2,2,2,2,2,2,2,2,2,2,2,2,2,2,2,2,2,2,2,2,2,2,2,2,2,2,2,2,2,2,2,2,2,2,2,2,2,2,2,2,2,2,2,2,2,2,2,2,2,2,2,2,2,2,2,2,2,2,2,2,2,2,2,2,2,2,2,2,2,2,2,2,2,2,2,2,2,2,2,2,2,2,2,2,2,2,2,2,2,2,2,2,2,2,2,2,2,2,2,2,2,2,2,2,2,2,2,2,2,2,2,2,2,2,2,2,2,2,2,2,2,2,2,2,2,2,2,2,2,2,2,2,2,2,2,2,2,2,2,2,2,2,2,2,2,2,2,2,2,2,2,2,2,2,2,2,2,2,2,2,2,2,2],\"x0\":\" \",\"xaxis\":\"x\",\"y\":[0.0,113755.78,0.0,142051.07,102016.72,0.0,0.0,0.0,0.0,143129.41,0.0,0.0,0.0,0.0,0.0,0.0,0.0,59697.17,110112.54,0.0,0.0,70349.48,109421.13,103769.22,116363.37,146050.97,0.0,152328.88,56084.69,169831.46,123180.01,150725.53,157780.84,0.0,178718.19,0.0,122189.66,96645.54,0.0,0.0,0.0,0.0,81623.67,118626.55,0.0,0.0,0.0,97086.4,0.0,0.0,0.0,0.0,107073.27,108055.1,154475.54,132351.29,0.0,185173.81,129433.34,0.0,0.0,0.0,0.0,124828.46,144895.05,129490.36,0.0,138296.94,0.0,0.0,0.0,0.0,0.0,0.0,0.0,0.0,125189.75,0.0,57929.81,95826.49,0.0,0.0,190479.48,0.0,162150.42,0.0,0.0,0.0,111388.18,56214.85,84327.77,0.0,61710.44,0.0,0.0,129022.06,161814.64,0.0,0.0,118287.01,0.0,105799.32,114722.05,0.0,170557.91,0.0,0.0,0.0,0.0,119714.25,113978.97,81173.83,0.0,105961.68,0.0,152400.51,0.0,0.0,0.0,0.0,0.0,37266.67,108748.08,184686.41,0.0,0.0,0.0,149297.19,0.0,0.0,0.0,0.0,0.0,174185.98,113208.86,0.0,94521.17,0.0,0.0,0.0,0.0,0.0,0.0,156847.29,0.0,0.0,0.0,0.0,0.0,0.0,0.0,116244.14,0.0,117028.6,150923.74,0.0,129502.49,0.0,0.0,0.0,0.0,106937.05,0.0,107594.11,0.0,187841.99,0.0,126776.3,0.0,0.0,99027.61,0.0,87271.41,102742.91,40105.51,106307.91,107884.81,58469.37,0.0,101583.11,77168.87,124695.72,0.0,0.0,0.0,161525.96,127209.0,0.0,136925.09,0.0,0.0,70438.01,0.0,0.0,152958.29,0.0,0.0,0.0,0.0,0.0,0.0,0.0,124576.65,127892.57,79871.02,104088.59,168190.33,0.0,121551.58,127299.34,0.0,0.0,0.0,111681.98,0.0,108738.71,0.0,0.0,0.0,0.0,0.0,0.0,100812.33,0.0,115217.99,0.0,0.0,0.0,81550.94,170061.92,92310.54,169089.38,121581.56,0.0,0.0,77637.35,0.0,0.0,0.0,67238.98,86569.76,0.0,0.0,120092.52,101238.24,93722.73,0.0,0.0,0.0,119035.35,128173.9,0.0,151226.18,0.0,112652.08,0.0,143964.36,122451.46,65253.07,0.0,138241.9,0.0,0.0,121192.22,100486.18,92566.53,0.0,0.0,123217.66,0.0,0.0,108431.87,0.0,119741.77,157296.02,174318.13,0.0,123709.46,0.0,0.0,0.0,0.0,170184.99,0.0,141616.55,145747.67,0.0,164113.04,67996.23,0.0,0.0,0.0,0.0,0.0,0.0,164870.81,131039.97,0.0,0.0,0.0,0.0,0.0,0.0,122388.38,0.0,118879.35,0.0,0.0,88736.44,0.0,0.0,141782.57,112212.14,122552.34,76408.85,0.0,0.0,106138.33,0.0,0.0,126615.94,0.0,76190.48,0.0,0.0,123971.51,0.0,0.0,0.0,209767.31,129634.25,0.0,145988.65,0.0,0.0,121152.05,0.0,95059.02,0.0,0.0,127559.97,0.0,110777.26,166733.92,157120.86,127160.78,0.0,0.0,115920.62,119782.72,129748.54,0.0,113599.74,0.0,0.0,71264.02,0.0,0.0,0.0,0.0,82275.35,0.0,108239.11,187530.66,0.0,84745.03,120599.38,0.0,127771.35,0.0,0.0,134714.7,0.0,0.0,157993.15,0.0,137824.03,132578.92,0.0,164284.72,0.0,0.0,112373.49,0.0,0.0,111432.77,0.0,137390.11,0.0,86402.52,0.0,170826.55,97133.92,0.0,0.0,0.0,143637.58,0.0,0.0,0.0,76968.12,88293.13,108122.39,163943.89,0.0,101430.3,0.0,105525.65,0.0,0.0,57017.06,125884.95,0.0,93051.64,161064.64,145105.64,0.0,116229.85,0.0,0.0,0.0,101609.01,133802.29,103522.75,192390.52,0.0,0.0,82931.85,130796.33,156371.61,0.0,0.0,0.0,116854.71,0.0,78992.75,97257.41,122453.37,0.0,0.0,71497.79,0.0,124532.78,82293.82,149620.88,93147.0,97440.02,65046.08,123105.88,0.0,167738.82,121980.56,0.0,50880.98,175159.9,105514.69,0.0,0.0,0.0,0.0,95710.11,102238.01,179380.74,0.0,0.0,0.0,0.0,0.0,0.0,130131.08,0.0,0.0,0.0,0.0,119624.54,121132.26,0.0,0.0,81677.22,0.0,0.0,152169.12,214346.96,0.0,0.0,111855.04,140348.56,0.0,146720.98,0.0,0.0,0.0,0.0,123981.31,0.0,0.0,0.0,141581.71,0.0,0.0,0.0,123403.85,0.0,0.0,110555.37,0.0,92578.14,0.0,117412.19,90018.45,0.0,112414.81,143734.01,0.0,0.0,157791.07,0.0,0.0,181627.14,190008.32,0.0,0.0,131344.52,0.0,122773.5,0.0,125801.03,0.0,67495.04,154776.42,143124.63,0.0,122717.53,92363.3,0.0,0.0,0.0,93460.47,0.0,0.0,103465.02,128262.72,0.0,129855.72,0.0,0.0,99785.28,0.0,0.0,0.0,0.0,0.0,0.0,145541.56,124601.58,115182.84,163789.49,0.0,88324.31,146445.24,0.0,0.0,109949.05,83765.35,0.0,137492.35,0.0,146329.57,132122.42,0.0,0.0,0.0,0.0,126817.65,0.0,0.0,0.0,104356.94,73023.17,137654.05,165610.41,0.0,77002.2,0.0,0.0,0.0,0.0,152212.88,0.0,87505.47,0.0,153572.31,0.0,134096.53,118100.59,0.0,118327.17,124857.69,0.0,0.0,124439.49,0.0,0.0,159453.64,128345.69,0.0,143452.74,145018.49,79460.98,133537.1,119507.58,0.0,0.0,0.0,154344.49,0.0,189026.53,97975.82,0.0,113270.2,0.0,124548.99,0.0,0.0,0.0,0.0,117307.44,40169.88,0.0,0.0,0.0,125212.65,88656.37,0.0,135070.58,0.0,0.0,122550.05,0.0,0.0,0.0,84958.6,136622.55,167658.33,0.0,109483.54,139762.13,127706.33,0.0,119336.29,0.0,135067.52,0.0,109342.82,0.0,0.0,78247.31,0.0,0.0,180303.24,61592.14,0.0,154221.37,101641.14,131081.66,0.0,104077.19,0.0,0.0,0.0,0.0,0.0,112392.45,106570.34,144162.3,86350.87,0.0,0.0,0.0,0.0,0.0,0.0,71460.67,93806.31,0.0,0.0,0.0,0.0,0.0,0.0,107508.93,0.0,0.0,137060.88,0.0,88243.29,0.0,0.0,0.0,119278.01,158741.43,0.0,104783.81,77992.97,119624.6,109052.59,152324.66,0.0,127480.58,110864.38,0.0,95624.36,0.0,131082.17,94456.0,0.0,0.0,0.0,0.0,97854.37,0.0,124923.35,0.0,115961.58,160602.25,80844.69,97001.36,0.0,122524.61,0.0,59385.98,0.0,0.0,141223.68,141749.74,165686.11,0.0,0.0,0.0,0.0,0.0,0.0,0.0,170291.22,111061.01,0.0,0.0,0.0,0.0,119825.75,111852.84,106683.52,129776.72,0.0,0.0,122545.65,0.0,0.0,0.0,0.0,0.0,0.0,54098.18,113758.48,0.0,95488.82,110829.52,144244.59,122021.92,0.0,0.0,0.0,0.0,123210.56,108589.47,0.0,105663.56,0.0,0.0,139541.58,121801.72,0.0,93499.82,132255.99,0.0,0.0,99462.8,165878.76,139224.92,0.0,133701.07,114430.18,101126.66,103564.83,168178.21,0.0,166909.2,0.0,112088.04,0.0,0.0,141038.57,84468.67,118627.16,110976.23,0.0,0.0,0.0,117707.18,135289.33,114446.84,0.0,0.0,108071.36,14262.8,161757.87,0.0,0.0,0.0,148913.72,0.0,0.0,115335.32,0.0,0.0,0.0,90547.48,163340.12,150900.29,0.0,173459.45,169649.73,0.0,0.0,0.0,56580.95,0.0,152759.0,109733.2,0.0,134997.49,0.0,0.0,136624.6,0.0,0.0,158651.29,0.0,97786.08,0.0,0.0,63127.41,0.0,140355.56,0.0,0.0,0.0,0.0,0.0,0.0,0.0,0.0,178171.04,0.0,0.0,0.0,0.0,0.0,0.0,0.0,0.0,0.0,105128.85,129248.11,109118.05,0.0,0.0,0.0,152899.24,92366.72,0.0,111375.32,0.0,150412.14,156660.72,0.0,95039.73,0.0,0.0,112773.73,94667.29,0.0,174397.21,118803.35,177799.83,147487.23,0.0,0.0,65848.36,0.0,129731.64,0.0,0.0,107106.33,0.0,0.0,0.0,126495.57,81733.74,0.0,181671.16,185709.28,95671.75,0.0,142151.75,0.0,0.0,124493.03,0.0,99610.92,117337.54,136496.12,160358.68,130806.42,0.0,0.0,0.0,156297.58,0.0,0.0,148375.19,0.0,106116.5,0.0,0.0,0.0,120018.86,112541.54,166118.45,102882.4,106881.5,0.0,0.0,0.0,0.0,146282.79,119413.62,0.0,0.0,0.0,0.0,0.0,68432.45,0.0,0.0,65971.61,150463.11,0.0,0.0,0.0,128486.91,0.0,143407.29,0.0,0.0,90560.3,0.0,161434.36,0.0,0.0,0.0,0.0,0.0,0.0,0.0,109175.14,0.0,0.0,134260.36,69143.91,86053.52,106871.81,105266.32,0.0,122334.26,0.0,137847.41,0.0,0.0,0.0,0.0,0.0,0.0,126588.81,81844.91,190298.89,0.0,101861.36,167455.66,0.0,0.0,72286.84,0.0,145018.64,0.0,0.0,0.0,143744.77,0.0,0.0,170840.08,87541.06,62610.96,0.0,125227.82,39043.29,0.0,125385.49,131365.37,0.0,140856.16,0.0,0.0,0.0,157559.59,163569.61,118199.97,101014.08,0.0,0.0,130922.81,0.0,0.0,0.0,0.0,129553.76,0.0,0.0,0.0,116471.43,0.0,0.0,88758.95,153611.83,0.0,68892.77,0.0,0.0,0.0,157955.83,0.0,0.0,90721.52,0.0,164523.5,0.0,0.0,106938.11,106756.01,0.0,0.0,0.0,93796.42,0.0,125268.03,115545.33,0.0,0.0,0.0,96213.82,0.0,0.0,110463.25,0.0,0.0,108664.85,163034.82,119024.75,92606.86,127862.93,0.0,154846.24,0.0,82787.93,0.0,0.0,94263.91,133434.57,0.0,94748.76,74681.9,0.0,132739.26,0.0,124547.13,0.0,88815.56,82231.51,184715.86,0.0,0.0,0.0,90373.28,133467.77,0.0,91547.84,138292.64,0.0,145610.07,135020.21,0.0,0.0,0.0,0.0,131390.75,0.0,0.0,0.0,0.0,0.0,0.0,102714.65,107238.85,0.0,0.0,0.0,0.0,145166.09,0.0,171787.84,0.0,0.0,84390.8,89728.86,0.0,0.0,0.0,0.0,0.0,0.0,0.0,0.0,0.0,0.0,0.0,0.0,0.0,105082.07,0.0,104702.65,167026.61,148045.45,0.0,0.0,0.0,0.0,149542.52,0.0,108166.09,134760.21,0.0,87361.02,0.0,80242.37,0.0,0.0,0.0,81742.84,0.0,89900.24,119027.28,105222.86,0.0,77065.9,0.0,91285.13,0.0,110610.41,59893.85,0.0,113402.14,0.0,0.0,0.0,47869.69,150926.99,136674.51,0.0,0.0,142574.71,98683.47,118829.03,0.0,129837.72,122929.42,0.0,128993.76,185267.45,0.0,129177.01,82506.72,157780.93,0.0,0.0,0.0,98263.46,0.0,109308.79,0.0,84284.48,0.0,0.0,166082.15,0.0,94078.97,0.0,0.0,0.0,97445.49,0.0,154485.74,65095.41,0.0,0.0,73088.06,150905.03,0.0,0.0,115451.05,98795.61,0.0,0.0,0.0,113146.98,0.0,0.0,0.0,0.0,109783.69,89696.84,0.0,0.0,119684.88,101134.87,78136.36,0.0,0.0,62974.64,116993.43,58662.92,0.0,0.0,0.0,129735.3,0.0,0.0,0.0,0.0,145295.31,106070.29,0.0,0.0,0.0,0.0,124978.19,0.0,109799.55,0.0,0.0,111347.37,104291.41,94867.18,0.0,135703.59,106453.53,0.0,166527.88,156773.78,0.0,144427.96,79368.87,0.0,0.0,162485.8,95668.82,0.0,0.0,74197.38,103121.33,149136.31,120026.98,85200.82,84903.33,0.0,116662.96,0.0,155180.56,0.0,0.0,99812.88,142406.43,99842.5,0.0,0.0,0.0,0.0,0.0,0.0,0.0,0.0,73211.12,0.0,0.0,92674.94,119785.47,98218.04,0.0,0.0,0.0,0.0,139265.63,131563.88,0.0,0.0,170214.23,0.0,170241.7,0.0,0.0,100885.93,63176.44,0.0,0.0,136325.48,113150.44,0.0,72252.64,0.0,124513.66,100988.39,0.0,0.0,0.0,0.0,0.0,147249.29,138740.24,143966.3,0.0,0.0,0.0,0.0,76665.71,0.0,115764.32,131142.53,0.0,0.0,0.0,99945.93,121704.32,0.0,0.0,107856.57,0.0,91091.06,142669.93,0.0,0.0,104336.43,140187.1,0.0,0.0,0.0,85957.88,166930.76,0.0,107193.82,0.0,0.0,0.0,108128.96,105317.73,0.0,106086.42,0.0,0.0,101440.36,0.0,106603.74,130420.2,0.0,0.0,0.0,0.0,0.0,115049.15,0.0,0.0,0.0,88311.48,110046.93,0.0,137780.74,0.0,0.0,109570.21,0.0,153393.18,0.0,129398.01,0.0,0.0,0.0,165536.28,55853.33,0.0,174330.35,0.0,96814.46,0.0,0.0,0.0,0.0,0.0,114888.74,149332.48,0.0,0.0,0.0,80964.57,138190.13,131519.49,126935.98,0.0,0.0,110407.44,0.0,142015.76,116755.5,130694.89,206868.78,0.0,0.0,0.0,0.0,0.0,0.0,130806.99,0.0,0.0,0.0,107233.85,176227.07,109949.39,0.0,0.0,145750.45,0.0,0.0,0.0,129440.3,0.0,0.0,0.0,115095.88,0.0,0.0,122453.97,132174.41,0.0,0.0,105346.03,0.0,0.0,68999.66,100628.0,0.0,0.0,146810.99,0.0,89349.47,86131.71,0.0,0.0,0.0,161274.05,0.0,97286.16,95140.44,0.0,0.0,108698.96,81556.89,0.0,0.0,0.0,0.0,0.0,176024.05,0.0,109819.16,111363.1,0.0,143988.0,0.0,0.0,64667.95,0.0,0.0,139529.93,0.0,0.0,0.0,0.0,0.0,0.0,0.0,0.0,0.0,0.0,0.0,0.0,0.0,126833.79,134729.99,130368.31,155447.65,124268.64,99886.42,0.0,0.0,134318.21,75395.53,76595.08,160541.36,0.0,0.0,186347.97,77270.08,0.0,0.0,138089.97,133191.19,0.0,99208.46,0.0,0.0,0.0,0.0,132150.26,0.0,125163.62,193354.86,107648.94,138992.48,0.0,0.0,0.0,0.0,0.0,0.0,130463.55,0.0,110182.54,0.0,0.0,177069.24,0.0,0.0,0.0,0.0,118402.25,87374.88,0.0,103604.31,0.0,188241.05,0.0,0.0,117469.91,69014.49,98548.62,0.0,0.0,122417.17,61297.05,53299.96,0.0,0.0,70233.74,0.0,0.0,0.0,165350.61,152105.57,0.0,100548.67,0.0,0.0,81951.74,0.0,0.0,0.0,0.0,0.0,0.0,0.0,115651.6,77743.01,0.0,0.0,105617.73,148770.61,0.0,0.0,141547.26,0.0,0.0,124619.33,125837.86,0.0,0.0,101675.22,0.0,71142.77,108805.42,0.0,0.0,80673.96,182275.23,0.0,120911.75,0.0,123757.52,0.0,0.0,121376.15,0.0,0.0,166883.07,0.0,172812.72,126606.63,0.0,0.0,85845.43,55732.92,115713.84,143267.14,143001.5,0.0,103430.11,0.0,122501.28,0.0,0.0,0.0,142871.27,98585.94,0.0,0.0,110053.62,0.0,131023.76,0.0,0.0,111739.4,0.0,0.0,0.0,160599.06,0.0,170228.59,0.0,176139.5,0.0,0.0,123557.65,0.0,185063.7,118064.93,0.0,0.0,125512.98,83492.07,73054.37,152576.25,88120.97,0.0,115654.47,0.0,113228.38,108432.88,120702.67,0.0,101851.8,93124.04,0.0,129669.32,0.0,0.0,0.0,117641.43,125734.2,82696.09,156265.31,139959.55,93547.23,0.0,142360.62,105426.5,149155.53,170890.05,0.0,0.0,0.0,0.0,126104.98,0.0,0.0,0.0,0.0,114519.57,0.0,0.0,0.0,0.0,140752.06,92126.26,93148.74,0.0,121647.54,0.0,0.0,0.0,0.0,84673.17,135962.4,151691.44,0.0,0.0,108197.11,0.0,0.0,0.0,0.0,0.0,89558.39,131938.92,151772.63,0.0,0.0,0.0,103244.86,147833.3,0.0,0.0,0.0,84521.48,0.0,108244.82,0.0,82161.7,68881.59,0.0,150840.03,155059.1,0.0,78128.13,98899.76,87926.24,79385.21,94238.75,0.0,0.0,0.0,139153.68,0.0,0.0,0.0,0.0,144773.29,98400.61,0.0,108924.33,0.0,81732.88,0.0,0.0,0.0,122330.7,0.0,0.0,0.0,0.0,0.0,0.0,0.0,0.0,144954.75,0.0,94001.61,0.0,0.0,0.0,0.0,86614.06,91680.1,38848.19,0.0,0.0,0.0,130036.21,151510.17,0.0,0.0,0.0,0.0,104857.19,166833.86,129974.79,139822.11,123151.51,95331.83,138162.41,0.0,0.0,70181.48,0.0,0.0,0.0,0.0,137742.9,113220.2,0.0,113811.85,0.0,0.0,0.0,0.0,90322.99,0.0,131659.59,0.0,0.0,0.0,114347.85,0.0,0.0,137430.82,0.0,0.0,188976.89,0.0,0.0,0.0,0.0,0.0,0.0,0.0,0.0,0.0,113923.81,0.0,0.0,0.0,0.0,121827.43,0.0,125389.7,0.0,0.0,0.0,87375.78,154969.79,0.0,182532.23,0.0,138053.79,149085.9,0.0,125338.8,0.0,0.0,0.0,0.0,0.0,78833.15,0.0,0.0,0.0,0.0,0.0,106702.94,0.0,118210.42,0.0,148654.84,137774.11,0.0,0.0,0.0,0.0,0.0,0.0,186101.18,107494.86,146943.38,0.0,0.0,0.0,0.0,0.0,0.0,0.0,141359.37,94631.26,0.0,122338.43,86270.93,0.0,0.0,123599.49,0.0,98556.89,0.0,71481.79,0.0,178011.5,102954.68,118889.66,127660.46,137560.38,0.0,111835.94,0.0,99705.69,0.0,128061.0,0.0,0.0,0.0,76510.52,140694.78,95448.32,139676.95,0.0,0.0,118235.7,0.0,115442.19,0.0,0.0,166518.63,102073.67,108528.07,79064.85,0.0,84006.88,0.0,125437.14,0.0,0.0,0.0,61688.61,0.0,0.0,126362.57,160652.45,112871.19,0.0,88084.13,0.0,0.0,83456.79,0.0,0.0,142876.98,0.0,179886.41,107637.97,52106.33,0.0,0.0,113193.51,113174.21,0.0,125445.04,126077.43,0.0,0.0,0.0,0.0,0.0,117899.95,0.0,0.0,0.0,126061.51,0.0,0.0,138171.1,0.0,0.0,89994.71,0.0,66079.45,0.0,0.0,0.0,0.0,0.0,109786.82,0.0,0.0,174506.1,166070.48,0.0,135870.01,0.0,0.0,0.0,0.0,0.0,108513.25,0.0,0.0,82613.56,138705.02,0.0,0.0,127216.31,0.0,0.0,0.0,0.0,0.0,115371.94,0.0,178056.54,206014.94,0.0,0.0,0.0,0.0,0.0,0.0,113657.41,0.0,0.0,166501.17,0.0,0.0,0.0,168735.74,0.0,127237.25,117864.85,93911.3,79927.36,0.0,116644.29,180293.84,0.0,96462.25,130334.35,0.0,0.0,0.0,0.0,0.0,0.0,0.0,0.0,0.0,160566.11,127678.8,0.0,112324.45,106012.2,0.0,0.0,142055.41,0.0,0.0,0.0,0.0,126589.12,115643.58,103821.47,132187.73,126444.08,0.0,129250.0,167733.51,56116.3,139675.07,0.0,0.0,0.0,42712.87,0.0,0.0,142631.54,141204.65,92636.96,0.0,0.0,0.0,102278.79,0.0,0.0,0.0,0.0,138014.4,176958.46,0.0,161887.81,0.0,96542.16,0.0,111769.14,0.0,113672.18,0.0,0.0,107303.72,0.0,0.0,0.0,0.0,162261.01,0.0,0.0,106922.92,100488.92,140260.36,0.0,0.0,0.0,0.0,165896.0,0.0,0.0,165901.59,119152.1,0.0,0.0,122028.65,128751.65,120328.88,0.0,106045.92,145974.79,0.0,0.0,0.0,0.0,121952.75,0.0,0.0,80107.83,0.0,0.0,65407.16,0.0,0.0,0.0,0.0,149379.66,0.0,0.0,0.0,0.0,0.0,0.0,0.0,0.0,0.0,0.0,0.0,0.0,0.0,121056.63,0.0,0.0,85141.79,0.0,0.0,125584.17,84266.44,0.0,146766.72,148745.92,0.0,135203.81,93301.97,96341.0,0.0,147493.7,0.0,0.0,0.0,0.0,102017.25,0.0,0.0,96674.55,0.0,165445.04,111634.29,0.0,86055.17,0.0,144705.87,0.0,178058.06,176166.56,156864.2,0.0,0.0,0.0,0.0,0.0,91522.04,0.0,99472.76,0.0,114634.63,56738.47,90355.12,115725.24,114327.59,89039.9,108377.75,121092.47,144235.73,152582.2,97473.87,164003.05,0.0,122486.11,0.0,0.0,83501.66,109093.41,0.0,130170.82,0.0,33563.95,148795.17,0.0,137295.19,0.0,136100.69,0.0,0.0,0.0,93578.68,0.0,160838.13,0.0,130169.27,0.0,81076.8,113865.23,0.0,0.0,0.0,121818.84,0.0,141806.0,0.0,122689.51,0.0,73179.34,0.0,92659.2,102955.14,96863.52,110570.78,0.0,0.0,0.0,0.0,111099.79,0.0,0.0,148466.93,0.0,0.0,146997.64,0.0,0.0,0.0,0.0,106836.67,112746.54,0.0,0.0,0.0,0.0,121537.71,0.0,0.0,136855.94,0.0,0.0,145294.08,0.0,0.0,104508.77,138023.79,39539.39,77608.46,0.0,0.0,0.0,166328.65,163965.69,0.0,98362.35,105767.28,0.0,0.0,128647.98,0.0,0.0,0.0,97495.8,0.0,0.0,79962.92,0.0,0.0,0.0,138008.06,0.0,0.0,0.0,0.0,127570.93,91560.58,121303.77,161546.68,0.0,142243.54,0.0,0.0,146466.46,0.0,0.0,87637.26,0.0,0.0,93955.83,121532.17,0.0,129717.3,94762.16,113386.36,104719.94,0.0,0.0,0.0,0.0,125725.02,0.0,0.0,0.0,0.0,136555.01,69881.09,0.0,0.0,0.0,110314.21,154206.07,79706.25,0.0,0.0,0.0,150186.22,0.0,0.0,121823.4,0.0,0.0,0.0,0.0,0.0,0.0,114007.5,84719.13,0.0,0.0,75302.85,0.0,0.0,0.0,121215.9,157404.02,0.0,150593.59,0.0,69385.17,0.0,120135.55,0.0,0.0,0.0,102630.13,114023.64,0.0,133299.67,0.0,0.0,0.0,133199.71,127154.14,0.0,0.0,0.0,0.0,160541.0,130274.26,0.0,141827.33,0.0,0.0,0.0,133806.54,0.0,124993.29,161651.37,142856.95,0.0,0.0,0.0,175754.87,100443.36,83102.72,0.0,0.0,0.0,140197.71,0.0,0.0,171069.39,0.0,0.0,106022.73,128960.21,0.0,0.0,0.0,0.0,0.0,149525.34,135658.73,0.0,191402.82,0.0,87624.03,153697.53,0.0,134464.58,0.0,122552.48,118899.45,0.0,0.0,102585.88,102556.18,0.0,109876.82,0.0,111369.79,136729.51,0.0,0.0,0.0,0.0,145387.32,0.0,0.0,0.0,111837.78,120452.4,0.0,65812.35,0.0,0.0,143279.58,0.0,123802.98,0.0,0.0,81070.34,123835.52,123401.43,0.0,133936.04,0.0,0.0,0.0,82498.14,0.0,0.0,0.0,0.0,72835.56,0.0,123212.08,0.0,0.0,119501.88,144550.83,139443.75,69459.05,198338.77,0.0,0.0,0.0,0.0,0.0,0.0,0.0,0.0,0.0,135559.8,150355.35,0.0,133489.12,60205.2,0.0,0.0,165896.22,0.0,0.0,0.0,0.0,0.0,0.0,0.0,0.0,119656.45,105206.7,0.0,83061.26,0.0,0.0,0.0,0.0,0.0,95675.62,92616.64,0.0,0.0,133214.88,0.0,0.0,0.0,0.0,111060.05,0.0,135310.41,0.0,0.0,0.0,139393.19,0.0,0.0,0.0,111063.73,0.0,159863.9,104592.55,0.0,0.0,117685.31,0.0,0.0,0.0,0.0,181768.32,0.0,0.0,139064.06,0.0,0.0,0.0,117524.72,0.0,97036.22,0.0,0.0,0.0,0.0,0.0,0.0,0.0,117438.92,0.0,0.0,0.0,0.0,106431.97,117466.03,148884.47,91115.76,77373.87,0.0,0.0,143396.54,0.0,117020.08,0.0,0.0,0.0,0.0,0.0,0.0,97268.1,0.0,0.0,0.0,0.0,0.0,0.0,0.0,0.0,0.0,86147.46,112528.65,0.0,0.0,133245.52,90757.64,102143.93,114603.76,0.0,107712.57,0.0,138476.41,0.0,100315.1,152092.44,0.0,109130.96,0.0,0.0,129142.54,0.0,0.0,0.0,131834.76,0.0,0.0,123845.36,143426.34,0.0,0.0,121685.31,0.0,95696.52,88963.31,144880.34,132271.12,88814.4,52192.08,0.0,129299.28,140950.92,0.0,0.0,0.0,132044.6,0.0,0.0,117578.35,198546.1,0.0,0.0,0.0,94435.45,0.0,0.0,0.0,0.0,0.0,127786.28,0.0,64900.32,0.0,0.0,0.0,0.0,0.0,102773.15,103195.2,0.0,0.0,0.0,148298.59,0.0,143258.85,99152.73,0.0,0.0,125321.84,0.0,136281.41,108716.59,0.0,0.0,0.0,0.0,0.0,0.0,0.0,0.0,101985.81,0.0,0.0,125427.37,140393.65,142644.64,122295.17,0.0,119799.27,163708.58,61687.33,0.0,0.0,0.0,0.0,130622.34,187013.13,0.0,0.0,0.0,98443.14,0.0,0.0,0.0,157691.98,0.0,0.0,0.0,100549.43,174588.8,0.0,90063.74,0.0,134936.97,175534.78,0.0,0.0,0.0,141859.12,132767.66,107915.94,137262.71,0.0,0.0,131244.65,125155.83,140691.08,58820.32,0.0,94682.56,0.0,0.0,0.0,0.0,0.0,0.0,0.0,0.0,0.0,0.0,80442.06,150561.03,127076.68,0.0,128650.11,0.0,0.0,0.0,122200.31,0.0,122134.4,137260.45,0.0,96997.09,142200.19,0.0,0.0,0.0,0.0,0.0,139246.22,170113.0,0.0,103653.51,97990.49,0.0,129674.89,0.0,178144.91,108289.28,149887.49,0.0,0.0,64808.32,0.0,0.0,0.0,0.0,0.0,0.0,92340.69,146780.52,0.0,0.0,101952.97,0.0,0.0,123938.6,0.0,0.0,0.0,0.0,118897.1,102772.67,0.0,0.0,0.0,0.0,0.0,96709.07,135337.49,112536.57,63562.02,0.0,100368.63,0.0,0.0,161807.18,0.0,0.0,0.0,0.0,0.0,132057.92,0.0,0.0,0.0,0.0,0.0,0.0,99046.31,0.0,105907.42,97720.35,0.0,97392.18,0.0,124348.38,0.0,0.0,121542.57,0.0,0.0,0.0,0.0,0.0,147127.81,125927.51,0.0,0.0,0.0,0.0,0.0,130969.77,97738.97,0.0,128396.33,118207.69,0.0,0.0,125724.95,0.0,0.0,123783.91,0.0,0.0,106301.85,0.0,0.0,0.0,96381.68,119703.1,152102.18,127675.39,133776.86,0.0,0.0,107726.93,0.0,0.0,0.0,0.0,0.0,0.0,137138.2,0.0,0.0,116980.78,137657.25,0.0,118742.74,124140.57,116546.59,157576.47,0.0,141428.99,0.0,0.0,0.0,0.0,0.0,0.0,0.0,0.0,0.0,0.0,0.0,0.0,114948.76,136000.45,156001.68,147974.16,0.0,0.0,0.0,0.0,162701.65,0.0,0.0,82453.96,0.0,96553.52,0.0,0.0,115409.18,133628.09,107135.04,0.0,151659.52,155903.82,82940.25,95853.39,82228.67,0.0,0.0,0.0,103894.38,112518.71,165363.31,0.0,131968.57,0.0,125023.1,109346.13,0.0,0.0,0.0,0.0,70362.52,0.0,126597.89,0.0,157989.21,0.0,0.0,0.0,0.0,0.0,98630.31,0.0,109200.74,0.0,0.0,83173.98,0.0,82559.42,120530.13,74988.59,0.0,71269.89,126815.97,0.0,0.0,0.0,123699.28,0.0,104129.24,0.0,0.0,0.0,0.0,0.0,152160.21,0.0,0.0,0.0,106116.56,0.0,0.0,124213.36,0.0,0.0,197715.93,132371.3,0.0,0.0,0.0,0.0,0.0,0.0,0.0,0.0,0.0,0.0,0.0,197200.04,0.0,125903.22,0.0,150300.65,109908.06,104339.11,157274.36,0.0,0.0,129118.5,151012.55,0.0,0.0,27517.15,92246.14,0.0,0.0,0.0,132446.08,96798.79,134498.54,132387.91,0.0,0.0,127117.8,117103.26,102989.83,126076.24,0.0,0.0,0.0,0.0,0.0,0.0,132598.38,0.0,0.0,0.0,127772.1,0.0,0.0,88477.36,0.0,88541.57,0.0,0.0,0.0,0.0,0.0,115479.48,86351.85,0.0,0.0,129255.2,0.0,120145.96,63723.78,0.0,0.0,0.0,162691.16,157960.49,87096.82,160139.59,0.0,0.0,0.0,0.0,94615.11,119545.48,0.0,65667.79,96748.89,0.0,114422.85,133903.12,140133.08,136980.23,43658.33,0.0,0.0,0.0,0.0,181821.96,0.0,0.0,0.0,113939.36,0.0,110666.42,151215.34,0.0,0.0,123737.04,110752.15,0.0,0.0,0.0,77082.65,108058.07,0.0,0.0,0.0,0.0,116120.19,0.0,84102.11,0.0,0.0,0.0,120822.86,99660.13,123081.84,82255.51,0.0,0.0,0.0,0.0,119499.42,135814.7,106259.63,0.0,0.0,0.0,122196.99,0.0,0.0,0.0,76705.87,0.0,0.0,0.0,125961.74,103015.12,82547.11,139714.4,139875.2,0.0,0.0,0.0,0.0,0.0,0.0,182876.88,0.0,167831.88,144287.6,0.0,83287.05,0.0,121235.05,0.0,0.0,0.0,0.0,87967.42,0.0,0.0,121093.29,121691.54,0.0,154121.32,0.0,0.0,0.0,0.0,0.0,135290.42,108269.2,0.0,145809.53,130334.84,0.0,0.0,72373.62,132116.13,149436.73,130682.11,115280.49,129944.39,0.0,0.0,0.0,64430.06,0.0,146777.44,112957.26,93680.43,97486.15,137794.18,0.0,0.0,129068.54,0.0,146584.19,0.0,99441.21,0.0,0.0,0.0,181110.13,100476.46,51949.95,135392.31,0.0,131629.17,0.0,0.0,0.0,0.0,0.0,0.0,109339.17,0.0,94108.54,0.0,0.0,122952.9,122641.56,0.0,117565.03,120252.02,105069.98,0.0,110540.43,187861.18,124655.59,0.0,0.0,83693.34,91258.52,0.0,0.0,0.0,84309.57,0.0,145222.99,98141.57,116121.84,155176.83,0.0,0.0,97663.16,127095.14,92526.15,127286.04,0.0,0.0,0.0,105843.26,0.0,0.0,105264.88,0.0,0.0,0.0,0.0,0.0,131287.36,97435.85,0.0,109528.16,84607.34,0.0,189318.16,97585.32,0.0,0.0,0.0,0.0,154741.45,0.0,125850.53,0.0,67639.56,0.0,0.0,0.0,125241.17,0.0,142688.57,130089.56,0.0,0.0,138650.49,136487.86,0.0,0.0,0.0,108185.81,0.0,0.0,0.0,0.0,0.0,0.0,59972.26,157228.61,0.0,0.0,210433.08,0.0,142987.46,143330.56,120165.4,102833.46,0.0,153455.72,0.0,153972.89,114609.55,143625.83,80926.02,0.0,149594.02,130051.66,0.0,0.0,0.0,0.0,90778.76,129189.15,121260.19,0.0,0.0,0.0,105356.09,0.0,0.0,99169.67,0.0,0.0,0.0,103499.09,123601.56,100262.88,135984.15,0.0,160997.54,0.0,85615.66,62339.81,0.0,0.0,0.0,141787.31,166178.02,163097.55,0.0,0.0,0.0,0.0,0.0,143138.91,0.0,117791.06,0.0,99219.47,83947.12,111095.58,0.0,113014.7,132615.73,0.0,0.0,99799.76,140363.95,0.0,0.0,126598.99,0.0,105007.31,0.0,118614.6,95829.13,0.0,153590.73,125495.64,0.0,0.0,0.0,0.0,118114.28,0.0,0.0,0.0,0.0,0.0,0.0,0.0,137727.34,133968.96,87609.68,0.0,0.0,108960.0,0.0,103544.88,0.0,0.0,167735.69,0.0,132077.48,176702.36,0.0,0.0,0.0,0.0,0.0,137456.28,0.0,0.0,0.0,0.0,0.0,0.0,51582.5,0.0,87262.4,0.0,0.0,0.0,0.0,0.0,0.0,0.0,0.0,115074.02,166685.92,88977.39,154110.99,116022.53,0.0,0.0,0.0,134599.33,0.0,151836.36,83624.55,148197.15,117808.74,0.0,0.0,0.0,133845.28,0.0,0.0,161171.7,0.0,146193.6,0.0,0.0,141788.63,90450.0,0.0,0.0,144637.86,0.0,127924.25,0.0,0.0,120046.74,0.0,119496.25,0.0,100249.41,0.0,108028.08,53013.29,0.0,0.0,147813.05,0.0,122198.21,0.0,0.0,0.0,131754.11,0.0,0.0,0.0,0.0,99056.22,0.0,0.0,137592.31,108760.27,128770.88,0.0,108797.63,0.0,122446.61,158786.67,129305.09,0.0,0.0,82844.33,0.0,0.0,0.0,66948.67,0.0,128410.71,0.0,138227.19,0.0,174673.65,0.0,109019.65,134692.4,127723.25,168560.46,132193.94,0.0,0.0,143829.2,0.0,104753.84,0.0,68348.18,0.0,56726.83,0.0,0.0,124192.28,0.0,0.0,0.0,152614.51,131647.01,96654.72,62717.84,135936.1,0.0,0.0,78885.88,0.0,110031.09,81210.72,69974.66,123711.73,0.0,0.0,0.0,99045.93,205770.78,138456.03,0.0,101099.9,0.0,123276.69,0.0,129548.5,0.0,0.0,153538.13,0.0,0.0,159693.9,47685.47,0.0,148853.29,143221.35,0.0,0.0,126265.88,0.0,0.0,0.0,0.0,92316.31,73070.18,0.0,0.0,0.0,51962.91,0.0,136526.26,0.0,107868.14,96926.12,0.0,129668.43,146178.13,0.0,0.0,154763.21,0.0,100954.88,124620.01,0.0,121765.37,91057.37,0.0,132527.9,96129.32,0.0,133050.97,120124.35,0.0,0.0,0.0,0.0,102603.3,0.0,0.0,105000.85,0.0,126145.54,114514.71,0.0,0.0,105249.76,0.0,137732.23,0.0,207034.96,0.0,0.0,0.0,0.0,0.0,92472.1,0.0,127738.75,101242.98,92599.55,0.0,72664.0,123365.34,0.0,74129.18,108410.87,90408.16,90425.15,0.0,204017.4,0.0,134740.19,0.0,49157.09,0.0,0.0,0.0,0.0,0.0,95984.69,0.0,0.0,0.0,91902.56,168085.38,117852.26,84474.62,0.0,126803.34,0.0,0.0,151249.45,0.0,0.0,0.0,130229.71,0.0,0.0,155736.42,0.0,118307.57,103099.17,0.0,99325.04,57068.43,103607.24,0.0,0.0,0.0,0.0,99607.37,99811.44,154712.58,0.0,179356.28,0.0,186788.96,127476.73,129991.76,0.0,89175.06,0.0,162390.52,0.0,0.0,120879.73,0.0,116474.28,0.0,120787.18,130181.47,88348.43,0.0,146186.28,109196.67,109026.8,0.0,0.0,0.0,175575.95,0.0,70258.88,162657.64,148042.97,107592.89,0.0,149940.04,0.0,148874.01,0.0,114268.85,0.0,0.0,35549.81,0.0,0.0,0.0,0.0,0.0,0.0,0.0,0.0,74483.97,0.0,152303.66,142188.2,149961.99,0.0,0.0,81025.6,0.0,92899.27,175509.8,0.0,0.0,114321.28,0.0,0.0,154872.08,0.0,0.0,0.0,0.0,0.0,0.0,0.0,0.0,0.0,0.0,112499.42,0.0,0.0,0.0,128524.19,0.0,0.0,0.0,0.0,155393.98,128663.81,0.0,0.0,141918.09,107944.33,0.0,96399.31,0.0,76961.6,126817.13,112755.34,0.0,145400.69,0.0,96340.81,124450.36,113877.23,0.0,148667.81,0.0,111065.93,0.0,90044.32,132746.2,0.0,125211.55,0.0,0.0,157099.47,0.0,81795.74,0.0,0.0,74430.1,0.0,100062.16,0.0,3768.69,108913.84,101100.22,0.0,0.0,0.0,0.0,0.0,0.0,0.0,93817.41,140406.68,0.0,0.0,0.0,0.0,0.0,71379.53,0.0,87099.85,183135.39,0.0,0.0,0.0,128137.42,0.0,115915.53,0.0,0.0,0.0,0.0,0.0,114940.67,140641.26,71816.74,0.0,143145.87,114731.76,0.0,0.0,93978.96,121968.11,0.0,0.0,0.0,0.0,114268.22,0.0,160858.13,171982.95,0.0,137624.4,0.0,0.0,0.0,0.0,0.0,0.0,0.0,0.0,0.0,137388.01,106901.42,105603.21,150679.71,108300.27,52016.08,158584.28,118812.5,0.0,0.0,111213.64,81564.1,0.0,101648.5,0.0,0.0,183613.66,0.0,0.0,149003.76,131341.46,0.0,0.0,0.0,0.0,113781.5,0.0,0.0,0.0,0.0,0.0,0.0,71667.97,82729.47,0.0,0.0,0.0,129626.19,107751.68,0.0,101179.23,0.0,0.0,0.0,58571.18,0.0,0.0,115636.05,185932.18,72549.0,0.0,0.0,0.0,115084.53,0.0,77627.33,0.0,127974.06,0.0,104911.35,0.0,0.0,0.0,126704.49,0.0,0.0,0.0,0.0,0.0,125141.24,96173.17,0.0,0.0,0.0,127543.11,0.0,103101.56,137389.77,0.0,0.0,0.0,64404.26,0.0,0.0,0.0,116711.06,0.0,99773.85,101231.77,73314.04,136067.82,109052.04,102290.56,102025.08,0.0,0.0,0.0,85146.48,134066.1,0.0,0.0,0.0,169023.33,0.0,0.0,0.0,0.0,0.0,0.0,74237.2,127421.78,61274.7,106486.66,73194.52,0.0,0.0,0.0,98009.13,0.0,128213.96,116197.65,0.0,0.0,0.0,97338.19,0.0,0.0,131698.57,130110.45,0.0,165149.13,0.0,101278.25,108711.57,0.0,0.0,0.0,103291.25,0.0,0.0,0.0,0.0,0.0,181804.34,47020.65,142658.04,120150.39,137998.2,0.0,135645.29,122449.31,0.0,0.0,0.0,115488.52,0.0,0.0,0.0,0.0,0.0,0.0,144757.97,0.0,106414.57,0.0,0.0,134320.23,74306.19,0.0,0.0,0.0,0.0,0.0,69434.4,0.0,0.0,150219.41,0.0,96486.57,90560.48,0.0,0.0,0.0,102486.21,143888.22,0.0,0.0,0.0,0.0,0.0,0.0,0.0,169947.41,148167.83,0.0,0.0,0.0,0.0,0.0,129847.75,0.0,105163.88,0.0,0.0,0.0,122857.46,0.0,0.0,0.0,120875.23,71786.9,150777.72,0.0,0.0,0.0,112930.28,171236.3,0.0,122822.0,0.0,0.0,0.0,0.0,88161.85,165982.43,0.0,94661.53,115345.86,109960.06,139496.35,0.0,0.0,0.0,0.0,0.0,0.0,156367.6,121669.93,133970.22,0.0,0.0,0.0,113922.44,183997.7,0.0,0.0,89799.46,0.0,0.0,96152.68,0.0,0.0,80615.46,113574.61,0.0,124573.33,105864.6,0.0,0.0,119492.88,130499.09,91025.58,125877.65,45752.78,0.0,115286.68,62078.21,0.0,175406.13,93616.35,138597.54,0.0,0.0,148749.29,0.0,111729.47,180169.44,0.0,0.0,0.0,0.0,102741.15,0.0,146602.25,0.0,0.0,115702.67,0.0,144553.5,86172.81,0.0,130700.92,0.0,0.0,0.0,77556.79,146093.39,79811.72,149363.12,0.0,0.0,0.0,92244.83,112727.06,89025.88,0.0,119127.46,0.0,102258.11,151963.26,128551.36,0.0,0.0,0.0,0.0,0.0,107556.06,0.0,0.0,161613.94,116353.2,0.0,144272.07,0.0,79954.61,0.0,106870.12,0.0,0.0,0.0,0.0,0.0,0.0,0.0,0.0,120074.97,130231.8,0.0,121309.17,114318.78,0.0,94753.55,0.0,0.0,106520.73,120549.29,80895.44,0.0,0.0,0.0,149000.91,75893.11,167395.6,0.0,71283.09,0.0,0.0,154737.88,0.0,141642.92,0.0,0.0,0.0,0.0,81231.85,81480.27,117559.05,186445.31,137657.71,100781.75,190125.43,123536.52,0.0,0.0,139562.05,0.0,168001.34,0.0,0.0,45408.85,0.0,0.0,0.0,142550.25,0.0,128369.75,0.0,0.0,0.0,127552.85,182781.74,0.0,0.0,0.0,152063.59,158713.08,72945.29,0.0,0.0,179334.83,0.0,119960.29,0.0,0.0,123593.22,111827.27,0.0,94464.81,95368.14,102185.42,0.0,113291.05,0.0,0.0,76101.81,0.0,92510.9,0.0,0.0,131996.66,0.0,107978.4,0.0,129264.05,0.0,0.0,0.0,0.0,75225.53,0.0,87542.89,122568.05,171932.26,0.0,0.0,111798.06,105261.76,127913.71,0.0,149995.72,123674.28,0.0,0.0,0.0,158351.02,0.0,0.0,0.0,0.0,0.0,142765.24,132932.14,0.0,79563.36,0.0,0.0,0.0,123912.78,119654.44,0.0,0.0,94049.92,46057.96,0.0,96659.64,0.0,165947.99,0.0,140894.06,0.0,93816.7,0.0,0.0,111183.53,0.0,0.0,0.0,0.0,0.0,0.0,0.0,138503.51,0.0,0.0,0.0,157267.95,141989.27,0.0,118448.15,0.0,0.0,0.0,117271.8,0.0,0.0,104015.54,0.0,0.0,117731.79,135827.33,0.0,79858.13,0.0,0.0,0.0,0.0,155047.56,0.0,118569.03,0.0,0.0,0.0,0.0,0.0,90194.34,131873.07,0.0,109578.04,0.0,121498.11,103515.39,0.0,0.0,0.0,0.0,0.0,0.0,0.0,55776.39,0.0,87807.29,0.0,0.0,0.0,95293.86,0.0,0.0,0.0,0.0,68345.86,76656.4,0.0,0.0,0.0,0.0,0.0,157731.6,0.0,103729.79,111359.55,142388.61,123311.39,77886.53,127545.56,0.0,143680.47,111094.05,0.0,0.0,0.0,111543.26,122304.65,0.0,0.0,131078.42,0.0,100254.76,0.0,0.0,0.0,0.0,77356.92,110923.15,0.0,80204.11,0.0,0.0,115587.49,0.0,102773.2,0.0,0.0,167983.17,0.0,72948.58,133974.36,98627.13,137986.58,84440.1,0.0,0.0,0.0,0.0,96252.98,0.0,155879.09,142929.16,0.0,0.0,0.0,111812.52,0.0,0.0,110941.93,0.0,0.0,0.0,0.0,156823.7,0.0,0.0,0.0,156848.13,200117.76,0.0,0.0,0.0,68238.51,136808.53,0.0,127728.24,0.0,0.0,119859.52,108465.65,70657.61,191091.74,0.0,131433.33,0.0,0.0,0.0,0.0,123034.43,0.0,0.0,0.0,118356.89,0.0,90826.27,0.0,0.0,0.0,121681.91,0.0,0.0,0.0,170295.04,102723.35,0.0,193213.02,0.0,0.0,0.0,71018.6,166776.6,134796.87,160454.15,0.0,0.0,0.0,0.0,190409.34,0.0,0.0,83503.11,139687.66,0.0,0.0,0.0,0.0,117593.48,153537.57,151027.05,0.0,113957.01,0.0,93017.47,90602.42,123841.49,183579.54,180307.73,0.0,0.0,0.0,0.0,75075.31],\"y0\":\" \",\"yaxis\":\"y\",\"type\":\"box\"},{\"alignmentgroup\":\"True\",\"hovertemplate\":\"NumOfProducts=%{x}\\u003cbr\\u003eBalance=%{y}\\u003cextra\\u003e\\u003c\\u002fextra\\u003e\",\"legendgroup\":\"4\",\"marker\":{\"color\":\"purple\"},\"name\":\"4\",\"notched\":false,\"offsetgroup\":\"4\",\"orientation\":\"v\",\"showlegend\":true,\"x\":[4,4,4,4,4,4,4,4,4,4,4,4,4,4,4,4,4,4,4,4,4,4,4,4,4,4,4,4,4,4,4,4,4,4,4,4,4,4,4,4,4,4,4,4,4,4,4,4,4,4,4,4,4,4,4,4,4,4,4,4],\"x0\":\" \",\"xaxis\":\"x\",\"y\":[115046.74,133745.44,46870.43,120656.86,121345.88,0.0,131607.28,127785.17,118079.47,129370.91,169406.33,75150.34,0.0,131583.59,106458.31,152296.83,96196.24,137285.26,130929.02,120731.39,162082.31,117306.69,174088.3,0.0,113641.49,0.0,111537.23,0.0,102088.68,158411.95,0.0,121205.15,144237.91,0.0,118317.27,0.0,142084.04,127205.32,87612.64,117294.12,0.0,72092.95,139914.6,116322.27,0.0,0.0,141252.18,128548.49,0.0,108309.0,195238.29,0.0,118772.71,134171.8,101543.51,76817.0,0.0,78119.59,115248.11,135979.01],\"y0\":\" \",\"yaxis\":\"y\",\"type\":\"box\"}],                        {\"template\":{\"data\":{\"histogram2dcontour\":[{\"type\":\"histogram2dcontour\",\"colorbar\":{\"outlinewidth\":0,\"ticks\":\"\"},\"colorscale\":[[0.0,\"#0d0887\"],[0.1111111111111111,\"#46039f\"],[0.2222222222222222,\"#7201a8\"],[0.3333333333333333,\"#9c179e\"],[0.4444444444444444,\"#bd3786\"],[0.5555555555555556,\"#d8576b\"],[0.6666666666666666,\"#ed7953\"],[0.7777777777777778,\"#fb9f3a\"],[0.8888888888888888,\"#fdca26\"],[1.0,\"#f0f921\"]]}],\"choropleth\":[{\"type\":\"choropleth\",\"colorbar\":{\"outlinewidth\":0,\"ticks\":\"\"}}],\"histogram2d\":[{\"type\":\"histogram2d\",\"colorbar\":{\"outlinewidth\":0,\"ticks\":\"\"},\"colorscale\":[[0.0,\"#0d0887\"],[0.1111111111111111,\"#46039f\"],[0.2222222222222222,\"#7201a8\"],[0.3333333333333333,\"#9c179e\"],[0.4444444444444444,\"#bd3786\"],[0.5555555555555556,\"#d8576b\"],[0.6666666666666666,\"#ed7953\"],[0.7777777777777778,\"#fb9f3a\"],[0.8888888888888888,\"#fdca26\"],[1.0,\"#f0f921\"]]}],\"heatmap\":[{\"type\":\"heatmap\",\"colorbar\":{\"outlinewidth\":0,\"ticks\":\"\"},\"colorscale\":[[0.0,\"#0d0887\"],[0.1111111111111111,\"#46039f\"],[0.2222222222222222,\"#7201a8\"],[0.3333333333333333,\"#9c179e\"],[0.4444444444444444,\"#bd3786\"],[0.5555555555555556,\"#d8576b\"],[0.6666666666666666,\"#ed7953\"],[0.7777777777777778,\"#fb9f3a\"],[0.8888888888888888,\"#fdca26\"],[1.0,\"#f0f921\"]]}],\"heatmapgl\":[{\"type\":\"heatmapgl\",\"colorbar\":{\"outlinewidth\":0,\"ticks\":\"\"},\"colorscale\":[[0.0,\"#0d0887\"],[0.1111111111111111,\"#46039f\"],[0.2222222222222222,\"#7201a8\"],[0.3333333333333333,\"#9c179e\"],[0.4444444444444444,\"#bd3786\"],[0.5555555555555556,\"#d8576b\"],[0.6666666666666666,\"#ed7953\"],[0.7777777777777778,\"#fb9f3a\"],[0.8888888888888888,\"#fdca26\"],[1.0,\"#f0f921\"]]}],\"contourcarpet\":[{\"type\":\"contourcarpet\",\"colorbar\":{\"outlinewidth\":0,\"ticks\":\"\"}}],\"contour\":[{\"type\":\"contour\",\"colorbar\":{\"outlinewidth\":0,\"ticks\":\"\"},\"colorscale\":[[0.0,\"#0d0887\"],[0.1111111111111111,\"#46039f\"],[0.2222222222222222,\"#7201a8\"],[0.3333333333333333,\"#9c179e\"],[0.4444444444444444,\"#bd3786\"],[0.5555555555555556,\"#d8576b\"],[0.6666666666666666,\"#ed7953\"],[0.7777777777777778,\"#fb9f3a\"],[0.8888888888888888,\"#fdca26\"],[1.0,\"#f0f921\"]]}],\"surface\":[{\"type\":\"surface\",\"colorbar\":{\"outlinewidth\":0,\"ticks\":\"\"},\"colorscale\":[[0.0,\"#0d0887\"],[0.1111111111111111,\"#46039f\"],[0.2222222222222222,\"#7201a8\"],[0.3333333333333333,\"#9c179e\"],[0.4444444444444444,\"#bd3786\"],[0.5555555555555556,\"#d8576b\"],[0.6666666666666666,\"#ed7953\"],[0.7777777777777778,\"#fb9f3a\"],[0.8888888888888888,\"#fdca26\"],[1.0,\"#f0f921\"]]}],\"mesh3d\":[{\"type\":\"mesh3d\",\"colorbar\":{\"outlinewidth\":0,\"ticks\":\"\"}}],\"scatter\":[{\"fillpattern\":{\"fillmode\":\"overlay\",\"size\":10,\"solidity\":0.2},\"type\":\"scatter\"}],\"parcoords\":[{\"type\":\"parcoords\",\"line\":{\"colorbar\":{\"outlinewidth\":0,\"ticks\":\"\"}}}],\"scatterpolargl\":[{\"type\":\"scatterpolargl\",\"marker\":{\"colorbar\":{\"outlinewidth\":0,\"ticks\":\"\"}}}],\"bar\":[{\"error_x\":{\"color\":\"#2a3f5f\"},\"error_y\":{\"color\":\"#2a3f5f\"},\"marker\":{\"line\":{\"color\":\"#E5ECF6\",\"width\":0.5},\"pattern\":{\"fillmode\":\"overlay\",\"size\":10,\"solidity\":0.2}},\"type\":\"bar\"}],\"scattergeo\":[{\"type\":\"scattergeo\",\"marker\":{\"colorbar\":{\"outlinewidth\":0,\"ticks\":\"\"}}}],\"scatterpolar\":[{\"type\":\"scatterpolar\",\"marker\":{\"colorbar\":{\"outlinewidth\":0,\"ticks\":\"\"}}}],\"histogram\":[{\"marker\":{\"pattern\":{\"fillmode\":\"overlay\",\"size\":10,\"solidity\":0.2}},\"type\":\"histogram\"}],\"scattergl\":[{\"type\":\"scattergl\",\"marker\":{\"colorbar\":{\"outlinewidth\":0,\"ticks\":\"\"}}}],\"scatter3d\":[{\"type\":\"scatter3d\",\"line\":{\"colorbar\":{\"outlinewidth\":0,\"ticks\":\"\"}},\"marker\":{\"colorbar\":{\"outlinewidth\":0,\"ticks\":\"\"}}}],\"scattermapbox\":[{\"type\":\"scattermapbox\",\"marker\":{\"colorbar\":{\"outlinewidth\":0,\"ticks\":\"\"}}}],\"scatterternary\":[{\"type\":\"scatterternary\",\"marker\":{\"colorbar\":{\"outlinewidth\":0,\"ticks\":\"\"}}}],\"scattercarpet\":[{\"type\":\"scattercarpet\",\"marker\":{\"colorbar\":{\"outlinewidth\":0,\"ticks\":\"\"}}}],\"carpet\":[{\"aaxis\":{\"endlinecolor\":\"#2a3f5f\",\"gridcolor\":\"white\",\"linecolor\":\"white\",\"minorgridcolor\":\"white\",\"startlinecolor\":\"#2a3f5f\"},\"baxis\":{\"endlinecolor\":\"#2a3f5f\",\"gridcolor\":\"white\",\"linecolor\":\"white\",\"minorgridcolor\":\"white\",\"startlinecolor\":\"#2a3f5f\"},\"type\":\"carpet\"}],\"table\":[{\"cells\":{\"fill\":{\"color\":\"#EBF0F8\"},\"line\":{\"color\":\"white\"}},\"header\":{\"fill\":{\"color\":\"#C8D4E3\"},\"line\":{\"color\":\"white\"}},\"type\":\"table\"}],\"barpolar\":[{\"marker\":{\"line\":{\"color\":\"#E5ECF6\",\"width\":0.5},\"pattern\":{\"fillmode\":\"overlay\",\"size\":10,\"solidity\":0.2}},\"type\":\"barpolar\"}],\"pie\":[{\"automargin\":true,\"type\":\"pie\"}]},\"layout\":{\"autotypenumbers\":\"strict\",\"colorway\":[\"#636efa\",\"#EF553B\",\"#00cc96\",\"#ab63fa\",\"#FFA15A\",\"#19d3f3\",\"#FF6692\",\"#B6E880\",\"#FF97FF\",\"#FECB52\"],\"font\":{\"color\":\"#2a3f5f\"},\"hovermode\":\"closest\",\"hoverlabel\":{\"align\":\"left\"},\"paper_bgcolor\":\"white\",\"plot_bgcolor\":\"#E5ECF6\",\"polar\":{\"bgcolor\":\"#E5ECF6\",\"angularaxis\":{\"gridcolor\":\"white\",\"linecolor\":\"white\",\"ticks\":\"\"},\"radialaxis\":{\"gridcolor\":\"white\",\"linecolor\":\"white\",\"ticks\":\"\"}},\"ternary\":{\"bgcolor\":\"#E5ECF6\",\"aaxis\":{\"gridcolor\":\"white\",\"linecolor\":\"white\",\"ticks\":\"\"},\"baxis\":{\"gridcolor\":\"white\",\"linecolor\":\"white\",\"ticks\":\"\"},\"caxis\":{\"gridcolor\":\"white\",\"linecolor\":\"white\",\"ticks\":\"\"}},\"coloraxis\":{\"colorbar\":{\"outlinewidth\":0,\"ticks\":\"\"}},\"colorscale\":{\"sequential\":[[0.0,\"#0d0887\"],[0.1111111111111111,\"#46039f\"],[0.2222222222222222,\"#7201a8\"],[0.3333333333333333,\"#9c179e\"],[0.4444444444444444,\"#bd3786\"],[0.5555555555555556,\"#d8576b\"],[0.6666666666666666,\"#ed7953\"],[0.7777777777777778,\"#fb9f3a\"],[0.8888888888888888,\"#fdca26\"],[1.0,\"#f0f921\"]],\"sequentialminus\":[[0.0,\"#0d0887\"],[0.1111111111111111,\"#46039f\"],[0.2222222222222222,\"#7201a8\"],[0.3333333333333333,\"#9c179e\"],[0.4444444444444444,\"#bd3786\"],[0.5555555555555556,\"#d8576b\"],[0.6666666666666666,\"#ed7953\"],[0.7777777777777778,\"#fb9f3a\"],[0.8888888888888888,\"#fdca26\"],[1.0,\"#f0f921\"]],\"diverging\":[[0,\"#8e0152\"],[0.1,\"#c51b7d\"],[0.2,\"#de77ae\"],[0.3,\"#f1b6da\"],[0.4,\"#fde0ef\"],[0.5,\"#f7f7f7\"],[0.6,\"#e6f5d0\"],[0.7,\"#b8e186\"],[0.8,\"#7fbc41\"],[0.9,\"#4d9221\"],[1,\"#276419\"]]},\"xaxis\":{\"gridcolor\":\"white\",\"linecolor\":\"white\",\"ticks\":\"\",\"title\":{\"standoff\":15},\"zerolinecolor\":\"white\",\"automargin\":true,\"zerolinewidth\":2},\"yaxis\":{\"gridcolor\":\"white\",\"linecolor\":\"white\",\"ticks\":\"\",\"title\":{\"standoff\":15},\"zerolinecolor\":\"white\",\"automargin\":true,\"zerolinewidth\":2},\"scene\":{\"xaxis\":{\"backgroundcolor\":\"#E5ECF6\",\"gridcolor\":\"white\",\"linecolor\":\"white\",\"showbackground\":true,\"ticks\":\"\",\"zerolinecolor\":\"white\",\"gridwidth\":2},\"yaxis\":{\"backgroundcolor\":\"#E5ECF6\",\"gridcolor\":\"white\",\"linecolor\":\"white\",\"showbackground\":true,\"ticks\":\"\",\"zerolinecolor\":\"white\",\"gridwidth\":2},\"zaxis\":{\"backgroundcolor\":\"#E5ECF6\",\"gridcolor\":\"white\",\"linecolor\":\"white\",\"showbackground\":true,\"ticks\":\"\",\"zerolinecolor\":\"white\",\"gridwidth\":2}},\"shapedefaults\":{\"line\":{\"color\":\"#2a3f5f\"}},\"annotationdefaults\":{\"arrowcolor\":\"#2a3f5f\",\"arrowhead\":0,\"arrowwidth\":1},\"geo\":{\"bgcolor\":\"white\",\"landcolor\":\"#E5ECF6\",\"subunitcolor\":\"white\",\"showland\":true,\"showlakes\":true,\"lakecolor\":\"white\"},\"title\":{\"x\":0.05},\"mapbox\":{\"style\":\"light\"}}},\"xaxis\":{\"anchor\":\"y\",\"domain\":[0.0,1.0],\"title\":{\"text\":\"NumOfProducts\"},\"categoryorder\":\"array\",\"categoryarray\":[1,3,2,4]},\"yaxis\":{\"anchor\":\"x\",\"domain\":[0.0,1.0],\"title\":{\"text\":\"Balance\"}},\"legend\":{\"title\":{\"text\":\"NumOfProducts\"},\"tracegroupgap\":0},\"title\":{\"text\":\"Box Plot of Balance Grouped by Number of Products\"},\"boxmode\":\"overlay\"},                        {\"responsive\": true}                    ).then(function(){\n",
              "                            \n",
              "var gd = document.getElementById('b46c11c3-f969-474c-826f-8798436da537');\n",
              "var x = new MutationObserver(function (mutations, observer) {{\n",
              "        var display = window.getComputedStyle(gd).display;\n",
              "        if (!display || display === 'none') {{\n",
              "            console.log([gd, 'removed!']);\n",
              "            Plotly.purge(gd);\n",
              "            observer.disconnect();\n",
              "        }}\n",
              "}});\n",
              "\n",
              "// Listen for the removal of the full notebook cells\n",
              "var notebookContainer = gd.closest('#notebook-container');\n",
              "if (notebookContainer) {{\n",
              "    x.observe(notebookContainer, {childList: true});\n",
              "}}\n",
              "\n",
              "// Listen for the clearing of the current output cell\n",
              "var outputEl = gd.closest('.output');\n",
              "if (outputEl) {{\n",
              "    x.observe(outputEl, {childList: true});\n",
              "}}\n",
              "\n",
              "                        })                };                            </script>        </div>\n",
              "</body>\n",
              "</html>"
            ]
          },
          "metadata": {}
        }
      ]
    },
    {
      "cell_type": "code",
      "source": [
        "# Group the data by 'numofproducts' and calculate summary statistics\n",
        "summary_stats = input_data.groupby('NumOfProducts')['Balance'].agg(['count', 'mean', 'median', 'std', 'min', 'max'])\n",
        "\n",
        "# Rename the columns for clarity\n",
        "summary_stats = summary_stats.rename(columns={'count': 'Count', 'mean': 'Mean', 'median': 'Median', 'std': 'Standard Deviation',\n",
        "                                            'min': 'Min', 'max': 'Max', '25%': 'Q1', '75%': 'Q3'})\n",
        "\n",
        "# Display the summary statistics for each 'numofproducts' category\n",
        "print(summary_stats)"
      ],
      "metadata": {
        "colab": {
          "base_uri": "https://localhost:8080/"
        },
        "id": "EUOnrKspV5Ju",
        "outputId": "eb87b73d-fa09-49a3-99bf-ce8155d56f88"
      },
      "execution_count": null,
      "outputs": [
        {
          "output_type": "stream",
          "name": "stdout",
          "text": [
            "               Count          Mean      Median  Standard Deviation  Min  \\\n",
            "NumOfProducts                                                             \n",
            "1               5084  98551.870614  111886.035        53234.092790  0.0   \n",
            "2               4590  51879.145813       0.000        62644.474506  0.0   \n",
            "3                266  75458.328195   95973.935        62924.623833  0.0   \n",
            "4                 60  93733.135000  116808.195        57507.383750  0.0   \n",
            "\n",
            "                     Max  \n",
            "NumOfProducts             \n",
            "1              238387.56  \n",
            "2              214346.96  \n",
            "3              250898.09  \n",
            "4              195238.29  \n"
          ]
        }
      ]
    },
    {
      "cell_type": "markdown",
      "source": [
        "## Step 3: SMOTE ANALYSIS"
      ],
      "metadata": {
        "id": "p1TKWRUtCYfX"
      }
    },
    {
      "cell_type": "markdown",
      "source": [
        "**Identify Minority Class**"
      ],
      "metadata": {
        "id": "FCIF1lCHjgxT"
      }
    },
    {
      "cell_type": "code",
      "source": [
        "value_counts = {}\n",
        "for value in input_data['Exited']:\n",
        "    if value in value_counts:\n",
        "        value_counts[value] += 1\n",
        "    else:\n",
        "        value_counts[value] = 1\n",
        "value_counts"
      ],
      "metadata": {
        "colab": {
          "base_uri": "https://localhost:8080/"
        },
        "id": "B6m02nm1X99k",
        "outputId": "f5c5def3-aacc-4793-8a26-3bd629aaecb8"
      },
      "execution_count": null,
      "outputs": [
        {
          "output_type": "execute_result",
          "data": {
            "text/plain": [
              "{1: 2037, 0: 7963}"
            ]
          },
          "metadata": {},
          "execution_count": 27
        }
      ]
    },
    {
      "cell_type": "markdown",
      "source": [
        " There is a significant difference in the number of samples between the two classes"
      ],
      "metadata": {
        "id": "dunKhqLMan6r"
      }
    },
    {
      "cell_type": "code",
      "source": [
        "from imblearn.over_sampling import SMOTE\n",
        "from sklearn.model_selection import train_test_split\n",
        "from sklearn.preprocessing import StandardScaler\n",
        "from sklearn.metrics import accuracy_score\n",
        "from sklearn.ensemble import RandomForestClassifier\n",
        "from sklearn.preprocessing import LabelEncoder"
      ],
      "metadata": {
        "id": "F4FsE-tAap6r"
      },
      "execution_count": null,
      "outputs": []
    },
    {
      "cell_type": "code",
      "source": [
        "X = input_data.drop('Exited', axis=1)\n",
        "y = input_data['Exited']\n",
        "\n",
        "numerical_input_data = X.drop(columns=['Geography', 'Gender', 'AgeRange'], axis=1)\n",
        "categ_input_data = X[['Geography','Gender']]"
      ],
      "metadata": {
        "id": "0SV5xFDrrFEo"
      },
      "execution_count": null,
      "outputs": []
    },
    {
      "cell_type": "code",
      "source": [
        "scaler = StandardScaler()\n",
        "numerical_features_standardized = scaler.fit_transform(numerical_input_data)"
      ],
      "metadata": {
        "id": "m-Dv7YUZ1d4x"
      },
      "execution_count": null,
      "outputs": []
    },
    {
      "cell_type": "code",
      "source": [
        "encoder = LabelEncoder()\n",
        "categorical_features_encoded = categ_input_data.apply(encoder.fit_transform)\n",
        "categorical_features_encoded.head()"
      ],
      "metadata": {
        "id": "LUpJkJ_i19Zh",
        "colab": {
          "base_uri": "https://localhost:8080/"
        },
        "outputId": "3c4e9eae-e250-4ab8-abf2-0126ec1264ac"
      },
      "execution_count": null,
      "outputs": [
        {
          "output_type": "execute_result",
          "data": {
            "text/plain": [
              "   Geography  Gender\n",
              "0          0       0\n",
              "1          2       0\n",
              "2          0       0\n",
              "3          0       0\n",
              "4          2       0"
            ],
            "text/html": [
              "\n",
              "  <div id=\"df-128af366-b0b6-4309-b62c-c9bdc81daedd\" class=\"colab-df-container\">\n",
              "    <div>\n",
              "<style scoped>\n",
              "    .dataframe tbody tr th:only-of-type {\n",
              "        vertical-align: middle;\n",
              "    }\n",
              "\n",
              "    .dataframe tbody tr th {\n",
              "        vertical-align: top;\n",
              "    }\n",
              "\n",
              "    .dataframe thead th {\n",
              "        text-align: right;\n",
              "    }\n",
              "</style>\n",
              "<table border=\"1\" class=\"dataframe\">\n",
              "  <thead>\n",
              "    <tr style=\"text-align: right;\">\n",
              "      <th></th>\n",
              "      <th>Geography</th>\n",
              "      <th>Gender</th>\n",
              "    </tr>\n",
              "  </thead>\n",
              "  <tbody>\n",
              "    <tr>\n",
              "      <th>0</th>\n",
              "      <td>0</td>\n",
              "      <td>0</td>\n",
              "    </tr>\n",
              "    <tr>\n",
              "      <th>1</th>\n",
              "      <td>2</td>\n",
              "      <td>0</td>\n",
              "    </tr>\n",
              "    <tr>\n",
              "      <th>2</th>\n",
              "      <td>0</td>\n",
              "      <td>0</td>\n",
              "    </tr>\n",
              "    <tr>\n",
              "      <th>3</th>\n",
              "      <td>0</td>\n",
              "      <td>0</td>\n",
              "    </tr>\n",
              "    <tr>\n",
              "      <th>4</th>\n",
              "      <td>2</td>\n",
              "      <td>0</td>\n",
              "    </tr>\n",
              "  </tbody>\n",
              "</table>\n",
              "</div>\n",
              "    <div class=\"colab-df-buttons\">\n",
              "\n",
              "  <div class=\"colab-df-container\">\n",
              "    <button class=\"colab-df-convert\" onclick=\"convertToInteractive('df-128af366-b0b6-4309-b62c-c9bdc81daedd')\"\n",
              "            title=\"Convert this dataframe to an interactive table.\"\n",
              "            style=\"display:none;\">\n",
              "\n",
              "  <svg xmlns=\"http://www.w3.org/2000/svg\" height=\"24px\" viewBox=\"0 -960 960 960\">\n",
              "    <path d=\"M120-120v-720h720v720H120Zm60-500h600v-160H180v160Zm220 220h160v-160H400v160Zm0 220h160v-160H400v160ZM180-400h160v-160H180v160Zm440 0h160v-160H620v160ZM180-180h160v-160H180v160Zm440 0h160v-160H620v160Z\"/>\n",
              "  </svg>\n",
              "    </button>\n",
              "\n",
              "  <style>\n",
              "    .colab-df-container {\n",
              "      display:flex;\n",
              "      gap: 12px;\n",
              "    }\n",
              "\n",
              "    .colab-df-convert {\n",
              "      background-color: #E8F0FE;\n",
              "      border: none;\n",
              "      border-radius: 50%;\n",
              "      cursor: pointer;\n",
              "      display: none;\n",
              "      fill: #1967D2;\n",
              "      height: 32px;\n",
              "      padding: 0 0 0 0;\n",
              "      width: 32px;\n",
              "    }\n",
              "\n",
              "    .colab-df-convert:hover {\n",
              "      background-color: #E2EBFA;\n",
              "      box-shadow: 0px 1px 2px rgba(60, 64, 67, 0.3), 0px 1px 3px 1px rgba(60, 64, 67, 0.15);\n",
              "      fill: #174EA6;\n",
              "    }\n",
              "\n",
              "    .colab-df-buttons div {\n",
              "      margin-bottom: 4px;\n",
              "    }\n",
              "\n",
              "    [theme=dark] .colab-df-convert {\n",
              "      background-color: #3B4455;\n",
              "      fill: #D2E3FC;\n",
              "    }\n",
              "\n",
              "    [theme=dark] .colab-df-convert:hover {\n",
              "      background-color: #434B5C;\n",
              "      box-shadow: 0px 1px 3px 1px rgba(0, 0, 0, 0.15);\n",
              "      filter: drop-shadow(0px 1px 2px rgba(0, 0, 0, 0.3));\n",
              "      fill: #FFFFFF;\n",
              "    }\n",
              "  </style>\n",
              "\n",
              "    <script>\n",
              "      const buttonEl =\n",
              "        document.querySelector('#df-128af366-b0b6-4309-b62c-c9bdc81daedd button.colab-df-convert');\n",
              "      buttonEl.style.display =\n",
              "        google.colab.kernel.accessAllowed ? 'block' : 'none';\n",
              "\n",
              "      async function convertToInteractive(key) {\n",
              "        const element = document.querySelector('#df-128af366-b0b6-4309-b62c-c9bdc81daedd');\n",
              "        const dataTable =\n",
              "          await google.colab.kernel.invokeFunction('convertToInteractive',\n",
              "                                                    [key], {});\n",
              "        if (!dataTable) return;\n",
              "\n",
              "        const docLinkHtml = 'Like what you see? Visit the ' +\n",
              "          '<a target=\"_blank\" href=https://colab.research.google.com/notebooks/data_table.ipynb>data table notebook</a>'\n",
              "          + ' to learn more about interactive tables.';\n",
              "        element.innerHTML = '';\n",
              "        dataTable['output_type'] = 'display_data';\n",
              "        await google.colab.output.renderOutput(dataTable, element);\n",
              "        const docLink = document.createElement('div');\n",
              "        docLink.innerHTML = docLinkHtml;\n",
              "        element.appendChild(docLink);\n",
              "      }\n",
              "    </script>\n",
              "  </div>\n",
              "\n",
              "\n",
              "<div id=\"df-f66d7875-3d96-4974-9c46-949c2cbf6634\">\n",
              "  <button class=\"colab-df-quickchart\" onclick=\"quickchart('df-f66d7875-3d96-4974-9c46-949c2cbf6634')\"\n",
              "            title=\"Suggest charts.\"\n",
              "            style=\"display:none;\">\n",
              "\n",
              "<svg xmlns=\"http://www.w3.org/2000/svg\" height=\"24px\"viewBox=\"0 0 24 24\"\n",
              "     width=\"24px\">\n",
              "    <g>\n",
              "        <path d=\"M19 3H5c-1.1 0-2 .9-2 2v14c0 1.1.9 2 2 2h14c1.1 0 2-.9 2-2V5c0-1.1-.9-2-2-2zM9 17H7v-7h2v7zm4 0h-2V7h2v10zm4 0h-2v-4h2v4z\"/>\n",
              "    </g>\n",
              "</svg>\n",
              "  </button>\n",
              "\n",
              "<style>\n",
              "  .colab-df-quickchart {\n",
              "      --bg-color: #E8F0FE;\n",
              "      --fill-color: #1967D2;\n",
              "      --hover-bg-color: #E2EBFA;\n",
              "      --hover-fill-color: #174EA6;\n",
              "      --disabled-fill-color: #AAA;\n",
              "      --disabled-bg-color: #DDD;\n",
              "  }\n",
              "\n",
              "  [theme=dark] .colab-df-quickchart {\n",
              "      --bg-color: #3B4455;\n",
              "      --fill-color: #D2E3FC;\n",
              "      --hover-bg-color: #434B5C;\n",
              "      --hover-fill-color: #FFFFFF;\n",
              "      --disabled-bg-color: #3B4455;\n",
              "      --disabled-fill-color: #666;\n",
              "  }\n",
              "\n",
              "  .colab-df-quickchart {\n",
              "    background-color: var(--bg-color);\n",
              "    border: none;\n",
              "    border-radius: 50%;\n",
              "    cursor: pointer;\n",
              "    display: none;\n",
              "    fill: var(--fill-color);\n",
              "    height: 32px;\n",
              "    padding: 0;\n",
              "    width: 32px;\n",
              "  }\n",
              "\n",
              "  .colab-df-quickchart:hover {\n",
              "    background-color: var(--hover-bg-color);\n",
              "    box-shadow: 0 1px 2px rgba(60, 64, 67, 0.3), 0 1px 3px 1px rgba(60, 64, 67, 0.15);\n",
              "    fill: var(--button-hover-fill-color);\n",
              "  }\n",
              "\n",
              "  .colab-df-quickchart-complete:disabled,\n",
              "  .colab-df-quickchart-complete:disabled:hover {\n",
              "    background-color: var(--disabled-bg-color);\n",
              "    fill: var(--disabled-fill-color);\n",
              "    box-shadow: none;\n",
              "  }\n",
              "\n",
              "  .colab-df-spinner {\n",
              "    border: 2px solid var(--fill-color);\n",
              "    border-color: transparent;\n",
              "    border-bottom-color: var(--fill-color);\n",
              "    animation:\n",
              "      spin 1s steps(1) infinite;\n",
              "  }\n",
              "\n",
              "  @keyframes spin {\n",
              "    0% {\n",
              "      border-color: transparent;\n",
              "      border-bottom-color: var(--fill-color);\n",
              "      border-left-color: var(--fill-color);\n",
              "    }\n",
              "    20% {\n",
              "      border-color: transparent;\n",
              "      border-left-color: var(--fill-color);\n",
              "      border-top-color: var(--fill-color);\n",
              "    }\n",
              "    30% {\n",
              "      border-color: transparent;\n",
              "      border-left-color: var(--fill-color);\n",
              "      border-top-color: var(--fill-color);\n",
              "      border-right-color: var(--fill-color);\n",
              "    }\n",
              "    40% {\n",
              "      border-color: transparent;\n",
              "      border-right-color: var(--fill-color);\n",
              "      border-top-color: var(--fill-color);\n",
              "    }\n",
              "    60% {\n",
              "      border-color: transparent;\n",
              "      border-right-color: var(--fill-color);\n",
              "    }\n",
              "    80% {\n",
              "      border-color: transparent;\n",
              "      border-right-color: var(--fill-color);\n",
              "      border-bottom-color: var(--fill-color);\n",
              "    }\n",
              "    90% {\n",
              "      border-color: transparent;\n",
              "      border-bottom-color: var(--fill-color);\n",
              "    }\n",
              "  }\n",
              "</style>\n",
              "\n",
              "  <script>\n",
              "    async function quickchart(key) {\n",
              "      const quickchartButtonEl =\n",
              "        document.querySelector('#' + key + ' button');\n",
              "      quickchartButtonEl.disabled = true;  // To prevent multiple clicks.\n",
              "      quickchartButtonEl.classList.add('colab-df-spinner');\n",
              "      try {\n",
              "        const charts = await google.colab.kernel.invokeFunction(\n",
              "            'suggestCharts', [key], {});\n",
              "      } catch (error) {\n",
              "        console.error('Error during call to suggestCharts:', error);\n",
              "      }\n",
              "      quickchartButtonEl.classList.remove('colab-df-spinner');\n",
              "      quickchartButtonEl.classList.add('colab-df-quickchart-complete');\n",
              "    }\n",
              "    (() => {\n",
              "      let quickchartButtonEl =\n",
              "        document.querySelector('#df-f66d7875-3d96-4974-9c46-949c2cbf6634 button');\n",
              "      quickchartButtonEl.style.display =\n",
              "        google.colab.kernel.accessAllowed ? 'block' : 'none';\n",
              "    })();\n",
              "  </script>\n",
              "</div>\n",
              "    </div>\n",
              "  </div>\n"
            ]
          },
          "metadata": {},
          "execution_count": 31
        }
      ]
    },
    {
      "cell_type": "code",
      "source": [
        "# Combine standardized numerical and encoded categorical features\n",
        "X_processed = pd.concat([pd.DataFrame(numerical_features_standardized, columns=numerical_input_data.columns),\n",
        "                         categorical_features_encoded], axis=1)\n",
        "X_processed.head()"
      ],
      "metadata": {
        "id": "eMEkSViy3Mfr",
        "colab": {
          "base_uri": "https://localhost:8080/"
        },
        "outputId": "5eb840ee-2c71-41ef-d445-a54a36b20b2c"
      },
      "execution_count": null,
      "outputs": [
        {
          "output_type": "execute_result",
          "data": {
            "text/plain": [
              "   CreditScore       Age    Tenure   Balance  NumOfProducts  HasCrCard  \\\n",
              "0    -0.326221  0.293517 -1.041760 -1.225848      -0.911583   0.646092   \n",
              "1    -0.440036  0.198164 -1.387538  0.117350      -0.911583  -1.547768   \n",
              "2    -1.536794  0.293517  1.032908  1.333053       2.527057   0.646092   \n",
              "3     0.501521  0.007457 -1.387538 -1.225848       0.807737  -1.547768   \n",
              "4     2.063884  0.388871 -1.041760  0.785728      -0.911583   0.646092   \n",
              "\n",
              "   IsActiveMember  EstimatedSalary  Geography  Gender  \n",
              "0        0.970243         0.021886          0       0  \n",
              "1        0.970243         0.216534          2       0  \n",
              "2       -1.030670         0.240687          0       0  \n",
              "3       -1.030670        -0.108918          0       0  \n",
              "4        0.970243        -0.365276          2       0  "
            ],
            "text/html": [
              "\n",
              "  <div id=\"df-65d8c41f-a9f4-48ea-95d2-cf310874ce99\" class=\"colab-df-container\">\n",
              "    <div>\n",
              "<style scoped>\n",
              "    .dataframe tbody tr th:only-of-type {\n",
              "        vertical-align: middle;\n",
              "    }\n",
              "\n",
              "    .dataframe tbody tr th {\n",
              "        vertical-align: top;\n",
              "    }\n",
              "\n",
              "    .dataframe thead th {\n",
              "        text-align: right;\n",
              "    }\n",
              "</style>\n",
              "<table border=\"1\" class=\"dataframe\">\n",
              "  <thead>\n",
              "    <tr style=\"text-align: right;\">\n",
              "      <th></th>\n",
              "      <th>CreditScore</th>\n",
              "      <th>Age</th>\n",
              "      <th>Tenure</th>\n",
              "      <th>Balance</th>\n",
              "      <th>NumOfProducts</th>\n",
              "      <th>HasCrCard</th>\n",
              "      <th>IsActiveMember</th>\n",
              "      <th>EstimatedSalary</th>\n",
              "      <th>Geography</th>\n",
              "      <th>Gender</th>\n",
              "    </tr>\n",
              "  </thead>\n",
              "  <tbody>\n",
              "    <tr>\n",
              "      <th>0</th>\n",
              "      <td>-0.326221</td>\n",
              "      <td>0.293517</td>\n",
              "      <td>-1.041760</td>\n",
              "      <td>-1.225848</td>\n",
              "      <td>-0.911583</td>\n",
              "      <td>0.646092</td>\n",
              "      <td>0.970243</td>\n",
              "      <td>0.021886</td>\n",
              "      <td>0</td>\n",
              "      <td>0</td>\n",
              "    </tr>\n",
              "    <tr>\n",
              "      <th>1</th>\n",
              "      <td>-0.440036</td>\n",
              "      <td>0.198164</td>\n",
              "      <td>-1.387538</td>\n",
              "      <td>0.117350</td>\n",
              "      <td>-0.911583</td>\n",
              "      <td>-1.547768</td>\n",
              "      <td>0.970243</td>\n",
              "      <td>0.216534</td>\n",
              "      <td>2</td>\n",
              "      <td>0</td>\n",
              "    </tr>\n",
              "    <tr>\n",
              "      <th>2</th>\n",
              "      <td>-1.536794</td>\n",
              "      <td>0.293517</td>\n",
              "      <td>1.032908</td>\n",
              "      <td>1.333053</td>\n",
              "      <td>2.527057</td>\n",
              "      <td>0.646092</td>\n",
              "      <td>-1.030670</td>\n",
              "      <td>0.240687</td>\n",
              "      <td>0</td>\n",
              "      <td>0</td>\n",
              "    </tr>\n",
              "    <tr>\n",
              "      <th>3</th>\n",
              "      <td>0.501521</td>\n",
              "      <td>0.007457</td>\n",
              "      <td>-1.387538</td>\n",
              "      <td>-1.225848</td>\n",
              "      <td>0.807737</td>\n",
              "      <td>-1.547768</td>\n",
              "      <td>-1.030670</td>\n",
              "      <td>-0.108918</td>\n",
              "      <td>0</td>\n",
              "      <td>0</td>\n",
              "    </tr>\n",
              "    <tr>\n",
              "      <th>4</th>\n",
              "      <td>2.063884</td>\n",
              "      <td>0.388871</td>\n",
              "      <td>-1.041760</td>\n",
              "      <td>0.785728</td>\n",
              "      <td>-0.911583</td>\n",
              "      <td>0.646092</td>\n",
              "      <td>0.970243</td>\n",
              "      <td>-0.365276</td>\n",
              "      <td>2</td>\n",
              "      <td>0</td>\n",
              "    </tr>\n",
              "  </tbody>\n",
              "</table>\n",
              "</div>\n",
              "    <div class=\"colab-df-buttons\">\n",
              "\n",
              "  <div class=\"colab-df-container\">\n",
              "    <button class=\"colab-df-convert\" onclick=\"convertToInteractive('df-65d8c41f-a9f4-48ea-95d2-cf310874ce99')\"\n",
              "            title=\"Convert this dataframe to an interactive table.\"\n",
              "            style=\"display:none;\">\n",
              "\n",
              "  <svg xmlns=\"http://www.w3.org/2000/svg\" height=\"24px\" viewBox=\"0 -960 960 960\">\n",
              "    <path d=\"M120-120v-720h720v720H120Zm60-500h600v-160H180v160Zm220 220h160v-160H400v160Zm0 220h160v-160H400v160ZM180-400h160v-160H180v160Zm440 0h160v-160H620v160ZM180-180h160v-160H180v160Zm440 0h160v-160H620v160Z\"/>\n",
              "  </svg>\n",
              "    </button>\n",
              "\n",
              "  <style>\n",
              "    .colab-df-container {\n",
              "      display:flex;\n",
              "      gap: 12px;\n",
              "    }\n",
              "\n",
              "    .colab-df-convert {\n",
              "      background-color: #E8F0FE;\n",
              "      border: none;\n",
              "      border-radius: 50%;\n",
              "      cursor: pointer;\n",
              "      display: none;\n",
              "      fill: #1967D2;\n",
              "      height: 32px;\n",
              "      padding: 0 0 0 0;\n",
              "      width: 32px;\n",
              "    }\n",
              "\n",
              "    .colab-df-convert:hover {\n",
              "      background-color: #E2EBFA;\n",
              "      box-shadow: 0px 1px 2px rgba(60, 64, 67, 0.3), 0px 1px 3px 1px rgba(60, 64, 67, 0.15);\n",
              "      fill: #174EA6;\n",
              "    }\n",
              "\n",
              "    .colab-df-buttons div {\n",
              "      margin-bottom: 4px;\n",
              "    }\n",
              "\n",
              "    [theme=dark] .colab-df-convert {\n",
              "      background-color: #3B4455;\n",
              "      fill: #D2E3FC;\n",
              "    }\n",
              "\n",
              "    [theme=dark] .colab-df-convert:hover {\n",
              "      background-color: #434B5C;\n",
              "      box-shadow: 0px 1px 3px 1px rgba(0, 0, 0, 0.15);\n",
              "      filter: drop-shadow(0px 1px 2px rgba(0, 0, 0, 0.3));\n",
              "      fill: #FFFFFF;\n",
              "    }\n",
              "  </style>\n",
              "\n",
              "    <script>\n",
              "      const buttonEl =\n",
              "        document.querySelector('#df-65d8c41f-a9f4-48ea-95d2-cf310874ce99 button.colab-df-convert');\n",
              "      buttonEl.style.display =\n",
              "        google.colab.kernel.accessAllowed ? 'block' : 'none';\n",
              "\n",
              "      async function convertToInteractive(key) {\n",
              "        const element = document.querySelector('#df-65d8c41f-a9f4-48ea-95d2-cf310874ce99');\n",
              "        const dataTable =\n",
              "          await google.colab.kernel.invokeFunction('convertToInteractive',\n",
              "                                                    [key], {});\n",
              "        if (!dataTable) return;\n",
              "\n",
              "        const docLinkHtml = 'Like what you see? Visit the ' +\n",
              "          '<a target=\"_blank\" href=https://colab.research.google.com/notebooks/data_table.ipynb>data table notebook</a>'\n",
              "          + ' to learn more about interactive tables.';\n",
              "        element.innerHTML = '';\n",
              "        dataTable['output_type'] = 'display_data';\n",
              "        await google.colab.output.renderOutput(dataTable, element);\n",
              "        const docLink = document.createElement('div');\n",
              "        docLink.innerHTML = docLinkHtml;\n",
              "        element.appendChild(docLink);\n",
              "      }\n",
              "    </script>\n",
              "  </div>\n",
              "\n",
              "\n",
              "<div id=\"df-383b0f5d-cf0e-428a-89ff-94065540c2b4\">\n",
              "  <button class=\"colab-df-quickchart\" onclick=\"quickchart('df-383b0f5d-cf0e-428a-89ff-94065540c2b4')\"\n",
              "            title=\"Suggest charts.\"\n",
              "            style=\"display:none;\">\n",
              "\n",
              "<svg xmlns=\"http://www.w3.org/2000/svg\" height=\"24px\"viewBox=\"0 0 24 24\"\n",
              "     width=\"24px\">\n",
              "    <g>\n",
              "        <path d=\"M19 3H5c-1.1 0-2 .9-2 2v14c0 1.1.9 2 2 2h14c1.1 0 2-.9 2-2V5c0-1.1-.9-2-2-2zM9 17H7v-7h2v7zm4 0h-2V7h2v10zm4 0h-2v-4h2v4z\"/>\n",
              "    </g>\n",
              "</svg>\n",
              "  </button>\n",
              "\n",
              "<style>\n",
              "  .colab-df-quickchart {\n",
              "      --bg-color: #E8F0FE;\n",
              "      --fill-color: #1967D2;\n",
              "      --hover-bg-color: #E2EBFA;\n",
              "      --hover-fill-color: #174EA6;\n",
              "      --disabled-fill-color: #AAA;\n",
              "      --disabled-bg-color: #DDD;\n",
              "  }\n",
              "\n",
              "  [theme=dark] .colab-df-quickchart {\n",
              "      --bg-color: #3B4455;\n",
              "      --fill-color: #D2E3FC;\n",
              "      --hover-bg-color: #434B5C;\n",
              "      --hover-fill-color: #FFFFFF;\n",
              "      --disabled-bg-color: #3B4455;\n",
              "      --disabled-fill-color: #666;\n",
              "  }\n",
              "\n",
              "  .colab-df-quickchart {\n",
              "    background-color: var(--bg-color);\n",
              "    border: none;\n",
              "    border-radius: 50%;\n",
              "    cursor: pointer;\n",
              "    display: none;\n",
              "    fill: var(--fill-color);\n",
              "    height: 32px;\n",
              "    padding: 0;\n",
              "    width: 32px;\n",
              "  }\n",
              "\n",
              "  .colab-df-quickchart:hover {\n",
              "    background-color: var(--hover-bg-color);\n",
              "    box-shadow: 0 1px 2px rgba(60, 64, 67, 0.3), 0 1px 3px 1px rgba(60, 64, 67, 0.15);\n",
              "    fill: var(--button-hover-fill-color);\n",
              "  }\n",
              "\n",
              "  .colab-df-quickchart-complete:disabled,\n",
              "  .colab-df-quickchart-complete:disabled:hover {\n",
              "    background-color: var(--disabled-bg-color);\n",
              "    fill: var(--disabled-fill-color);\n",
              "    box-shadow: none;\n",
              "  }\n",
              "\n",
              "  .colab-df-spinner {\n",
              "    border: 2px solid var(--fill-color);\n",
              "    border-color: transparent;\n",
              "    border-bottom-color: var(--fill-color);\n",
              "    animation:\n",
              "      spin 1s steps(1) infinite;\n",
              "  }\n",
              "\n",
              "  @keyframes spin {\n",
              "    0% {\n",
              "      border-color: transparent;\n",
              "      border-bottom-color: var(--fill-color);\n",
              "      border-left-color: var(--fill-color);\n",
              "    }\n",
              "    20% {\n",
              "      border-color: transparent;\n",
              "      border-left-color: var(--fill-color);\n",
              "      border-top-color: var(--fill-color);\n",
              "    }\n",
              "    30% {\n",
              "      border-color: transparent;\n",
              "      border-left-color: var(--fill-color);\n",
              "      border-top-color: var(--fill-color);\n",
              "      border-right-color: var(--fill-color);\n",
              "    }\n",
              "    40% {\n",
              "      border-color: transparent;\n",
              "      border-right-color: var(--fill-color);\n",
              "      border-top-color: var(--fill-color);\n",
              "    }\n",
              "    60% {\n",
              "      border-color: transparent;\n",
              "      border-right-color: var(--fill-color);\n",
              "    }\n",
              "    80% {\n",
              "      border-color: transparent;\n",
              "      border-right-color: var(--fill-color);\n",
              "      border-bottom-color: var(--fill-color);\n",
              "    }\n",
              "    90% {\n",
              "      border-color: transparent;\n",
              "      border-bottom-color: var(--fill-color);\n",
              "    }\n",
              "  }\n",
              "</style>\n",
              "\n",
              "  <script>\n",
              "    async function quickchart(key) {\n",
              "      const quickchartButtonEl =\n",
              "        document.querySelector('#' + key + ' button');\n",
              "      quickchartButtonEl.disabled = true;  // To prevent multiple clicks.\n",
              "      quickchartButtonEl.classList.add('colab-df-spinner');\n",
              "      try {\n",
              "        const charts = await google.colab.kernel.invokeFunction(\n",
              "            'suggestCharts', [key], {});\n",
              "      } catch (error) {\n",
              "        console.error('Error during call to suggestCharts:', error);\n",
              "      }\n",
              "      quickchartButtonEl.classList.remove('colab-df-spinner');\n",
              "      quickchartButtonEl.classList.add('colab-df-quickchart-complete');\n",
              "    }\n",
              "    (() => {\n",
              "      let quickchartButtonEl =\n",
              "        document.querySelector('#df-383b0f5d-cf0e-428a-89ff-94065540c2b4 button');\n",
              "      quickchartButtonEl.style.display =\n",
              "        google.colab.kernel.accessAllowed ? 'block' : 'none';\n",
              "    })();\n",
              "  </script>\n",
              "</div>\n",
              "    </div>\n",
              "  </div>\n"
            ]
          },
          "metadata": {},
          "execution_count": 32
        }
      ]
    },
    {
      "cell_type": "code",
      "source": [
        "X_train, X_test, y_train, y_test = train_test_split(X_processed, y, test_size=0.2, random_state=42)"
      ],
      "metadata": {
        "id": "wOgxNZ_P330W"
      },
      "execution_count": null,
      "outputs": []
    },
    {
      "cell_type": "code",
      "source": [
        "smote = SMOTE(sampling_strategy='auto', random_state=42)\n",
        "X_train_resampled, y_train_resampled = smote.fit_resample(X_train, y_train)\n",
        "print(len(X_train), len(X_train_resampled))\n",
        "print(len(y_train), len(y_train_resampled))"
      ],
      "metadata": {
        "colab": {
          "base_uri": "https://localhost:8080/"
        },
        "id": "sCFwLYYk4caR",
        "outputId": "bf928322-32b8-4455-f64a-7f47a4b25fcf"
      },
      "execution_count": null,
      "outputs": [
        {
          "output_type": "stream",
          "name": "stdout",
          "text": [
            "8000 12712\n",
            "8000 12712\n"
          ]
        }
      ]
    },
    {
      "cell_type": "code",
      "source": [
        "y_train_resampled_list = y_train_resampled.to_list()"
      ],
      "metadata": {
        "id": "CSOvf-NJ6Pio"
      },
      "execution_count": null,
      "outputs": []
    },
    {
      "cell_type": "code",
      "source": [
        "value_counts = {}\n",
        "for value in y_train_resampled_list:\n",
        "    if value in value_counts:\n",
        "        value_counts[value] += 1\n",
        "    else:\n",
        "        value_counts[value] = 1\n",
        "value_counts"
      ],
      "metadata": {
        "colab": {
          "base_uri": "https://localhost:8080/"
        },
        "id": "tTnRWW_z58tO",
        "outputId": "40af855e-9567-4807-89af-03ab4cf8f5e8"
      },
      "execution_count": null,
      "outputs": [
        {
          "output_type": "execute_result",
          "data": {
            "text/plain": [
              "{0: 6356, 1: 6356}"
            ]
          },
          "metadata": {},
          "execution_count": 36
        }
      ]
    },
    {
      "cell_type": "markdown",
      "source": [
        "## Step 4: Model Training & Evaluation"
      ],
      "metadata": {
        "id": "rp_8nnjd3ppe"
      }
    },
    {
      "cell_type": "markdown",
      "source": [
        "### Logistic Regression"
      ],
      "metadata": {
        "id": "M0ONpQVu4vEq"
      }
    },
    {
      "cell_type": "code",
      "source": [
        "from sklearn.linear_model import LogisticRegression\n",
        "\n",
        "lr = LogisticRegression(max_iter=1000).fit(X_train_resampled, y_train_resampled)"
      ],
      "metadata": {
        "id": "axzKUvpdB3I0"
      },
      "execution_count": null,
      "outputs": []
    },
    {
      "cell_type": "code",
      "source": [
        "from sklearn.metrics import accuracy_score\n",
        "from sklearn.metrics import confusion_matrix\n",
        "from sklearn.metrics import precision_score\n",
        "\n",
        "# Train set\n",
        "predictions_lr = pd.DataFrame()\n",
        "predictions_lr['true'] = y_train_resampled\n",
        "predictions_lr['preds'] = lr.predict(X_train_resampled)\n",
        "\n",
        "# Test set\n",
        "predictions_test_lr = pd.DataFrame()\n",
        "predictions_test_lr['true'] = y_test\n",
        "predictions_test_lr['preds'] = lr.predict(X_test)\n",
        "predictions_test_lr['preds_over'] = lr.predict(X_test)\n",
        "\n",
        "train_acc_lr = accuracy_score(predictions_lr.true, predictions_lr.preds)\n",
        "test_acc_lr = accuracy_score(predictions_test_lr.true, predictions_test_lr.preds)\n",
        "test_acc_over_lr = accuracy_score(predictions_test_lr.true, predictions_test_lr.preds_over)\n",
        "\n",
        "y_pred_lr = lr.predict(X_test)\n",
        "acc_lr = accuracy_score(y_test,y_pred_lr)\n",
        "prec_lr = precision_score(y_test,y_pred_lr)\n",
        "conf_mat_lr = confusion_matrix(y_test,y_pred_lr)\n",
        "\n",
        "print(f\"Train Acc (Logistic Regression): {train_acc_lr:.4f}\")\n",
        "print(f\"Test Acc (Logistic Regression): {test_acc_lr:.4f}\")\n",
        "print(f\"Test Acc Oversampled (Logistic Regression): {test_acc_over_lr:.4f}\")"
      ],
      "metadata": {
        "colab": {
          "base_uri": "https://localhost:8080/"
        },
        "id": "sPwALQ_gCH_x",
        "outputId": "d5bbb9e9-7592-43ed-fdf6-d1dd653c36fa"
      },
      "execution_count": null,
      "outputs": [
        {
          "output_type": "stream",
          "name": "stdout",
          "text": [
            "Train Acc (Logistic Regression): 0.7082\n",
            "Test Acc (Logistic Regression): 0.7135\n",
            "Test Acc Oversampled (Logistic Regression): 0.7135\n"
          ]
        }
      ]
    },
    {
      "cell_type": "code",
      "source": [
        "confusion_df = pd.DataFrame(conf_mat_lr, index=['Actual 0 (Stayed)', 'Actual 1 (Exited)'], columns=['Predicted 0', 'Predicted 1'])\n",
        "\n",
        "fig = px.imshow(confusion_df, labels=dict(x=\"Predicted\", y=\"Actual\", color=\"Count\"),\n",
        "                x=['Predicted 0', 'Predicted 1'],\n",
        "                y=['Actual 0', 'Actual 1'],\n",
        "                color_continuous_scale=\"Blues\")\n",
        "\n",
        "fig.update_xaxes(side=\"bottom\")\n",
        "fig.update_layout(title_text='Confusion Matrix', title_x=0.5)\n",
        "\n",
        "# update_layout_plot()\n",
        "\n",
        "fig.show()\n",
        "fig.write_image(\"feature_correlation_matrix_lr.png\", format=\"png\")"
      ],
      "metadata": {
        "colab": {
          "base_uri": "https://localhost:8080/"
        },
        "id": "elPmnbZWOa_H",
        "outputId": "6dbb8cba-bdac-4a5a-b94a-bd70e577bd9f"
      },
      "execution_count": null,
      "outputs": [
        {
          "output_type": "display_data",
          "data": {
            "text/html": [
              "<html>\n",
              "<head><meta charset=\"utf-8\" /></head>\n",
              "<body>\n",
              "    <div>            <script src=\"https://cdnjs.cloudflare.com/ajax/libs/mathjax/2.7.5/MathJax.js?config=TeX-AMS-MML_SVG\"></script><script type=\"text/javascript\">if (window.MathJax && window.MathJax.Hub && window.MathJax.Hub.Config) {window.MathJax.Hub.Config({SVG: {font: \"STIX-Web\"}});}</script>                <script type=\"text/javascript\">window.PlotlyConfig = {MathJaxConfig: 'local'};</script>\n",
              "        <script charset=\"utf-8\" src=\"https://cdn.plot.ly/plotly-2.24.1.min.js\"></script>                <div id=\"57145a31-bbb1-467c-918c-15ed5b1862f9\" class=\"plotly-graph-div\" style=\"height:525px; width:100%;\"></div>            <script type=\"text/javascript\">                                    window.PLOTLYENV=window.PLOTLYENV || {};                                    if (document.getElementById(\"57145a31-bbb1-467c-918c-15ed5b1862f9\")) {                    Plotly.newPlot(                        \"57145a31-bbb1-467c-918c-15ed5b1862f9\",                        [{\"coloraxis\":\"coloraxis\",\"name\":\"0\",\"x\":[\"Predicted 0\",\"Predicted 1\"],\"y\":[\"Actual 0\",\"Actual 1\"],\"z\":[[1158,449],[124,269]],\"type\":\"heatmap\",\"xaxis\":\"x\",\"yaxis\":\"y\",\"hovertemplate\":\"Predicted: %{x}\\u003cbr\\u003eActual: %{y}\\u003cbr\\u003eCount: %{z}\\u003cextra\\u003e\\u003c\\u002fextra\\u003e\"}],                        {\"template\":{\"data\":{\"histogram2dcontour\":[{\"type\":\"histogram2dcontour\",\"colorbar\":{\"outlinewidth\":0,\"ticks\":\"\"},\"colorscale\":[[0.0,\"#0d0887\"],[0.1111111111111111,\"#46039f\"],[0.2222222222222222,\"#7201a8\"],[0.3333333333333333,\"#9c179e\"],[0.4444444444444444,\"#bd3786\"],[0.5555555555555556,\"#d8576b\"],[0.6666666666666666,\"#ed7953\"],[0.7777777777777778,\"#fb9f3a\"],[0.8888888888888888,\"#fdca26\"],[1.0,\"#f0f921\"]]}],\"choropleth\":[{\"type\":\"choropleth\",\"colorbar\":{\"outlinewidth\":0,\"ticks\":\"\"}}],\"histogram2d\":[{\"type\":\"histogram2d\",\"colorbar\":{\"outlinewidth\":0,\"ticks\":\"\"},\"colorscale\":[[0.0,\"#0d0887\"],[0.1111111111111111,\"#46039f\"],[0.2222222222222222,\"#7201a8\"],[0.3333333333333333,\"#9c179e\"],[0.4444444444444444,\"#bd3786\"],[0.5555555555555556,\"#d8576b\"],[0.6666666666666666,\"#ed7953\"],[0.7777777777777778,\"#fb9f3a\"],[0.8888888888888888,\"#fdca26\"],[1.0,\"#f0f921\"]]}],\"heatmap\":[{\"type\":\"heatmap\",\"colorbar\":{\"outlinewidth\":0,\"ticks\":\"\"},\"colorscale\":[[0.0,\"#0d0887\"],[0.1111111111111111,\"#46039f\"],[0.2222222222222222,\"#7201a8\"],[0.3333333333333333,\"#9c179e\"],[0.4444444444444444,\"#bd3786\"],[0.5555555555555556,\"#d8576b\"],[0.6666666666666666,\"#ed7953\"],[0.7777777777777778,\"#fb9f3a\"],[0.8888888888888888,\"#fdca26\"],[1.0,\"#f0f921\"]]}],\"heatmapgl\":[{\"type\":\"heatmapgl\",\"colorbar\":{\"outlinewidth\":0,\"ticks\":\"\"},\"colorscale\":[[0.0,\"#0d0887\"],[0.1111111111111111,\"#46039f\"],[0.2222222222222222,\"#7201a8\"],[0.3333333333333333,\"#9c179e\"],[0.4444444444444444,\"#bd3786\"],[0.5555555555555556,\"#d8576b\"],[0.6666666666666666,\"#ed7953\"],[0.7777777777777778,\"#fb9f3a\"],[0.8888888888888888,\"#fdca26\"],[1.0,\"#f0f921\"]]}],\"contourcarpet\":[{\"type\":\"contourcarpet\",\"colorbar\":{\"outlinewidth\":0,\"ticks\":\"\"}}],\"contour\":[{\"type\":\"contour\",\"colorbar\":{\"outlinewidth\":0,\"ticks\":\"\"},\"colorscale\":[[0.0,\"#0d0887\"],[0.1111111111111111,\"#46039f\"],[0.2222222222222222,\"#7201a8\"],[0.3333333333333333,\"#9c179e\"],[0.4444444444444444,\"#bd3786\"],[0.5555555555555556,\"#d8576b\"],[0.6666666666666666,\"#ed7953\"],[0.7777777777777778,\"#fb9f3a\"],[0.8888888888888888,\"#fdca26\"],[1.0,\"#f0f921\"]]}],\"surface\":[{\"type\":\"surface\",\"colorbar\":{\"outlinewidth\":0,\"ticks\":\"\"},\"colorscale\":[[0.0,\"#0d0887\"],[0.1111111111111111,\"#46039f\"],[0.2222222222222222,\"#7201a8\"],[0.3333333333333333,\"#9c179e\"],[0.4444444444444444,\"#bd3786\"],[0.5555555555555556,\"#d8576b\"],[0.6666666666666666,\"#ed7953\"],[0.7777777777777778,\"#fb9f3a\"],[0.8888888888888888,\"#fdca26\"],[1.0,\"#f0f921\"]]}],\"mesh3d\":[{\"type\":\"mesh3d\",\"colorbar\":{\"outlinewidth\":0,\"ticks\":\"\"}}],\"scatter\":[{\"fillpattern\":{\"fillmode\":\"overlay\",\"size\":10,\"solidity\":0.2},\"type\":\"scatter\"}],\"parcoords\":[{\"type\":\"parcoords\",\"line\":{\"colorbar\":{\"outlinewidth\":0,\"ticks\":\"\"}}}],\"scatterpolargl\":[{\"type\":\"scatterpolargl\",\"marker\":{\"colorbar\":{\"outlinewidth\":0,\"ticks\":\"\"}}}],\"bar\":[{\"error_x\":{\"color\":\"#2a3f5f\"},\"error_y\":{\"color\":\"#2a3f5f\"},\"marker\":{\"line\":{\"color\":\"#E5ECF6\",\"width\":0.5},\"pattern\":{\"fillmode\":\"overlay\",\"size\":10,\"solidity\":0.2}},\"type\":\"bar\"}],\"scattergeo\":[{\"type\":\"scattergeo\",\"marker\":{\"colorbar\":{\"outlinewidth\":0,\"ticks\":\"\"}}}],\"scatterpolar\":[{\"type\":\"scatterpolar\",\"marker\":{\"colorbar\":{\"outlinewidth\":0,\"ticks\":\"\"}}}],\"histogram\":[{\"marker\":{\"pattern\":{\"fillmode\":\"overlay\",\"size\":10,\"solidity\":0.2}},\"type\":\"histogram\"}],\"scattergl\":[{\"type\":\"scattergl\",\"marker\":{\"colorbar\":{\"outlinewidth\":0,\"ticks\":\"\"}}}],\"scatter3d\":[{\"type\":\"scatter3d\",\"line\":{\"colorbar\":{\"outlinewidth\":0,\"ticks\":\"\"}},\"marker\":{\"colorbar\":{\"outlinewidth\":0,\"ticks\":\"\"}}}],\"scattermapbox\":[{\"type\":\"scattermapbox\",\"marker\":{\"colorbar\":{\"outlinewidth\":0,\"ticks\":\"\"}}}],\"scatterternary\":[{\"type\":\"scatterternary\",\"marker\":{\"colorbar\":{\"outlinewidth\":0,\"ticks\":\"\"}}}],\"scattercarpet\":[{\"type\":\"scattercarpet\",\"marker\":{\"colorbar\":{\"outlinewidth\":0,\"ticks\":\"\"}}}],\"carpet\":[{\"aaxis\":{\"endlinecolor\":\"#2a3f5f\",\"gridcolor\":\"white\",\"linecolor\":\"white\",\"minorgridcolor\":\"white\",\"startlinecolor\":\"#2a3f5f\"},\"baxis\":{\"endlinecolor\":\"#2a3f5f\",\"gridcolor\":\"white\",\"linecolor\":\"white\",\"minorgridcolor\":\"white\",\"startlinecolor\":\"#2a3f5f\"},\"type\":\"carpet\"}],\"table\":[{\"cells\":{\"fill\":{\"color\":\"#EBF0F8\"},\"line\":{\"color\":\"white\"}},\"header\":{\"fill\":{\"color\":\"#C8D4E3\"},\"line\":{\"color\":\"white\"}},\"type\":\"table\"}],\"barpolar\":[{\"marker\":{\"line\":{\"color\":\"#E5ECF6\",\"width\":0.5},\"pattern\":{\"fillmode\":\"overlay\",\"size\":10,\"solidity\":0.2}},\"type\":\"barpolar\"}],\"pie\":[{\"automargin\":true,\"type\":\"pie\"}]},\"layout\":{\"autotypenumbers\":\"strict\",\"colorway\":[\"#636efa\",\"#EF553B\",\"#00cc96\",\"#ab63fa\",\"#FFA15A\",\"#19d3f3\",\"#FF6692\",\"#B6E880\",\"#FF97FF\",\"#FECB52\"],\"font\":{\"color\":\"#2a3f5f\"},\"hovermode\":\"closest\",\"hoverlabel\":{\"align\":\"left\"},\"paper_bgcolor\":\"white\",\"plot_bgcolor\":\"#E5ECF6\",\"polar\":{\"bgcolor\":\"#E5ECF6\",\"angularaxis\":{\"gridcolor\":\"white\",\"linecolor\":\"white\",\"ticks\":\"\"},\"radialaxis\":{\"gridcolor\":\"white\",\"linecolor\":\"white\",\"ticks\":\"\"}},\"ternary\":{\"bgcolor\":\"#E5ECF6\",\"aaxis\":{\"gridcolor\":\"white\",\"linecolor\":\"white\",\"ticks\":\"\"},\"baxis\":{\"gridcolor\":\"white\",\"linecolor\":\"white\",\"ticks\":\"\"},\"caxis\":{\"gridcolor\":\"white\",\"linecolor\":\"white\",\"ticks\":\"\"}},\"coloraxis\":{\"colorbar\":{\"outlinewidth\":0,\"ticks\":\"\"}},\"colorscale\":{\"sequential\":[[0.0,\"#0d0887\"],[0.1111111111111111,\"#46039f\"],[0.2222222222222222,\"#7201a8\"],[0.3333333333333333,\"#9c179e\"],[0.4444444444444444,\"#bd3786\"],[0.5555555555555556,\"#d8576b\"],[0.6666666666666666,\"#ed7953\"],[0.7777777777777778,\"#fb9f3a\"],[0.8888888888888888,\"#fdca26\"],[1.0,\"#f0f921\"]],\"sequentialminus\":[[0.0,\"#0d0887\"],[0.1111111111111111,\"#46039f\"],[0.2222222222222222,\"#7201a8\"],[0.3333333333333333,\"#9c179e\"],[0.4444444444444444,\"#bd3786\"],[0.5555555555555556,\"#d8576b\"],[0.6666666666666666,\"#ed7953\"],[0.7777777777777778,\"#fb9f3a\"],[0.8888888888888888,\"#fdca26\"],[1.0,\"#f0f921\"]],\"diverging\":[[0,\"#8e0152\"],[0.1,\"#c51b7d\"],[0.2,\"#de77ae\"],[0.3,\"#f1b6da\"],[0.4,\"#fde0ef\"],[0.5,\"#f7f7f7\"],[0.6,\"#e6f5d0\"],[0.7,\"#b8e186\"],[0.8,\"#7fbc41\"],[0.9,\"#4d9221\"],[1,\"#276419\"]]},\"xaxis\":{\"gridcolor\":\"white\",\"linecolor\":\"white\",\"ticks\":\"\",\"title\":{\"standoff\":15},\"zerolinecolor\":\"white\",\"automargin\":true,\"zerolinewidth\":2},\"yaxis\":{\"gridcolor\":\"white\",\"linecolor\":\"white\",\"ticks\":\"\",\"title\":{\"standoff\":15},\"zerolinecolor\":\"white\",\"automargin\":true,\"zerolinewidth\":2},\"scene\":{\"xaxis\":{\"backgroundcolor\":\"#E5ECF6\",\"gridcolor\":\"white\",\"linecolor\":\"white\",\"showbackground\":true,\"ticks\":\"\",\"zerolinecolor\":\"white\",\"gridwidth\":2},\"yaxis\":{\"backgroundcolor\":\"#E5ECF6\",\"gridcolor\":\"white\",\"linecolor\":\"white\",\"showbackground\":true,\"ticks\":\"\",\"zerolinecolor\":\"white\",\"gridwidth\":2},\"zaxis\":{\"backgroundcolor\":\"#E5ECF6\",\"gridcolor\":\"white\",\"linecolor\":\"white\",\"showbackground\":true,\"ticks\":\"\",\"zerolinecolor\":\"white\",\"gridwidth\":2}},\"shapedefaults\":{\"line\":{\"color\":\"#2a3f5f\"}},\"annotationdefaults\":{\"arrowcolor\":\"#2a3f5f\",\"arrowhead\":0,\"arrowwidth\":1},\"geo\":{\"bgcolor\":\"white\",\"landcolor\":\"#E5ECF6\",\"subunitcolor\":\"white\",\"showland\":true,\"showlakes\":true,\"lakecolor\":\"white\"},\"title\":{\"x\":0.05},\"mapbox\":{\"style\":\"light\"}}},\"xaxis\":{\"anchor\":\"y\",\"domain\":[0.0,1.0],\"scaleanchor\":\"y\",\"constrain\":\"domain\",\"title\":{\"text\":\"Predicted\"},\"side\":\"bottom\"},\"yaxis\":{\"anchor\":\"x\",\"domain\":[0.0,1.0],\"autorange\":\"reversed\",\"constrain\":\"domain\",\"title\":{\"text\":\"Actual\"}},\"coloraxis\":{\"colorbar\":{\"title\":{\"text\":\"Count\"}},\"colorscale\":[[0.0,\"rgb(247,251,255)\"],[0.125,\"rgb(222,235,247)\"],[0.25,\"rgb(198,219,239)\"],[0.375,\"rgb(158,202,225)\"],[0.5,\"rgb(107,174,214)\"],[0.625,\"rgb(66,146,198)\"],[0.75,\"rgb(33,113,181)\"],[0.875,\"rgb(8,81,156)\"],[1.0,\"rgb(8,48,107)\"]]},\"margin\":{\"t\":60},\"title\":{\"text\":\"Confusion Matrix\",\"x\":0.5}},                        {\"responsive\": true}                    ).then(function(){\n",
              "                            \n",
              "var gd = document.getElementById('57145a31-bbb1-467c-918c-15ed5b1862f9');\n",
              "var x = new MutationObserver(function (mutations, observer) {{\n",
              "        var display = window.getComputedStyle(gd).display;\n",
              "        if (!display || display === 'none') {{\n",
              "            console.log([gd, 'removed!']);\n",
              "            Plotly.purge(gd);\n",
              "            observer.disconnect();\n",
              "        }}\n",
              "}});\n",
              "\n",
              "// Listen for the removal of the full notebook cells\n",
              "var notebookContainer = gd.closest('#notebook-container');\n",
              "if (notebookContainer) {{\n",
              "    x.observe(notebookContainer, {childList: true});\n",
              "}}\n",
              "\n",
              "// Listen for the clearing of the current output cell\n",
              "var outputEl = gd.closest('.output');\n",
              "if (outputEl) {{\n",
              "    x.observe(outputEl, {childList: true});\n",
              "}}\n",
              "\n",
              "                        })                };                            </script>        </div>\n",
              "</body>\n",
              "</html>"
            ]
          },
          "metadata": {}
        }
      ]
    },
    {
      "cell_type": "markdown",
      "source": [
        "### Random Forest"
      ],
      "metadata": {
        "id": "xN5I6Y3g4yIh"
      }
    },
    {
      "cell_type": "code",
      "source": [
        "from sklearn.ensemble import RandomForestClassifier\n",
        "\n",
        "clf = RandomForestClassifier(max_depth=2, random_state=0)\n",
        "clf = clf.fit(X_train_resampled, y_train_resampled)"
      ],
      "metadata": {
        "id": "VKSTqABVDVZh"
      },
      "execution_count": null,
      "outputs": []
    },
    {
      "cell_type": "code",
      "source": [
        "from sklearn.metrics import accuracy_score\n",
        "\n",
        "# Train set\n",
        "predictions_rf = pd.DataFrame()\n",
        "predictions_rf['true'] = y_train_resampled\n",
        "predictions_rf['preds'] = clf.predict(X_train_resampled)\n",
        "\n",
        "# Test set\n",
        "predictions_test_rf = pd.DataFrame()\n",
        "predictions_test_rf['true'] = y_test\n",
        "predictions_test_rf['preds'] = clf.predict(X_test)\n",
        "predictions_test_rf['preds_over'] = clf.predict(X_test)\n",
        "\n",
        "train_acc_rf = accuracy_score(predictions_rf.true, predictions_rf.preds)\n",
        "test_acc_rf = accuracy_score(predictions_test_rf.true, predictions_test_rf.preds)\n",
        "test_acc_over_rf = accuracy_score(predictions_test_rf.true, predictions_test_rf.preds_over)\n",
        "\n",
        "print(f\"Train Acc (Logistic Regression): {train_acc_rf:.4f}\")\n",
        "print(f\"Test Acc (Logistic Regression): {test_acc_rf:.4f}\")\n",
        "print(f\"Test Acc Oversampled (Logistic Regression): {test_acc_over_rf:.4f}\")"
      ],
      "metadata": {
        "colab": {
          "base_uri": "https://localhost:8080/"
        },
        "id": "N8UhAAM-DmcB",
        "outputId": "c97c198d-c0fa-4c1e-df07-11edefc84738"
      },
      "execution_count": null,
      "outputs": [
        {
          "output_type": "stream",
          "name": "stdout",
          "text": [
            "Train Acc (Logistic Regression): 0.7629\n",
            "Test Acc (Logistic Regression): 0.7620\n",
            "Test Acc Oversampled (Logistic Regression): 0.7620\n"
          ]
        }
      ]
    },
    {
      "cell_type": "code",
      "source": [
        "y_pred_rf = clf.predict(X_test)\n",
        "acc_rf = accuracy_score(y_test,y_pred_rf)\n",
        "prec_rf = precision_score(y_test,y_pred_rf)\n",
        "conf_mat_rf = confusion_matrix(y_test,y_pred_rf)"
      ],
      "metadata": {
        "id": "gIdK1bDbO11C"
      },
      "execution_count": null,
      "outputs": []
    },
    {
      "cell_type": "code",
      "source": [
        "confusion_df = pd.DataFrame(conf_mat_rf, index=['Actual 0 (Stayed)', 'Actual 1 (Exited)'], columns=['Predicted 0', 'Predicted 1'])\n",
        "\n",
        "fig = px.imshow(confusion_df, labels=dict(x=\"Predicted\", y=\"Actual\", color=\"Count\"),\n",
        "                x=['Predicted 0', 'Predicted 1'],\n",
        "                y=['Actual 0', 'Actual 1'],\n",
        "                color_continuous_scale=\"Blues\")\n",
        "\n",
        "fig.update_xaxes(side=\"bottom\")\n",
        "fig.update_layout(title_text='Confusion Matrix', title_x=0.5)\n",
        "\n",
        "# update_layout_plot()\n",
        "\n",
        "fig.show()\n",
        "fig.write_image(\"feature_correlation_matrix_rf.png\", format=\"png\")"
      ],
      "metadata": {
        "colab": {
          "base_uri": "https://localhost:8080/"
        },
        "id": "5So4cOP-O_Mz",
        "outputId": "46de82c4-25ac-45f2-dc3e-5619e7a69c81"
      },
      "execution_count": null,
      "outputs": [
        {
          "output_type": "display_data",
          "data": {
            "text/html": [
              "<html>\n",
              "<head><meta charset=\"utf-8\" /></head>\n",
              "<body>\n",
              "    <div>            <script src=\"https://cdnjs.cloudflare.com/ajax/libs/mathjax/2.7.5/MathJax.js?config=TeX-AMS-MML_SVG\"></script><script type=\"text/javascript\">if (window.MathJax && window.MathJax.Hub && window.MathJax.Hub.Config) {window.MathJax.Hub.Config({SVG: {font: \"STIX-Web\"}});}</script>                <script type=\"text/javascript\">window.PlotlyConfig = {MathJaxConfig: 'local'};</script>\n",
              "        <script charset=\"utf-8\" src=\"https://cdn.plot.ly/plotly-2.24.1.min.js\"></script>                <div id=\"db551005-0096-44b0-a6f0-d626563fd9c2\" class=\"plotly-graph-div\" style=\"height:525px; width:100%;\"></div>            <script type=\"text/javascript\">                                    window.PLOTLYENV=window.PLOTLYENV || {};                                    if (document.getElementById(\"db551005-0096-44b0-a6f0-d626563fd9c2\")) {                    Plotly.newPlot(                        \"db551005-0096-44b0-a6f0-d626563fd9c2\",                        [{\"coloraxis\":\"coloraxis\",\"name\":\"0\",\"x\":[\"Predicted 0\",\"Predicted 1\"],\"y\":[\"Actual 0\",\"Actual 1\"],\"z\":[[1246,361],[115,278]],\"type\":\"heatmap\",\"xaxis\":\"x\",\"yaxis\":\"y\",\"hovertemplate\":\"Predicted: %{x}\\u003cbr\\u003eActual: %{y}\\u003cbr\\u003eCount: %{z}\\u003cextra\\u003e\\u003c\\u002fextra\\u003e\"}],                        {\"template\":{\"data\":{\"histogram2dcontour\":[{\"type\":\"histogram2dcontour\",\"colorbar\":{\"outlinewidth\":0,\"ticks\":\"\"},\"colorscale\":[[0.0,\"#0d0887\"],[0.1111111111111111,\"#46039f\"],[0.2222222222222222,\"#7201a8\"],[0.3333333333333333,\"#9c179e\"],[0.4444444444444444,\"#bd3786\"],[0.5555555555555556,\"#d8576b\"],[0.6666666666666666,\"#ed7953\"],[0.7777777777777778,\"#fb9f3a\"],[0.8888888888888888,\"#fdca26\"],[1.0,\"#f0f921\"]]}],\"choropleth\":[{\"type\":\"choropleth\",\"colorbar\":{\"outlinewidth\":0,\"ticks\":\"\"}}],\"histogram2d\":[{\"type\":\"histogram2d\",\"colorbar\":{\"outlinewidth\":0,\"ticks\":\"\"},\"colorscale\":[[0.0,\"#0d0887\"],[0.1111111111111111,\"#46039f\"],[0.2222222222222222,\"#7201a8\"],[0.3333333333333333,\"#9c179e\"],[0.4444444444444444,\"#bd3786\"],[0.5555555555555556,\"#d8576b\"],[0.6666666666666666,\"#ed7953\"],[0.7777777777777778,\"#fb9f3a\"],[0.8888888888888888,\"#fdca26\"],[1.0,\"#f0f921\"]]}],\"heatmap\":[{\"type\":\"heatmap\",\"colorbar\":{\"outlinewidth\":0,\"ticks\":\"\"},\"colorscale\":[[0.0,\"#0d0887\"],[0.1111111111111111,\"#46039f\"],[0.2222222222222222,\"#7201a8\"],[0.3333333333333333,\"#9c179e\"],[0.4444444444444444,\"#bd3786\"],[0.5555555555555556,\"#d8576b\"],[0.6666666666666666,\"#ed7953\"],[0.7777777777777778,\"#fb9f3a\"],[0.8888888888888888,\"#fdca26\"],[1.0,\"#f0f921\"]]}],\"heatmapgl\":[{\"type\":\"heatmapgl\",\"colorbar\":{\"outlinewidth\":0,\"ticks\":\"\"},\"colorscale\":[[0.0,\"#0d0887\"],[0.1111111111111111,\"#46039f\"],[0.2222222222222222,\"#7201a8\"],[0.3333333333333333,\"#9c179e\"],[0.4444444444444444,\"#bd3786\"],[0.5555555555555556,\"#d8576b\"],[0.6666666666666666,\"#ed7953\"],[0.7777777777777778,\"#fb9f3a\"],[0.8888888888888888,\"#fdca26\"],[1.0,\"#f0f921\"]]}],\"contourcarpet\":[{\"type\":\"contourcarpet\",\"colorbar\":{\"outlinewidth\":0,\"ticks\":\"\"}}],\"contour\":[{\"type\":\"contour\",\"colorbar\":{\"outlinewidth\":0,\"ticks\":\"\"},\"colorscale\":[[0.0,\"#0d0887\"],[0.1111111111111111,\"#46039f\"],[0.2222222222222222,\"#7201a8\"],[0.3333333333333333,\"#9c179e\"],[0.4444444444444444,\"#bd3786\"],[0.5555555555555556,\"#d8576b\"],[0.6666666666666666,\"#ed7953\"],[0.7777777777777778,\"#fb9f3a\"],[0.8888888888888888,\"#fdca26\"],[1.0,\"#f0f921\"]]}],\"surface\":[{\"type\":\"surface\",\"colorbar\":{\"outlinewidth\":0,\"ticks\":\"\"},\"colorscale\":[[0.0,\"#0d0887\"],[0.1111111111111111,\"#46039f\"],[0.2222222222222222,\"#7201a8\"],[0.3333333333333333,\"#9c179e\"],[0.4444444444444444,\"#bd3786\"],[0.5555555555555556,\"#d8576b\"],[0.6666666666666666,\"#ed7953\"],[0.7777777777777778,\"#fb9f3a\"],[0.8888888888888888,\"#fdca26\"],[1.0,\"#f0f921\"]]}],\"mesh3d\":[{\"type\":\"mesh3d\",\"colorbar\":{\"outlinewidth\":0,\"ticks\":\"\"}}],\"scatter\":[{\"fillpattern\":{\"fillmode\":\"overlay\",\"size\":10,\"solidity\":0.2},\"type\":\"scatter\"}],\"parcoords\":[{\"type\":\"parcoords\",\"line\":{\"colorbar\":{\"outlinewidth\":0,\"ticks\":\"\"}}}],\"scatterpolargl\":[{\"type\":\"scatterpolargl\",\"marker\":{\"colorbar\":{\"outlinewidth\":0,\"ticks\":\"\"}}}],\"bar\":[{\"error_x\":{\"color\":\"#2a3f5f\"},\"error_y\":{\"color\":\"#2a3f5f\"},\"marker\":{\"line\":{\"color\":\"#E5ECF6\",\"width\":0.5},\"pattern\":{\"fillmode\":\"overlay\",\"size\":10,\"solidity\":0.2}},\"type\":\"bar\"}],\"scattergeo\":[{\"type\":\"scattergeo\",\"marker\":{\"colorbar\":{\"outlinewidth\":0,\"ticks\":\"\"}}}],\"scatterpolar\":[{\"type\":\"scatterpolar\",\"marker\":{\"colorbar\":{\"outlinewidth\":0,\"ticks\":\"\"}}}],\"histogram\":[{\"marker\":{\"pattern\":{\"fillmode\":\"overlay\",\"size\":10,\"solidity\":0.2}},\"type\":\"histogram\"}],\"scattergl\":[{\"type\":\"scattergl\",\"marker\":{\"colorbar\":{\"outlinewidth\":0,\"ticks\":\"\"}}}],\"scatter3d\":[{\"type\":\"scatter3d\",\"line\":{\"colorbar\":{\"outlinewidth\":0,\"ticks\":\"\"}},\"marker\":{\"colorbar\":{\"outlinewidth\":0,\"ticks\":\"\"}}}],\"scattermapbox\":[{\"type\":\"scattermapbox\",\"marker\":{\"colorbar\":{\"outlinewidth\":0,\"ticks\":\"\"}}}],\"scatterternary\":[{\"type\":\"scatterternary\",\"marker\":{\"colorbar\":{\"outlinewidth\":0,\"ticks\":\"\"}}}],\"scattercarpet\":[{\"type\":\"scattercarpet\",\"marker\":{\"colorbar\":{\"outlinewidth\":0,\"ticks\":\"\"}}}],\"carpet\":[{\"aaxis\":{\"endlinecolor\":\"#2a3f5f\",\"gridcolor\":\"white\",\"linecolor\":\"white\",\"minorgridcolor\":\"white\",\"startlinecolor\":\"#2a3f5f\"},\"baxis\":{\"endlinecolor\":\"#2a3f5f\",\"gridcolor\":\"white\",\"linecolor\":\"white\",\"minorgridcolor\":\"white\",\"startlinecolor\":\"#2a3f5f\"},\"type\":\"carpet\"}],\"table\":[{\"cells\":{\"fill\":{\"color\":\"#EBF0F8\"},\"line\":{\"color\":\"white\"}},\"header\":{\"fill\":{\"color\":\"#C8D4E3\"},\"line\":{\"color\":\"white\"}},\"type\":\"table\"}],\"barpolar\":[{\"marker\":{\"line\":{\"color\":\"#E5ECF6\",\"width\":0.5},\"pattern\":{\"fillmode\":\"overlay\",\"size\":10,\"solidity\":0.2}},\"type\":\"barpolar\"}],\"pie\":[{\"automargin\":true,\"type\":\"pie\"}]},\"layout\":{\"autotypenumbers\":\"strict\",\"colorway\":[\"#636efa\",\"#EF553B\",\"#00cc96\",\"#ab63fa\",\"#FFA15A\",\"#19d3f3\",\"#FF6692\",\"#B6E880\",\"#FF97FF\",\"#FECB52\"],\"font\":{\"color\":\"#2a3f5f\"},\"hovermode\":\"closest\",\"hoverlabel\":{\"align\":\"left\"},\"paper_bgcolor\":\"white\",\"plot_bgcolor\":\"#E5ECF6\",\"polar\":{\"bgcolor\":\"#E5ECF6\",\"angularaxis\":{\"gridcolor\":\"white\",\"linecolor\":\"white\",\"ticks\":\"\"},\"radialaxis\":{\"gridcolor\":\"white\",\"linecolor\":\"white\",\"ticks\":\"\"}},\"ternary\":{\"bgcolor\":\"#E5ECF6\",\"aaxis\":{\"gridcolor\":\"white\",\"linecolor\":\"white\",\"ticks\":\"\"},\"baxis\":{\"gridcolor\":\"white\",\"linecolor\":\"white\",\"ticks\":\"\"},\"caxis\":{\"gridcolor\":\"white\",\"linecolor\":\"white\",\"ticks\":\"\"}},\"coloraxis\":{\"colorbar\":{\"outlinewidth\":0,\"ticks\":\"\"}},\"colorscale\":{\"sequential\":[[0.0,\"#0d0887\"],[0.1111111111111111,\"#46039f\"],[0.2222222222222222,\"#7201a8\"],[0.3333333333333333,\"#9c179e\"],[0.4444444444444444,\"#bd3786\"],[0.5555555555555556,\"#d8576b\"],[0.6666666666666666,\"#ed7953\"],[0.7777777777777778,\"#fb9f3a\"],[0.8888888888888888,\"#fdca26\"],[1.0,\"#f0f921\"]],\"sequentialminus\":[[0.0,\"#0d0887\"],[0.1111111111111111,\"#46039f\"],[0.2222222222222222,\"#7201a8\"],[0.3333333333333333,\"#9c179e\"],[0.4444444444444444,\"#bd3786\"],[0.5555555555555556,\"#d8576b\"],[0.6666666666666666,\"#ed7953\"],[0.7777777777777778,\"#fb9f3a\"],[0.8888888888888888,\"#fdca26\"],[1.0,\"#f0f921\"]],\"diverging\":[[0,\"#8e0152\"],[0.1,\"#c51b7d\"],[0.2,\"#de77ae\"],[0.3,\"#f1b6da\"],[0.4,\"#fde0ef\"],[0.5,\"#f7f7f7\"],[0.6,\"#e6f5d0\"],[0.7,\"#b8e186\"],[0.8,\"#7fbc41\"],[0.9,\"#4d9221\"],[1,\"#276419\"]]},\"xaxis\":{\"gridcolor\":\"white\",\"linecolor\":\"white\",\"ticks\":\"\",\"title\":{\"standoff\":15},\"zerolinecolor\":\"white\",\"automargin\":true,\"zerolinewidth\":2},\"yaxis\":{\"gridcolor\":\"white\",\"linecolor\":\"white\",\"ticks\":\"\",\"title\":{\"standoff\":15},\"zerolinecolor\":\"white\",\"automargin\":true,\"zerolinewidth\":2},\"scene\":{\"xaxis\":{\"backgroundcolor\":\"#E5ECF6\",\"gridcolor\":\"white\",\"linecolor\":\"white\",\"showbackground\":true,\"ticks\":\"\",\"zerolinecolor\":\"white\",\"gridwidth\":2},\"yaxis\":{\"backgroundcolor\":\"#E5ECF6\",\"gridcolor\":\"white\",\"linecolor\":\"white\",\"showbackground\":true,\"ticks\":\"\",\"zerolinecolor\":\"white\",\"gridwidth\":2},\"zaxis\":{\"backgroundcolor\":\"#E5ECF6\",\"gridcolor\":\"white\",\"linecolor\":\"white\",\"showbackground\":true,\"ticks\":\"\",\"zerolinecolor\":\"white\",\"gridwidth\":2}},\"shapedefaults\":{\"line\":{\"color\":\"#2a3f5f\"}},\"annotationdefaults\":{\"arrowcolor\":\"#2a3f5f\",\"arrowhead\":0,\"arrowwidth\":1},\"geo\":{\"bgcolor\":\"white\",\"landcolor\":\"#E5ECF6\",\"subunitcolor\":\"white\",\"showland\":true,\"showlakes\":true,\"lakecolor\":\"white\"},\"title\":{\"x\":0.05},\"mapbox\":{\"style\":\"light\"}}},\"xaxis\":{\"anchor\":\"y\",\"domain\":[0.0,1.0],\"scaleanchor\":\"y\",\"constrain\":\"domain\",\"title\":{\"text\":\"Predicted\"},\"side\":\"bottom\"},\"yaxis\":{\"anchor\":\"x\",\"domain\":[0.0,1.0],\"autorange\":\"reversed\",\"constrain\":\"domain\",\"title\":{\"text\":\"Actual\"}},\"coloraxis\":{\"colorbar\":{\"title\":{\"text\":\"Count\"}},\"colorscale\":[[0.0,\"rgb(247,251,255)\"],[0.125,\"rgb(222,235,247)\"],[0.25,\"rgb(198,219,239)\"],[0.375,\"rgb(158,202,225)\"],[0.5,\"rgb(107,174,214)\"],[0.625,\"rgb(66,146,198)\"],[0.75,\"rgb(33,113,181)\"],[0.875,\"rgb(8,81,156)\"],[1.0,\"rgb(8,48,107)\"]]},\"margin\":{\"t\":60},\"title\":{\"text\":\"Confusion Matrix\",\"x\":0.5}},                        {\"responsive\": true}                    ).then(function(){\n",
              "                            \n",
              "var gd = document.getElementById('db551005-0096-44b0-a6f0-d626563fd9c2');\n",
              "var x = new MutationObserver(function (mutations, observer) {{\n",
              "        var display = window.getComputedStyle(gd).display;\n",
              "        if (!display || display === 'none') {{\n",
              "            console.log([gd, 'removed!']);\n",
              "            Plotly.purge(gd);\n",
              "            observer.disconnect();\n",
              "        }}\n",
              "}});\n",
              "\n",
              "// Listen for the removal of the full notebook cells\n",
              "var notebookContainer = gd.closest('#notebook-container');\n",
              "if (notebookContainer) {{\n",
              "    x.observe(notebookContainer, {childList: true});\n",
              "}}\n",
              "\n",
              "// Listen for the clearing of the current output cell\n",
              "var outputEl = gd.closest('.output');\n",
              "if (outputEl) {{\n",
              "    x.observe(outputEl, {childList: true});\n",
              "}}\n",
              "\n",
              "                        })                };                            </script>        </div>\n",
              "</body>\n",
              "</html>"
            ]
          },
          "metadata": {}
        }
      ]
    },
    {
      "cell_type": "markdown",
      "source": [
        "### XGBoost"
      ],
      "metadata": {
        "id": "XIH-V7nbE9MR"
      }
    },
    {
      "cell_type": "code",
      "source": [
        "from xgboost import XGBClassifier,XGBRegressor\n",
        "\n",
        "model = XGBClassifier()\n",
        "model = model.fit(X_train_resampled, y_train_resampled)"
      ],
      "metadata": {
        "id": "_Uxr8REyE8sl"
      },
      "execution_count": null,
      "outputs": []
    },
    {
      "cell_type": "code",
      "source": [
        "from sklearn.metrics import accuracy_score\n",
        "\n",
        "# Train set\n",
        "predictions_xgb = pd.DataFrame()\n",
        "predictions_xgb['true'] = y_train_resampled\n",
        "predictions_xgb['preds'] = model.predict(X_train_resampled)\n",
        "\n",
        "# Test set\n",
        "predictions_test_xgb = pd.DataFrame()\n",
        "predictions_test_xgb['true'] = y_test\n",
        "predictions_test_xgb['preds'] = model.predict(X_test)\n",
        "predictions_test_xgb['preds_over'] = model.predict(X_test)\n",
        "\n",
        "train_acc_xgb = accuracy_score(predictions_xgb.true, predictions_xgb.preds)\n",
        "test_acc_xgb = accuracy_score(predictions_test_xgb.true, predictions_test_xgb.preds)\n",
        "test_acc_over_xgb = accuracy_score(predictions_test_xgb.true, predictions_test_xgb.preds_over)\n",
        "\n",
        "print(f\"Train Acc (Logistic Regression): {train_acc_xgb:.4f}\")\n",
        "print(f\"Test Acc (Logistic Regression): {test_acc_xgb:.4f}\")\n",
        "print(f\"Test Acc Oversampled (Logistic Regression): {test_acc_over_xgb:.4f}\")"
      ],
      "metadata": {
        "colab": {
          "base_uri": "https://localhost:8080/"
        },
        "id": "8sFO2Q9TFHLD",
        "outputId": "e504c448-9e66-40db-a267-d475183cab5a"
      },
      "execution_count": null,
      "outputs": [
        {
          "output_type": "stream",
          "name": "stdout",
          "text": [
            "Train Acc (Logistic Regression): 0.9607\n",
            "Test Acc (Logistic Regression): 0.8535\n",
            "Test Acc Oversampled (Logistic Regression): 0.8535\n"
          ]
        }
      ]
    },
    {
      "cell_type": "code",
      "source": [
        "y_pred_xgb = clf.predict(X_test)\n",
        "acc_xgb = accuracy_score(y_test,y_pred_xgb)\n",
        "prec_xgb = precision_score(y_test,y_pred_xgb)\n",
        "conf_mat_xgb = confusion_matrix(y_test,y_pred_xgb)"
      ],
      "metadata": {
        "id": "gNe1vXsiPNaj"
      },
      "execution_count": null,
      "outputs": []
    },
    {
      "cell_type": "code",
      "source": [
        "confusion_df = pd.DataFrame(conf_mat_xgb, index=['Actual 0 (Stayed)', 'Actual 1 (Exited)'], columns=['Predicted 0', 'Predicted 1'])\n",
        "\n",
        "fig = px.imshow(confusion_df, labels=dict(x=\"Predicted\", y=\"Actual\", color=\"Count\"),\n",
        "                x=['Predicted 0', 'Predicted 1'],\n",
        "                y=['Actual 0', 'Actual 1'],\n",
        "                color_continuous_scale=\"Blues\")\n",
        "\n",
        "fig.update_xaxes(side=\"bottom\")\n",
        "fig.update_layout(title_text='Confusion Matrix', title_x=0.5)\n",
        "\n",
        "# update_layout_plot()\n",
        "\n",
        "fig.show()\n",
        "fig.write_image(\"feature_correlation_matrix_xgb.png\", format=\"png\")"
      ],
      "metadata": {
        "colab": {
          "base_uri": "https://localhost:8080/"
        },
        "id": "EFQd4QPUPUrs",
        "outputId": "d6e76e7d-4c1f-46cc-ab77-a382d291278c"
      },
      "execution_count": null,
      "outputs": [
        {
          "output_type": "display_data",
          "data": {
            "text/html": [
              "<html>\n",
              "<head><meta charset=\"utf-8\" /></head>\n",
              "<body>\n",
              "    <div>            <script src=\"https://cdnjs.cloudflare.com/ajax/libs/mathjax/2.7.5/MathJax.js?config=TeX-AMS-MML_SVG\"></script><script type=\"text/javascript\">if (window.MathJax && window.MathJax.Hub && window.MathJax.Hub.Config) {window.MathJax.Hub.Config({SVG: {font: \"STIX-Web\"}});}</script>                <script type=\"text/javascript\">window.PlotlyConfig = {MathJaxConfig: 'local'};</script>\n",
              "        <script charset=\"utf-8\" src=\"https://cdn.plot.ly/plotly-2.24.1.min.js\"></script>                <div id=\"adda5438-aadc-474b-b90f-2b45f65712df\" class=\"plotly-graph-div\" style=\"height:525px; width:100%;\"></div>            <script type=\"text/javascript\">                                    window.PLOTLYENV=window.PLOTLYENV || {};                                    if (document.getElementById(\"adda5438-aadc-474b-b90f-2b45f65712df\")) {                    Plotly.newPlot(                        \"adda5438-aadc-474b-b90f-2b45f65712df\",                        [{\"coloraxis\":\"coloraxis\",\"name\":\"0\",\"x\":[\"Predicted 0\",\"Predicted 1\"],\"y\":[\"Actual 0\",\"Actual 1\"],\"z\":[[1246,361],[115,278]],\"type\":\"heatmap\",\"xaxis\":\"x\",\"yaxis\":\"y\",\"hovertemplate\":\"Predicted: %{x}\\u003cbr\\u003eActual: %{y}\\u003cbr\\u003eCount: %{z}\\u003cextra\\u003e\\u003c\\u002fextra\\u003e\"}],                        {\"template\":{\"data\":{\"histogram2dcontour\":[{\"type\":\"histogram2dcontour\",\"colorbar\":{\"outlinewidth\":0,\"ticks\":\"\"},\"colorscale\":[[0.0,\"#0d0887\"],[0.1111111111111111,\"#46039f\"],[0.2222222222222222,\"#7201a8\"],[0.3333333333333333,\"#9c179e\"],[0.4444444444444444,\"#bd3786\"],[0.5555555555555556,\"#d8576b\"],[0.6666666666666666,\"#ed7953\"],[0.7777777777777778,\"#fb9f3a\"],[0.8888888888888888,\"#fdca26\"],[1.0,\"#f0f921\"]]}],\"choropleth\":[{\"type\":\"choropleth\",\"colorbar\":{\"outlinewidth\":0,\"ticks\":\"\"}}],\"histogram2d\":[{\"type\":\"histogram2d\",\"colorbar\":{\"outlinewidth\":0,\"ticks\":\"\"},\"colorscale\":[[0.0,\"#0d0887\"],[0.1111111111111111,\"#46039f\"],[0.2222222222222222,\"#7201a8\"],[0.3333333333333333,\"#9c179e\"],[0.4444444444444444,\"#bd3786\"],[0.5555555555555556,\"#d8576b\"],[0.6666666666666666,\"#ed7953\"],[0.7777777777777778,\"#fb9f3a\"],[0.8888888888888888,\"#fdca26\"],[1.0,\"#f0f921\"]]}],\"heatmap\":[{\"type\":\"heatmap\",\"colorbar\":{\"outlinewidth\":0,\"ticks\":\"\"},\"colorscale\":[[0.0,\"#0d0887\"],[0.1111111111111111,\"#46039f\"],[0.2222222222222222,\"#7201a8\"],[0.3333333333333333,\"#9c179e\"],[0.4444444444444444,\"#bd3786\"],[0.5555555555555556,\"#d8576b\"],[0.6666666666666666,\"#ed7953\"],[0.7777777777777778,\"#fb9f3a\"],[0.8888888888888888,\"#fdca26\"],[1.0,\"#f0f921\"]]}],\"heatmapgl\":[{\"type\":\"heatmapgl\",\"colorbar\":{\"outlinewidth\":0,\"ticks\":\"\"},\"colorscale\":[[0.0,\"#0d0887\"],[0.1111111111111111,\"#46039f\"],[0.2222222222222222,\"#7201a8\"],[0.3333333333333333,\"#9c179e\"],[0.4444444444444444,\"#bd3786\"],[0.5555555555555556,\"#d8576b\"],[0.6666666666666666,\"#ed7953\"],[0.7777777777777778,\"#fb9f3a\"],[0.8888888888888888,\"#fdca26\"],[1.0,\"#f0f921\"]]}],\"contourcarpet\":[{\"type\":\"contourcarpet\",\"colorbar\":{\"outlinewidth\":0,\"ticks\":\"\"}}],\"contour\":[{\"type\":\"contour\",\"colorbar\":{\"outlinewidth\":0,\"ticks\":\"\"},\"colorscale\":[[0.0,\"#0d0887\"],[0.1111111111111111,\"#46039f\"],[0.2222222222222222,\"#7201a8\"],[0.3333333333333333,\"#9c179e\"],[0.4444444444444444,\"#bd3786\"],[0.5555555555555556,\"#d8576b\"],[0.6666666666666666,\"#ed7953\"],[0.7777777777777778,\"#fb9f3a\"],[0.8888888888888888,\"#fdca26\"],[1.0,\"#f0f921\"]]}],\"surface\":[{\"type\":\"surface\",\"colorbar\":{\"outlinewidth\":0,\"ticks\":\"\"},\"colorscale\":[[0.0,\"#0d0887\"],[0.1111111111111111,\"#46039f\"],[0.2222222222222222,\"#7201a8\"],[0.3333333333333333,\"#9c179e\"],[0.4444444444444444,\"#bd3786\"],[0.5555555555555556,\"#d8576b\"],[0.6666666666666666,\"#ed7953\"],[0.7777777777777778,\"#fb9f3a\"],[0.8888888888888888,\"#fdca26\"],[1.0,\"#f0f921\"]]}],\"mesh3d\":[{\"type\":\"mesh3d\",\"colorbar\":{\"outlinewidth\":0,\"ticks\":\"\"}}],\"scatter\":[{\"fillpattern\":{\"fillmode\":\"overlay\",\"size\":10,\"solidity\":0.2},\"type\":\"scatter\"}],\"parcoords\":[{\"type\":\"parcoords\",\"line\":{\"colorbar\":{\"outlinewidth\":0,\"ticks\":\"\"}}}],\"scatterpolargl\":[{\"type\":\"scatterpolargl\",\"marker\":{\"colorbar\":{\"outlinewidth\":0,\"ticks\":\"\"}}}],\"bar\":[{\"error_x\":{\"color\":\"#2a3f5f\"},\"error_y\":{\"color\":\"#2a3f5f\"},\"marker\":{\"line\":{\"color\":\"#E5ECF6\",\"width\":0.5},\"pattern\":{\"fillmode\":\"overlay\",\"size\":10,\"solidity\":0.2}},\"type\":\"bar\"}],\"scattergeo\":[{\"type\":\"scattergeo\",\"marker\":{\"colorbar\":{\"outlinewidth\":0,\"ticks\":\"\"}}}],\"scatterpolar\":[{\"type\":\"scatterpolar\",\"marker\":{\"colorbar\":{\"outlinewidth\":0,\"ticks\":\"\"}}}],\"histogram\":[{\"marker\":{\"pattern\":{\"fillmode\":\"overlay\",\"size\":10,\"solidity\":0.2}},\"type\":\"histogram\"}],\"scattergl\":[{\"type\":\"scattergl\",\"marker\":{\"colorbar\":{\"outlinewidth\":0,\"ticks\":\"\"}}}],\"scatter3d\":[{\"type\":\"scatter3d\",\"line\":{\"colorbar\":{\"outlinewidth\":0,\"ticks\":\"\"}},\"marker\":{\"colorbar\":{\"outlinewidth\":0,\"ticks\":\"\"}}}],\"scattermapbox\":[{\"type\":\"scattermapbox\",\"marker\":{\"colorbar\":{\"outlinewidth\":0,\"ticks\":\"\"}}}],\"scatterternary\":[{\"type\":\"scatterternary\",\"marker\":{\"colorbar\":{\"outlinewidth\":0,\"ticks\":\"\"}}}],\"scattercarpet\":[{\"type\":\"scattercarpet\",\"marker\":{\"colorbar\":{\"outlinewidth\":0,\"ticks\":\"\"}}}],\"carpet\":[{\"aaxis\":{\"endlinecolor\":\"#2a3f5f\",\"gridcolor\":\"white\",\"linecolor\":\"white\",\"minorgridcolor\":\"white\",\"startlinecolor\":\"#2a3f5f\"},\"baxis\":{\"endlinecolor\":\"#2a3f5f\",\"gridcolor\":\"white\",\"linecolor\":\"white\",\"minorgridcolor\":\"white\",\"startlinecolor\":\"#2a3f5f\"},\"type\":\"carpet\"}],\"table\":[{\"cells\":{\"fill\":{\"color\":\"#EBF0F8\"},\"line\":{\"color\":\"white\"}},\"header\":{\"fill\":{\"color\":\"#C8D4E3\"},\"line\":{\"color\":\"white\"}},\"type\":\"table\"}],\"barpolar\":[{\"marker\":{\"line\":{\"color\":\"#E5ECF6\",\"width\":0.5},\"pattern\":{\"fillmode\":\"overlay\",\"size\":10,\"solidity\":0.2}},\"type\":\"barpolar\"}],\"pie\":[{\"automargin\":true,\"type\":\"pie\"}]},\"layout\":{\"autotypenumbers\":\"strict\",\"colorway\":[\"#636efa\",\"#EF553B\",\"#00cc96\",\"#ab63fa\",\"#FFA15A\",\"#19d3f3\",\"#FF6692\",\"#B6E880\",\"#FF97FF\",\"#FECB52\"],\"font\":{\"color\":\"#2a3f5f\"},\"hovermode\":\"closest\",\"hoverlabel\":{\"align\":\"left\"},\"paper_bgcolor\":\"white\",\"plot_bgcolor\":\"#E5ECF6\",\"polar\":{\"bgcolor\":\"#E5ECF6\",\"angularaxis\":{\"gridcolor\":\"white\",\"linecolor\":\"white\",\"ticks\":\"\"},\"radialaxis\":{\"gridcolor\":\"white\",\"linecolor\":\"white\",\"ticks\":\"\"}},\"ternary\":{\"bgcolor\":\"#E5ECF6\",\"aaxis\":{\"gridcolor\":\"white\",\"linecolor\":\"white\",\"ticks\":\"\"},\"baxis\":{\"gridcolor\":\"white\",\"linecolor\":\"white\",\"ticks\":\"\"},\"caxis\":{\"gridcolor\":\"white\",\"linecolor\":\"white\",\"ticks\":\"\"}},\"coloraxis\":{\"colorbar\":{\"outlinewidth\":0,\"ticks\":\"\"}},\"colorscale\":{\"sequential\":[[0.0,\"#0d0887\"],[0.1111111111111111,\"#46039f\"],[0.2222222222222222,\"#7201a8\"],[0.3333333333333333,\"#9c179e\"],[0.4444444444444444,\"#bd3786\"],[0.5555555555555556,\"#d8576b\"],[0.6666666666666666,\"#ed7953\"],[0.7777777777777778,\"#fb9f3a\"],[0.8888888888888888,\"#fdca26\"],[1.0,\"#f0f921\"]],\"sequentialminus\":[[0.0,\"#0d0887\"],[0.1111111111111111,\"#46039f\"],[0.2222222222222222,\"#7201a8\"],[0.3333333333333333,\"#9c179e\"],[0.4444444444444444,\"#bd3786\"],[0.5555555555555556,\"#d8576b\"],[0.6666666666666666,\"#ed7953\"],[0.7777777777777778,\"#fb9f3a\"],[0.8888888888888888,\"#fdca26\"],[1.0,\"#f0f921\"]],\"diverging\":[[0,\"#8e0152\"],[0.1,\"#c51b7d\"],[0.2,\"#de77ae\"],[0.3,\"#f1b6da\"],[0.4,\"#fde0ef\"],[0.5,\"#f7f7f7\"],[0.6,\"#e6f5d0\"],[0.7,\"#b8e186\"],[0.8,\"#7fbc41\"],[0.9,\"#4d9221\"],[1,\"#276419\"]]},\"xaxis\":{\"gridcolor\":\"white\",\"linecolor\":\"white\",\"ticks\":\"\",\"title\":{\"standoff\":15},\"zerolinecolor\":\"white\",\"automargin\":true,\"zerolinewidth\":2},\"yaxis\":{\"gridcolor\":\"white\",\"linecolor\":\"white\",\"ticks\":\"\",\"title\":{\"standoff\":15},\"zerolinecolor\":\"white\",\"automargin\":true,\"zerolinewidth\":2},\"scene\":{\"xaxis\":{\"backgroundcolor\":\"#E5ECF6\",\"gridcolor\":\"white\",\"linecolor\":\"white\",\"showbackground\":true,\"ticks\":\"\",\"zerolinecolor\":\"white\",\"gridwidth\":2},\"yaxis\":{\"backgroundcolor\":\"#E5ECF6\",\"gridcolor\":\"white\",\"linecolor\":\"white\",\"showbackground\":true,\"ticks\":\"\",\"zerolinecolor\":\"white\",\"gridwidth\":2},\"zaxis\":{\"backgroundcolor\":\"#E5ECF6\",\"gridcolor\":\"white\",\"linecolor\":\"white\",\"showbackground\":true,\"ticks\":\"\",\"zerolinecolor\":\"white\",\"gridwidth\":2}},\"shapedefaults\":{\"line\":{\"color\":\"#2a3f5f\"}},\"annotationdefaults\":{\"arrowcolor\":\"#2a3f5f\",\"arrowhead\":0,\"arrowwidth\":1},\"geo\":{\"bgcolor\":\"white\",\"landcolor\":\"#E5ECF6\",\"subunitcolor\":\"white\",\"showland\":true,\"showlakes\":true,\"lakecolor\":\"white\"},\"title\":{\"x\":0.05},\"mapbox\":{\"style\":\"light\"}}},\"xaxis\":{\"anchor\":\"y\",\"domain\":[0.0,1.0],\"scaleanchor\":\"y\",\"constrain\":\"domain\",\"title\":{\"text\":\"Predicted\"},\"side\":\"bottom\"},\"yaxis\":{\"anchor\":\"x\",\"domain\":[0.0,1.0],\"autorange\":\"reversed\",\"constrain\":\"domain\",\"title\":{\"text\":\"Actual\"}},\"coloraxis\":{\"colorbar\":{\"title\":{\"text\":\"Count\"}},\"colorscale\":[[0.0,\"rgb(247,251,255)\"],[0.125,\"rgb(222,235,247)\"],[0.25,\"rgb(198,219,239)\"],[0.375,\"rgb(158,202,225)\"],[0.5,\"rgb(107,174,214)\"],[0.625,\"rgb(66,146,198)\"],[0.75,\"rgb(33,113,181)\"],[0.875,\"rgb(8,81,156)\"],[1.0,\"rgb(8,48,107)\"]]},\"margin\":{\"t\":60},\"title\":{\"text\":\"Confusion Matrix\",\"x\":0.5}},                        {\"responsive\": true}                    ).then(function(){\n",
              "                            \n",
              "var gd = document.getElementById('adda5438-aadc-474b-b90f-2b45f65712df');\n",
              "var x = new MutationObserver(function (mutations, observer) {{\n",
              "        var display = window.getComputedStyle(gd).display;\n",
              "        if (!display || display === 'none') {{\n",
              "            console.log([gd, 'removed!']);\n",
              "            Plotly.purge(gd);\n",
              "            observer.disconnect();\n",
              "        }}\n",
              "}});\n",
              "\n",
              "// Listen for the removal of the full notebook cells\n",
              "var notebookContainer = gd.closest('#notebook-container');\n",
              "if (notebookContainer) {{\n",
              "    x.observe(notebookContainer, {childList: true});\n",
              "}}\n",
              "\n",
              "// Listen for the clearing of the current output cell\n",
              "var outputEl = gd.closest('.output');\n",
              "if (outputEl) {{\n",
              "    x.observe(outputEl, {childList: true});\n",
              "}}\n",
              "\n",
              "                        })                };                            </script>        </div>\n",
              "</body>\n",
              "</html>"
            ]
          },
          "metadata": {}
        }
      ]
    },
    {
      "cell_type": "markdown",
      "source": [
        "#### Hyperparameter tunning"
      ],
      "metadata": {
        "id": "r-fYiV1xGAG3"
      }
    },
    {
      "cell_type": "code",
      "source": [
        "import xgboost as xgb\n",
        "from sklearn.model_selection import GridSearchCV, RandomizedSearchCV"
      ],
      "metadata": {
        "id": "8BD35W3hGHdR"
      },
      "execution_count": null,
      "outputs": []
    },
    {
      "cell_type": "code",
      "source": [
        "# param_grid = {\n",
        "#     'learning_rate': [0.01, 0.1, 0.2],\n",
        "#     'n_estimators': [100, 200, 300],\n",
        "#     'max_depth': [3, 4, 5],\n",
        "#     'min_child_weight': [1, 2, 3],\n",
        "#     'subsample': [0.8, 0.9, 1.0],\n",
        "#     'colsample_bytree': [0.8, 0.9, 1.0],\n",
        "# }\n",
        "\n",
        "# xgb_classifier = xgb.XGBClassifier()\n",
        "\n",
        "# grid_search = GridSearchCV(estimator=xgb_classifier, param_grid=param_grid, scoring='accuracy', cv=5, n_jobs=-1)\n",
        "# grid_search.fit(X_train_resampled, y_train_resampled)\n",
        "# best_params = grid_search.best_params_\n"
      ],
      "metadata": {
        "id": "fRN2WsQfF_qP"
      },
      "execution_count": null,
      "outputs": []
    },
    {
      "cell_type": "code",
      "source": [
        "# best_params"
      ],
      "metadata": {
        "id": "dqHzDFlWGUjb"
      },
      "execution_count": null,
      "outputs": []
    },
    {
      "cell_type": "code",
      "source": [
        "# best_xgb_classifier = xgb.XGBClassifier(**best_params)\n",
        "# best_xgb_classifier.fit(X_train_resampled, y_train_resampled)"
      ],
      "metadata": {
        "id": "rblHu83gGjlK"
      },
      "execution_count": null,
      "outputs": []
    },
    {
      "cell_type": "code",
      "source": [
        "# from sklearn.metrics import accuracy_score\n",
        "\n",
        "# # Train set\n",
        "# predictions_xgb = pd.DataFrame()\n",
        "# predictions_xgb['true'] = y_train_resampled\n",
        "# predictions_xgb['preds'] = best_xgb_classifier.predict(X_train_resampled)\n",
        "\n",
        "# # Test set\n",
        "# predictions_test_xgb = pd.DataFrame()\n",
        "# predictions_test_xgb['true'] = y_test\n",
        "# predictions_test_xgb['preds'] = clf.predict(X_test)\n",
        "# predictions_test_xgb['preds_over'] = best_xgb_classifier.predict(X_test)\n",
        "\n",
        "# train_acc_xgb = accuracy_score(predictions_xgb.true, predictions_xgb.preds)\n",
        "# test_acc_xgb = accuracy_score(predictions_test_xgb.true, predictions_test_xgb.preds)\n",
        "# test_acc_over_xgb = accuracy_score(predictions_test_xgb.true, predictions_test_xgb.preds_over)\n",
        "\n",
        "# print(f\"Train Acc (Logistic Regression): {train_acc_xgb:.4f}\")\n",
        "# print(f\"Test Acc (Logistic Regression): {test_acc_xgb:.4f}\")\n",
        "# print(f\"Test Acc Oversampled (Logistic Regression): {test_acc_over_xgb:.4f}\")"
      ],
      "metadata": {
        "id": "nKsTwfLqGnXW"
      },
      "execution_count": null,
      "outputs": []
    }
  ]
}